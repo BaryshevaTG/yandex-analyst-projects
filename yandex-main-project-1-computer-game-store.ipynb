{
 "cells": [
  {
   "cell_type": "markdown",
   "metadata": {},
   "source": [
    "Привет, Татьяна!\n",
    "\n",
    "Меня зовут Вячеслав Погорелый, и я буду проводить ревью твоего проекта. \n",
    "\n",
    "Предлагаю перейти на \"ты\", если не против)\n",
    "\n",
    "Но если это не удобно - дай знать, и мы перейдем на \"вы\". Моя главная задача — не находить сделанные тобою ошибки, а передать свой опыт и помочь тебе стать аналитиком данных.\n",
    "\n",
    "Я отметил комментарии и замечания разным цветом далее по тексту markdown:\n",
    "\n",
    "---    \n",
    "<div class=\"alert alert-block alert-danger\">\n",
    "    \n",
    "### Ошибка\n",
    "    \n",
    "Критическое замечание, которые следует исправить.\n",
    "</div> \n",
    "    \n",
    "---\n",
    "    \n",
    "<div class=\"alert alert-block alert-warning\">\n",
    "    \n",
    "### Совет\n",
    "    \n",
    "Замечание\\совет на будущее.\n",
    "</div>\n",
    "    \n",
    "---\n",
    "    \n",
    "<div class=\"alert alert-block alert-success\">\n",
    "    \n",
    "### Успех\n",
    "    \n",
    "Когда всё сделано правильно.\n",
    "</div>\n",
    "    \n",
    "    \n",
    "    \n",
    "Будет здорово, если для ответов ты выберешь любой **<font color=\"maroon\">читабельный и заметный цвет</font>**, так мне будет проще все проверить.\n",
    "\n",
    "\n",
    "При доработке проекта попрошу тебя сохранить и не видоизменять заметки ревьюера, это осложняет повторную проверку."
   ]
  },
  {
   "cell_type": "markdown",
   "metadata": {},
   "source": [
    "<div class=\"alert alert-block alert-info\"> Когда я пишу что-то не по задачам :) </div>"
   ]
  },
  {
   "cell_type": "markdown",
   "metadata": {},
   "source": [
    "<div class=\"alert alert-block alert-success\">\n",
    " \n",
    "# Итоговый Комментарий ревьюера ver.2 \n",
    "    \n",
    "#### Успех\n",
    "    \n",
    "Спасибо тебе за доработку проекта. Теперь я ег опринимаю и желаю тебе успехов в дальнейшей учебе.\n",
    "</div "
   ]
  },
  {
   "cell_type": "markdown",
   "metadata": {},
   "source": [
    "# Исследование данных о компьютерных играх"
   ]
  },
  {
   "cell_type": "markdown",
   "metadata": {},
   "source": [
    "**Описание задачи:** Вы работаете в интернет-магазине «Стримчик», который продаёт по всему миру компьютерные игры. Из открытых источников доступны исторические данные о продажах игр, оценки пользователей и экспертов, жанры и платформы (например, Xbox или PlayStation). Вам нужно выявить определяющие успешность игры закономерности. Это позволит сделать ставку на потенциально популярный продукт и спланировать рекламные кампании.\n",
    "\n",
    "Перед вами данные до 2016 года. Представим, что сейчас декабрь 2016 г., и вы планируете кампанию на 2017-й. Нужно отработать принцип работы с данными. Неважно, прогнозируете ли вы продажи на 2017 год по данным 2016-го или же 2027-й — по данным 2026 года.\n",
    "\n",
    "В наборе данных попадается аббревиатура ESRB (Entertainment Software Rating Board) — это ассоциация, определяющая возрастной рейтинг компьютерных игр. ESRB оценивает игровой контент и присваивает ему подходящую возрастную категорию, например, «Для взрослых», «Для детей младшего возраста» или «Для подростков».\n",
    "\n",
    "**Описание данных**\n",
    "    \n",
    "    Name — название игры\n",
    "    \n",
    "    Platform — платформа\n",
    "    \n",
    "    Year_of_Release — год выпуска\n",
    "    \n",
    "    Genre — жанр игры\n",
    "    \n",
    "    NA_sales — продажи в Северной Америке (миллионы проданных копий)\n",
    "    \n",
    "    EU_sales — продажи в Европе (миллионы проданных копий)\n",
    "    \n",
    "    JP_sales — продажи в Японии (миллионы проданных копий)\n",
    "    \n",
    "    Other_sales — продажи в других странах (миллионы проданных копий)\n",
    "    \n",
    "    Critic_Score — оценка критиков (максимум 100)\n",
    "    \n",
    "    User_Score — оценка пользователей (максимум 10)\n",
    "    \n",
    "    Rating — рейтинг от организации ESRB (англ. Entertainment Software Rating Board). Эта ассоциация определяет рейтинг компьютерных игр и присваивает им подходящую возрастную категорию.\n",
    "    \n",
    "    Данные за 2016 год могут быть неполными."
   ]
  },
  {
   "cell_type": "markdown",
   "metadata": {},
   "source": [
    "<div class=\"alert alert-block alert-success\">\n",
    " \n",
    "### Комментарий ревьюера\n",
    "    \n",
    "#### Успех\n",
    "    \n",
    "Спасибо большое за оформление оглавления к проекту. \n",
    "</div "
   ]
  },
  {
   "cell_type": "markdown",
   "metadata": {},
   "source": [
    "### Откройте файл с данными и изучите общую информацию. "
   ]
  },
  {
   "cell_type": "markdown",
   "metadata": {},
   "source": [
    "#### Открытие файла"
   ]
  },
  {
   "cell_type": "code",
   "execution_count": 40,
   "metadata": {
    "scrolled": true
   },
   "outputs": [
    {
     "data": {
      "text/html": [
       "<div>\n",
       "<style scoped>\n",
       "    .dataframe tbody tr th:only-of-type {\n",
       "        vertical-align: middle;\n",
       "    }\n",
       "\n",
       "    .dataframe tbody tr th {\n",
       "        vertical-align: top;\n",
       "    }\n",
       "\n",
       "    .dataframe thead th {\n",
       "        text-align: right;\n",
       "    }\n",
       "</style>\n",
       "<table border=\"1\" class=\"dataframe\">\n",
       "  <thead>\n",
       "    <tr style=\"text-align: right;\">\n",
       "      <th></th>\n",
       "      <th>Name</th>\n",
       "      <th>Platform</th>\n",
       "      <th>Year_of_Release</th>\n",
       "      <th>Genre</th>\n",
       "      <th>NA_sales</th>\n",
       "      <th>EU_sales</th>\n",
       "      <th>JP_sales</th>\n",
       "      <th>Other_sales</th>\n",
       "      <th>Critic_Score</th>\n",
       "      <th>User_Score</th>\n",
       "      <th>Rating</th>\n",
       "    </tr>\n",
       "  </thead>\n",
       "  <tbody>\n",
       "    <tr>\n",
       "      <th>0</th>\n",
       "      <td>Wii Sports</td>\n",
       "      <td>Wii</td>\n",
       "      <td>2006.0</td>\n",
       "      <td>Sports</td>\n",
       "      <td>41.36</td>\n",
       "      <td>28.96</td>\n",
       "      <td>3.77</td>\n",
       "      <td>8.45</td>\n",
       "      <td>76.0</td>\n",
       "      <td>8</td>\n",
       "      <td>E</td>\n",
       "    </tr>\n",
       "    <tr>\n",
       "      <th>1</th>\n",
       "      <td>Super Mario Bros.</td>\n",
       "      <td>NES</td>\n",
       "      <td>1985.0</td>\n",
       "      <td>Platform</td>\n",
       "      <td>29.08</td>\n",
       "      <td>3.58</td>\n",
       "      <td>6.81</td>\n",
       "      <td>0.77</td>\n",
       "      <td>NaN</td>\n",
       "      <td>NaN</td>\n",
       "      <td>NaN</td>\n",
       "    </tr>\n",
       "    <tr>\n",
       "      <th>2</th>\n",
       "      <td>Mario Kart Wii</td>\n",
       "      <td>Wii</td>\n",
       "      <td>2008.0</td>\n",
       "      <td>Racing</td>\n",
       "      <td>15.68</td>\n",
       "      <td>12.76</td>\n",
       "      <td>3.79</td>\n",
       "      <td>3.29</td>\n",
       "      <td>82.0</td>\n",
       "      <td>8.3</td>\n",
       "      <td>E</td>\n",
       "    </tr>\n",
       "    <tr>\n",
       "      <th>3</th>\n",
       "      <td>Wii Sports Resort</td>\n",
       "      <td>Wii</td>\n",
       "      <td>2009.0</td>\n",
       "      <td>Sports</td>\n",
       "      <td>15.61</td>\n",
       "      <td>10.93</td>\n",
       "      <td>3.28</td>\n",
       "      <td>2.95</td>\n",
       "      <td>80.0</td>\n",
       "      <td>8</td>\n",
       "      <td>E</td>\n",
       "    </tr>\n",
       "    <tr>\n",
       "      <th>4</th>\n",
       "      <td>Pokemon Red/Pokemon Blue</td>\n",
       "      <td>GB</td>\n",
       "      <td>1996.0</td>\n",
       "      <td>Role-Playing</td>\n",
       "      <td>11.27</td>\n",
       "      <td>8.89</td>\n",
       "      <td>10.22</td>\n",
       "      <td>1.00</td>\n",
       "      <td>NaN</td>\n",
       "      <td>NaN</td>\n",
       "      <td>NaN</td>\n",
       "    </tr>\n",
       "    <tr>\n",
       "      <th>...</th>\n",
       "      <td>...</td>\n",
       "      <td>...</td>\n",
       "      <td>...</td>\n",
       "      <td>...</td>\n",
       "      <td>...</td>\n",
       "      <td>...</td>\n",
       "      <td>...</td>\n",
       "      <td>...</td>\n",
       "      <td>...</td>\n",
       "      <td>...</td>\n",
       "      <td>...</td>\n",
       "    </tr>\n",
       "    <tr>\n",
       "      <th>16710</th>\n",
       "      <td>Samurai Warriors: Sanada Maru</td>\n",
       "      <td>PS3</td>\n",
       "      <td>2016.0</td>\n",
       "      <td>Action</td>\n",
       "      <td>0.00</td>\n",
       "      <td>0.00</td>\n",
       "      <td>0.01</td>\n",
       "      <td>0.00</td>\n",
       "      <td>NaN</td>\n",
       "      <td>NaN</td>\n",
       "      <td>NaN</td>\n",
       "    </tr>\n",
       "    <tr>\n",
       "      <th>16711</th>\n",
       "      <td>LMA Manager 2007</td>\n",
       "      <td>X360</td>\n",
       "      <td>2006.0</td>\n",
       "      <td>Sports</td>\n",
       "      <td>0.00</td>\n",
       "      <td>0.01</td>\n",
       "      <td>0.00</td>\n",
       "      <td>0.00</td>\n",
       "      <td>NaN</td>\n",
       "      <td>NaN</td>\n",
       "      <td>NaN</td>\n",
       "    </tr>\n",
       "    <tr>\n",
       "      <th>16712</th>\n",
       "      <td>Haitaka no Psychedelica</td>\n",
       "      <td>PSV</td>\n",
       "      <td>2016.0</td>\n",
       "      <td>Adventure</td>\n",
       "      <td>0.00</td>\n",
       "      <td>0.00</td>\n",
       "      <td>0.01</td>\n",
       "      <td>0.00</td>\n",
       "      <td>NaN</td>\n",
       "      <td>NaN</td>\n",
       "      <td>NaN</td>\n",
       "    </tr>\n",
       "    <tr>\n",
       "      <th>16713</th>\n",
       "      <td>Spirits &amp; Spells</td>\n",
       "      <td>GBA</td>\n",
       "      <td>2003.0</td>\n",
       "      <td>Platform</td>\n",
       "      <td>0.01</td>\n",
       "      <td>0.00</td>\n",
       "      <td>0.00</td>\n",
       "      <td>0.00</td>\n",
       "      <td>NaN</td>\n",
       "      <td>NaN</td>\n",
       "      <td>NaN</td>\n",
       "    </tr>\n",
       "    <tr>\n",
       "      <th>16714</th>\n",
       "      <td>Winning Post 8 2016</td>\n",
       "      <td>PSV</td>\n",
       "      <td>2016.0</td>\n",
       "      <td>Simulation</td>\n",
       "      <td>0.00</td>\n",
       "      <td>0.00</td>\n",
       "      <td>0.01</td>\n",
       "      <td>0.00</td>\n",
       "      <td>NaN</td>\n",
       "      <td>NaN</td>\n",
       "      <td>NaN</td>\n",
       "    </tr>\n",
       "  </tbody>\n",
       "</table>\n",
       "<p>16715 rows × 11 columns</p>\n",
       "</div>"
      ],
      "text/plain": [
       "                                Name Platform  Year_of_Release         Genre  \\\n",
       "0                         Wii Sports      Wii           2006.0        Sports   \n",
       "1                  Super Mario Bros.      NES           1985.0      Platform   \n",
       "2                     Mario Kart Wii      Wii           2008.0        Racing   \n",
       "3                  Wii Sports Resort      Wii           2009.0        Sports   \n",
       "4           Pokemon Red/Pokemon Blue       GB           1996.0  Role-Playing   \n",
       "...                              ...      ...              ...           ...   \n",
       "16710  Samurai Warriors: Sanada Maru      PS3           2016.0        Action   \n",
       "16711               LMA Manager 2007     X360           2006.0        Sports   \n",
       "16712        Haitaka no Psychedelica      PSV           2016.0     Adventure   \n",
       "16713               Spirits & Spells      GBA           2003.0      Platform   \n",
       "16714            Winning Post 8 2016      PSV           2016.0    Simulation   \n",
       "\n",
       "       NA_sales  EU_sales  JP_sales  Other_sales  Critic_Score User_Score  \\\n",
       "0         41.36     28.96      3.77         8.45          76.0          8   \n",
       "1         29.08      3.58      6.81         0.77           NaN        NaN   \n",
       "2         15.68     12.76      3.79         3.29          82.0        8.3   \n",
       "3         15.61     10.93      3.28         2.95          80.0          8   \n",
       "4         11.27      8.89     10.22         1.00           NaN        NaN   \n",
       "...         ...       ...       ...          ...           ...        ...   \n",
       "16710      0.00      0.00      0.01         0.00           NaN        NaN   \n",
       "16711      0.00      0.01      0.00         0.00           NaN        NaN   \n",
       "16712      0.00      0.00      0.01         0.00           NaN        NaN   \n",
       "16713      0.01      0.00      0.00         0.00           NaN        NaN   \n",
       "16714      0.00      0.00      0.01         0.00           NaN        NaN   \n",
       "\n",
       "      Rating  \n",
       "0          E  \n",
       "1        NaN  \n",
       "2          E  \n",
       "3          E  \n",
       "4        NaN  \n",
       "...      ...  \n",
       "16710    NaN  \n",
       "16711    NaN  \n",
       "16712    NaN  \n",
       "16713    NaN  \n",
       "16714    NaN  \n",
       "\n",
       "[16715 rows x 11 columns]"
      ]
     },
     "execution_count": 40,
     "metadata": {},
     "output_type": "execute_result"
    }
   ],
   "source": [
    "#импортируем сразу библиотеки для работы\n",
    "import pandas as pd\n",
    "import numpy as np\n",
    "import matplotlib.pyplot as plt\n",
    "import seaborn as sbn\n",
    "from scipy import stats as st\n",
    "import warnings \n",
    "\n",
    "warnings.filterwarnings(\"ignore\")\n",
    "\n",
    "main_data = pd.read_csv('/datasets/games.csv')\n",
    "main_data"
   ]
  },
  {
   "cell_type": "markdown",
   "metadata": {},
   "source": [
    "В датасете 16715 строк и 11 столбцов. Видно, что есть много NaN значений, позже разберемся с этим."
   ]
  },
  {
   "cell_type": "markdown",
   "metadata": {},
   "source": [
    "<div class=\"alert alert-block alert-success\">\n",
    " \n",
    "### Комментарий ревьюера\n",
    "    \n",
    "#### Успех\n",
    "    \n",
    "Проект открыли и сохранили в переменную. Отлично. \n",
    "</div "
   ]
  },
  {
   "cell_type": "markdown",
   "metadata": {},
   "source": [
    "#### Изучение общей информации"
   ]
  },
  {
   "cell_type": "code",
   "execution_count": 41,
   "metadata": {
    "scrolled": false
   },
   "outputs": [
    {
     "data": {
      "text/html": [
       "<div>\n",
       "<style scoped>\n",
       "    .dataframe tbody tr th:only-of-type {\n",
       "        vertical-align: middle;\n",
       "    }\n",
       "\n",
       "    .dataframe tbody tr th {\n",
       "        vertical-align: top;\n",
       "    }\n",
       "\n",
       "    .dataframe thead th {\n",
       "        text-align: right;\n",
       "    }\n",
       "</style>\n",
       "<table border=\"1\" class=\"dataframe\">\n",
       "  <thead>\n",
       "    <tr style=\"text-align: right;\">\n",
       "      <th></th>\n",
       "      <th>Name</th>\n",
       "      <th>Platform</th>\n",
       "      <th>Year_of_Release</th>\n",
       "      <th>Genre</th>\n",
       "      <th>NA_sales</th>\n",
       "      <th>EU_sales</th>\n",
       "      <th>JP_sales</th>\n",
       "      <th>Other_sales</th>\n",
       "      <th>Critic_Score</th>\n",
       "      <th>User_Score</th>\n",
       "      <th>Rating</th>\n",
       "    </tr>\n",
       "  </thead>\n",
       "  <tbody>\n",
       "    <tr>\n",
       "      <th>0</th>\n",
       "      <td>Wii Sports</td>\n",
       "      <td>Wii</td>\n",
       "      <td>2006.0</td>\n",
       "      <td>Sports</td>\n",
       "      <td>41.36</td>\n",
       "      <td>28.96</td>\n",
       "      <td>3.77</td>\n",
       "      <td>8.45</td>\n",
       "      <td>76.0</td>\n",
       "      <td>8</td>\n",
       "      <td>E</td>\n",
       "    </tr>\n",
       "    <tr>\n",
       "      <th>1</th>\n",
       "      <td>Super Mario Bros.</td>\n",
       "      <td>NES</td>\n",
       "      <td>1985.0</td>\n",
       "      <td>Platform</td>\n",
       "      <td>29.08</td>\n",
       "      <td>3.58</td>\n",
       "      <td>6.81</td>\n",
       "      <td>0.77</td>\n",
       "      <td>NaN</td>\n",
       "      <td>NaN</td>\n",
       "      <td>NaN</td>\n",
       "    </tr>\n",
       "    <tr>\n",
       "      <th>2</th>\n",
       "      <td>Mario Kart Wii</td>\n",
       "      <td>Wii</td>\n",
       "      <td>2008.0</td>\n",
       "      <td>Racing</td>\n",
       "      <td>15.68</td>\n",
       "      <td>12.76</td>\n",
       "      <td>3.79</td>\n",
       "      <td>3.29</td>\n",
       "      <td>82.0</td>\n",
       "      <td>8.3</td>\n",
       "      <td>E</td>\n",
       "    </tr>\n",
       "    <tr>\n",
       "      <th>3</th>\n",
       "      <td>Wii Sports Resort</td>\n",
       "      <td>Wii</td>\n",
       "      <td>2009.0</td>\n",
       "      <td>Sports</td>\n",
       "      <td>15.61</td>\n",
       "      <td>10.93</td>\n",
       "      <td>3.28</td>\n",
       "      <td>2.95</td>\n",
       "      <td>80.0</td>\n",
       "      <td>8</td>\n",
       "      <td>E</td>\n",
       "    </tr>\n",
       "    <tr>\n",
       "      <th>4</th>\n",
       "      <td>Pokemon Red/Pokemon Blue</td>\n",
       "      <td>GB</td>\n",
       "      <td>1996.0</td>\n",
       "      <td>Role-Playing</td>\n",
       "      <td>11.27</td>\n",
       "      <td>8.89</td>\n",
       "      <td>10.22</td>\n",
       "      <td>1.00</td>\n",
       "      <td>NaN</td>\n",
       "      <td>NaN</td>\n",
       "      <td>NaN</td>\n",
       "    </tr>\n",
       "  </tbody>\n",
       "</table>\n",
       "</div>"
      ],
      "text/plain": [
       "                       Name Platform  Year_of_Release         Genre  NA_sales  \\\n",
       "0                Wii Sports      Wii           2006.0        Sports     41.36   \n",
       "1         Super Mario Bros.      NES           1985.0      Platform     29.08   \n",
       "2            Mario Kart Wii      Wii           2008.0        Racing     15.68   \n",
       "3         Wii Sports Resort      Wii           2009.0        Sports     15.61   \n",
       "4  Pokemon Red/Pokemon Blue       GB           1996.0  Role-Playing     11.27   \n",
       "\n",
       "   EU_sales  JP_sales  Other_sales  Critic_Score User_Score Rating  \n",
       "0     28.96      3.77         8.45          76.0          8      E  \n",
       "1      3.58      6.81         0.77           NaN        NaN    NaN  \n",
       "2     12.76      3.79         3.29          82.0        8.3      E  \n",
       "3     10.93      3.28         2.95          80.0          8      E  \n",
       "4      8.89     10.22         1.00           NaN        NaN    NaN  "
      ]
     },
     "execution_count": 41,
     "metadata": {},
     "output_type": "execute_result"
    }
   ],
   "source": [
    "main_data.head()"
   ]
  },
  {
   "cell_type": "markdown",
   "metadata": {},
   "source": [
    "По срезу данных видно, что есть проблемы с форматированием данных"
   ]
  },
  {
   "cell_type": "code",
   "execution_count": 42,
   "metadata": {
    "scrolled": true
   },
   "outputs": [
    {
     "name": "stdout",
     "output_type": "stream",
     "text": [
      "<class 'pandas.core.frame.DataFrame'>\n",
      "RangeIndex: 16715 entries, 0 to 16714\n",
      "Data columns (total 11 columns):\n",
      " #   Column           Non-Null Count  Dtype  \n",
      "---  ------           --------------  -----  \n",
      " 0   Name             16713 non-null  object \n",
      " 1   Platform         16715 non-null  object \n",
      " 2   Year_of_Release  16446 non-null  float64\n",
      " 3   Genre            16713 non-null  object \n",
      " 4   NA_sales         16715 non-null  float64\n",
      " 5   EU_sales         16715 non-null  float64\n",
      " 6   JP_sales         16715 non-null  float64\n",
      " 7   Other_sales      16715 non-null  float64\n",
      " 8   Critic_Score     8137 non-null   float64\n",
      " 9   User_Score       10014 non-null  object \n",
      " 10  Rating           9949 non-null   object \n",
      "dtypes: float64(6), object(5)\n",
      "memory usage: 1.4+ MB\n"
     ]
    }
   ],
   "source": [
    "main_data.info()"
   ]
  },
  {
   "cell_type": "markdown",
   "metadata": {},
   "source": [
    "<div class=\"alert alert-block alert-success\">\n",
    " \n",
    "### Комментарий ревьюера\n",
    "    \n",
    "#### Успех\n",
    "    \n",
    "Первичную инфомрацию получили. \n",
    "</div "
   ]
  },
  {
   "cell_type": "markdown",
   "metadata": {},
   "source": [
    "В датасете явно должны быть целочисленные типы данных, но в сводке нет такой информации. Необходимо изучичать и изменять типы данных. Все ведет к потребности в предобработке данных.\n",
    "Также приведем наименования столбцов к нижнему регистру."
   ]
  },
  {
   "cell_type": "code",
   "execution_count": 43,
   "metadata": {},
   "outputs": [
    {
     "name": "stdout",
     "output_type": "stream",
     "text": [
      "<class 'pandas.core.frame.DataFrame'>\n",
      "RangeIndex: 16715 entries, 0 to 16714\n",
      "Data columns (total 11 columns):\n",
      " #   Column           Non-Null Count  Dtype  \n",
      "---  ------           --------------  -----  \n",
      " 0   name             16713 non-null  object \n",
      " 1   platform         16715 non-null  object \n",
      " 2   year_of_release  16446 non-null  float64\n",
      " 3   genre            16713 non-null  object \n",
      " 4   na_sales         16715 non-null  float64\n",
      " 5   eu_sales         16715 non-null  float64\n",
      " 6   jp_sales         16715 non-null  float64\n",
      " 7   other_sales      16715 non-null  float64\n",
      " 8   critic_score     8137 non-null   float64\n",
      " 9   user_score       10014 non-null  object \n",
      " 10  rating           9949 non-null   object \n",
      "dtypes: float64(6), object(5)\n",
      "memory usage: 1.4+ MB\n"
     ]
    }
   ],
   "source": [
    "main_data.columns= main_data.columns.str.lower()\n",
    "main_data.info()"
   ]
  },
  {
   "cell_type": "markdown",
   "metadata": {},
   "source": [
    "<div class=\"alert alert-block alert-success\">\n",
    " \n",
    "### Комментарий ревьюера\n",
    "    \n",
    "#### Успех\n",
    "    \n",
    "Названия приведены к нижнему регистру\n",
    "</div "
   ]
  },
  {
   "cell_type": "code",
   "execution_count": 44,
   "metadata": {
    "scrolled": false
   },
   "outputs": [
    {
     "data": {
      "text/plain": [
       "array([[<AxesSubplot:title={'center':'year_of_release'}>,\n",
       "        <AxesSubplot:title={'center':'na_sales'}>],\n",
       "       [<AxesSubplot:title={'center':'eu_sales'}>,\n",
       "        <AxesSubplot:title={'center':'jp_sales'}>],\n",
       "       [<AxesSubplot:title={'center':'other_sales'}>,\n",
       "        <AxesSubplot:title={'center':'critic_score'}>]], dtype=object)"
      ]
     },
     "execution_count": 44,
     "metadata": {},
     "output_type": "execute_result"
    },
    {
     "data": {
      "image/png": "[encoded data removed]",
      "text/plain": [
       "<Figure size 1080x1440 with 6 Axes>"
      ]
     },
     "metadata": {
      "needs_background": "light"
     },
     "output_type": "display_data"
    }
   ],
   "source": [
    "main_data.hist(figsize=(15, 20))"
   ]
  },
  {
   "cell_type": "markdown",
   "metadata": {},
   "source": [
    "Величины распределены нормально, значит, можно работать и делать анализ. Но перед этим поработаем с качеством данных."
   ]
  },
  {
   "cell_type": "markdown",
   "metadata": {},
   "source": [
    "<div class=\"alert alert-block alert-success\">\n",
    " \n",
    "### Комментарий ревьюера\n",
    "    \n",
    "#### Успех\n",
    "    \n",
    "Отлично. С данными ознакомились и составили небольшой план дальнейших действий. \n",
    "</div "
   ]
  },
  {
   "cell_type": "markdown",
   "metadata": {},
   "source": [
    "### Предобработка данных"
   ]
  },
  {
   "cell_type": "markdown",
   "metadata": {},
   "source": [
    "#### Обработка пропущенных значений"
   ]
  },
  {
   "cell_type": "markdown",
   "metadata": {},
   "source": [
    "Найдем пропущенные значения по каждому из столбцов. Начнем со столбцов 'Name' и 'Platform'"
   ]
  },
  {
   "cell_type": "code",
   "execution_count": 45,
   "metadata": {},
   "outputs": [
    {
     "data": {
      "text/html": [
       "<div>\n",
       "<style scoped>\n",
       "    .dataframe tbody tr th:only-of-type {\n",
       "        vertical-align: middle;\n",
       "    }\n",
       "\n",
       "    .dataframe tbody tr th {\n",
       "        vertical-align: top;\n",
       "    }\n",
       "\n",
       "    .dataframe thead th {\n",
       "        text-align: right;\n",
       "    }\n",
       "</style>\n",
       "<table border=\"1\" class=\"dataframe\">\n",
       "  <thead>\n",
       "    <tr style=\"text-align: right;\">\n",
       "      <th></th>\n",
       "      <th>name</th>\n",
       "      <th>platform</th>\n",
       "      <th>year_of_release</th>\n",
       "      <th>genre</th>\n",
       "      <th>na_sales</th>\n",
       "      <th>eu_sales</th>\n",
       "      <th>jp_sales</th>\n",
       "      <th>other_sales</th>\n",
       "      <th>critic_score</th>\n",
       "      <th>user_score</th>\n",
       "      <th>rating</th>\n",
       "    </tr>\n",
       "  </thead>\n",
       "  <tbody>\n",
       "    <tr>\n",
       "      <th>659</th>\n",
       "      <td>NaN</td>\n",
       "      <td>GEN</td>\n",
       "      <td>1993.0</td>\n",
       "      <td>NaN</td>\n",
       "      <td>1.78</td>\n",
       "      <td>0.53</td>\n",
       "      <td>0.00</td>\n",
       "      <td>0.08</td>\n",
       "      <td>NaN</td>\n",
       "      <td>NaN</td>\n",
       "      <td>NaN</td>\n",
       "    </tr>\n",
       "    <tr>\n",
       "      <th>14244</th>\n",
       "      <td>NaN</td>\n",
       "      <td>GEN</td>\n",
       "      <td>1993.0</td>\n",
       "      <td>NaN</td>\n",
       "      <td>0.00</td>\n",
       "      <td>0.00</td>\n",
       "      <td>0.03</td>\n",
       "      <td>0.00</td>\n",
       "      <td>NaN</td>\n",
       "      <td>NaN</td>\n",
       "      <td>NaN</td>\n",
       "    </tr>\n",
       "  </tbody>\n",
       "</table>\n",
       "</div>"
      ],
      "text/plain": [
       "      name platform  year_of_release genre  na_sales  eu_sales  jp_sales  \\\n",
       "659    NaN      GEN           1993.0   NaN      1.78      0.53      0.00   \n",
       "14244  NaN      GEN           1993.0   NaN      0.00      0.00      0.03   \n",
       "\n",
       "       other_sales  critic_score user_score rating  \n",
       "659           0.08           NaN        NaN    NaN  \n",
       "14244         0.00           NaN        NaN    NaN  "
      ]
     },
     "execution_count": 45,
     "metadata": {},
     "output_type": "execute_result"
    }
   ],
   "source": [
    "main_data[main_data['name'].isna()].head()"
   ]
  },
  {
   "cell_type": "markdown",
   "metadata": {},
   "source": [
    "Всего два пропущенных значения в названии игры. Если посмотреть внимательно, то можно увидеть по многим полям здесь нет значений. По этой причине, думаю, данными записями можно пренебречь. Удалим их."
   ]
  },
  {
   "cell_type": "markdown",
   "metadata": {},
   "source": [
    "<div class=\"alert alert-block alert-success\">\n",
    " \n",
    "### Комментарий ревьюера\n",
    "    \n",
    "#### Успех\n",
    "    \n",
    "Логично, согласен. \n",
    "</div "
   ]
  },
  {
   "cell_type": "code",
   "execution_count": 46,
   "metadata": {},
   "outputs": [
    {
     "data": {
      "text/html": [
       "<div>\n",
       "<style scoped>\n",
       "    .dataframe tbody tr th:only-of-type {\n",
       "        vertical-align: middle;\n",
       "    }\n",
       "\n",
       "    .dataframe tbody tr th {\n",
       "        vertical-align: top;\n",
       "    }\n",
       "\n",
       "    .dataframe thead th {\n",
       "        text-align: right;\n",
       "    }\n",
       "</style>\n",
       "<table border=\"1\" class=\"dataframe\">\n",
       "  <thead>\n",
       "    <tr style=\"text-align: right;\">\n",
       "      <th></th>\n",
       "      <th>name</th>\n",
       "      <th>platform</th>\n",
       "      <th>year_of_release</th>\n",
       "      <th>genre</th>\n",
       "      <th>na_sales</th>\n",
       "      <th>eu_sales</th>\n",
       "      <th>jp_sales</th>\n",
       "      <th>other_sales</th>\n",
       "      <th>critic_score</th>\n",
       "      <th>user_score</th>\n",
       "      <th>rating</th>\n",
       "    </tr>\n",
       "  </thead>\n",
       "  <tbody>\n",
       "  </tbody>\n",
       "</table>\n",
       "</div>"
      ],
      "text/plain": [
       "Empty DataFrame\n",
       "Columns: [name, platform, year_of_release, genre, na_sales, eu_sales, jp_sales, other_sales, critic_score, user_score, rating]\n",
       "Index: []"
      ]
     },
     "execution_count": 46,
     "metadata": {},
     "output_type": "execute_result"
    }
   ],
   "source": [
    "main_data.drop([659,14244],axis=0,inplace=True)\n",
    "main_data[main_data['name'].isna()].head()"
   ]
  },
  {
   "cell_type": "markdown",
   "metadata": {},
   "source": [
    "Проверим столбец 'Platform'"
   ]
  },
  {
   "cell_type": "code",
   "execution_count": 47,
   "metadata": {},
   "outputs": [
    {
     "data": {
      "text/html": [
       "<div>\n",
       "<style scoped>\n",
       "    .dataframe tbody tr th:only-of-type {\n",
       "        vertical-align: middle;\n",
       "    }\n",
       "\n",
       "    .dataframe tbody tr th {\n",
       "        vertical-align: top;\n",
       "    }\n",
       "\n",
       "    .dataframe thead th {\n",
       "        text-align: right;\n",
       "    }\n",
       "</style>\n",
       "<table border=\"1\" class=\"dataframe\">\n",
       "  <thead>\n",
       "    <tr style=\"text-align: right;\">\n",
       "      <th></th>\n",
       "      <th>name</th>\n",
       "      <th>platform</th>\n",
       "      <th>year_of_release</th>\n",
       "      <th>genre</th>\n",
       "      <th>na_sales</th>\n",
       "      <th>eu_sales</th>\n",
       "      <th>jp_sales</th>\n",
       "      <th>other_sales</th>\n",
       "      <th>critic_score</th>\n",
       "      <th>user_score</th>\n",
       "      <th>rating</th>\n",
       "    </tr>\n",
       "  </thead>\n",
       "  <tbody>\n",
       "  </tbody>\n",
       "</table>\n",
       "</div>"
      ],
      "text/plain": [
       "Empty DataFrame\n",
       "Columns: [name, platform, year_of_release, genre, na_sales, eu_sales, jp_sales, other_sales, critic_score, user_score, rating]\n",
       "Index: []"
      ]
     },
     "execution_count": 47,
     "metadata": {},
     "output_type": "execute_result"
    }
   ],
   "source": [
    "main_data[main_data['platform'].isna()].head()"
   ]
  },
  {
   "cell_type": "markdown",
   "metadata": {},
   "source": [
    "Нет пропущенных значений в столбце 'Platform'. Проверим так далее каждый из столбцов."
   ]
  },
  {
   "cell_type": "code",
   "execution_count": 48,
   "metadata": {
    "scrolled": true
   },
   "outputs": [
    {
     "data": {
      "text/html": [
       "<div>\n",
       "<style scoped>\n",
       "    .dataframe tbody tr th:only-of-type {\n",
       "        vertical-align: middle;\n",
       "    }\n",
       "\n",
       "    .dataframe tbody tr th {\n",
       "        vertical-align: top;\n",
       "    }\n",
       "\n",
       "    .dataframe thead th {\n",
       "        text-align: right;\n",
       "    }\n",
       "</style>\n",
       "<table border=\"1\" class=\"dataframe\">\n",
       "  <thead>\n",
       "    <tr style=\"text-align: right;\">\n",
       "      <th></th>\n",
       "      <th>name</th>\n",
       "      <th>platform</th>\n",
       "      <th>year_of_release</th>\n",
       "      <th>genre</th>\n",
       "      <th>na_sales</th>\n",
       "      <th>eu_sales</th>\n",
       "      <th>jp_sales</th>\n",
       "      <th>other_sales</th>\n",
       "      <th>critic_score</th>\n",
       "      <th>user_score</th>\n",
       "      <th>rating</th>\n",
       "    </tr>\n",
       "  </thead>\n",
       "  <tbody>\n",
       "    <tr>\n",
       "      <th>183</th>\n",
       "      <td>Madden NFL 2004</td>\n",
       "      <td>PS2</td>\n",
       "      <td>NaN</td>\n",
       "      <td>Sports</td>\n",
       "      <td>4.26</td>\n",
       "      <td>0.26</td>\n",
       "      <td>0.01</td>\n",
       "      <td>0.71</td>\n",
       "      <td>94.0</td>\n",
       "      <td>8.5</td>\n",
       "      <td>E</td>\n",
       "    </tr>\n",
       "    <tr>\n",
       "      <th>377</th>\n",
       "      <td>FIFA Soccer 2004</td>\n",
       "      <td>PS2</td>\n",
       "      <td>NaN</td>\n",
       "      <td>Sports</td>\n",
       "      <td>0.59</td>\n",
       "      <td>2.36</td>\n",
       "      <td>0.04</td>\n",
       "      <td>0.51</td>\n",
       "      <td>84.0</td>\n",
       "      <td>6.4</td>\n",
       "      <td>E</td>\n",
       "    </tr>\n",
       "    <tr>\n",
       "      <th>456</th>\n",
       "      <td>LEGO Batman: The Videogame</td>\n",
       "      <td>Wii</td>\n",
       "      <td>NaN</td>\n",
       "      <td>Action</td>\n",
       "      <td>1.80</td>\n",
       "      <td>0.97</td>\n",
       "      <td>0.00</td>\n",
       "      <td>0.29</td>\n",
       "      <td>74.0</td>\n",
       "      <td>7.9</td>\n",
       "      <td>E10+</td>\n",
       "    </tr>\n",
       "    <tr>\n",
       "      <th>475</th>\n",
       "      <td>wwe Smackdown vs. Raw 2006</td>\n",
       "      <td>PS2</td>\n",
       "      <td>NaN</td>\n",
       "      <td>Fighting</td>\n",
       "      <td>1.57</td>\n",
       "      <td>1.02</td>\n",
       "      <td>0.00</td>\n",
       "      <td>0.41</td>\n",
       "      <td>NaN</td>\n",
       "      <td>NaN</td>\n",
       "      <td>NaN</td>\n",
       "    </tr>\n",
       "    <tr>\n",
       "      <th>609</th>\n",
       "      <td>Space Invaders</td>\n",
       "      <td>2600</td>\n",
       "      <td>NaN</td>\n",
       "      <td>Shooter</td>\n",
       "      <td>2.36</td>\n",
       "      <td>0.14</td>\n",
       "      <td>0.00</td>\n",
       "      <td>0.03</td>\n",
       "      <td>NaN</td>\n",
       "      <td>NaN</td>\n",
       "      <td>NaN</td>\n",
       "    </tr>\n",
       "  </tbody>\n",
       "</table>\n",
       "</div>"
      ],
      "text/plain": [
       "                           name platform  year_of_release     genre  na_sales  \\\n",
       "183             Madden NFL 2004      PS2              NaN    Sports      4.26   \n",
       "377            FIFA Soccer 2004      PS2              NaN    Sports      0.59   \n",
       "456  LEGO Batman: The Videogame      Wii              NaN    Action      1.80   \n",
       "475  wwe Smackdown vs. Raw 2006      PS2              NaN  Fighting      1.57   \n",
       "609              Space Invaders     2600              NaN   Shooter      2.36   \n",
       "\n",
       "     eu_sales  jp_sales  other_sales  critic_score user_score rating  \n",
       "183      0.26      0.01         0.71          94.0        8.5      E  \n",
       "377      2.36      0.04         0.51          84.0        6.4      E  \n",
       "456      0.97      0.00         0.29          74.0        7.9   E10+  \n",
       "475      1.02      0.00         0.41           NaN        NaN    NaN  \n",
       "609      0.14      0.00         0.03           NaN        NaN    NaN  "
      ]
     },
     "execution_count": 48,
     "metadata": {},
     "output_type": "execute_result"
    }
   ],
   "source": [
    "main_data[main_data['year_of_release'].isna()].head()"
   ]
  },
  {
   "cell_type": "markdown",
   "metadata": {},
   "source": [
    "В столбце есть пропущенные значения. Посчитаем, сколько их."
   ]
  },
  {
   "cell_type": "code",
   "execution_count": 49,
   "metadata": {},
   "outputs": [
    {
     "data": {
      "text/plain": [
       "269"
      ]
     },
     "execution_count": 49,
     "metadata": {},
     "output_type": "execute_result"
    }
   ],
   "source": [
    "len(main_data[main_data['year_of_release'].isna()])"
   ]
  },
  {
   "cell_type": "markdown",
   "metadata": {},
   "source": [
    "Поле содержит год релиза игры. Год редиза важный параметр и заполнить его как-то на основе предположений сложно. В целом, пропусков немного. Ими можно пренебречь."
   ]
  },
  {
   "cell_type": "code",
   "execution_count": 50,
   "metadata": {},
   "outputs": [],
   "source": [
    "main_data = main_data.dropna(subset=['year_of_release'])"
   ]
  },
  {
   "cell_type": "markdown",
   "metadata": {},
   "source": [
    "<div class=\"alert alert-block alert-success\">\n",
    " \n",
    "### Комментарий ревьюера\n",
    "    \n",
    "#### Успех\n",
    "    \n",
    "Да, тут пропусков тоже очень мало и можно избавиться. \n",
    "</div "
   ]
  },
  {
   "cell_type": "code",
   "execution_count": 51,
   "metadata": {},
   "outputs": [
    {
     "data": {
      "text/plain": [
       "0"
      ]
     },
     "execution_count": 51,
     "metadata": {},
     "output_type": "execute_result"
    }
   ],
   "source": [
    "len(main_data[main_data['year_of_release'].isna()])"
   ]
  },
  {
   "cell_type": "code",
   "execution_count": 52,
   "metadata": {
    "scrolled": true
   },
   "outputs": [
    {
     "data": {
      "text/html": [
       "<div>\n",
       "<style scoped>\n",
       "    .dataframe tbody tr th:only-of-type {\n",
       "        vertical-align: middle;\n",
       "    }\n",
       "\n",
       "    .dataframe tbody tr th {\n",
       "        vertical-align: top;\n",
       "    }\n",
       "\n",
       "    .dataframe thead th {\n",
       "        text-align: right;\n",
       "    }\n",
       "</style>\n",
       "<table border=\"1\" class=\"dataframe\">\n",
       "  <thead>\n",
       "    <tr style=\"text-align: right;\">\n",
       "      <th></th>\n",
       "      <th>name</th>\n",
       "      <th>platform</th>\n",
       "      <th>year_of_release</th>\n",
       "      <th>genre</th>\n",
       "      <th>na_sales</th>\n",
       "      <th>eu_sales</th>\n",
       "      <th>jp_sales</th>\n",
       "      <th>other_sales</th>\n",
       "      <th>critic_score</th>\n",
       "      <th>user_score</th>\n",
       "      <th>rating</th>\n",
       "    </tr>\n",
       "  </thead>\n",
       "  <tbody>\n",
       "  </tbody>\n",
       "</table>\n",
       "</div>"
      ],
      "text/plain": [
       "Empty DataFrame\n",
       "Columns: [name, platform, year_of_release, genre, na_sales, eu_sales, jp_sales, other_sales, critic_score, user_score, rating]\n",
       "Index: []"
      ]
     },
     "execution_count": 52,
     "metadata": {},
     "output_type": "execute_result"
    }
   ],
   "source": [
    "main_data[main_data['platform'].isna()].head()"
   ]
  },
  {
   "cell_type": "markdown",
   "metadata": {},
   "source": [
    "Поле с жанром игры заполнено на 100%"
   ]
  },
  {
   "cell_type": "code",
   "execution_count": 53,
   "metadata": {},
   "outputs": [
    {
     "data": {
      "text/html": [
       "<div>\n",
       "<style scoped>\n",
       "    .dataframe tbody tr th:only-of-type {\n",
       "        vertical-align: middle;\n",
       "    }\n",
       "\n",
       "    .dataframe tbody tr th {\n",
       "        vertical-align: top;\n",
       "    }\n",
       "\n",
       "    .dataframe thead th {\n",
       "        text-align: right;\n",
       "    }\n",
       "</style>\n",
       "<table border=\"1\" class=\"dataframe\">\n",
       "  <thead>\n",
       "    <tr style=\"text-align: right;\">\n",
       "      <th></th>\n",
       "      <th>name</th>\n",
       "      <th>platform</th>\n",
       "      <th>year_of_release</th>\n",
       "      <th>genre</th>\n",
       "      <th>na_sales</th>\n",
       "      <th>eu_sales</th>\n",
       "      <th>jp_sales</th>\n",
       "      <th>other_sales</th>\n",
       "      <th>critic_score</th>\n",
       "      <th>user_score</th>\n",
       "      <th>rating</th>\n",
       "    </tr>\n",
       "  </thead>\n",
       "  <tbody>\n",
       "  </tbody>\n",
       "</table>\n",
       "</div>"
      ],
      "text/plain": [
       "Empty DataFrame\n",
       "Columns: [name, platform, year_of_release, genre, na_sales, eu_sales, jp_sales, other_sales, critic_score, user_score, rating]\n",
       "Index: []"
      ]
     },
     "execution_count": 53,
     "metadata": {},
     "output_type": "execute_result"
    }
   ],
   "source": [
    "main_data[main_data['na_sales'].isna()].head()"
   ]
  },
  {
   "cell_type": "markdown",
   "metadata": {},
   "source": [
    "Столбец с показателями продаж в Северной Америке заполнен на 100%"
   ]
  },
  {
   "cell_type": "code",
   "execution_count": 54,
   "metadata": {},
   "outputs": [
    {
     "name": "stdout",
     "output_type": "stream",
     "text": [
      "Empty DataFrame\n",
      "Columns: [name, platform, year_of_release, genre, na_sales, eu_sales, jp_sales, other_sales, critic_score, user_score, rating]\n",
      "Index: []\n",
      "Empty DataFrame\n",
      "Columns: [name, platform, year_of_release, genre, na_sales, eu_sales, jp_sales, other_sales, critic_score, user_score, rating]\n",
      "Index: []\n",
      "Empty DataFrame\n",
      "Columns: [name, platform, year_of_release, genre, na_sales, eu_sales, jp_sales, other_sales, critic_score, user_score, rating]\n",
      "Index: []\n"
     ]
    }
   ],
   "source": [
    "print(main_data[main_data['eu_sales'].isna()].head())\n",
    "print(main_data[main_data['jp_sales'].isna()].head())\n",
    "print(main_data[main_data['other_sales'].isna()].head())"
   ]
  },
  {
   "cell_type": "markdown",
   "metadata": {},
   "source": [
    "<div class=\"alert alert-block alert-warning\">\n",
    " \n",
    "### Комментарий ревьюера\n",
    "    \n",
    "#### Совет\n",
    "    \n",
    "А тут еще есть такой классный метод для изучения прпоусков https://russianblogs.com/article/5001266235/\n",
    "</div "
   ]
  },
  {
   "cell_type": "markdown",
   "metadata": {},
   "source": [
    "<div class=\"alert alert-block alert-info\"> Прочту, спасибо! </div>"
   ]
  },
  {
   "cell_type": "markdown",
   "metadata": {},
   "source": [
    "В полях с данными по продажам в Европе, Японии и других странах также заполненность в 100%"
   ]
  },
  {
   "cell_type": "code",
   "execution_count": 55,
   "metadata": {},
   "outputs": [
    {
     "data": {
      "text/html": [
       "<div>\n",
       "<style scoped>\n",
       "    .dataframe tbody tr th:only-of-type {\n",
       "        vertical-align: middle;\n",
       "    }\n",
       "\n",
       "    .dataframe tbody tr th {\n",
       "        vertical-align: top;\n",
       "    }\n",
       "\n",
       "    .dataframe thead th {\n",
       "        text-align: right;\n",
       "    }\n",
       "</style>\n",
       "<table border=\"1\" class=\"dataframe\">\n",
       "  <thead>\n",
       "    <tr style=\"text-align: right;\">\n",
       "      <th></th>\n",
       "      <th>name</th>\n",
       "      <th>platform</th>\n",
       "      <th>year_of_release</th>\n",
       "      <th>genre</th>\n",
       "      <th>na_sales</th>\n",
       "      <th>eu_sales</th>\n",
       "      <th>jp_sales</th>\n",
       "      <th>other_sales</th>\n",
       "      <th>critic_score</th>\n",
       "      <th>user_score</th>\n",
       "      <th>rating</th>\n",
       "    </tr>\n",
       "  </thead>\n",
       "  <tbody>\n",
       "    <tr>\n",
       "      <th>1</th>\n",
       "      <td>Super Mario Bros.</td>\n",
       "      <td>NES</td>\n",
       "      <td>1985.0</td>\n",
       "      <td>Platform</td>\n",
       "      <td>29.08</td>\n",
       "      <td>3.58</td>\n",
       "      <td>6.81</td>\n",
       "      <td>0.77</td>\n",
       "      <td>NaN</td>\n",
       "      <td>NaN</td>\n",
       "      <td>NaN</td>\n",
       "    </tr>\n",
       "    <tr>\n",
       "      <th>4</th>\n",
       "      <td>Pokemon Red/Pokemon Blue</td>\n",
       "      <td>GB</td>\n",
       "      <td>1996.0</td>\n",
       "      <td>Role-Playing</td>\n",
       "      <td>11.27</td>\n",
       "      <td>8.89</td>\n",
       "      <td>10.22</td>\n",
       "      <td>1.00</td>\n",
       "      <td>NaN</td>\n",
       "      <td>NaN</td>\n",
       "      <td>NaN</td>\n",
       "    </tr>\n",
       "    <tr>\n",
       "      <th>5</th>\n",
       "      <td>Tetris</td>\n",
       "      <td>GB</td>\n",
       "      <td>1989.0</td>\n",
       "      <td>Puzzle</td>\n",
       "      <td>23.20</td>\n",
       "      <td>2.26</td>\n",
       "      <td>4.22</td>\n",
       "      <td>0.58</td>\n",
       "      <td>NaN</td>\n",
       "      <td>NaN</td>\n",
       "      <td>NaN</td>\n",
       "    </tr>\n",
       "    <tr>\n",
       "      <th>9</th>\n",
       "      <td>Duck Hunt</td>\n",
       "      <td>NES</td>\n",
       "      <td>1984.0</td>\n",
       "      <td>Shooter</td>\n",
       "      <td>26.93</td>\n",
       "      <td>0.63</td>\n",
       "      <td>0.28</td>\n",
       "      <td>0.47</td>\n",
       "      <td>NaN</td>\n",
       "      <td>NaN</td>\n",
       "      <td>NaN</td>\n",
       "    </tr>\n",
       "    <tr>\n",
       "      <th>10</th>\n",
       "      <td>Nintendogs</td>\n",
       "      <td>DS</td>\n",
       "      <td>2005.0</td>\n",
       "      <td>Simulation</td>\n",
       "      <td>9.05</td>\n",
       "      <td>10.95</td>\n",
       "      <td>1.93</td>\n",
       "      <td>2.74</td>\n",
       "      <td>NaN</td>\n",
       "      <td>NaN</td>\n",
       "      <td>NaN</td>\n",
       "    </tr>\n",
       "  </tbody>\n",
       "</table>\n",
       "</div>"
      ],
      "text/plain": [
       "                        name platform  year_of_release         genre  \\\n",
       "1          Super Mario Bros.      NES           1985.0      Platform   \n",
       "4   Pokemon Red/Pokemon Blue       GB           1996.0  Role-Playing   \n",
       "5                     Tetris       GB           1989.0        Puzzle   \n",
       "9                  Duck Hunt      NES           1984.0       Shooter   \n",
       "10                Nintendogs       DS           2005.0    Simulation   \n",
       "\n",
       "    na_sales  eu_sales  jp_sales  other_sales  critic_score user_score rating  \n",
       "1      29.08      3.58      6.81         0.77           NaN        NaN    NaN  \n",
       "4      11.27      8.89     10.22         1.00           NaN        NaN    NaN  \n",
       "5      23.20      2.26      4.22         0.58           NaN        NaN    NaN  \n",
       "9      26.93      0.63      0.28         0.47           NaN        NaN    NaN  \n",
       "10      9.05     10.95      1.93         2.74           NaN        NaN    NaN  "
      ]
     },
     "execution_count": 55,
     "metadata": {},
     "output_type": "execute_result"
    }
   ],
   "source": [
    "main_data[main_data['critic_score'].isna()].head()"
   ]
  },
  {
   "cell_type": "code",
   "execution_count": 56,
   "metadata": {},
   "outputs": [
    {
     "data": {
      "text/plain": [
       "8461"
      ]
     },
     "execution_count": 56,
     "metadata": {},
     "output_type": "execute_result"
    }
   ],
   "source": [
    "len(main_data[main_data['critic_score'].isna()])"
   ]
  },
  {
   "cell_type": "markdown",
   "metadata": {},
   "source": [
    "Оценку критиков сложнно заменить каким-либо значением, лучше всего оставить пропуски, дабы не искажать картинку итоговую."
   ]
  },
  {
   "cell_type": "markdown",
   "metadata": {},
   "source": [
    "<div class=\"alert alert-block alert-danger\">\n",
    " \n",
    "### Комментарий ревьюера\n",
    "    \n",
    "#### Ошибка\n",
    "    \n",
    "Вот здесь не могу согласиться. Оценки критиков и пользователей достаточно индивидуальны. Поэтому нельзя просто так приравнивать их к медиане. Тут лучше всего оставить пропуски как есть или заменить значением-заглушкой. \n",
    "</div "
   ]
  },
  {
   "cell_type": "markdown",
   "metadata": {},
   "source": [
    "<div class=\"alert alert-block alert-info\"> Согласна, спасибо! Поправила. </div>"
   ]
  },
  {
   "cell_type": "code",
   "execution_count": 57,
   "metadata": {},
   "outputs": [
    {
     "data": {
      "text/html": [
       "<div>\n",
       "<style scoped>\n",
       "    .dataframe tbody tr th:only-of-type {\n",
       "        vertical-align: middle;\n",
       "    }\n",
       "\n",
       "    .dataframe tbody tr th {\n",
       "        vertical-align: top;\n",
       "    }\n",
       "\n",
       "    .dataframe thead th {\n",
       "        text-align: right;\n",
       "    }\n",
       "</style>\n",
       "<table border=\"1\" class=\"dataframe\">\n",
       "  <thead>\n",
       "    <tr style=\"text-align: right;\">\n",
       "      <th></th>\n",
       "      <th>name</th>\n",
       "      <th>platform</th>\n",
       "      <th>year_of_release</th>\n",
       "      <th>genre</th>\n",
       "      <th>na_sales</th>\n",
       "      <th>eu_sales</th>\n",
       "      <th>jp_sales</th>\n",
       "      <th>other_sales</th>\n",
       "      <th>critic_score</th>\n",
       "      <th>user_score</th>\n",
       "      <th>rating</th>\n",
       "    </tr>\n",
       "  </thead>\n",
       "  <tbody>\n",
       "    <tr>\n",
       "      <th>1</th>\n",
       "      <td>Super Mario Bros.</td>\n",
       "      <td>NES</td>\n",
       "      <td>1985.0</td>\n",
       "      <td>Platform</td>\n",
       "      <td>29.08</td>\n",
       "      <td>3.58</td>\n",
       "      <td>6.81</td>\n",
       "      <td>0.77</td>\n",
       "      <td>NaN</td>\n",
       "      <td>NaN</td>\n",
       "      <td>NaN</td>\n",
       "    </tr>\n",
       "    <tr>\n",
       "      <th>4</th>\n",
       "      <td>Pokemon Red/Pokemon Blue</td>\n",
       "      <td>GB</td>\n",
       "      <td>1996.0</td>\n",
       "      <td>Role-Playing</td>\n",
       "      <td>11.27</td>\n",
       "      <td>8.89</td>\n",
       "      <td>10.22</td>\n",
       "      <td>1.00</td>\n",
       "      <td>NaN</td>\n",
       "      <td>NaN</td>\n",
       "      <td>NaN</td>\n",
       "    </tr>\n",
       "    <tr>\n",
       "      <th>5</th>\n",
       "      <td>Tetris</td>\n",
       "      <td>GB</td>\n",
       "      <td>1989.0</td>\n",
       "      <td>Puzzle</td>\n",
       "      <td>23.20</td>\n",
       "      <td>2.26</td>\n",
       "      <td>4.22</td>\n",
       "      <td>0.58</td>\n",
       "      <td>NaN</td>\n",
       "      <td>NaN</td>\n",
       "      <td>NaN</td>\n",
       "    </tr>\n",
       "    <tr>\n",
       "      <th>9</th>\n",
       "      <td>Duck Hunt</td>\n",
       "      <td>NES</td>\n",
       "      <td>1984.0</td>\n",
       "      <td>Shooter</td>\n",
       "      <td>26.93</td>\n",
       "      <td>0.63</td>\n",
       "      <td>0.28</td>\n",
       "      <td>0.47</td>\n",
       "      <td>NaN</td>\n",
       "      <td>NaN</td>\n",
       "      <td>NaN</td>\n",
       "    </tr>\n",
       "    <tr>\n",
       "      <th>10</th>\n",
       "      <td>Nintendogs</td>\n",
       "      <td>DS</td>\n",
       "      <td>2005.0</td>\n",
       "      <td>Simulation</td>\n",
       "      <td>9.05</td>\n",
       "      <td>10.95</td>\n",
       "      <td>1.93</td>\n",
       "      <td>2.74</td>\n",
       "      <td>NaN</td>\n",
       "      <td>NaN</td>\n",
       "      <td>NaN</td>\n",
       "    </tr>\n",
       "  </tbody>\n",
       "</table>\n",
       "</div>"
      ],
      "text/plain": [
       "                        name platform  year_of_release         genre  \\\n",
       "1          Super Mario Bros.      NES           1985.0      Platform   \n",
       "4   Pokemon Red/Pokemon Blue       GB           1996.0  Role-Playing   \n",
       "5                     Tetris       GB           1989.0        Puzzle   \n",
       "9                  Duck Hunt      NES           1984.0       Shooter   \n",
       "10                Nintendogs       DS           2005.0    Simulation   \n",
       "\n",
       "    na_sales  eu_sales  jp_sales  other_sales  critic_score user_score rating  \n",
       "1      29.08      3.58      6.81         0.77           NaN        NaN    NaN  \n",
       "4      11.27      8.89     10.22         1.00           NaN        NaN    NaN  \n",
       "5      23.20      2.26      4.22         0.58           NaN        NaN    NaN  \n",
       "9      26.93      0.63      0.28         0.47           NaN        NaN    NaN  \n",
       "10      9.05     10.95      1.93         2.74           NaN        NaN    NaN  "
      ]
     },
     "execution_count": 57,
     "metadata": {},
     "output_type": "execute_result"
    }
   ],
   "source": [
    "main_data[main_data['user_score'].isna()].head()"
   ]
  },
  {
   "cell_type": "code",
   "execution_count": 58,
   "metadata": {},
   "outputs": [
    {
     "data": {
      "text/plain": [
       "{'0',\n",
       " '0.2',\n",
       " '0.3',\n",
       " '0.5',\n",
       " '0.6',\n",
       " '0.7',\n",
       " '0.9',\n",
       " '1',\n",
       " '1.1',\n",
       " '1.2',\n",
       " '1.3',\n",
       " '1.4',\n",
       " '1.5',\n",
       " '1.6',\n",
       " '1.7',\n",
       " '1.8',\n",
       " '1.9',\n",
       " '2',\n",
       " '2.1',\n",
       " '2.2',\n",
       " '2.3',\n",
       " '2.4',\n",
       " '2.5',\n",
       " '2.6',\n",
       " '2.7',\n",
       " '2.8',\n",
       " '2.9',\n",
       " '3',\n",
       " '3.1',\n",
       " '3.2',\n",
       " '3.3',\n",
       " '3.4',\n",
       " '3.5',\n",
       " '3.6',\n",
       " '3.7',\n",
       " '3.8',\n",
       " '3.9',\n",
       " '4',\n",
       " '4.1',\n",
       " '4.2',\n",
       " '4.3',\n",
       " '4.4',\n",
       " '4.5',\n",
       " '4.6',\n",
       " '4.7',\n",
       " '4.8',\n",
       " '4.9',\n",
       " '5',\n",
       " '5.1',\n",
       " '5.2',\n",
       " '5.3',\n",
       " '5.4',\n",
       " '5.5',\n",
       " '5.6',\n",
       " '5.7',\n",
       " '5.8',\n",
       " '5.9',\n",
       " '6',\n",
       " '6.1',\n",
       " '6.2',\n",
       " '6.3',\n",
       " '6.4',\n",
       " '6.5',\n",
       " '6.6',\n",
       " '6.7',\n",
       " '6.8',\n",
       " '6.9',\n",
       " '7',\n",
       " '7.1',\n",
       " '7.2',\n",
       " '7.3',\n",
       " '7.4',\n",
       " '7.5',\n",
       " '7.6',\n",
       " '7.7',\n",
       " '7.8',\n",
       " '7.9',\n",
       " '8',\n",
       " '8.1',\n",
       " '8.2',\n",
       " '8.3',\n",
       " '8.4',\n",
       " '8.5',\n",
       " '8.6',\n",
       " '8.7',\n",
       " '8.8',\n",
       " '8.9',\n",
       " '9',\n",
       " '9.1',\n",
       " '9.2',\n",
       " '9.3',\n",
       " '9.4',\n",
       " '9.5',\n",
       " '9.6',\n",
       " '9.7',\n",
       " nan,\n",
       " 'tbd'}"
      ]
     },
     "execution_count": 58,
     "metadata": {},
     "output_type": "execute_result"
    }
   ],
   "source": [
    "#len(main_data[main_data['user_score'].isna()])\n",
    "set(main_data['user_score'])"
   ]
  },
  {
   "cell_type": "markdown",
   "metadata": {},
   "source": [
    "Помимо нулевых значений в поле содержится значение 'tbd'. Изучим его, перед тем как обрабатывать значения далее."
   ]
  },
  {
   "cell_type": "code",
   "execution_count": 59,
   "metadata": {
    "scrolled": true
   },
   "outputs": [
    {
     "data": {
      "text/plain": [
       "{'0',\n",
       " '0.2',\n",
       " '0.3',\n",
       " '0.5',\n",
       " '0.6',\n",
       " '0.7',\n",
       " '0.9',\n",
       " '1',\n",
       " '1.1',\n",
       " '1.2',\n",
       " '1.3',\n",
       " '1.4',\n",
       " '1.5',\n",
       " '1.6',\n",
       " '1.7',\n",
       " '1.8',\n",
       " '1.9',\n",
       " '2',\n",
       " '2.1',\n",
       " '2.2',\n",
       " '2.3',\n",
       " '2.4',\n",
       " '2.5',\n",
       " '2.6',\n",
       " '2.7',\n",
       " '2.8',\n",
       " '2.9',\n",
       " '3',\n",
       " '3.1',\n",
       " '3.2',\n",
       " '3.3',\n",
       " '3.4',\n",
       " '3.5',\n",
       " '3.6',\n",
       " '3.7',\n",
       " '3.8',\n",
       " '3.9',\n",
       " '4',\n",
       " '4.1',\n",
       " '4.2',\n",
       " '4.3',\n",
       " '4.4',\n",
       " '4.5',\n",
       " '4.6',\n",
       " '4.7',\n",
       " '4.8',\n",
       " '4.9',\n",
       " '5',\n",
       " '5.1',\n",
       " '5.2',\n",
       " '5.3',\n",
       " '5.4',\n",
       " '5.5',\n",
       " '5.6',\n",
       " '5.7',\n",
       " '5.8',\n",
       " '5.9',\n",
       " '6',\n",
       " '6.1',\n",
       " '6.2',\n",
       " '6.3',\n",
       " '6.4',\n",
       " '6.5',\n",
       " '6.6',\n",
       " '6.7',\n",
       " '6.8',\n",
       " '6.9',\n",
       " '7',\n",
       " '7.1',\n",
       " '7.2',\n",
       " '7.3',\n",
       " '7.4',\n",
       " '7.5',\n",
       " '7.6',\n",
       " '7.7',\n",
       " '7.8',\n",
       " '7.9',\n",
       " '8',\n",
       " '8.1',\n",
       " '8.2',\n",
       " '8.3',\n",
       " '8.4',\n",
       " '8.5',\n",
       " '8.6',\n",
       " '8.7',\n",
       " '8.8',\n",
       " '8.9',\n",
       " '9',\n",
       " '9.1',\n",
       " '9.2',\n",
       " '9.3',\n",
       " '9.4',\n",
       " '9.5',\n",
       " '9.6',\n",
       " '9.7',\n",
       " nan,\n",
       " 'tbd'}"
      ]
     },
     "execution_count": 59,
     "metadata": {},
     "output_type": "execute_result"
    }
   ],
   "source": [
    "set(main_data['user_score'])"
   ]
  },
  {
   "cell_type": "code",
   "execution_count": 60,
   "metadata": {},
   "outputs": [
    {
     "data": {
      "text/html": [
       "<div>\n",
       "<style scoped>\n",
       "    .dataframe tbody tr th:only-of-type {\n",
       "        vertical-align: middle;\n",
       "    }\n",
       "\n",
       "    .dataframe tbody tr th {\n",
       "        vertical-align: top;\n",
       "    }\n",
       "\n",
       "    .dataframe thead th {\n",
       "        text-align: right;\n",
       "    }\n",
       "</style>\n",
       "<table border=\"1\" class=\"dataframe\">\n",
       "  <thead>\n",
       "    <tr style=\"text-align: right;\">\n",
       "      <th></th>\n",
       "      <th>name</th>\n",
       "      <th>platform</th>\n",
       "      <th>year_of_release</th>\n",
       "      <th>genre</th>\n",
       "      <th>na_sales</th>\n",
       "      <th>eu_sales</th>\n",
       "      <th>jp_sales</th>\n",
       "      <th>other_sales</th>\n",
       "      <th>critic_score</th>\n",
       "      <th>user_score</th>\n",
       "      <th>rating</th>\n",
       "    </tr>\n",
       "  </thead>\n",
       "  <tbody>\n",
       "    <tr>\n",
       "      <th>119</th>\n",
       "      <td>Zumba Fitness</td>\n",
       "      <td>Wii</td>\n",
       "      <td>2010.0</td>\n",
       "      <td>Sports</td>\n",
       "      <td>3.45</td>\n",
       "      <td>2.59</td>\n",
       "      <td>0.0</td>\n",
       "      <td>0.66</td>\n",
       "      <td>NaN</td>\n",
       "      <td>tbd</td>\n",
       "      <td>E</td>\n",
       "    </tr>\n",
       "    <tr>\n",
       "      <th>301</th>\n",
       "      <td>Namco Museum: 50th Anniversary</td>\n",
       "      <td>PS2</td>\n",
       "      <td>2005.0</td>\n",
       "      <td>Misc</td>\n",
       "      <td>2.08</td>\n",
       "      <td>1.35</td>\n",
       "      <td>0.0</td>\n",
       "      <td>0.54</td>\n",
       "      <td>61.0</td>\n",
       "      <td>tbd</td>\n",
       "      <td>E10+</td>\n",
       "    </tr>\n",
       "    <tr>\n",
       "      <th>520</th>\n",
       "      <td>Zumba Fitness 2</td>\n",
       "      <td>Wii</td>\n",
       "      <td>2011.0</td>\n",
       "      <td>Sports</td>\n",
       "      <td>1.51</td>\n",
       "      <td>1.03</td>\n",
       "      <td>0.0</td>\n",
       "      <td>0.27</td>\n",
       "      <td>NaN</td>\n",
       "      <td>tbd</td>\n",
       "      <td>T</td>\n",
       "    </tr>\n",
       "    <tr>\n",
       "      <th>645</th>\n",
       "      <td>uDraw Studio</td>\n",
       "      <td>Wii</td>\n",
       "      <td>2010.0</td>\n",
       "      <td>Misc</td>\n",
       "      <td>1.65</td>\n",
       "      <td>0.57</td>\n",
       "      <td>0.0</td>\n",
       "      <td>0.20</td>\n",
       "      <td>71.0</td>\n",
       "      <td>tbd</td>\n",
       "      <td>E</td>\n",
       "    </tr>\n",
       "    <tr>\n",
       "      <th>718</th>\n",
       "      <td>Just Dance Kids</td>\n",
       "      <td>Wii</td>\n",
       "      <td>2010.0</td>\n",
       "      <td>Misc</td>\n",
       "      <td>1.52</td>\n",
       "      <td>0.54</td>\n",
       "      <td>0.0</td>\n",
       "      <td>0.18</td>\n",
       "      <td>NaN</td>\n",
       "      <td>tbd</td>\n",
       "      <td>E</td>\n",
       "    </tr>\n",
       "    <tr>\n",
       "      <th>...</th>\n",
       "      <td>...</td>\n",
       "      <td>...</td>\n",
       "      <td>...</td>\n",
       "      <td>...</td>\n",
       "      <td>...</td>\n",
       "      <td>...</td>\n",
       "      <td>...</td>\n",
       "      <td>...</td>\n",
       "      <td>...</td>\n",
       "      <td>...</td>\n",
       "      <td>...</td>\n",
       "    </tr>\n",
       "    <tr>\n",
       "      <th>16695</th>\n",
       "      <td>Planet Monsters</td>\n",
       "      <td>GBA</td>\n",
       "      <td>2001.0</td>\n",
       "      <td>Action</td>\n",
       "      <td>0.01</td>\n",
       "      <td>0.00</td>\n",
       "      <td>0.0</td>\n",
       "      <td>0.00</td>\n",
       "      <td>67.0</td>\n",
       "      <td>tbd</td>\n",
       "      <td>E</td>\n",
       "    </tr>\n",
       "    <tr>\n",
       "      <th>16697</th>\n",
       "      <td>Bust-A-Move 3000</td>\n",
       "      <td>GC</td>\n",
       "      <td>2003.0</td>\n",
       "      <td>Puzzle</td>\n",
       "      <td>0.01</td>\n",
       "      <td>0.00</td>\n",
       "      <td>0.0</td>\n",
       "      <td>0.00</td>\n",
       "      <td>53.0</td>\n",
       "      <td>tbd</td>\n",
       "      <td>E</td>\n",
       "    </tr>\n",
       "    <tr>\n",
       "      <th>16698</th>\n",
       "      <td>Mega Brain Boost</td>\n",
       "      <td>DS</td>\n",
       "      <td>2008.0</td>\n",
       "      <td>Puzzle</td>\n",
       "      <td>0.01</td>\n",
       "      <td>0.00</td>\n",
       "      <td>0.0</td>\n",
       "      <td>0.00</td>\n",
       "      <td>48.0</td>\n",
       "      <td>tbd</td>\n",
       "      <td>E</td>\n",
       "    </tr>\n",
       "    <tr>\n",
       "      <th>16704</th>\n",
       "      <td>Plushees</td>\n",
       "      <td>DS</td>\n",
       "      <td>2008.0</td>\n",
       "      <td>Simulation</td>\n",
       "      <td>0.01</td>\n",
       "      <td>0.00</td>\n",
       "      <td>0.0</td>\n",
       "      <td>0.00</td>\n",
       "      <td>NaN</td>\n",
       "      <td>tbd</td>\n",
       "      <td>E</td>\n",
       "    </tr>\n",
       "    <tr>\n",
       "      <th>16706</th>\n",
       "      <td>Men in Black II: Alien Escape</td>\n",
       "      <td>GC</td>\n",
       "      <td>2003.0</td>\n",
       "      <td>Shooter</td>\n",
       "      <td>0.01</td>\n",
       "      <td>0.00</td>\n",
       "      <td>0.0</td>\n",
       "      <td>0.00</td>\n",
       "      <td>NaN</td>\n",
       "      <td>tbd</td>\n",
       "      <td>T</td>\n",
       "    </tr>\n",
       "  </tbody>\n",
       "</table>\n",
       "<p>2376 rows × 11 columns</p>\n",
       "</div>"
      ],
      "text/plain": [
       "                                 name platform  year_of_release       genre  \\\n",
       "119                     Zumba Fitness      Wii           2010.0      Sports   \n",
       "301    Namco Museum: 50th Anniversary      PS2           2005.0        Misc   \n",
       "520                   Zumba Fitness 2      Wii           2011.0      Sports   \n",
       "645                      uDraw Studio      Wii           2010.0        Misc   \n",
       "718                   Just Dance Kids      Wii           2010.0        Misc   \n",
       "...                               ...      ...              ...         ...   \n",
       "16695                 Planet Monsters      GBA           2001.0      Action   \n",
       "16697                Bust-A-Move 3000       GC           2003.0      Puzzle   \n",
       "16698                Mega Brain Boost       DS           2008.0      Puzzle   \n",
       "16704                        Plushees       DS           2008.0  Simulation   \n",
       "16706   Men in Black II: Alien Escape       GC           2003.0     Shooter   \n",
       "\n",
       "       na_sales  eu_sales  jp_sales  other_sales  critic_score user_score  \\\n",
       "119        3.45      2.59       0.0         0.66           NaN        tbd   \n",
       "301        2.08      1.35       0.0         0.54          61.0        tbd   \n",
       "520        1.51      1.03       0.0         0.27           NaN        tbd   \n",
       "645        1.65      0.57       0.0         0.20          71.0        tbd   \n",
       "718        1.52      0.54       0.0         0.18           NaN        tbd   \n",
       "...         ...       ...       ...          ...           ...        ...   \n",
       "16695      0.01      0.00       0.0         0.00          67.0        tbd   \n",
       "16697      0.01      0.00       0.0         0.00          53.0        tbd   \n",
       "16698      0.01      0.00       0.0         0.00          48.0        tbd   \n",
       "16704      0.01      0.00       0.0         0.00           NaN        tbd   \n",
       "16706      0.01      0.00       0.0         0.00           NaN        tbd   \n",
       "\n",
       "      rating  \n",
       "119        E  \n",
       "301     E10+  \n",
       "520        T  \n",
       "645        E  \n",
       "718        E  \n",
       "...      ...  \n",
       "16695      E  \n",
       "16697      E  \n",
       "16698      E  \n",
       "16704      E  \n",
       "16706      T  \n",
       "\n",
       "[2376 rows x 11 columns]"
      ]
     },
     "execution_count": 60,
     "metadata": {},
     "output_type": "execute_result"
    }
   ],
   "source": [
    "main_data.loc[main_data['user_score'] == 'tbd']"
   ]
  },
  {
   "cell_type": "markdown",
   "metadata": {},
   "source": [
    "С английского языка 'tbd' - To Be Determined или To Be Decided, что в целом, как я понимаю, означает, что оценка пока не выставлена. С моей точки зрения, это равно пропущенному значению. Поэтому заменим значения на NaN.ТАкже поступим и с оценкой 0, так как такая оценка не соответствует действительности (послушалась советов, иначе потом сложности с проверкой ипотез будут)"
   ]
  },
  {
   "cell_type": "code",
   "execution_count": 61,
   "metadata": {},
   "outputs": [
    {
     "data": {
      "text/plain": [
       "8982"
      ]
     },
     "execution_count": 61,
     "metadata": {},
     "output_type": "execute_result"
    }
   ],
   "source": [
    "main_data.loc[main_data['user_score'] == 'tbd'] = None\n",
    "main_data.loc[main_data['user_score'] == '0'] = None\n",
    "len(main_data[main_data['user_score'].isna()])"
   ]
  },
  {
   "cell_type": "markdown",
   "metadata": {},
   "source": [
    "<div class=\"alert alert-block alert-success\">\n",
    " \n",
    "### Комментарий ревьюера\n",
    "    \n",
    "#### Успех\n",
    "    \n",
    "Тут ты правильно поступаешь с этим. \n",
    "</div "
   ]
  },
  {
   "cell_type": "markdown",
   "metadata": {},
   "source": [
    "Пропуски в оценках пользователей также заменять не стоит, может негативно сказаться на корректности результата."
   ]
  },
  {
   "cell_type": "markdown",
   "metadata": {},
   "source": [
    "<div class=\"alert alert-block alert-danger\">\n",
    " \n",
    "### Комментарий ревьюера\n",
    "    \n",
    "#### Ошибка\n",
    "    \n",
    "Аналогично. \n",
    "</div "
   ]
  },
  {
   "cell_type": "code",
   "execution_count": 62,
   "metadata": {
    "scrolled": true
   },
   "outputs": [
    {
     "data": {
      "text/plain": [
       "8982"
      ]
     },
     "execution_count": 62,
     "metadata": {},
     "output_type": "execute_result"
    }
   ],
   "source": [
    "len(main_data[main_data['user_score'].isna()])"
   ]
  },
  {
   "cell_type": "code",
   "execution_count": 63,
   "metadata": {},
   "outputs": [
    {
     "data": {
      "text/html": [
       "<div>\n",
       "<style scoped>\n",
       "    .dataframe tbody tr th:only-of-type {\n",
       "        vertical-align: middle;\n",
       "    }\n",
       "\n",
       "    .dataframe tbody tr th {\n",
       "        vertical-align: top;\n",
       "    }\n",
       "\n",
       "    .dataframe thead th {\n",
       "        text-align: right;\n",
       "    }\n",
       "</style>\n",
       "<table border=\"1\" class=\"dataframe\">\n",
       "  <thead>\n",
       "    <tr style=\"text-align: right;\">\n",
       "      <th></th>\n",
       "      <th>name</th>\n",
       "      <th>platform</th>\n",
       "      <th>year_of_release</th>\n",
       "      <th>genre</th>\n",
       "      <th>na_sales</th>\n",
       "      <th>eu_sales</th>\n",
       "      <th>jp_sales</th>\n",
       "      <th>other_sales</th>\n",
       "      <th>critic_score</th>\n",
       "      <th>user_score</th>\n",
       "      <th>rating</th>\n",
       "    </tr>\n",
       "  </thead>\n",
       "  <tbody>\n",
       "    <tr>\n",
       "      <th>1</th>\n",
       "      <td>Super Mario Bros.</td>\n",
       "      <td>NES</td>\n",
       "      <td>1985.0</td>\n",
       "      <td>Platform</td>\n",
       "      <td>29.08</td>\n",
       "      <td>3.58</td>\n",
       "      <td>6.81</td>\n",
       "      <td>0.77</td>\n",
       "      <td>NaN</td>\n",
       "      <td>NaN</td>\n",
       "      <td>NaN</td>\n",
       "    </tr>\n",
       "    <tr>\n",
       "      <th>4</th>\n",
       "      <td>Pokemon Red/Pokemon Blue</td>\n",
       "      <td>GB</td>\n",
       "      <td>1996.0</td>\n",
       "      <td>Role-Playing</td>\n",
       "      <td>11.27</td>\n",
       "      <td>8.89</td>\n",
       "      <td>10.22</td>\n",
       "      <td>1.00</td>\n",
       "      <td>NaN</td>\n",
       "      <td>NaN</td>\n",
       "      <td>NaN</td>\n",
       "    </tr>\n",
       "    <tr>\n",
       "      <th>5</th>\n",
       "      <td>Tetris</td>\n",
       "      <td>GB</td>\n",
       "      <td>1989.0</td>\n",
       "      <td>Puzzle</td>\n",
       "      <td>23.20</td>\n",
       "      <td>2.26</td>\n",
       "      <td>4.22</td>\n",
       "      <td>0.58</td>\n",
       "      <td>NaN</td>\n",
       "      <td>NaN</td>\n",
       "      <td>NaN</td>\n",
       "    </tr>\n",
       "    <tr>\n",
       "      <th>9</th>\n",
       "      <td>Duck Hunt</td>\n",
       "      <td>NES</td>\n",
       "      <td>1984.0</td>\n",
       "      <td>Shooter</td>\n",
       "      <td>26.93</td>\n",
       "      <td>0.63</td>\n",
       "      <td>0.28</td>\n",
       "      <td>0.47</td>\n",
       "      <td>NaN</td>\n",
       "      <td>NaN</td>\n",
       "      <td>NaN</td>\n",
       "    </tr>\n",
       "    <tr>\n",
       "      <th>10</th>\n",
       "      <td>Nintendogs</td>\n",
       "      <td>DS</td>\n",
       "      <td>2005.0</td>\n",
       "      <td>Simulation</td>\n",
       "      <td>9.05</td>\n",
       "      <td>10.95</td>\n",
       "      <td>1.93</td>\n",
       "      <td>2.74</td>\n",
       "      <td>NaN</td>\n",
       "      <td>NaN</td>\n",
       "      <td>NaN</td>\n",
       "    </tr>\n",
       "  </tbody>\n",
       "</table>\n",
       "</div>"
      ],
      "text/plain": [
       "                        name platform  year_of_release         genre  \\\n",
       "1          Super Mario Bros.      NES           1985.0      Platform   \n",
       "4   Pokemon Red/Pokemon Blue       GB           1996.0  Role-Playing   \n",
       "5                     Tetris       GB           1989.0        Puzzle   \n",
       "9                  Duck Hunt      NES           1984.0       Shooter   \n",
       "10                Nintendogs       DS           2005.0    Simulation   \n",
       "\n",
       "    na_sales  eu_sales  jp_sales  other_sales  critic_score user_score rating  \n",
       "1      29.08      3.58      6.81         0.77           NaN        NaN    NaN  \n",
       "4      11.27      8.89     10.22         1.00           NaN        NaN    NaN  \n",
       "5      23.20      2.26      4.22         0.58           NaN        NaN    NaN  \n",
       "9      26.93      0.63      0.28         0.47           NaN        NaN    NaN  \n",
       "10      9.05     10.95      1.93         2.74           NaN        NaN    NaN  "
      ]
     },
     "execution_count": 63,
     "metadata": {},
     "output_type": "execute_result"
    }
   ],
   "source": [
    "main_data[main_data['rating'].isna()].head()"
   ]
  },
  {
   "cell_type": "code",
   "execution_count": 64,
   "metadata": {},
   "outputs": [
    {
     "data": {
      "text/plain": [
       "9003"
      ]
     },
     "execution_count": 64,
     "metadata": {},
     "output_type": "execute_result"
    }
   ],
   "source": [
    "len(main_data[main_data['rating'].isna()])"
   ]
  },
  {
   "cell_type": "code",
   "execution_count": 65,
   "metadata": {},
   "outputs": [
    {
     "data": {
      "text/plain": [
       "{'AO', 'E', 'E10+', 'EC', 'K-A', 'M', None, 'RP', 'T', nan}"
      ]
     },
     "execution_count": 65,
     "metadata": {},
     "output_type": "execute_result"
    }
   ],
   "source": [
    "set(main_data['rating'])"
   ]
  },
  {
   "cell_type": "markdown",
   "metadata": {},
   "source": [
    "Сложно делать каие-то предположения по заполнению. Риску предположить, что в случае отсутствия рейтинга, можно поставить значение 'RP', потому что данное значение символизирует тот факт, что рейтинг от ESRB не присвоен  "
   ]
  },
  {
   "cell_type": "code",
   "execution_count": 66,
   "metadata": {
    "scrolled": true
   },
   "outputs": [
    {
     "data": {
      "text/plain": [
       "{'AO', 'E', 'E10+', 'EC', 'K-A', 'M', 'RP', 'T'}"
      ]
     },
     "execution_count": 66,
     "metadata": {},
     "output_type": "execute_result"
    }
   ],
   "source": [
    "main_data['rating'] = main_data['rating'].fillna('RP')\n",
    "set(main_data['rating'])"
   ]
  },
  {
   "cell_type": "markdown",
   "metadata": {},
   "source": [
    "<div class=\"alert alert-block alert-success\">\n",
    " \n",
    "### Комментарий ревьюера\n",
    "    \n",
    "#### Успех\n",
    "    \n",
    "А вот здесь верно заменила заглушкой. \n",
    "</div "
   ]
  },
  {
   "cell_type": "markdown",
   "metadata": {},
   "source": [
    "<div class=\"alert alert-block alert-warning\">\n",
    " \n",
    "### Комментарий ревьюера\n",
    "    \n",
    "#### Совет\n",
    "    \n",
    "Для отключения красных предупреждений используй `import warnings`\n",
    "`warnings.filterwarnings(\"ignore\")`\n",
    "</div "
   ]
  },
  {
   "cell_type": "markdown",
   "metadata": {},
   "source": [
    "<div class=\"alert alert-block alert-info\"> Спасибо! Очень мешались </div>"
   ]
  },
  {
   "cell_type": "markdown",
   "metadata": {},
   "source": [
    "Таким образом, все поля заполнены."
   ]
  },
  {
   "cell_type": "markdown",
   "metadata": {},
   "source": [
    "#### Изменение типа данных"
   ]
  },
  {
   "cell_type": "markdown",
   "metadata": {},
   "source": [
    "Итак, еще раз просмотрим тип данных у полей. А также выведем первые пять строк датасета."
   ]
  },
  {
   "cell_type": "code",
   "execution_count": 67,
   "metadata": {},
   "outputs": [
    {
     "name": "stdout",
     "output_type": "stream",
     "text": [
      "<class 'pandas.core.frame.DataFrame'>\n",
      "Int64Index: 16444 entries, 0 to 16714\n",
      "Data columns (total 11 columns):\n",
      " #   Column           Non-Null Count  Dtype  \n",
      "---  ------           --------------  -----  \n",
      " 0   name             14067 non-null  object \n",
      " 1   platform         14067 non-null  object \n",
      " 2   year_of_release  14067 non-null  float64\n",
      " 3   genre            14067 non-null  object \n",
      " 4   na_sales         14067 non-null  float64\n",
      " 5   eu_sales         14067 non-null  float64\n",
      " 6   jp_sales         14067 non-null  float64\n",
      " 7   other_sales      14067 non-null  float64\n",
      " 8   critic_score     6927 non-null   float64\n",
      " 9   user_score       7462 non-null   object \n",
      " 10  rating           16444 non-null  object \n",
      "dtypes: float64(6), object(5)\n",
      "memory usage: 1.5+ MB\n",
      "None\n"
     ]
    },
    {
     "data": {
      "text/html": [
       "<div>\n",
       "<style scoped>\n",
       "    .dataframe tbody tr th:only-of-type {\n",
       "        vertical-align: middle;\n",
       "    }\n",
       "\n",
       "    .dataframe tbody tr th {\n",
       "        vertical-align: top;\n",
       "    }\n",
       "\n",
       "    .dataframe thead th {\n",
       "        text-align: right;\n",
       "    }\n",
       "</style>\n",
       "<table border=\"1\" class=\"dataframe\">\n",
       "  <thead>\n",
       "    <tr style=\"text-align: right;\">\n",
       "      <th></th>\n",
       "      <th>name</th>\n",
       "      <th>platform</th>\n",
       "      <th>year_of_release</th>\n",
       "      <th>genre</th>\n",
       "      <th>na_sales</th>\n",
       "      <th>eu_sales</th>\n",
       "      <th>jp_sales</th>\n",
       "      <th>other_sales</th>\n",
       "      <th>critic_score</th>\n",
       "      <th>user_score</th>\n",
       "      <th>rating</th>\n",
       "    </tr>\n",
       "  </thead>\n",
       "  <tbody>\n",
       "    <tr>\n",
       "      <th>0</th>\n",
       "      <td>Wii Sports</td>\n",
       "      <td>Wii</td>\n",
       "      <td>2006.0</td>\n",
       "      <td>Sports</td>\n",
       "      <td>41.36</td>\n",
       "      <td>28.96</td>\n",
       "      <td>3.77</td>\n",
       "      <td>8.45</td>\n",
       "      <td>76.0</td>\n",
       "      <td>8</td>\n",
       "      <td>E</td>\n",
       "    </tr>\n",
       "    <tr>\n",
       "      <th>1</th>\n",
       "      <td>Super Mario Bros.</td>\n",
       "      <td>NES</td>\n",
       "      <td>1985.0</td>\n",
       "      <td>Platform</td>\n",
       "      <td>29.08</td>\n",
       "      <td>3.58</td>\n",
       "      <td>6.81</td>\n",
       "      <td>0.77</td>\n",
       "      <td>NaN</td>\n",
       "      <td>NaN</td>\n",
       "      <td>RP</td>\n",
       "    </tr>\n",
       "    <tr>\n",
       "      <th>2</th>\n",
       "      <td>Mario Kart Wii</td>\n",
       "      <td>Wii</td>\n",
       "      <td>2008.0</td>\n",
       "      <td>Racing</td>\n",
       "      <td>15.68</td>\n",
       "      <td>12.76</td>\n",
       "      <td>3.79</td>\n",
       "      <td>3.29</td>\n",
       "      <td>82.0</td>\n",
       "      <td>8.3</td>\n",
       "      <td>E</td>\n",
       "    </tr>\n",
       "    <tr>\n",
       "      <th>3</th>\n",
       "      <td>Wii Sports Resort</td>\n",
       "      <td>Wii</td>\n",
       "      <td>2009.0</td>\n",
       "      <td>Sports</td>\n",
       "      <td>15.61</td>\n",
       "      <td>10.93</td>\n",
       "      <td>3.28</td>\n",
       "      <td>2.95</td>\n",
       "      <td>80.0</td>\n",
       "      <td>8</td>\n",
       "      <td>E</td>\n",
       "    </tr>\n",
       "    <tr>\n",
       "      <th>4</th>\n",
       "      <td>Pokemon Red/Pokemon Blue</td>\n",
       "      <td>GB</td>\n",
       "      <td>1996.0</td>\n",
       "      <td>Role-Playing</td>\n",
       "      <td>11.27</td>\n",
       "      <td>8.89</td>\n",
       "      <td>10.22</td>\n",
       "      <td>1.00</td>\n",
       "      <td>NaN</td>\n",
       "      <td>NaN</td>\n",
       "      <td>RP</td>\n",
       "    </tr>\n",
       "  </tbody>\n",
       "</table>\n",
       "</div>"
      ],
      "text/plain": [
       "                       name platform  year_of_release         genre  na_sales  \\\n",
       "0                Wii Sports      Wii           2006.0        Sports     41.36   \n",
       "1         Super Mario Bros.      NES           1985.0      Platform     29.08   \n",
       "2            Mario Kart Wii      Wii           2008.0        Racing     15.68   \n",
       "3         Wii Sports Resort      Wii           2009.0        Sports     15.61   \n",
       "4  Pokemon Red/Pokemon Blue       GB           1996.0  Role-Playing     11.27   \n",
       "\n",
       "   eu_sales  jp_sales  other_sales  critic_score user_score rating  \n",
       "0     28.96      3.77         8.45          76.0          8      E  \n",
       "1      3.58      6.81         0.77           NaN        NaN     RP  \n",
       "2     12.76      3.79         3.29          82.0        8.3      E  \n",
       "3     10.93      3.28         2.95          80.0          8      E  \n",
       "4      8.89     10.22         1.00           NaN        NaN     RP  "
      ]
     },
     "execution_count": 67,
     "metadata": {},
     "output_type": "execute_result"
    }
   ],
   "source": [
    "print(main_data.info())\n",
    "main_data.head()"
   ]
  },
  {
   "cell_type": "markdown",
   "metadata": {},
   "source": [
    "В поле 'user_score' изменим тип данных на вещественный."
   ]
  },
  {
   "cell_type": "code",
   "execution_count": 68,
   "metadata": {},
   "outputs": [
    {
     "name": "stdout",
     "output_type": "stream",
     "text": [
      "<class 'pandas.core.frame.DataFrame'>\n",
      "Int64Index: 16444 entries, 0 to 16714\n",
      "Data columns (total 11 columns):\n",
      " #   Column           Non-Null Count  Dtype  \n",
      "---  ------           --------------  -----  \n",
      " 0   name             14067 non-null  object \n",
      " 1   platform         14067 non-null  object \n",
      " 2   year_of_release  14067 non-null  float64\n",
      " 3   genre            14067 non-null  object \n",
      " 4   na_sales         14067 non-null  float64\n",
      " 5   eu_sales         14067 non-null  float64\n",
      " 6   jp_sales         14067 non-null  float64\n",
      " 7   other_sales      14067 non-null  float64\n",
      " 8   critic_score     6927 non-null   float64\n",
      " 9   user_score       7462 non-null   float64\n",
      " 10  rating           16444 non-null  object \n",
      "dtypes: float64(7), object(4)\n",
      "memory usage: 1.5+ MB\n"
     ]
    }
   ],
   "source": [
    "main_data['user_score'] = pd.to_numeric(main_data['user_score'], errors='coerce')\n",
    "main_data.info()"
   ]
  },
  {
   "cell_type": "markdown",
   "metadata": {},
   "source": [
    "Во всех остальных полях тип данных можно оставить, как есть. В поле год хочется поправить на целочисленный, но сижу уже два часа, не получается сменить тип. Нулов в поле нет, убрала до этого, но он все равно ругается."
   ]
  },
  {
   "cell_type": "markdown",
   "metadata": {},
   "source": [
    "#### Расчет новых показателей"
   ]
  },
  {
   "cell_type": "markdown",
   "metadata": {},
   "source": [
    "Посчитаем суммарные продажи во всех регионах."
   ]
  },
  {
   "cell_type": "code",
   "execution_count": 69,
   "metadata": {
    "scrolled": true
   },
   "outputs": [
    {
     "data": {
      "text/html": [
       "<div>\n",
       "<style scoped>\n",
       "    .dataframe tbody tr th:only-of-type {\n",
       "        vertical-align: middle;\n",
       "    }\n",
       "\n",
       "    .dataframe tbody tr th {\n",
       "        vertical-align: top;\n",
       "    }\n",
       "\n",
       "    .dataframe thead th {\n",
       "        text-align: right;\n",
       "    }\n",
       "</style>\n",
       "<table border=\"1\" class=\"dataframe\">\n",
       "  <thead>\n",
       "    <tr style=\"text-align: right;\">\n",
       "      <th></th>\n",
       "      <th>name</th>\n",
       "      <th>platform</th>\n",
       "      <th>year_of_release</th>\n",
       "      <th>genre</th>\n",
       "      <th>na_sales</th>\n",
       "      <th>eu_sales</th>\n",
       "      <th>jp_sales</th>\n",
       "      <th>other_sales</th>\n",
       "      <th>critic_score</th>\n",
       "      <th>user_score</th>\n",
       "      <th>rating</th>\n",
       "      <th>total_sales</th>\n",
       "    </tr>\n",
       "  </thead>\n",
       "  <tbody>\n",
       "    <tr>\n",
       "      <th>0</th>\n",
       "      <td>Wii Sports</td>\n",
       "      <td>Wii</td>\n",
       "      <td>2006.0</td>\n",
       "      <td>Sports</td>\n",
       "      <td>41.36</td>\n",
       "      <td>28.96</td>\n",
       "      <td>3.77</td>\n",
       "      <td>8.45</td>\n",
       "      <td>76.0</td>\n",
       "      <td>8.0</td>\n",
       "      <td>E</td>\n",
       "      <td>82.54</td>\n",
       "    </tr>\n",
       "    <tr>\n",
       "      <th>1</th>\n",
       "      <td>Super Mario Bros.</td>\n",
       "      <td>NES</td>\n",
       "      <td>1985.0</td>\n",
       "      <td>Platform</td>\n",
       "      <td>29.08</td>\n",
       "      <td>3.58</td>\n",
       "      <td>6.81</td>\n",
       "      <td>0.77</td>\n",
       "      <td>NaN</td>\n",
       "      <td>NaN</td>\n",
       "      <td>RP</td>\n",
       "      <td>40.24</td>\n",
       "    </tr>\n",
       "    <tr>\n",
       "      <th>2</th>\n",
       "      <td>Mario Kart Wii</td>\n",
       "      <td>Wii</td>\n",
       "      <td>2008.0</td>\n",
       "      <td>Racing</td>\n",
       "      <td>15.68</td>\n",
       "      <td>12.76</td>\n",
       "      <td>3.79</td>\n",
       "      <td>3.29</td>\n",
       "      <td>82.0</td>\n",
       "      <td>8.3</td>\n",
       "      <td>E</td>\n",
       "      <td>35.52</td>\n",
       "    </tr>\n",
       "    <tr>\n",
       "      <th>3</th>\n",
       "      <td>Wii Sports Resort</td>\n",
       "      <td>Wii</td>\n",
       "      <td>2009.0</td>\n",
       "      <td>Sports</td>\n",
       "      <td>15.61</td>\n",
       "      <td>10.93</td>\n",
       "      <td>3.28</td>\n",
       "      <td>2.95</td>\n",
       "      <td>80.0</td>\n",
       "      <td>8.0</td>\n",
       "      <td>E</td>\n",
       "      <td>32.77</td>\n",
       "    </tr>\n",
       "    <tr>\n",
       "      <th>4</th>\n",
       "      <td>Pokemon Red/Pokemon Blue</td>\n",
       "      <td>GB</td>\n",
       "      <td>1996.0</td>\n",
       "      <td>Role-Playing</td>\n",
       "      <td>11.27</td>\n",
       "      <td>8.89</td>\n",
       "      <td>10.22</td>\n",
       "      <td>1.00</td>\n",
       "      <td>NaN</td>\n",
       "      <td>NaN</td>\n",
       "      <td>RP</td>\n",
       "      <td>31.38</td>\n",
       "    </tr>\n",
       "    <tr>\n",
       "      <th>...</th>\n",
       "      <td>...</td>\n",
       "      <td>...</td>\n",
       "      <td>...</td>\n",
       "      <td>...</td>\n",
       "      <td>...</td>\n",
       "      <td>...</td>\n",
       "      <td>...</td>\n",
       "      <td>...</td>\n",
       "      <td>...</td>\n",
       "      <td>...</td>\n",
       "      <td>...</td>\n",
       "      <td>...</td>\n",
       "    </tr>\n",
       "    <tr>\n",
       "      <th>16710</th>\n",
       "      <td>Samurai Warriors: Sanada Maru</td>\n",
       "      <td>PS3</td>\n",
       "      <td>2016.0</td>\n",
       "      <td>Action</td>\n",
       "      <td>0.00</td>\n",
       "      <td>0.00</td>\n",
       "      <td>0.01</td>\n",
       "      <td>0.00</td>\n",
       "      <td>NaN</td>\n",
       "      <td>NaN</td>\n",
       "      <td>RP</td>\n",
       "      <td>0.01</td>\n",
       "    </tr>\n",
       "    <tr>\n",
       "      <th>16711</th>\n",
       "      <td>LMA Manager 2007</td>\n",
       "      <td>X360</td>\n",
       "      <td>2006.0</td>\n",
       "      <td>Sports</td>\n",
       "      <td>0.00</td>\n",
       "      <td>0.01</td>\n",
       "      <td>0.00</td>\n",
       "      <td>0.00</td>\n",
       "      <td>NaN</td>\n",
       "      <td>NaN</td>\n",
       "      <td>RP</td>\n",
       "      <td>0.01</td>\n",
       "    </tr>\n",
       "    <tr>\n",
       "      <th>16712</th>\n",
       "      <td>Haitaka no Psychedelica</td>\n",
       "      <td>PSV</td>\n",
       "      <td>2016.0</td>\n",
       "      <td>Adventure</td>\n",
       "      <td>0.00</td>\n",
       "      <td>0.00</td>\n",
       "      <td>0.01</td>\n",
       "      <td>0.00</td>\n",
       "      <td>NaN</td>\n",
       "      <td>NaN</td>\n",
       "      <td>RP</td>\n",
       "      <td>0.01</td>\n",
       "    </tr>\n",
       "    <tr>\n",
       "      <th>16713</th>\n",
       "      <td>Spirits &amp; Spells</td>\n",
       "      <td>GBA</td>\n",
       "      <td>2003.0</td>\n",
       "      <td>Platform</td>\n",
       "      <td>0.01</td>\n",
       "      <td>0.00</td>\n",
       "      <td>0.00</td>\n",
       "      <td>0.00</td>\n",
       "      <td>NaN</td>\n",
       "      <td>NaN</td>\n",
       "      <td>RP</td>\n",
       "      <td>0.01</td>\n",
       "    </tr>\n",
       "    <tr>\n",
       "      <th>16714</th>\n",
       "      <td>Winning Post 8 2016</td>\n",
       "      <td>PSV</td>\n",
       "      <td>2016.0</td>\n",
       "      <td>Simulation</td>\n",
       "      <td>0.00</td>\n",
       "      <td>0.00</td>\n",
       "      <td>0.01</td>\n",
       "      <td>0.00</td>\n",
       "      <td>NaN</td>\n",
       "      <td>NaN</td>\n",
       "      <td>RP</td>\n",
       "      <td>0.01</td>\n",
       "    </tr>\n",
       "  </tbody>\n",
       "</table>\n",
       "<p>16444 rows × 12 columns</p>\n",
       "</div>"
      ],
      "text/plain": [
       "                                name platform  year_of_release         genre  \\\n",
       "0                         Wii Sports      Wii           2006.0        Sports   \n",
       "1                  Super Mario Bros.      NES           1985.0      Platform   \n",
       "2                     Mario Kart Wii      Wii           2008.0        Racing   \n",
       "3                  Wii Sports Resort      Wii           2009.0        Sports   \n",
       "4           Pokemon Red/Pokemon Blue       GB           1996.0  Role-Playing   \n",
       "...                              ...      ...              ...           ...   \n",
       "16710  Samurai Warriors: Sanada Maru      PS3           2016.0        Action   \n",
       "16711               LMA Manager 2007     X360           2006.0        Sports   \n",
       "16712        Haitaka no Psychedelica      PSV           2016.0     Adventure   \n",
       "16713               Spirits & Spells      GBA           2003.0      Platform   \n",
       "16714            Winning Post 8 2016      PSV           2016.0    Simulation   \n",
       "\n",
       "       na_sales  eu_sales  jp_sales  other_sales  critic_score  user_score  \\\n",
       "0         41.36     28.96      3.77         8.45          76.0         8.0   \n",
       "1         29.08      3.58      6.81         0.77           NaN         NaN   \n",
       "2         15.68     12.76      3.79         3.29          82.0         8.3   \n",
       "3         15.61     10.93      3.28         2.95          80.0         8.0   \n",
       "4         11.27      8.89     10.22         1.00           NaN         NaN   \n",
       "...         ...       ...       ...          ...           ...         ...   \n",
       "16710      0.00      0.00      0.01         0.00           NaN         NaN   \n",
       "16711      0.00      0.01      0.00         0.00           NaN         NaN   \n",
       "16712      0.00      0.00      0.01         0.00           NaN         NaN   \n",
       "16713      0.01      0.00      0.00         0.00           NaN         NaN   \n",
       "16714      0.00      0.00      0.01         0.00           NaN         NaN   \n",
       "\n",
       "      rating  total_sales  \n",
       "0          E        82.54  \n",
       "1         RP        40.24  \n",
       "2          E        35.52  \n",
       "3          E        32.77  \n",
       "4         RP        31.38  \n",
       "...      ...          ...  \n",
       "16710     RP         0.01  \n",
       "16711     RP         0.01  \n",
       "16712     RP         0.01  \n",
       "16713     RP         0.01  \n",
       "16714     RP         0.01  \n",
       "\n",
       "[16444 rows x 12 columns]"
      ]
     },
     "execution_count": 69,
     "metadata": {},
     "output_type": "execute_result"
    }
   ],
   "source": [
    "main_data['total_sales'] = main_data['na_sales'] + main_data['eu_sales'] + main_data['jp_sales'] + main_data['other_sales']\n",
    "main_data"
   ]
  },
  {
   "cell_type": "markdown",
   "metadata": {},
   "source": [
    "<div class=\"alert alert-block alert-success\">\n",
    " \n",
    "### Комментарий ревьюера\n",
    "    \n",
    "#### Успех\n",
    "    \n",
    "Суммарные продажи тоже получили. Супер. \n",
    "</div "
   ]
  },
  {
   "cell_type": "markdown",
   "metadata": {},
   "source": [
    "### Анализ данных"
   ]
  },
  {
   "cell_type": "markdown",
   "metadata": {},
   "source": [
    "#### Cколько игр выпускалось в разные годы? "
   ]
  },
  {
   "cell_type": "markdown",
   "metadata": {},
   "source": [
    "Сколько игр выпускалось в разные годы. Важны ли данные за все периоды?"
   ]
  },
  {
   "cell_type": "markdown",
   "metadata": {},
   "source": [
    "Построим гистограмму по полю года релиза."
   ]
  },
  {
   "cell_type": "code",
   "execution_count": 98,
   "metadata": {
    "scrolled": true
   },
   "outputs": [
    {
     "data": {
      "text/plain": [
       "Text(0.5, 1.0, 'Количество игр')"
      ]
     },
     "execution_count": 98,
     "metadata": {},
     "output_type": "execute_result"
    },
    {
     "data": {
      "image/png": "[encoded data removed]",
      "text/plain": [
       "<Figure size 432x288 with 1 Axes>"
      ]
     },
     "metadata": {
      "needs_background": "light"
     },
     "output_type": "display_data"
    }
   ],
   "source": [
    "main_data['year_of_release'].hist().set_title('Количество игр')"
   ]
  },
  {
   "cell_type": "markdown",
   "metadata": {},
   "source": [
    "<div class=\"alert alert-block alert-warning\">\n",
    " \n",
    "### Комментарий ревьюера\n",
    "    \n",
    "#### Совет\n",
    "    \n",
    "Здесь рекомендую тебе давайть названия графикам. Так сразу будет понятно, что ты на них пытаешься показать. \n",
    "</div "
   ]
  },
  {
   "cell_type": "markdown",
   "metadata": {},
   "source": [
    "<div class=\"alert alert-block alert-info\"> Послушаю совет </div>"
   ]
  },
  {
   "cell_type": "markdown",
   "metadata": {},
   "source": [
    "Из гистограммы видно, что не все периоды важны. Ограничим период от 2000 до 2016 года. Построим гистограмму."
   ]
  },
  {
   "cell_type": "code",
   "execution_count": 99,
   "metadata": {
    "scrolled": true
   },
   "outputs": [
    {
     "data": {
      "text/plain": [
       "Text(0.5, 1.0, 'Количество игр')"
      ]
     },
     "execution_count": 99,
     "metadata": {},
     "output_type": "execute_result"
    },
    {
     "data": {
      "image/png": "[encoded data removed]",
      "text/plain": [
       "<Figure size 432x288 with 1 Axes>"
      ]
     },
     "metadata": {
      "needs_background": "light"
     },
     "output_type": "display_data"
    }
   ],
   "source": [
    "main_data['year_of_release'].hist(range=(2000,2016)).set_title('Количество игр')"
   ]
  },
  {
   "cell_type": "markdown",
   "metadata": {},
   "source": [
    "Видно, что больше всего игр вышло в 2009 году. "
   ]
  },
  {
   "cell_type": "markdown",
   "metadata": {},
   "source": [
    "#### Как менялись продажи по платформам?"
   ]
  },
  {
   "cell_type": "markdown",
   "metadata": {},
   "source": [
    "Как менялись продажи по платформам? Выберите платформы с наибольшими суммарными продажами и постройте распределение по годам. За какой характерный срок появляются новые и исчезают старые платформы?"
   ]
  },
  {
   "cell_type": "markdown",
   "metadata": {},
   "source": [
    "Посмотрим на пять платформ с самым высоким показателем продаж."
   ]
  },
  {
   "cell_type": "code",
   "execution_count": 72,
   "metadata": {
    "scrolled": false
   },
   "outputs": [
    {
     "data": {
      "image/png": "[encoded data removed]",
      "text/plain": [
       "<Figure size 432x288 with 1 Axes>"
      ]
     },
     "metadata": {
      "needs_background": "light"
     },
     "output_type": "display_data"
    },
    {
     "data": {
      "image/png": "[encoded data removed]",
      "text/plain": [
       "<Figure size 432x288 with 1 Axes>"
      ]
     },
     "metadata": {
      "needs_background": "light"
     },
     "output_type": "display_data"
    },
    {
     "data": {
      "image/png": "[encoded data removed]",
      "text/plain": [
       "<Figure size 432x288 with 1 Axes>"
      ]
     },
     "metadata": {
      "needs_background": "light"
     },
     "output_type": "display_data"
    },
    {
     "data": {
      "image/png": "[encoded data removed]",
      "text/plain": [
       "<Figure size 432x288 with 1 Axes>"
      ]
     },
     "metadata": {
      "needs_background": "light"
     },
     "output_type": "display_data"
    },
    {
     "data": {
      "image/png": "[encoded data removed]",
      "text/plain": [
       "<Figure size 432x288 with 1 Axes>"
      ]
     },
     "metadata": {
      "needs_background": "light"
     },
     "output_type": "display_data"
    }
   ],
   "source": [
    "platforms = main_data.groupby('platform')['total_sales'].sum().sort_values(ascending=False).head(5)\n",
    "\n",
    "for pls in platforms.index:\n",
    "    plt.figure()\n",
    "    main_data.query('platform == @pls').groupby('year_of_release')['total_sales'].sum().plot(kind='bar', title=pls).set_xlabel('')"
   ]
  },
  {
   "cell_type": "markdown",
   "metadata": {},
   "source": [
    "<div class=\"alert alert-block alert-success\">\n",
    " \n",
    "### Комментарий ревьюера\n",
    "    \n",
    "#### Успех\n",
    "    \n",
    "Автоматизированный вывод списка лидеров. Отлично \n",
    "</div "
   ]
  },
  {
   "cell_type": "markdown",
   "metadata": {},
   "source": [
    "PS2 - По данной платформе самые высокие продажи в 2004 году, при этом рост и спад продаж был постепенным. Начался в 2000 и закончился в 2011. Итого срок платформы равен приблизительно 10 годам.\n",
    "\n",
    "X360 - По данной платформе пик продаж был в 2010. При этом рост и спад продаж также был постепенным. Начался в 2004 и закончился в 2016.\n",
    "\n",
    "PS3 - По данной платформе ситуация похожа на X360. У обоих платформ таким образом срок равняется примерно 10 годам.\n",
    "\n",
    "Wii - На старте продаж по данной платформе был резкий скачок вверх. Оглушительный успех. Но к 2009 году все стабилизировалось, а затем ушло на спад. Тем не менее срок жизни составил примерно 10 лет.\n",
    "\n",
    "PS - Продажи по данной платформе стартовали в 1994 году и закончились в 2003. Рост и спад был постепенным, как и у первых трех. Пик пришелся на 1998 год. Срок жизни составил также 10 лет.\n",
    "\n",
    "Таким образом, можно сказать, что в +- срок жизни платформы составляет 10 лет."
   ]
  },
  {
   "cell_type": "markdown",
   "metadata": {},
   "source": [
    "#### Прогноз на 2017 год"
   ]
  },
  {
   "cell_type": "markdown",
   "metadata": {},
   "source": [
    "Возьмите данные за соответствующий актуальный период. Актуальный период определите самостоятельно в результате исследования предыдущих вопросов. Основной фактор — эти данные помогут построить прогноз на 2017 год."
   ]
  },
  {
   "cell_type": "markdown",
   "metadata": {},
   "source": [
    "Итак, необходимо сделать срез данных для дальнейшей работы. Если учесть, что полный жизненный цикл составляет приблизительно 10 лет, то актуальным будет примерно последние 3 года - 2014-2016. Сделаем срез."
   ]
  },
  {
   "cell_type": "code",
   "execution_count": 73,
   "metadata": {
    "scrolled": false
   },
   "outputs": [
    {
     "data": {
      "text/html": [
       "<div>\n",
       "<style scoped>\n",
       "    .dataframe tbody tr th:only-of-type {\n",
       "        vertical-align: middle;\n",
       "    }\n",
       "\n",
       "    .dataframe tbody tr th {\n",
       "        vertical-align: top;\n",
       "    }\n",
       "\n",
       "    .dataframe thead th {\n",
       "        text-align: right;\n",
       "    }\n",
       "</style>\n",
       "<table border=\"1\" class=\"dataframe\">\n",
       "  <thead>\n",
       "    <tr style=\"text-align: right;\">\n",
       "      <th></th>\n",
       "      <th>name</th>\n",
       "      <th>platform</th>\n",
       "      <th>year_of_release</th>\n",
       "      <th>genre</th>\n",
       "      <th>na_sales</th>\n",
       "      <th>eu_sales</th>\n",
       "      <th>jp_sales</th>\n",
       "      <th>other_sales</th>\n",
       "      <th>critic_score</th>\n",
       "      <th>user_score</th>\n",
       "      <th>rating</th>\n",
       "      <th>total_sales</th>\n",
       "    </tr>\n",
       "  </thead>\n",
       "  <tbody>\n",
       "    <tr>\n",
       "      <th>31</th>\n",
       "      <td>Call of Duty: Black Ops 3</td>\n",
       "      <td>PS4</td>\n",
       "      <td>2015.0</td>\n",
       "      <td>Shooter</td>\n",
       "      <td>6.03</td>\n",
       "      <td>5.86</td>\n",
       "      <td>0.36</td>\n",
       "      <td>2.38</td>\n",
       "      <td>NaN</td>\n",
       "      <td>NaN</td>\n",
       "      <td>RP</td>\n",
       "      <td>14.63</td>\n",
       "    </tr>\n",
       "    <tr>\n",
       "      <th>42</th>\n",
       "      <td>Grand Theft Auto V</td>\n",
       "      <td>PS4</td>\n",
       "      <td>2014.0</td>\n",
       "      <td>Action</td>\n",
       "      <td>3.96</td>\n",
       "      <td>6.31</td>\n",
       "      <td>0.38</td>\n",
       "      <td>1.97</td>\n",
       "      <td>97.0</td>\n",
       "      <td>8.3</td>\n",
       "      <td>M</td>\n",
       "      <td>12.62</td>\n",
       "    </tr>\n",
       "    <tr>\n",
       "      <th>47</th>\n",
       "      <td>Pokemon Omega Ruby/Pokemon Alpha Sapphire</td>\n",
       "      <td>3DS</td>\n",
       "      <td>2014.0</td>\n",
       "      <td>Role-Playing</td>\n",
       "      <td>4.35</td>\n",
       "      <td>3.49</td>\n",
       "      <td>3.10</td>\n",
       "      <td>0.74</td>\n",
       "      <td>NaN</td>\n",
       "      <td>NaN</td>\n",
       "      <td>RP</td>\n",
       "      <td>11.68</td>\n",
       "    </tr>\n",
       "    <tr>\n",
       "      <th>77</th>\n",
       "      <td>FIFA 16</td>\n",
       "      <td>PS4</td>\n",
       "      <td>2015.0</td>\n",
       "      <td>Sports</td>\n",
       "      <td>1.12</td>\n",
       "      <td>6.12</td>\n",
       "      <td>0.06</td>\n",
       "      <td>1.28</td>\n",
       "      <td>82.0</td>\n",
       "      <td>4.3</td>\n",
       "      <td>E</td>\n",
       "      <td>8.58</td>\n",
       "    </tr>\n",
       "    <tr>\n",
       "      <th>87</th>\n",
       "      <td>Star Wars Battlefront (2015)</td>\n",
       "      <td>PS4</td>\n",
       "      <td>2015.0</td>\n",
       "      <td>Shooter</td>\n",
       "      <td>2.99</td>\n",
       "      <td>3.49</td>\n",
       "      <td>0.22</td>\n",
       "      <td>1.28</td>\n",
       "      <td>NaN</td>\n",
       "      <td>NaN</td>\n",
       "      <td>RP</td>\n",
       "      <td>7.98</td>\n",
       "    </tr>\n",
       "    <tr>\n",
       "      <th>...</th>\n",
       "      <td>...</td>\n",
       "      <td>...</td>\n",
       "      <td>...</td>\n",
       "      <td>...</td>\n",
       "      <td>...</td>\n",
       "      <td>...</td>\n",
       "      <td>...</td>\n",
       "      <td>...</td>\n",
       "      <td>...</td>\n",
       "      <td>...</td>\n",
       "      <td>...</td>\n",
       "      <td>...</td>\n",
       "    </tr>\n",
       "    <tr>\n",
       "      <th>16703</th>\n",
       "      <td>Strawberry Nauts</td>\n",
       "      <td>PSV</td>\n",
       "      <td>2016.0</td>\n",
       "      <td>Adventure</td>\n",
       "      <td>0.00</td>\n",
       "      <td>0.00</td>\n",
       "      <td>0.01</td>\n",
       "      <td>0.00</td>\n",
       "      <td>NaN</td>\n",
       "      <td>NaN</td>\n",
       "      <td>RP</td>\n",
       "      <td>0.01</td>\n",
       "    </tr>\n",
       "    <tr>\n",
       "      <th>16707</th>\n",
       "      <td>Aiyoku no Eustia</td>\n",
       "      <td>PSV</td>\n",
       "      <td>2014.0</td>\n",
       "      <td>Misc</td>\n",
       "      <td>0.00</td>\n",
       "      <td>0.00</td>\n",
       "      <td>0.01</td>\n",
       "      <td>0.00</td>\n",
       "      <td>NaN</td>\n",
       "      <td>NaN</td>\n",
       "      <td>RP</td>\n",
       "      <td>0.01</td>\n",
       "    </tr>\n",
       "    <tr>\n",
       "      <th>16710</th>\n",
       "      <td>Samurai Warriors: Sanada Maru</td>\n",
       "      <td>PS3</td>\n",
       "      <td>2016.0</td>\n",
       "      <td>Action</td>\n",
       "      <td>0.00</td>\n",
       "      <td>0.00</td>\n",
       "      <td>0.01</td>\n",
       "      <td>0.00</td>\n",
       "      <td>NaN</td>\n",
       "      <td>NaN</td>\n",
       "      <td>RP</td>\n",
       "      <td>0.01</td>\n",
       "    </tr>\n",
       "    <tr>\n",
       "      <th>16712</th>\n",
       "      <td>Haitaka no Psychedelica</td>\n",
       "      <td>PSV</td>\n",
       "      <td>2016.0</td>\n",
       "      <td>Adventure</td>\n",
       "      <td>0.00</td>\n",
       "      <td>0.00</td>\n",
       "      <td>0.01</td>\n",
       "      <td>0.00</td>\n",
       "      <td>NaN</td>\n",
       "      <td>NaN</td>\n",
       "      <td>RP</td>\n",
       "      <td>0.01</td>\n",
       "    </tr>\n",
       "    <tr>\n",
       "      <th>16714</th>\n",
       "      <td>Winning Post 8 2016</td>\n",
       "      <td>PSV</td>\n",
       "      <td>2016.0</td>\n",
       "      <td>Simulation</td>\n",
       "      <td>0.00</td>\n",
       "      <td>0.00</td>\n",
       "      <td>0.01</td>\n",
       "      <td>0.00</td>\n",
       "      <td>NaN</td>\n",
       "      <td>NaN</td>\n",
       "      <td>RP</td>\n",
       "      <td>0.01</td>\n",
       "    </tr>\n",
       "  </tbody>\n",
       "</table>\n",
       "<p>1596 rows × 12 columns</p>\n",
       "</div>"
      ],
      "text/plain": [
       "                                            name platform  year_of_release  \\\n",
       "31                     Call of Duty: Black Ops 3      PS4           2015.0   \n",
       "42                            Grand Theft Auto V      PS4           2014.0   \n",
       "47     Pokemon Omega Ruby/Pokemon Alpha Sapphire      3DS           2014.0   \n",
       "77                                       FIFA 16      PS4           2015.0   \n",
       "87                  Star Wars Battlefront (2015)      PS4           2015.0   \n",
       "...                                          ...      ...              ...   \n",
       "16703                           Strawberry Nauts      PSV           2016.0   \n",
       "16707                           Aiyoku no Eustia      PSV           2014.0   \n",
       "16710              Samurai Warriors: Sanada Maru      PS3           2016.0   \n",
       "16712                    Haitaka no Psychedelica      PSV           2016.0   \n",
       "16714                        Winning Post 8 2016      PSV           2016.0   \n",
       "\n",
       "              genre  na_sales  eu_sales  jp_sales  other_sales  critic_score  \\\n",
       "31          Shooter      6.03      5.86      0.36         2.38           NaN   \n",
       "42           Action      3.96      6.31      0.38         1.97          97.0   \n",
       "47     Role-Playing      4.35      3.49      3.10         0.74           NaN   \n",
       "77           Sports      1.12      6.12      0.06         1.28          82.0   \n",
       "87          Shooter      2.99      3.49      0.22         1.28           NaN   \n",
       "...             ...       ...       ...       ...          ...           ...   \n",
       "16703     Adventure      0.00      0.00      0.01         0.00           NaN   \n",
       "16707          Misc      0.00      0.00      0.01         0.00           NaN   \n",
       "16710        Action      0.00      0.00      0.01         0.00           NaN   \n",
       "16712     Adventure      0.00      0.00      0.01         0.00           NaN   \n",
       "16714    Simulation      0.00      0.00      0.01         0.00           NaN   \n",
       "\n",
       "       user_score rating  total_sales  \n",
       "31            NaN     RP        14.63  \n",
       "42            8.3      M        12.62  \n",
       "47            NaN     RP        11.68  \n",
       "77            4.3      E         8.58  \n",
       "87            NaN     RP         7.98  \n",
       "...           ...    ...          ...  \n",
       "16703         NaN     RP         0.01  \n",
       "16707         NaN     RP         0.01  \n",
       "16710         NaN     RP         0.01  \n",
       "16712         NaN     RP         0.01  \n",
       "16714         NaN     RP         0.01  \n",
       "\n",
       "[1596 rows x 12 columns]"
      ]
     },
     "execution_count": 73,
     "metadata": {},
     "output_type": "execute_result"
    }
   ],
   "source": [
    "actual_data = main_data.query('year_of_release >= 2014')\n",
    "actual_data"
   ]
  },
  {
   "cell_type": "markdown",
   "metadata": {},
   "source": [
    "<div class=\"alert alert-block alert-success\">\n",
    " \n",
    "### Комментарий ревьюера\n",
    "    \n",
    "#### Успех\n",
    "    \n",
    "Очень верно подобрала актуальный период. Нам незачем смотреть на очень старые данные \n",
    "</div "
   ]
  },
  {
   "cell_type": "markdown",
   "metadata": {},
   "source": [
    "Срез выполнен, в дальнейшем будем работать с актуальным датасетом."
   ]
  },
  {
   "cell_type": "markdown",
   "metadata": {},
   "source": [
    "#### Какие платформы лидируют по продажам, растут или падают?"
   ]
  },
  {
   "cell_type": "markdown",
   "metadata": {},
   "source": [
    "Какие платформы лидируют по продажам, растут или падают? Выберите несколько потенциально прибыльных платформ."
   ]
  },
  {
   "cell_type": "markdown",
   "metadata": {},
   "source": [
    "Посмотрим, какие платформы, скажем, в топе 3 по продажам за 2014-2015 года - самые высокие продажи и самые низкие."
   ]
  },
  {
   "cell_type": "code",
   "execution_count": 74,
   "metadata": {},
   "outputs": [
    {
     "data": {
      "text/plain": [
       "platform\n",
       "PS4     288.01\n",
       "XOne    139.81\n",
       "3DS      85.38\n",
       "Name: total_sales, dtype: float64"
      ]
     },
     "execution_count": 74,
     "metadata": {},
     "output_type": "execute_result"
    }
   ],
   "source": [
    "actual_data.groupby('platform')['total_sales'].sum().sort_values(ascending=False).head(3)"
   ]
  },
  {
   "cell_type": "markdown",
   "metadata": {},
   "source": [
    "Платформы PS4, XOne, 3DS, PS3, X360 лидируют по продажам за последние три года. Самая популярная - PS4."
   ]
  },
  {
   "cell_type": "code",
   "execution_count": 75,
   "metadata": {
    "scrolled": true
   },
   "outputs": [
    {
     "data": {
      "text/plain": [
       "platform\n",
       "PSP     0.36\n",
       "Wii     2.76\n",
       "PSV    22.09\n",
       "Name: total_sales, dtype: float64"
      ]
     },
     "execution_count": 75,
     "metadata": {},
     "output_type": "execute_result"
    }
   ],
   "source": [
    "actual_data.groupby('platform')['total_sales'].sum().sort_values(ascending=True).head(3)"
   ]
  },
  {
   "cell_type": "markdown",
   "metadata": {},
   "source": [
    "В топе самых отстающих платформ находятся платформы, которые не популярны, в целом. Поэтому низкие."
   ]
  },
  {
   "cell_type": "markdown",
   "metadata": {},
   "source": [
    "Построим графики по продажам для всех платформ за 2014-2016 года"
   ]
  },
  {
   "cell_type": "code",
   "execution_count": 76,
   "metadata": {
    "scrolled": false
   },
   "outputs": [
    {
     "data": {
      "image/png": "[encoded data removed]",
      "text/plain": [
       "<Figure size 432x288 with 1 Axes>"
      ]
     },
     "metadata": {
      "needs_background": "light"
     },
     "output_type": "display_data"
    },
    {
     "data": {
      "image/png": "[encoded data removed]",
      "text/plain": [
       "<Figure size 432x288 with 1 Axes>"
      ]
     },
     "metadata": {
      "needs_background": "light"
     },
     "output_type": "display_data"
    },
    {
     "data": {
      "image/png": "[encoded data removed]",
      "text/plain": [
       "<Figure size 432x288 with 1 Axes>"
      ]
     },
     "metadata": {
      "needs_background": "light"
     },
     "output_type": "display_data"
    },
    {
     "data": {
      "image/png": "[encoded data removed]",
      "text/plain": [
       "<Figure size 432x288 with 1 Axes>"
      ]
     },
     "metadata": {
      "needs_background": "light"
     },
     "output_type": "display_data"
    },
    {
     "data": {
      "image/png": "[encoded data removed]",
      "text/plain": [
       "<Figure size 432x288 with 1 Axes>"
      ]
     },
     "metadata": {
      "needs_background": "light"
     },
     "output_type": "display_data"
    },
    {
     "data": {
      "image/png": "[encoded data removed]",
      "text/plain": [
       "<Figure size 432x288 with 1 Axes>"
      ]
     },
     "metadata": {
      "needs_background": "light"
     },
     "output_type": "display_data"
    },
    {
     "data": {
      "image/png": "[encoded data removed]",
      "text/plain": [
       "<Figure size 432x288 with 1 Axes>"
      ]
     },
     "metadata": {
      "needs_background": "light"
     },
     "output_type": "display_data"
    },
    {
     "data": {
      "image/png": "[encoded data removed]",
      "text/plain": [
       "<Figure size 432x288 with 1 Axes>"
      ]
     },
     "metadata": {
      "needs_background": "light"
     },
     "output_type": "display_data"
    },
    {
     "data": {
      "image/png": "[encoded data removed]",
      "text/plain": [
       "<Figure size 432x288 with 1 Axes>"
      ]
     },
     "metadata": {
      "needs_background": "light"
     },
     "output_type": "display_data"
    },
    {
     "data": {
      "image/png": "[encoded data removed]",
      "text/plain": [
       "<Figure size 432x288 with 1 Axes>"
      ]
     },
     "metadata": {
      "needs_background": "light"
     },
     "output_type": "display_data"
    }
   ],
   "source": [
    "platforms = actual_data.groupby('platform')['total_sales'].sum().sort_values(ascending=False)\n",
    "\n",
    "for pls in platforms.index:\n",
    "    plt.figure()\n",
    "    actual_data.query('platform == @pls').groupby('year_of_release')['total_sales'].sum().plot(kind='bar', title=pls).set_xlabel('')"
   ]
  },
  {
   "cell_type": "markdown",
   "metadata": {},
   "source": [
    "По всем платформам наблюдается спад продаж в последние три года. Но по PS4, XOne пока ситуация еще может выправиться. "
   ]
  },
  {
   "cell_type": "markdown",
   "metadata": {},
   "source": [
    "<div class=\"alert alert-block alert-success\">\n",
    " \n",
    "### Комментарий ревьюера\n",
    "    \n",
    "#### Успех\n",
    "    \n",
    "Вновь хорошая визуализация \n",
    "</div "
   ]
  },
  {
   "cell_type": "markdown",
   "metadata": {},
   "source": [
    "#### График «ящик с усами» "
   ]
  },
  {
   "cell_type": "markdown",
   "metadata": {},
   "source": [
    "Постройте график «ящик с усами» по глобальным продажам игр в разбивке по платформам. Опишите результат."
   ]
  },
  {
   "cell_type": "code",
   "execution_count": 90,
   "metadata": {
    "scrolled": true
   },
   "outputs": [
    {
     "data": {
      "text/plain": [
       "(0.0, 1.6)"
      ]
     },
     "execution_count": 90,
     "metadata": {},
     "output_type": "execute_result"
    },
    {
     "data": {
      "image/png": "[encoded data removed]",
      "text/plain": [
       "<Figure size 432x288 with 1 Axes>"
      ]
     },
     "metadata": {
      "needs_background": "light"
     },
     "output_type": "display_data"
    }
   ],
   "source": [
    "top_data = actual_data.query('(platform == \"PS4\") or (platform == \"XOne\")')\n",
    "sbn.boxplot(data=top_data, x='platform', y='total_sales').set_ylim([0,1.6])"
   ]
  },
  {
   "cell_type": "markdown",
   "metadata": {},
   "source": [
    "Итак, из графиков в первую очередь видно, что по продажам на платформе PS4 выбросов больше, это показывает, что там имело место какие-то большие продажи. Высокие. Из графика вообще видно, что на обеих платформах значения находятся за пределами третьего квартиля. При этом медиана у обеих платформ схожа. Но среднее у платформы PS4 будет выше в 35 раз (среднее равно ~7, а медиана ~0.2), тогда как у второй платформы разница меньше - в 20 раз среднее превышает медиану. Это значит, что были экстремально высокие продажи по обеим платформам, но по первой таких продаж больше. Основные значения продаж лежат в промежутке между 0.01 и 1.55, остальные значения считаются либо экстремально низкими (ниже 0.01), либо экстремально высокими (выше 1.55)"
   ]
  },
  {
   "cell_type": "markdown",
   "metadata": {},
   "source": [
    "<div class=\"alert alert-block alert-danger\">\n",
    " \n",
    "### Комментарий ревьюера\n",
    "    \n",
    "#### Ошибка\n",
    "    \n",
    "К сожалению, на этом графике видны только выбросы, и совсем не видны медиана и 75% квантиль. Для более обоснованных выводов нужно сделать дополнительный график, где будет отображена только нижняя часть boxplot-ов. Этого можно добиться, например, задав параметр ylim.\n",
    "</div "
   ]
  },
  {
   "cell_type": "markdown",
   "metadata": {},
   "source": [
    "<div class=\"alert alert-block alert-info\"> Надеюсь, так будет правильнее. </div>"
   ]
  },
  {
   "cell_type": "markdown",
   "metadata": {},
   "source": [
    "<div class=\"alert alert-block alert-success\">\n",
    " \n",
    "# Комментарий ревьюера ver.2 \n",
    "    \n",
    "#### Успех\n",
    "    \n",
    "Вот так намного лучше \n",
    "</div "
   ]
  },
  {
   "cell_type": "markdown",
   "metadata": {},
   "source": [
    "#### Как влияют на продажи внутри одной популярной платформы отзывы пользователей и критиков"
   ]
  },
  {
   "cell_type": "markdown",
   "metadata": {},
   "source": [
    "Посмотрите, как влияют на продажи внутри одной популярной платформы отзывы пользователей и критиков. Постройте диаграмму рассеяния и посчитайте корреляцию между отзывами и продажами. Сформулируйте выводы."
   ]
  },
  {
   "cell_type": "markdown",
   "metadata": {},
   "source": [
    "Для работы возьмем PS4. Построим графики зависимости - диаграмму рассеяния. Для начала определим насколько отзывы пользователей влияют на продажи."
   ]
  },
  {
   "cell_type": "code",
   "execution_count": 42,
   "metadata": {},
   "outputs": [
    {
     "name": "stdout",
     "output_type": "stream",
     "text": [
      "0.33348588793786504\n",
      "AxesSubplot(0.125,0.125;0.775x0.755)\n"
     ]
    },
    {
     "data": {
      "image/png": "[encoded data removed]",
      "text/plain": [
       "<Figure size 432x288 with 1 Axes>"
      ]
     },
     "metadata": {
      "needs_background": "light"
     },
     "output_type": "display_data"
    }
   ],
   "source": [
    "top_one = actual_data.query('platform == \"PS4\"')\n",
    "print(top_one['total_sales'].corr(top_one['critic_score']))\n",
    "print(top_one.plot(x='total_sales', y='critic_score', kind='scatter'))"
   ]
  },
  {
   "cell_type": "markdown",
   "metadata": {},
   "source": [
    "Зависимости между параметрами не прослеживается."
   ]
  },
  {
   "cell_type": "code",
   "execution_count": 43,
   "metadata": {},
   "outputs": [
    {
     "name": "stdout",
     "output_type": "stream",
     "text": [
      "-0.061477558802432296\n",
      "AxesSubplot(0.125,0.125;0.775x0.755)\n"
     ]
    },
    {
     "data": {
      "image/png": "[encoded data removed]",
      "text/plain": [
       "<Figure size 432x288 with 1 Axes>"
      ]
     },
     "metadata": {
      "needs_background": "light"
     },
     "output_type": "display_data"
    }
   ],
   "source": [
    "print(top_one['total_sales'].corr(top_one['user_score']))\n",
    "print(top_one.plot(x='total_sales', y='user_score', kind='scatter'))"
   ]
  },
  {
   "cell_type": "markdown",
   "metadata": {},
   "source": [
    "<div class=\"alert alert-block alert-success\">\n",
    " \n",
    "### Комментарий ревьюера\n",
    "    \n",
    "#### Успех\n",
    "    \n",
    "С этим тоже не поспоришь. Тут отсуствует связь. \n",
    "</div "
   ]
  },
  {
   "cell_type": "markdown",
   "metadata": {},
   "source": [
    "Такая же ситуация и с оценками критиков - зависимости нет. Для сравнения посмотрим другие платформы."
   ]
  },
  {
   "cell_type": "code",
   "execution_count": 44,
   "metadata": {
    "scrolled": true
   },
   "outputs": [
    {
     "name": "stdout",
     "output_type": "stream",
     "text": [
      "0.36996657266945376\n",
      "AxesSubplot(0.125,0.125;0.775x0.755)\n",
      "-0.08589936992829905\n",
      "AxesSubplot(0.125,0.125;0.775x0.755)\n"
     ]
    },
    {
     "data": {
      "image/png": "[encoded data removed]",
      "text/plain": [
       "<Figure size 432x288 with 1 Axes>"
      ]
     },
     "metadata": {
      "needs_background": "light"
     },
     "output_type": "display_data"
    },
    {
     "data": {
      "image/png": "[encoded data removed]",
      "text/plain": [
       "<Figure size 432x288 with 1 Axes>"
      ]
     },
     "metadata": {
      "needs_background": "light"
     },
     "output_type": "display_data"
    }
   ],
   "source": [
    "top_second = actual_data.query('platform == \"XOne\"')\n",
    "print(top_second['total_sales'].corr(top_second['critic_score']))\n",
    "print(top_second.plot(x='total_sales', y='critic_score', kind='scatter'))\n",
    "print(top_second['total_sales'].corr(top_second['user_score']))\n",
    "print(top_second.plot(x='total_sales', y='user_score', kind='scatter'))"
   ]
  },
  {
   "cell_type": "markdown",
   "metadata": {},
   "source": [
    "Зависимости также не обнаружено. Проверим также 3 сверху платформу и первую снизу по продажам."
   ]
  },
  {
   "cell_type": "code",
   "execution_count": 45,
   "metadata": {
    "scrolled": true
   },
   "outputs": [
    {
     "name": "stdout",
     "output_type": "stream",
     "text": [
      "0.08775458972270847\n",
      "AxesSubplot(0.125,0.125;0.775x0.755)\n",
      "0.06289262684690584\n",
      "AxesSubplot(0.125,0.125;0.775x0.755)\n"
     ]
    },
    {
     "data": {
      "image/png": "[encoded data removed]",
      "text/plain": [
       "<Figure size 432x288 with 1 Axes>"
      ]
     },
     "metadata": {
      "needs_background": "light"
     },
     "output_type": "display_data"
    },
    {
     "data": {
      "image/png": "[encoded data removed]",
      "text/plain": [
       "<Figure size 432x288 with 1 Axes>"
      ]
     },
     "metadata": {
      "needs_background": "light"
     },
     "output_type": "display_data"
    }
   ],
   "source": [
    "top_third = actual_data.query('platform == \"3DS\"')\n",
    "print(top_third['total_sales'].corr(top_third['critic_score']))\n",
    "print(top_third.plot(x='total_sales', y='critic_score', kind='scatter'))\n",
    "print(top_third['total_sales'].corr(top_third['user_score']))\n",
    "print(top_third.plot(x='total_sales', y='user_score', kind='scatter'))"
   ]
  },
  {
   "cell_type": "markdown",
   "metadata": {},
   "source": [
    "Здесь показатели еще ниже. Зависимости нет. Проверим последнюю."
   ]
  },
  {
   "cell_type": "code",
   "execution_count": 46,
   "metadata": {
    "scrolled": true
   },
   "outputs": [
    {
     "name": "stdout",
     "output_type": "stream",
     "text": [
      "nan\n",
      "AxesSubplot(0.125,0.125;0.775x0.755)\n",
      "nan\n",
      "AxesSubplot(0.125,0.125;0.775x0.755)\n"
     ]
    },
    {
     "data": {
      "image/png": "[encoded data removed]",
      "text/plain": [
       "<Figure size 432x288 with 1 Axes>"
      ]
     },
     "metadata": {
      "needs_background": "light"
     },
     "output_type": "display_data"
    },
    {
     "data": {
      "image/png": "[encoded data removed]",
      "text/plain": [
       "<Figure size 432x288 with 1 Axes>"
      ]
     },
     "metadata": {
      "needs_background": "light"
     },
     "output_type": "display_data"
    }
   ],
   "source": [
    "top_last = actual_data.query('platform == \"PSP\"')\n",
    "print(top_last['total_sales'].corr(top_last['critic_score']))\n",
    "print(top_last.plot(x='total_sales', y='critic_score', kind='scatter'))\n",
    "print(top_last['total_sales'].corr(top_last['user_score']))\n",
    "print(top_last.plot(x='total_sales', y='user_score', kind='scatter'))"
   ]
  },
  {
   "cell_type": "markdown",
   "metadata": {},
   "source": [
    "Совсем нулевое значение. Зависмости нет во всех случаях, но можно сказать, что чем популярнее платформа и выше продажи, тем более выраженной становится эта зависимость. Возможно, ввиду большого количества пропусков в столбцах с отзывами, данные могли исказиться. Какая-то слабая, еле заметная зависимость прослеживается."
   ]
  },
  {
   "cell_type": "markdown",
   "metadata": {},
   "source": [
    "<div class=\"alert alert-block alert-success\">\n",
    " \n",
    "### Комментарий ревьюера\n",
    "    \n",
    "#### Успех\n",
    "    \n",
    "Выводы на основе данных с нескольких платформы выглядят убедительнее.\n",
    "</div "
   ]
  },
  {
   "cell_type": "markdown",
   "metadata": {},
   "source": [
    "#### Общее распределение игр по жанрам"
   ]
  },
  {
   "cell_type": "markdown",
   "metadata": {},
   "source": [
    "Посмотрите на общее распределение игр по жанрам. Что можно сказать о самых прибыльных жанрах? Выделяются ли жанры с высокими и низкими продажами?"
   ]
  },
  {
   "cell_type": "code",
   "execution_count": 92,
   "metadata": {
    "scrolled": true
   },
   "outputs": [
    {
     "data": {
      "text/plain": [
       "genre\n",
       "Shooter         0.560\n",
       "Sports          0.240\n",
       "Platform        0.145\n",
       "Fighting        0.130\n",
       "Misc            0.110\n",
       "Role-Playing    0.110\n",
       "Simulation      0.105\n",
       "Action          0.100\n",
       "Racing          0.095\n",
       "Strategy        0.060\n",
       "Puzzle          0.055\n",
       "Adventure       0.030\n",
       "Name: total_sales, dtype: float64"
      ]
     },
     "execution_count": 92,
     "metadata": {},
     "output_type": "execute_result"
    }
   ],
   "source": [
    "actual_data.groupby('genre')['total_sales'].median().sort_values(ascending=False)"
   ]
  },
  {
   "cell_type": "markdown",
   "metadata": {},
   "source": [
    "Люди играют по большей части для получения каких-то впечатлений. Собирать пазлы - удовольствие для избранных :) Люди любят динамичные игры, игры, основанные на соревновании друг с другом - стрелялки, бои. Тем более, что на популярных платформах, самые популярные игры, которые на слуху - это Mortal Combat или футбол и т.п. Поэтому ожидаемо, что шутеры и спортивные игры занимают в ретинге высокие позиции, а спокойные игры типо пазлов или стратегий, где по большей части надо много думать и меньше действовать, занимают низкие строчки."
   ]
  },
  {
   "cell_type": "markdown",
   "metadata": {},
   "source": [
    "<div class=\"alert alert-block alert-danger\">\n",
    " \n",
    "### Комментарий ревьюера\n",
    "    \n",
    "#### Ошибка\n",
    "    \n",
    "Общие продажи - плохая метрика для поиска наиболее прибыльного жанра. За высокими показателями общих продаж может скрываться множество мелких игр с низкими продажами. Или 2-3 звезды и куча провалов. Лучше найти жанр, где игры стабильно приносят высокий доход - для этого стоит рассмотреть средние или медианные продажи.\n",
    "</div "
   ]
  },
  {
   "cell_type": "markdown",
   "metadata": {},
   "source": [
    "<div class=\"alert alert-block alert-info\"> Поправила. И правда вывод чуть изменился </div>"
   ]
  },
  {
   "cell_type": "markdown",
   "metadata": {},
   "source": [
    "<div class=\"alert alert-block alert-success\">\n",
    " \n",
    "# Комментарий ревьюера ver.2 \n",
    "    \n",
    "#### Успех\n",
    "    \n",
    "Да, так и есть \n",
    "</div "
   ]
  },
  {
   "cell_type": "markdown",
   "metadata": {},
   "source": [
    "### Портрет пользователя по регионам"
   ]
  },
  {
   "cell_type": "markdown",
   "metadata": {},
   "source": [
    "#### Самые популярные платформы"
   ]
  },
  {
   "cell_type": "markdown",
   "metadata": {},
   "source": [
    "Определите для пользователя каждого региона самые популярные платформы (топ-5). Опишите различия в долях продаж."
   ]
  },
  {
   "cell_type": "markdown",
   "metadata": {},
   "source": [
    "Определим топ 5 платформ для пользователей из разных регионов."
   ]
  },
  {
   "cell_type": "code",
   "execution_count": 93,
   "metadata": {
    "scrolled": true
   },
   "outputs": [
    {
     "data": {
      "text/plain": [
       "platform\n",
       "PS4     98.49\n",
       "XOne    80.92\n",
       "X360    27.54\n",
       "3DS     22.23\n",
       "PS3     21.82\n",
       "WiiU    19.16\n",
       "PC       7.23\n",
       "PSV      2.51\n",
       "Wii      1.16\n",
       "PSP      0.00\n",
       "Name: na_sales, dtype: float64"
      ]
     },
     "execution_count": 93,
     "metadata": {},
     "output_type": "execute_result"
    }
   ],
   "source": [
    "actual_data.groupby('platform')['na_sales'].sum().sort_values(ascending=False)"
   ]
  },
  {
   "cell_type": "code",
   "execution_count": 94,
   "metadata": {},
   "outputs": [
    {
     "data": {
      "text/plain": [
       "platform\n",
       "PS4     130.04\n",
       "XOne     46.09\n",
       "PS3      24.97\n",
       "PC       17.88\n",
       "3DS      15.42\n",
       "X360     15.01\n",
       "WiiU     12.99\n",
       "PSV       3.38\n",
       "Wii       1.38\n",
       "PSP       0.00\n",
       "Name: eu_sales, dtype: float64"
      ]
     },
     "execution_count": 94,
     "metadata": {},
     "output_type": "execute_result"
    }
   ],
   "source": [
    "actual_data.groupby('platform')['eu_sales'].sum().sort_values(ascending=False)"
   ]
  },
  {
   "cell_type": "code",
   "execution_count": 95,
   "metadata": {},
   "outputs": [
    {
     "data": {
      "text/plain": [
       "platform\n",
       "3DS     44.13\n",
       "PS4     15.02\n",
       "PSV     14.43\n",
       "PS3     10.85\n",
       "WiiU     7.31\n",
       "PSP      0.36\n",
       "XOne     0.32\n",
       "X360     0.08\n",
       "PC       0.00\n",
       "Wii      0.00\n",
       "Name: jp_sales, dtype: float64"
      ]
     },
     "execution_count": 95,
     "metadata": {},
     "output_type": "execute_result"
    }
   ],
   "source": [
    "actual_data.groupby('platform')['jp_sales'].sum().sort_values(ascending=False)"
   ]
  },
  {
   "cell_type": "code",
   "execution_count": 96,
   "metadata": {
    "scrolled": true
   },
   "outputs": [
    {
     "data": {
      "text/plain": [
       "platform\n",
       "PS4     44.46\n",
       "XOne    12.48\n",
       "PS3      9.22\n",
       "X360     4.23\n",
       "3DS      3.60\n",
       "WiiU     3.12\n",
       "PC       1.85\n",
       "PSV      1.77\n",
       "Wii      0.22\n",
       "PSP      0.00\n",
       "Name: other_sales, dtype: float64"
      ]
     },
     "execution_count": 96,
     "metadata": {},
     "output_type": "execute_result"
    }
   ],
   "source": [
    "actual_data.groupby('platform')['other_sales'].sum().sort_values(ascending=False)"
   ]
  },
  {
   "cell_type": "markdown",
   "metadata": {},
   "source": [
    "Здесь можно увидеть такеи интересные вещи, как: продажи в Северной Америке и Европе отличаются немногим, а именно тем, что при том, что основная доля приходится на PS4 и XOne, в США данные платформы, практически, одинаково популярны, тогда как в Европе PS4 опережает продажи XOne почти в три раза. В \"других\" регионах в целам доля продаж похожа на Европу и США, но инетересен азиатский рынок: доля продаж в Японии распределена совсем иначе. Тут можем влиять тот фактор, что Азия (Япония, Корея), в частности Япония, сама является лидером в производстве игр и пр., поэтому возможно спрос тут на данные платформы будет ниже из-за конкуренции локальной."
   ]
  },
  {
   "cell_type": "markdown",
   "metadata": {},
   "source": [
    "<div class=\"alert alert-block alert-success\">\n",
    " \n",
    "### Комментарий ревьюера\n",
    "    \n",
    "#### Успех\n",
    "    \n",
    "Здесь уже можно заметить, что каждый регион по-своему отличается. \n",
    "</div "
   ]
  },
  {
   "cell_type": "markdown",
   "metadata": {},
   "source": [
    "#### Самые популярные жанры"
   ]
  },
  {
   "cell_type": "markdown",
   "metadata": {},
   "source": [
    "Определите для пользователя каждого региона самые популярные жанры (топ-5). Поясните разницу."
   ]
  },
  {
   "cell_type": "markdown",
   "metadata": {},
   "source": [
    "Выведем таким же образом продажи по жанрам в каждом из регионов."
   ]
  },
  {
   "cell_type": "code",
   "execution_count": 52,
   "metadata": {},
   "outputs": [
    {
     "data": {
      "text/plain": [
       "genre\n",
       "Shooter         78.89\n",
       "Action          71.17\n",
       "Sports          46.03\n",
       "Role-Playing    33.47\n",
       "Misc            14.31\n",
       "Fighting        12.41\n",
       "Racing           8.65\n",
       "Platform         6.61\n",
       "Adventure        5.36\n",
       "Simulation       2.59\n",
       "Strategy         0.98\n",
       "Puzzle           0.59\n",
       "Name: na_sales, dtype: float64"
      ]
     },
     "execution_count": 52,
     "metadata": {},
     "output_type": "execute_result"
    }
   ],
   "source": [
    "actual_data.groupby('genre')['na_sales'].sum().sort_values(ascending=False)"
   ]
  },
  {
   "cell_type": "code",
   "execution_count": 53,
   "metadata": {},
   "outputs": [
    {
     "data": {
      "text/plain": [
       "genre\n",
       "Action          73.15\n",
       "Shooter         65.44\n",
       "Sports          45.48\n",
       "Role-Playing    28.17\n",
       "Racing          14.03\n",
       "Misc            12.16\n",
       "Simulation       7.20\n",
       "Fighting         6.67\n",
       "Platform         6.60\n",
       "Adventure        6.00\n",
       "Strategy         1.79\n",
       "Puzzle           0.47\n",
       "Name: eu_sales, dtype: float64"
      ]
     },
     "execution_count": 53,
     "metadata": {},
     "output_type": "execute_result"
    }
   ],
   "source": [
    "actual_data.groupby('genre')['eu_sales'].sum().sort_values(ascending=False)"
   ]
  },
  {
   "cell_type": "code",
   "execution_count": 54,
   "metadata": {},
   "outputs": [
    {
     "data": {
      "text/plain": [
       "genre\n",
       "Role-Playing    31.16\n",
       "Action          29.11\n",
       "Fighting         6.34\n",
       "Misc             5.61\n",
       "Shooter          4.87\n",
       "Adventure        3.60\n",
       "Sports           3.26\n",
       "Platform         2.69\n",
       "Simulation       2.25\n",
       "Racing           1.73\n",
       "Strategy         0.95\n",
       "Puzzle           0.93\n",
       "Name: jp_sales, dtype: float64"
      ]
     },
     "execution_count": 54,
     "metadata": {},
     "output_type": "execute_result"
    }
   ],
   "source": [
    "actual_data.groupby('genre')['jp_sales'].sum().sort_values(ascending=False)"
   ]
  },
  {
   "cell_type": "code",
   "execution_count": 55,
   "metadata": {},
   "outputs": [
    {
     "data": {
      "text/plain": [
       "genre\n",
       "Action          22.27\n",
       "Shooter         21.52\n",
       "Sports          14.32\n",
       "Role-Playing     8.64\n",
       "Misc             3.90\n",
       "Racing           2.86\n",
       "Fighting         2.72\n",
       "Platform         1.76\n",
       "Adventure        1.74\n",
       "Simulation       0.88\n",
       "Strategy         0.24\n",
       "Puzzle           0.10\n",
       "Name: other_sales, dtype: float64"
      ]
     },
     "execution_count": 55,
     "metadata": {},
     "output_type": "execute_result"
    }
   ],
   "source": [
    "actual_data.groupby('genre')['other_sales'].sum().sort_values(ascending=False)"
   ]
  },
  {
   "cell_type": "markdown",
   "metadata": {},
   "source": [
    "Очень похожая картина с платформами. Распределение продаж в Америке, Европе и других странах, кроме Японии, очень похож между собой. В Америке опять же прослеживается высокая конкуренция между двумя топовыми жанрами игр. Интересна здесь опять Япония, ввиду ее культурных особенностей. Япония - это аниме, а от аниме до игр жанра Role-Playing недалеко. В Японии данный жанр игр популярен, но у них есть и собственные платформы, которые предоставляют игры с данным жанром. Поэтому тут все сходится."
   ]
  },
  {
   "cell_type": "markdown",
   "metadata": {},
   "source": [
    "<div class=\"alert alert-block alert-success\">\n",
    " \n",
    "### Комментарий ревьюера\n",
    "    \n",
    "#### Успех\n",
    "    \n",
    "Здесь вот заметно, что Япония имеет свою специфику. \n",
    "</div "
   ]
  },
  {
   "cell_type": "markdown",
   "metadata": {},
   "source": [
    "#### Влияет ли рейтинг ESRB на продажи?"
   ]
  },
  {
   "cell_type": "markdown",
   "metadata": {},
   "source": [
    "Определите для пользователя каждого региона влияет ли рейтинг ESRB на продажи в отдельном регионе?"
   ]
  },
  {
   "cell_type": "code",
   "execution_count": 56,
   "metadata": {
    "scrolled": true
   },
   "outputs": [
    {
     "data": {
      "text/plain": [
       "rating\n",
       "M       96.36\n",
       "RP      64.68\n",
       "E       50.25\n",
       "T       38.76\n",
       "E10+    31.01\n",
       "Name: na_sales, dtype: float64"
      ]
     },
     "execution_count": 56,
     "metadata": {},
     "output_type": "execute_result"
    }
   ],
   "source": [
    "actual_data.groupby('rating')['na_sales'].sum().sort_values(ascending=False)"
   ]
  },
  {
   "cell_type": "code",
   "execution_count": 57,
   "metadata": {},
   "outputs": [
    {
     "data": {
      "text/plain": [
       "rating\n",
       "M       93.42\n",
       "RP      58.74\n",
       "E       57.44\n",
       "T       33.93\n",
       "E10+    23.63\n",
       "Name: eu_sales, dtype: float64"
      ]
     },
     "execution_count": 57,
     "metadata": {},
     "output_type": "execute_result"
    }
   ],
   "source": [
    "actual_data.groupby('rating')['eu_sales'].sum().sort_values(ascending=False)"
   ]
  },
  {
   "cell_type": "code",
   "execution_count": 58,
   "metadata": {},
   "outputs": [
    {
     "data": {
      "text/plain": [
       "rating\n",
       "RP      56.90\n",
       "T       14.32\n",
       "E        8.94\n",
       "M        8.01\n",
       "E10+     4.33\n",
       "Name: jp_sales, dtype: float64"
      ]
     },
     "execution_count": 58,
     "metadata": {},
     "output_type": "execute_result"
    }
   ],
   "source": [
    "actual_data.groupby('rating')['jp_sales'].sum().sort_values(ascending=False)"
   ]
  },
  {
   "cell_type": "code",
   "execution_count": 59,
   "metadata": {},
   "outputs": [
    {
     "data": {
      "text/plain": [
       "rating\n",
       "M       28.67\n",
       "RP      18.38\n",
       "E       15.27\n",
       "T       11.29\n",
       "E10+     7.34\n",
       "Name: other_sales, dtype: float64"
      ]
     },
     "execution_count": 59,
     "metadata": {},
     "output_type": "execute_result"
    }
   ],
   "source": [
    "actual_data.groupby('rating')['other_sales'].sum().sort_values(ascending=False)"
   ]
  },
  {
   "cell_type": "markdown",
   "metadata": {},
   "source": [
    "Для Америки, Европы и других стран, кроме Японии (и ближних азитских, я думаю), в основном доли продаж сходятся. Лидирует здесь рейтинг 17+ (M). Думаю, по той причине. что жанры Action и Shooter - довольно агрессивные. Там много крови, убийств, однозначно рейтинг должен быть соответстующий. Далее идет рейтинг RP, что означает неопределенность. Ппоэтому тут его его комментировать как-то не имеет смысла. Ну и остальные игры подходят для подростков и детей. В Японии, наоборот, опять же из-за культурных особенностей и предпочтений в жанре игр, японцы выбирают игры жанра E, T (Everyone и Teen).  Жанр 17+ находится у них на предпоследней строчке."
   ]
  },
  {
   "cell_type": "markdown",
   "metadata": {},
   "source": [
    "<div class=\"alert alert-block alert-success\">\n",
    " \n",
    "### Комментарий ревьюера\n",
    "    \n",
    "#### Успех\n",
    "    \n",
    "Теперь мы тоно знаем, что при прогнозе продаж надо будет учитывать специфику регионов. \n",
    "</div "
   ]
  },
  {
   "cell_type": "markdown",
   "metadata": {},
   "source": [
    "### Проверка гипотез"
   ]
  },
  {
   "cell_type": "markdown",
   "metadata": {},
   "source": [
    "#### Гипотеза №1"
   ]
  },
  {
   "cell_type": "markdown",
   "metadata": {},
   "source": [
    "Проверьте гипотезу [Средние пользовательские рейтинги платформ Xbox One и PC одинаковые]. Задайте самостоятельно пороговое значение alpha."
   ]
  },
  {
   "cell_type": "markdown",
   "metadata": {},
   "source": [
    "H0 - средний рейтинг платформы Xbox One равен среднему рейтингу платформы PC\n",
    "\n",
    "H1 - средний рейтинг платформы Xbox One не равен среднему рейтингу платформы PC"
   ]
  },
  {
   "cell_type": "code",
   "execution_count": 69,
   "metadata": {},
   "outputs": [
    {
     "name": "stdout",
     "output_type": "stream",
     "text": [
      "p-значение:  0.04808936807377056\n",
      "Отвергаем нулевую гипотезу\n"
     ]
    }
   ],
   "source": [
    "rating_xone = actual_data.query('platform == \"XOne\"')['user_score']\n",
    "rating_pc = actual_data.query('platform == \"PC\"')['user_score']\n",
    "\n",
    "\n",
    "alpha = .05 # критический уровень статистической значимости\n",
    "\n",
    "results = st.ttest_ind(\n",
    "    rating_xone, \n",
    "    rating_pc, equal_var=False)\n",
    "\n",
    "print('p-значение: ', results.pvalue)\n",
    "\n",
    "if results.pvalue < alpha:\n",
    "    print(\"Отвергаем нулевую гипотезу\")\n",
    "else:\n",
    "    print(\"Не получилось отвергнуть нулевую гипотезу\") "
   ]
  },
  {
   "cell_type": "markdown",
   "metadata": {},
   "source": [
    "Данные предоставляют достаточное основание — для выбранного уровня значимости — отвергнуть нулевую гипотезу. Значит, можно сделать вывод, что средние не равны."
   ]
  },
  {
   "cell_type": "markdown",
   "metadata": {},
   "source": [
    "<div class=\"alert alert-block alert-success\">\n",
    " \n",
    "### Комментарий ревьюера\n",
    "    \n",
    "#### Успех\n",
    "    \n",
    "Гипотезы сформулированы и верно определен метод проверки. \n",
    "</div "
   ]
  },
  {
   "cell_type": "markdown",
   "metadata": {},
   "source": [
    "#### Гипотеза №2"
   ]
  },
  {
   "cell_type": "markdown",
   "metadata": {},
   "source": [
    "Проверьте гипотезу [Средние пользовательские рейтинги жанров Action и Sports разные.]. Задайте самостоятельно пороговое значение alpha."
   ]
  },
  {
   "cell_type": "markdown",
   "metadata": {},
   "source": [
    "H0 - средний рейтинг жанра Action равен среднему рейтингу жанра Sports\n",
    "\n",
    "H1 - средний рейтинг жанра Action не равен среднему рейтингу жанра Sports"
   ]
  },
  {
   "cell_type": "code",
   "execution_count": 70,
   "metadata": {},
   "outputs": [
    {
     "name": "stdout",
     "output_type": "stream",
     "text": [
      "p-значение:  1.0476840042569837e-17\n",
      "Отвергаем нулевую гипотезу\n"
     ]
    }
   ],
   "source": [
    "genre_action = actual_data.query('genre == \"Action\"')['user_score']\n",
    "genre_sports = actual_data.query('genre == \"Sports\"')['user_score']\n",
    "\n",
    "\n",
    "alpha = .05 # критический уровень статистической значимости\n",
    "\n",
    "results = st.ttest_ind(\n",
    "    genre_action, \n",
    "    genre_sports, equal_var=False)\n",
    "\n",
    "print('p-значение: ', results.pvalue)\n",
    "\n",
    "if results.pvalue < alpha:\n",
    "    print(\"Отвергаем нулевую гипотезу\")\n",
    "else:\n",
    "    print(\"Не получилось отвергнуть нулевую гипотезу\") "
   ]
  },
  {
   "cell_type": "markdown",
   "metadata": {},
   "source": [
    "Данные предоставляют достаточное основание — для выбранного уровня значимости — отвергнуть нулевую гипотезу. Значит, можно сделать вывод, что средние разные."
   ]
  },
  {
   "cell_type": "markdown",
   "metadata": {},
   "source": [
    "<div class=\"alert alert-block alert-success\">\n",
    " \n",
    "### Комментарий ревьюера\n",
    "    \n",
    "#### Успех\n",
    "    \n",
    "Аналогично \n",
    "</div "
   ]
  },
  {
   "cell_type": "markdown",
   "metadata": {},
   "source": [
    "#### Как были сформулированы гипотезы?"
   ]
  },
  {
   "cell_type": "markdown",
   "metadata": {},
   "source": [
    "При формирования нулевых и альтернативных гипотех исходила из того, что нулевая гипотеза в сравнении средних двух выборок всегда отходит от равенства средних. Альтернативная гипотеза может звучат как неравенство, а также в других вараинтах, исключающих равенство."
   ]
  },
  {
   "cell_type": "markdown",
   "metadata": {},
   "source": [
    "### Общий вывод"
   ]
  },
  {
   "cell_type": "markdown",
   "metadata": {},
   "source": [
    "Основная задача состояла в следующем: выявить основные закономерности успешности игры. Для дальнейшего планирования. Из результатов исследования, можно сказать, что успешность игры зависит от платвормы и региона продажи. Так, например, в основном, в лидерах продаж находятся PS4 и XOne, при этом лучше продаются игры жанра Action, Shooter, Sports. Активные игры. Для азиатского рынка стоит приберечь особый подход и сделать упор на играх Pole-Playing, а также стоит изучить локальные платформы, возможно, откроется что-то новое. В целом, можно сказать, что продажи очень зависят от жанра игры. Люди любят играть во что-то что-то очень впечатляющее и насыщенное. "
   ]
  },
  {
   "cell_type": "markdown",
   "metadata": {},
   "source": [
    "Рекомендации по качеству данных: качество заполнения данных оставляет желать лучшего. Особенно проблемными оказались параметры по оценкам игр - оценка критика и оценка пользователя. Если бы не было такого количества пропусков, возможно, на графиках корреляции можно было бы выявить какую-то зависимость, потому что объективно говоря, оценка пользователей точно должна давать какой-то эффект на продажи, так как игровое комьюнити обычно очень большое и люди склонны советоваться с другими игроками по поводу качества той или иной игрушки. Хотелось бы более полные данные."
   ]
  },
  {
   "cell_type": "markdown",
   "metadata": {},
   "source": [
    "<div class=\"alert alert-block alert-warning\">\n",
    " \n",
    "### Комментарий ревьюера\n",
    "    \n",
    "#### Совет\n",
    "    \n",
    "Сюда бы еще рекомендации добавить в идеале.У тебя много пропусков в данных. Как думаешь, что можно сделать, чтобы минимизировать их в другой раз. \n",
    "</div "
   ]
  },
  {
   "cell_type": "markdown",
   "metadata": {},
   "source": [
    "<div class=\"alert alert-block alert-info\"> Добавила </div>"
   ]
  },
  {
   "cell_type": "markdown",
   "metadata": {},
   "source": [
    "<div class=\"alert alert-block alert-info\">\n",
    "\n",
    "## Итоговый комментарии от ревьюера:\n",
    "    \n",
    "#### Успех\n",
    "\n",
    "Поздравляю тебя с выполнением твоего первого Сборного проекта. Мне показалось, что работа выполненна прекрасно и ты здорово постаралась. Понравилось, что ты хорошо владеешь отличными навыками Предобработки данных и проверки Гипотез. А еще особенно ценно, что ты везде пишешь аргументацию своим действиям. Так, если проект попадет в руки незнакомому человеку, он сможет разобраться. Это тебе очень пригодится в будущем.\n",
    "\n",
    "В проекте осталось пару замечений:\n",
    "    \n",
    "* Необходимо подправить график \"Ящик с усами\"    \n",
    "* Требуется определить самый прибыльный жанр по медианному или среднему значению.\n",
    "       \n",
    "Еще я оставил рекомендации. Очень надеюсь, что ты учтешь их в этом и последующих проектах.\n",
    "    \n",
    "    \n",
    "Жду проект после доработки. Уверен, ты справишься.\n",
    "</div>"
   ]
  },
  {
   "cell_type": "markdown",
   "metadata": {},
   "source": [
    "<div class=\"alert alert-block alert-info\"> Спасибо за обратную связь! Все поправила :) </div>"
   ]
  },
  {
   "cell_type": "markdown",
   "metadata": {},
   "source": [
    "**Чек-лист готовности проекта**"
   ]
  },
  {
   "cell_type": "markdown",
   "metadata": {},
   "source": [
    "- [x]  открыт файл\n",
    "- [x]  названия столбцов приведены к нижнему регистру\n",
    "- [x]  определены пропущенные значения\n",
    "- [x]  заполнены пропущенные значения там, где это возможно\n",
    "- [x]  есть пояснение, какие пропущенные значения обнаружены\n",
    "- [x]  изменены типы данных\n",
    "- [x]  есть пояснение, в каких столбцах изменены типы и почему\n",
    "- [x]  посчитано и добавлено в таблицу: суммарные продажи во всех регионах\n",
    "- [x]  выполнено задание: \"Посмотрите, сколько игр выпускалось в разные годы. Важны ли данные за все периоды?\"\n",
    "- [x]  выполнено задание: \"Посмотрите, как менялись продажи по платформам. Выберите платформы с наибольшими суммарными продажами и постройте распределение по годам. За какой характерный срок появляются новые и исчезают старые платформы?\"\n",
    "- [x]  выполнено задание: \"Возьмите данные за соответствующий актуальный период. Актуальный период определите самостоятельно в результате исследования предыдущих вопросов. Основной фактор — эти данные помогут построить прогноз на 2017 год.\"\n",
    "- [x]  выполнено задание: \"Не учитывайте в работе данные за предыдущие годы\"\n",
    "- [x]  выполнено задание: \"Какие платформы лидируют по продажам, растут или падают? Выберите несколько потенциально прибыльных платформ.\"\n",
    "- [x]  выполнено задание: \"Постройте график «ящик с усами» по глобальным продажам игр в разбивке по платформам. Опишите результат.\"\n",
    "- [x]  выполнено задание: \"Посмотрите, как влияют на продажи внутри одной популярной платформы отзывы пользователей и критиков. Постройте диаграмму рассеяния и посчитайте корреляцию между отзывами и продажами. Сформулируйте выводы.\"\n",
    "- [x]  выполнено задание: \"Соотнесите выводы с продажами игр на других платформах.\"\n",
    "- [x]  выполнено задание: \"Посмотрите на общее распределение игр по жанрам. Что можно сказать о самых прибыльных жанрах? Выделяются ли жанры с высокими и низкими продажами?\"\n",
    "- [x]  выполнено задание: \"Определите для пользователя каждого региона самые популярные платформы (топ-5). Опишите различия в долях продаж.\"\n",
    "- [x]  выполнено задание: \"Определите для пользователя каждого региона самые популярные жанры (топ-5). Поясните разницу.\"\n",
    "- [x]  выполнено задание: \"Определите для пользователя каждого региона влияет ли рейтинг ESRB на продажи в отдельном регионе?\"\n",
    "- [x]  выполнено задание: \"Проверьте гипотезу [Средние пользовательские рейтинги платформ Xbox One и PC одинаковые]\"\n",
    "- [x]  выполнено задание: \"Проверьте гипотезу [Средние пользовательские рейтинги жанров Action и Sports разные.]\"\n",
    "- [x]  есть пояснение, как была сформулировалина нулевая и альтернативная гипотезы\n",
    "- [x]  есть пояснение, какой критерий применен для проверки гипотез и почему\n",
    "- [x]  в каждом этапе есть промежуточные выводы\n",
    "- [x]  есть общий вывод"
   ]
  }
 ],
 "metadata": {
  "ExecuteTimeLog": [
   {
    "duration": 67,
    "start_time": "2022-09-29T12:16:40.504Z"
   },
   {
    "duration": 3,
    "start_time": "2022-09-29T12:17:31.254Z"
   },
   {
    "duration": 3,
    "start_time": "2022-09-29T12:23:45.888Z"
   },
   {
    "duration": 640,
    "start_time": "2022-09-29T12:31:29.287Z"
   },
   {
    "duration": 329,
    "start_time": "2022-09-29T12:32:12.296Z"
   },
   {
    "duration": 15,
    "start_time": "2022-09-29T12:33:36.576Z"
   },
   {
    "duration": 21,
    "start_time": "2022-09-29T12:33:49.135Z"
   },
   {
    "duration": 847,
    "start_time": "2022-09-29T12:37:27.390Z"
   },
   {
    "duration": 907,
    "start_time": "2022-09-29T12:37:46.052Z"
   },
   {
    "duration": 837,
    "start_time": "2022-09-29T12:37:54.572Z"
   },
   {
    "duration": 11,
    "start_time": "2022-09-29T12:39:36.783Z"
   },
   {
    "duration": 18,
    "start_time": "2022-09-29T12:40:44.763Z"
   },
   {
    "duration": 8,
    "start_time": "2022-09-29T12:41:42.550Z"
   },
   {
    "duration": 14,
    "start_time": "2022-09-29T12:44:42.882Z"
   },
   {
    "duration": 10,
    "start_time": "2022-09-29T12:45:35.900Z"
   },
   {
    "duration": 32,
    "start_time": "2022-09-29T12:47:53.987Z"
   },
   {
    "duration": 15,
    "start_time": "2022-09-29T12:49:54.624Z"
   },
   {
    "duration": 20,
    "start_time": "2022-09-29T12:50:11.343Z"
   },
   {
    "duration": 8,
    "start_time": "2022-09-29T12:52:16.219Z"
   },
   {
    "duration": 9,
    "start_time": "2022-09-29T12:52:19.883Z"
   },
   {
    "duration": 6,
    "start_time": "2022-09-29T12:54:43.930Z"
   },
   {
    "duration": 13,
    "start_time": "2022-09-29T12:54:53.058Z"
   },
   {
    "duration": 71,
    "start_time": "2022-09-29T12:55:12.791Z"
   },
   {
    "duration": 14,
    "start_time": "2022-09-29T12:55:14.602Z"
   },
   {
    "duration": 14,
    "start_time": "2022-09-29T12:55:16.001Z"
   },
   {
    "duration": 856,
    "start_time": "2022-09-29T12:55:17.257Z"
   },
   {
    "duration": 15,
    "start_time": "2022-09-29T12:55:22.658Z"
   },
   {
    "duration": 18,
    "start_time": "2022-09-29T12:55:28.626Z"
   },
   {
    "duration": 10,
    "start_time": "2022-09-29T12:55:32.177Z"
   },
   {
    "duration": 19,
    "start_time": "2022-09-29T12:55:40.410Z"
   },
   {
    "duration": 6,
    "start_time": "2022-09-29T12:55:42.297Z"
   },
   {
    "duration": 16,
    "start_time": "2022-09-29T12:56:01.753Z"
   },
   {
    "duration": 941,
    "start_time": "2022-10-01T17:49:37.908Z"
   },
   {
    "duration": 15,
    "start_time": "2022-10-01T17:49:41.775Z"
   },
   {
    "duration": 15,
    "start_time": "2022-10-01T17:49:45.879Z"
   },
   {
    "duration": 3,
    "start_time": "2022-10-01T17:51:43.687Z"
   },
   {
    "duration": 22,
    "start_time": "2022-10-01T17:51:53.228Z"
   },
   {
    "duration": 897,
    "start_time": "2022-10-01T17:52:00.583Z"
   },
   {
    "duration": 15,
    "start_time": "2022-10-01T17:52:14.859Z"
   },
   {
    "duration": 18,
    "start_time": "2022-10-01T17:52:21.348Z"
   },
   {
    "duration": 10,
    "start_time": "2022-10-01T17:52:29.219Z"
   },
   {
    "duration": 23,
    "start_time": "2022-10-01T17:52:39.408Z"
   },
   {
    "duration": 7,
    "start_time": "2022-10-01T17:52:48.460Z"
   },
   {
    "duration": 18,
    "start_time": "2022-10-01T17:52:54.388Z"
   },
   {
    "duration": 79,
    "start_time": "2022-10-01T17:57:19.137Z"
   },
   {
    "duration": 11,
    "start_time": "2022-10-01T17:58:37.420Z"
   },
   {
    "duration": 110,
    "start_time": "2022-10-01T17:59:25.440Z"
   },
   {
    "duration": 19,
    "start_time": "2022-10-01T18:01:34.056Z"
   },
   {
    "duration": 22,
    "start_time": "2022-10-01T18:02:01.924Z"
   },
   {
    "duration": 2106,
    "start_time": "2022-10-01T18:03:44.236Z"
   },
   {
    "duration": 2078,
    "start_time": "2022-10-01T18:04:33.356Z"
   },
   {
    "duration": 2094,
    "start_time": "2022-10-01T18:04:54.337Z"
   },
   {
    "duration": 2148,
    "start_time": "2022-10-01T18:05:08.697Z"
   },
   {
    "duration": 2047,
    "start_time": "2022-10-01T18:05:35.091Z"
   },
   {
    "duration": 19,
    "start_time": "2022-10-01T18:06:07.207Z"
   },
   {
    "duration": 23,
    "start_time": "2022-10-01T18:06:15.292Z"
   },
   {
    "duration": 21,
    "start_time": "2022-10-01T18:06:25.593Z"
   },
   {
    "duration": 10,
    "start_time": "2022-10-01T18:08:17.303Z"
   },
   {
    "duration": 2074,
    "start_time": "2022-10-01T18:09:05.403Z"
   },
   {
    "duration": 2081,
    "start_time": "2022-10-01T18:09:30.495Z"
   },
   {
    "duration": 50,
    "start_time": "2022-10-01T18:09:48.775Z"
   },
   {
    "duration": 49,
    "start_time": "2022-10-01T18:09:56.915Z"
   },
   {
    "duration": 2142,
    "start_time": "2022-10-01T18:10:02.915Z"
   },
   {
    "duration": 2020,
    "start_time": "2022-10-01T18:10:24.126Z"
   },
   {
    "duration": 6,
    "start_time": "2022-10-01T18:13:23.180Z"
   },
   {
    "duration": 6,
    "start_time": "2022-10-01T18:13:33.299Z"
   },
   {
    "duration": 15,
    "start_time": "2022-10-01T18:13:35.347Z"
   },
   {
    "duration": 87,
    "start_time": "2022-10-01T18:14:17.148Z"
   },
   {
    "duration": 2127,
    "start_time": "2022-10-01T18:14:39.420Z"
   },
   {
    "duration": 2073,
    "start_time": "2022-10-01T18:15:44.652Z"
   },
   {
    "duration": 2215,
    "start_time": "2022-10-01T18:16:03.712Z"
   },
   {
    "duration": 20,
    "start_time": "2022-10-01T18:16:23.383Z"
   },
   {
    "duration": 9,
    "start_time": "2022-10-01T18:16:55.178Z"
   },
   {
    "duration": 10,
    "start_time": "2022-10-01T18:17:13.762Z"
   },
   {
    "duration": 2118,
    "start_time": "2022-10-01T18:17:19.462Z"
   },
   {
    "duration": 22,
    "start_time": "2022-10-01T18:17:32.735Z"
   },
   {
    "duration": 10,
    "start_time": "2022-10-01T18:17:48.267Z"
   },
   {
    "duration": 10,
    "start_time": "2022-10-01T18:18:32.516Z"
   },
   {
    "duration": 9,
    "start_time": "2022-10-01T18:18:41.656Z"
   },
   {
    "duration": 28,
    "start_time": "2022-10-01T18:18:55.816Z"
   },
   {
    "duration": 2143,
    "start_time": "2022-10-01T18:29:46.827Z"
   },
   {
    "duration": 21,
    "start_time": "2022-10-01T18:29:54.231Z"
   },
   {
    "duration": 24,
    "start_time": "2022-10-01T18:30:00.608Z"
   },
   {
    "duration": 23,
    "start_time": "2022-10-01T18:30:27.246Z"
   },
   {
    "duration": 26,
    "start_time": "2022-10-01T18:31:45.837Z"
   },
   {
    "duration": 79,
    "start_time": "2022-10-01T18:32:19.338Z"
   },
   {
    "duration": 41,
    "start_time": "2022-10-01T18:32:41.953Z"
   },
   {
    "duration": 31,
    "start_time": "2022-10-01T18:32:48.756Z"
   },
   {
    "duration": 33,
    "start_time": "2022-10-01T18:38:11.807Z"
   },
   {
    "duration": 33,
    "start_time": "2022-10-01T18:40:50.045Z"
   },
   {
    "duration": 79,
    "start_time": "2022-10-01T18:41:03.426Z"
   },
   {
    "duration": 24,
    "start_time": "2022-10-01T18:41:14.526Z"
   },
   {
    "duration": 30,
    "start_time": "2022-10-01T18:41:20.946Z"
   },
   {
    "duration": 27,
    "start_time": "2022-10-01T18:43:04.846Z"
   },
   {
    "duration": 27,
    "start_time": "2022-10-01T18:43:23.787Z"
   },
   {
    "duration": 33,
    "start_time": "2022-10-01T18:45:57.189Z"
   },
   {
    "duration": 26,
    "start_time": "2022-10-01T18:46:04.798Z"
   },
   {
    "duration": 86,
    "start_time": "2022-10-01T18:47:39.597Z"
   },
   {
    "duration": 32,
    "start_time": "2022-10-01T18:47:53.455Z"
   },
   {
    "duration": 7,
    "start_time": "2022-10-01T18:48:13.539Z"
   },
   {
    "duration": 34,
    "start_time": "2022-10-01T18:48:53.828Z"
   },
   {
    "duration": 52,
    "start_time": "2022-10-01T18:50:11.701Z"
   },
   {
    "duration": 45,
    "start_time": "2022-10-01T18:52:57.610Z"
   },
   {
    "duration": 43,
    "start_time": "2022-10-01T18:53:29.313Z"
   },
   {
    "duration": 169,
    "start_time": "2022-10-01T18:54:52.157Z"
   },
   {
    "duration": 45,
    "start_time": "2022-10-01T18:55:39.054Z"
   },
   {
    "duration": 9,
    "start_time": "2022-10-01T18:55:55.605Z"
   },
   {
    "duration": 82,
    "start_time": "2022-10-01T18:56:03.446Z"
   },
   {
    "duration": 16,
    "start_time": "2022-10-01T18:56:05.185Z"
   },
   {
    "duration": 18,
    "start_time": "2022-10-01T18:56:05.953Z"
   },
   {
    "duration": 21,
    "start_time": "2022-10-01T18:56:06.646Z"
   },
   {
    "duration": 817,
    "start_time": "2022-10-01T18:56:07.034Z"
   },
   {
    "duration": 15,
    "start_time": "2022-10-01T18:56:09.893Z"
   },
   {
    "duration": 14,
    "start_time": "2022-10-01T18:56:10.653Z"
   },
   {
    "duration": 10,
    "start_time": "2022-10-01T18:56:11.433Z"
   },
   {
    "duration": 17,
    "start_time": "2022-10-01T18:56:12.233Z"
   },
   {
    "duration": 5,
    "start_time": "2022-10-01T18:56:13.753Z"
   },
   {
    "duration": 35,
    "start_time": "2022-10-01T18:56:31.334Z"
   },
   {
    "duration": 6,
    "start_time": "2022-10-01T18:58:12.078Z"
   },
   {
    "duration": 10,
    "start_time": "2022-10-01T18:58:28.770Z"
   },
   {
    "duration": 9,
    "start_time": "2022-10-01T18:59:10.798Z"
   },
   {
    "duration": 9,
    "start_time": "2022-10-01T19:00:10.959Z"
   },
   {
    "duration": 9,
    "start_time": "2022-10-01T19:00:45.310Z"
   },
   {
    "duration": 6,
    "start_time": "2022-10-01T19:01:05.790Z"
   },
   {
    "duration": 8,
    "start_time": "2022-10-01T19:01:34.398Z"
   },
   {
    "duration": 16,
    "start_time": "2022-10-01T19:03:33.860Z"
   },
   {
    "duration": 65,
    "start_time": "2022-10-01T19:04:57.541Z"
   },
   {
    "duration": 15,
    "start_time": "2022-10-01T19:04:58.361Z"
   },
   {
    "duration": 16,
    "start_time": "2022-10-01T19:05:00.397Z"
   },
   {
    "duration": 16,
    "start_time": "2022-10-01T19:05:01.465Z"
   },
   {
    "duration": 929,
    "start_time": "2022-10-01T19:05:01.817Z"
   },
   {
    "duration": 16,
    "start_time": "2022-10-01T19:05:04.786Z"
   },
   {
    "duration": 12,
    "start_time": "2022-10-01T19:05:05.700Z"
   },
   {
    "duration": 10,
    "start_time": "2022-10-01T19:05:06.505Z"
   },
   {
    "duration": 17,
    "start_time": "2022-10-01T19:05:07.261Z"
   },
   {
    "duration": 5,
    "start_time": "2022-10-01T19:05:08.137Z"
   },
   {
    "duration": 24,
    "start_time": "2022-10-01T19:05:08.984Z"
   },
   {
    "duration": 34,
    "start_time": "2022-10-01T19:05:10.257Z"
   },
   {
    "duration": 35,
    "start_time": "2022-10-01T19:05:20.105Z"
   },
   {
    "duration": 9,
    "start_time": "2022-10-01T19:05:23.126Z"
   },
   {
    "duration": 9,
    "start_time": "2022-10-01T19:05:24.790Z"
   },
   {
    "duration": 10,
    "start_time": "2022-10-01T19:05:26.925Z"
   },
   {
    "duration": 19,
    "start_time": "2022-10-01T19:05:29.113Z"
   },
   {
    "duration": 6,
    "start_time": "2022-10-01T19:05:51.394Z"
   },
   {
    "duration": 7,
    "start_time": "2022-10-01T19:05:57.325Z"
   },
   {
    "duration": 6,
    "start_time": "2022-10-01T19:09:40.798Z"
   },
   {
    "duration": 6,
    "start_time": "2022-10-01T19:09:50.517Z"
   },
   {
    "duration": 24,
    "start_time": "2022-10-01T19:10:15.697Z"
   },
   {
    "duration": 7,
    "start_time": "2022-10-01T19:10:27.957Z"
   },
   {
    "duration": 6,
    "start_time": "2022-10-01T19:11:16.734Z"
   },
   {
    "duration": 5,
    "start_time": "2022-10-01T19:11:18.132Z"
   },
   {
    "duration": 5,
    "start_time": "2022-10-01T19:11:18.638Z"
   },
   {
    "duration": 69,
    "start_time": "2022-10-01T19:11:27.518Z"
   },
   {
    "duration": 20,
    "start_time": "2022-10-01T19:11:28.718Z"
   },
   {
    "duration": 14,
    "start_time": "2022-10-01T19:11:29.338Z"
   },
   {
    "duration": 16,
    "start_time": "2022-10-01T19:11:29.937Z"
   },
   {
    "duration": 826,
    "start_time": "2022-10-01T19:11:30.258Z"
   },
   {
    "duration": 15,
    "start_time": "2022-10-01T19:11:32.493Z"
   },
   {
    "duration": 13,
    "start_time": "2022-10-01T19:11:32.998Z"
   },
   {
    "duration": 9,
    "start_time": "2022-10-01T19:11:33.530Z"
   },
   {
    "duration": 16,
    "start_time": "2022-10-01T19:11:34.090Z"
   },
   {
    "duration": 5,
    "start_time": "2022-10-01T19:11:34.638Z"
   },
   {
    "duration": 15,
    "start_time": "2022-10-01T19:11:35.458Z"
   },
   {
    "duration": 35,
    "start_time": "2022-10-01T19:11:35.889Z"
   },
   {
    "duration": 10,
    "start_time": "2022-10-01T19:11:36.797Z"
   },
   {
    "duration": 10,
    "start_time": "2022-10-01T19:11:37.280Z"
   },
   {
    "duration": 9,
    "start_time": "2022-10-01T19:11:37.792Z"
   },
   {
    "duration": 18,
    "start_time": "2022-10-01T19:11:38.895Z"
   },
   {
    "duration": 7,
    "start_time": "2022-10-01T19:11:39.237Z"
   },
   {
    "duration": 5,
    "start_time": "2022-10-01T19:11:40.380Z"
   },
   {
    "duration": 6,
    "start_time": "2022-10-01T19:11:40.649Z"
   },
   {
    "duration": 21,
    "start_time": "2022-10-01T19:11:41.097Z"
   },
   {
    "duration": 6,
    "start_time": "2022-10-01T19:11:41.498Z"
   },
   {
    "duration": 17,
    "start_time": "2022-10-01T19:12:00.488Z"
   },
   {
    "duration": 14,
    "start_time": "2022-10-01T19:15:00.158Z"
   },
   {
    "duration": 8,
    "start_time": "2022-10-01T19:16:49.871Z"
   },
   {
    "duration": 10,
    "start_time": "2022-10-01T19:17:04.091Z"
   },
   {
    "duration": 12,
    "start_time": "2022-10-01T19:17:13.111Z"
   },
   {
    "duration": 17,
    "start_time": "2022-10-01T19:17:26.452Z"
   },
   {
    "duration": 6,
    "start_time": "2022-10-01T19:18:11.760Z"
   },
   {
    "duration": 6,
    "start_time": "2022-10-01T19:18:23.959Z"
   },
   {
    "duration": 67,
    "start_time": "2022-10-01T19:18:44.279Z"
   },
   {
    "duration": 15,
    "start_time": "2022-10-01T19:18:45.179Z"
   },
   {
    "duration": 15,
    "start_time": "2022-10-01T19:18:46.299Z"
   },
   {
    "duration": 17,
    "start_time": "2022-10-01T19:18:47.079Z"
   },
   {
    "duration": 803,
    "start_time": "2022-10-01T19:18:47.420Z"
   },
   {
    "duration": 15,
    "start_time": "2022-10-01T19:18:49.900Z"
   },
   {
    "duration": 10,
    "start_time": "2022-10-01T19:18:50.360Z"
   },
   {
    "duration": 9,
    "start_time": "2022-10-01T19:18:50.860Z"
   },
   {
    "duration": 16,
    "start_time": "2022-10-01T19:18:51.412Z"
   },
   {
    "duration": 5,
    "start_time": "2022-10-01T19:18:52.260Z"
   },
   {
    "duration": 16,
    "start_time": "2022-10-01T19:18:53.932Z"
   },
   {
    "duration": 34,
    "start_time": "2022-10-01T19:18:58.440Z"
   },
   {
    "duration": 10,
    "start_time": "2022-10-01T19:19:00.179Z"
   },
   {
    "duration": 10,
    "start_time": "2022-10-01T19:19:01.019Z"
   },
   {
    "duration": 8,
    "start_time": "2022-10-01T19:19:01.867Z"
   },
   {
    "duration": 17,
    "start_time": "2022-10-01T19:19:02.687Z"
   },
   {
    "duration": 8,
    "start_time": "2022-10-01T19:19:03.107Z"
   },
   {
    "duration": 5,
    "start_time": "2022-10-01T19:19:03.887Z"
   },
   {
    "duration": 5,
    "start_time": "2022-10-01T19:19:04.287Z"
   },
   {
    "duration": 17,
    "start_time": "2022-10-01T19:19:04.659Z"
   },
   {
    "duration": 8,
    "start_time": "2022-10-01T19:19:05.067Z"
   },
   {
    "duration": 27,
    "start_time": "2022-10-01T19:19:05.887Z"
   },
   {
    "duration": 8,
    "start_time": "2022-10-01T19:19:06.279Z"
   },
   {
    "duration": 81,
    "start_time": "2022-10-01T19:19:49.019Z"
   },
   {
    "duration": 14,
    "start_time": "2022-10-01T19:19:49.887Z"
   },
   {
    "duration": 15,
    "start_time": "2022-10-01T19:19:50.586Z"
   },
   {
    "duration": 16,
    "start_time": "2022-10-01T19:19:51.046Z"
   },
   {
    "duration": 919,
    "start_time": "2022-10-01T19:19:51.279Z"
   },
   {
    "duration": 15,
    "start_time": "2022-10-01T19:19:52.226Z"
   },
   {
    "duration": 12,
    "start_time": "2022-10-01T19:19:52.687Z"
   },
   {
    "duration": 9,
    "start_time": "2022-10-01T19:19:53.519Z"
   },
   {
    "duration": 16,
    "start_time": "2022-10-01T19:19:53.966Z"
   },
   {
    "duration": 6,
    "start_time": "2022-10-01T19:19:54.406Z"
   },
   {
    "duration": 17,
    "start_time": "2022-10-01T19:19:55.306Z"
   },
   {
    "duration": 35,
    "start_time": "2022-10-01T19:19:55.727Z"
   },
   {
    "duration": 10,
    "start_time": "2022-10-01T19:19:56.807Z"
   },
   {
    "duration": 9,
    "start_time": "2022-10-01T19:19:57.379Z"
   },
   {
    "duration": 8,
    "start_time": "2022-10-01T19:19:58.227Z"
   },
   {
    "duration": 14,
    "start_time": "2022-10-01T19:19:59.987Z"
   },
   {
    "duration": 6,
    "start_time": "2022-10-01T19:20:00.279Z"
   },
   {
    "duration": 4,
    "start_time": "2022-10-01T19:20:01.047Z"
   },
   {
    "duration": 5,
    "start_time": "2022-10-01T19:20:01.567Z"
   },
   {
    "duration": 17,
    "start_time": "2022-10-01T19:20:02.518Z"
   },
   {
    "duration": 7,
    "start_time": "2022-10-01T19:20:06.319Z"
   },
   {
    "duration": 5,
    "start_time": "2022-10-01T19:20:31.935Z"
   },
   {
    "duration": 20,
    "start_time": "2022-10-01T19:22:05.407Z"
   },
   {
    "duration": 5,
    "start_time": "2022-10-01T19:22:12.767Z"
   },
   {
    "duration": 6,
    "start_time": "2022-10-01T19:22:25.306Z"
   },
   {
    "duration": 17,
    "start_time": "2022-10-01T19:22:55.926Z"
   },
   {
    "duration": 7,
    "start_time": "2022-10-01T19:23:06.838Z"
   },
   {
    "duration": 6,
    "start_time": "2022-10-01T19:25:08.295Z"
   },
   {
    "duration": 892,
    "start_time": "2022-10-01T19:29:39.476Z"
   },
   {
    "duration": 769,
    "start_time": "2022-10-01T19:29:57.876Z"
   },
   {
    "duration": 7,
    "start_time": "2022-10-01T19:34:58.527Z"
   },
   {
    "duration": 66,
    "start_time": "2022-10-01T19:35:13.577Z"
   },
   {
    "duration": 15,
    "start_time": "2022-10-01T19:35:17.174Z"
   },
   {
    "duration": 21,
    "start_time": "2022-10-01T19:35:19.108Z"
   },
   {
    "duration": 17,
    "start_time": "2022-10-01T19:35:20.181Z"
   },
   {
    "duration": 795,
    "start_time": "2022-10-01T19:35:20.622Z"
   },
   {
    "duration": 15,
    "start_time": "2022-10-01T19:35:23.207Z"
   },
   {
    "duration": 11,
    "start_time": "2022-10-01T19:35:23.907Z"
   },
   {
    "duration": 9,
    "start_time": "2022-10-01T19:35:24.655Z"
   },
   {
    "duration": 17,
    "start_time": "2022-10-01T19:35:25.386Z"
   },
   {
    "duration": 6,
    "start_time": "2022-10-01T19:35:26.597Z"
   },
   {
    "duration": 16,
    "start_time": "2022-10-01T19:35:28.021Z"
   },
   {
    "duration": 42,
    "start_time": "2022-10-01T19:35:28.903Z"
   },
   {
    "duration": 17,
    "start_time": "2022-10-01T19:35:29.617Z"
   },
   {
    "duration": 10,
    "start_time": "2022-10-01T19:35:30.028Z"
   },
   {
    "duration": 9,
    "start_time": "2022-10-01T19:35:30.523Z"
   },
   {
    "duration": 18,
    "start_time": "2022-10-01T19:35:31.907Z"
   },
   {
    "duration": 6,
    "start_time": "2022-10-01T19:35:34.187Z"
   },
   {
    "duration": 4,
    "start_time": "2022-10-01T19:35:35.673Z"
   },
   {
    "duration": 5,
    "start_time": "2022-10-01T19:35:37.037Z"
   },
   {
    "duration": 16,
    "start_time": "2022-10-01T19:35:39.963Z"
   },
   {
    "duration": 8,
    "start_time": "2022-10-01T19:35:41.312Z"
   },
   {
    "duration": 7,
    "start_time": "2022-10-01T19:35:46.407Z"
   },
   {
    "duration": 7,
    "start_time": "2022-10-01T19:37:34.450Z"
   },
   {
    "duration": 1039,
    "start_time": "2022-10-01T19:39:01.966Z"
   },
   {
    "duration": 24,
    "start_time": "2022-10-01T19:39:26.197Z"
   },
   {
    "duration": 9,
    "start_time": "2022-10-01T19:47:37.785Z"
   },
   {
    "duration": 17,
    "start_time": "2022-10-01T19:47:48.057Z"
   },
   {
    "duration": 7,
    "start_time": "2022-10-01T19:47:57.885Z"
   },
   {
    "duration": 12,
    "start_time": "2022-10-01T19:48:14.417Z"
   },
   {
    "duration": 17,
    "start_time": "2022-10-01T19:48:18.398Z"
   },
   {
    "duration": 5,
    "start_time": "2022-10-01T19:48:20.157Z"
   },
   {
    "duration": 6,
    "start_time": "2022-10-01T19:48:21.225Z"
   },
   {
    "duration": 15,
    "start_time": "2022-10-01T19:48:24.258Z"
   },
   {
    "duration": 7,
    "start_time": "2022-10-01T19:48:25.258Z"
   },
   {
    "duration": 69,
    "start_time": "2022-10-01T19:48:49.385Z"
   },
   {
    "duration": 15,
    "start_time": "2022-10-01T19:48:50.406Z"
   },
   {
    "duration": 13,
    "start_time": "2022-10-01T19:48:51.025Z"
   },
   {
    "duration": 15,
    "start_time": "2022-10-01T19:48:51.706Z"
   },
   {
    "duration": 811,
    "start_time": "2022-10-01T19:48:52.005Z"
   },
   {
    "duration": 14,
    "start_time": "2022-10-01T19:48:53.286Z"
   },
   {
    "duration": 12,
    "start_time": "2022-10-01T19:48:53.885Z"
   },
   {
    "duration": 10,
    "start_time": "2022-10-01T19:48:54.565Z"
   },
   {
    "duration": 17,
    "start_time": "2022-10-01T19:48:55.245Z"
   },
   {
    "duration": 6,
    "start_time": "2022-10-01T19:48:55.945Z"
   },
   {
    "duration": 16,
    "start_time": "2022-10-01T19:48:56.505Z"
   },
   {
    "duration": 35,
    "start_time": "2022-10-01T19:48:56.885Z"
   },
   {
    "duration": 10,
    "start_time": "2022-10-01T19:48:57.525Z"
   },
   {
    "duration": 9,
    "start_time": "2022-10-01T19:48:58.185Z"
   },
   {
    "duration": 8,
    "start_time": "2022-10-01T19:48:58.786Z"
   },
   {
    "duration": 16,
    "start_time": "2022-10-01T19:48:59.425Z"
   },
   {
    "duration": 6,
    "start_time": "2022-10-01T19:48:59.705Z"
   },
   {
    "duration": 5,
    "start_time": "2022-10-01T19:49:00.425Z"
   },
   {
    "duration": 5,
    "start_time": "2022-10-01T19:49:00.764Z"
   },
   {
    "duration": 16,
    "start_time": "2022-10-01T19:49:01.105Z"
   },
   {
    "duration": 7,
    "start_time": "2022-10-01T19:49:01.506Z"
   },
   {
    "duration": 6,
    "start_time": "2022-10-01T19:49:02.525Z"
   },
   {
    "duration": 21,
    "start_time": "2022-10-01T19:49:03.305Z"
   },
   {
    "duration": 14,
    "start_time": "2022-10-01T19:49:04.745Z"
   },
   {
    "duration": 18,
    "start_time": "2022-10-01T19:49:05.686Z"
   },
   {
    "duration": 4,
    "start_time": "2022-10-01T19:49:07.065Z"
   },
   {
    "duration": 5,
    "start_time": "2022-10-01T19:49:08.006Z"
   },
   {
    "duration": 21,
    "start_time": "2022-10-01T19:49:08.238Z"
   },
   {
    "duration": 8,
    "start_time": "2022-10-01T19:49:09.553Z"
   },
   {
    "duration": 13,
    "start_time": "2022-10-01T19:54:03.100Z"
   },
   {
    "duration": 13,
    "start_time": "2022-10-01T19:54:06.981Z"
   },
   {
    "duration": 12,
    "start_time": "2022-10-01T19:54:30.061Z"
   },
   {
    "duration": 12,
    "start_time": "2022-10-01T19:57:36.342Z"
   },
   {
    "duration": 10,
    "start_time": "2022-10-01T19:58:00.502Z"
   },
   {
    "duration": 9,
    "start_time": "2022-10-01T19:58:16.802Z"
   },
   {
    "duration": 5,
    "start_time": "2022-10-01T19:58:36.711Z"
   },
   {
    "duration": 7,
    "start_time": "2022-10-01T19:58:45.871Z"
   },
   {
    "duration": 10,
    "start_time": "2022-10-01T19:58:52.830Z"
   },
   {
    "duration": 5,
    "start_time": "2022-10-01T20:00:14.010Z"
   },
   {
    "duration": 7,
    "start_time": "2022-10-01T20:00:24.482Z"
   },
   {
    "duration": 21,
    "start_time": "2022-10-01T20:03:39.532Z"
   },
   {
    "duration": 27,
    "start_time": "2022-10-01T20:03:49.592Z"
   },
   {
    "duration": 66,
    "start_time": "2022-10-01T20:04:35.060Z"
   },
   {
    "duration": 14,
    "start_time": "2022-10-01T20:04:36.120Z"
   },
   {
    "duration": 15,
    "start_time": "2022-10-01T20:04:36.631Z"
   },
   {
    "duration": 15,
    "start_time": "2022-10-01T20:04:37.280Z"
   },
   {
    "duration": 918,
    "start_time": "2022-10-01T20:04:37.580Z"
   },
   {
    "duration": 22,
    "start_time": "2022-10-01T20:04:41.600Z"
   },
   {
    "duration": 12,
    "start_time": "2022-10-01T20:04:42.420Z"
   },
   {
    "duration": 9,
    "start_time": "2022-10-01T20:04:42.900Z"
   },
   {
    "duration": 16,
    "start_time": "2022-10-01T20:04:43.440Z"
   },
   {
    "duration": 6,
    "start_time": "2022-10-01T20:04:44.359Z"
   },
   {
    "duration": 16,
    "start_time": "2022-10-01T20:04:44.940Z"
   },
   {
    "duration": 36,
    "start_time": "2022-10-01T20:04:45.289Z"
   },
   {
    "duration": 10,
    "start_time": "2022-10-01T20:04:46.272Z"
   },
   {
    "duration": 12,
    "start_time": "2022-10-01T20:04:46.740Z"
   },
   {
    "duration": 9,
    "start_time": "2022-10-01T20:04:47.580Z"
   },
   {
    "duration": 21,
    "start_time": "2022-10-01T20:04:48.852Z"
   },
   {
    "duration": 7,
    "start_time": "2022-10-01T20:04:49.312Z"
   },
   {
    "duration": 4,
    "start_time": "2022-10-01T20:04:50.553Z"
   },
   {
    "duration": 5,
    "start_time": "2022-10-01T20:04:50.832Z"
   },
   {
    "duration": 16,
    "start_time": "2022-10-01T20:04:51.140Z"
   },
   {
    "duration": 7,
    "start_time": "2022-10-01T20:04:51.472Z"
   },
   {
    "duration": 6,
    "start_time": "2022-10-01T20:04:52.560Z"
   },
   {
    "duration": 25,
    "start_time": "2022-10-01T20:04:53.199Z"
   },
   {
    "duration": 13,
    "start_time": "2022-10-01T20:04:54.240Z"
   },
   {
    "duration": 20,
    "start_time": "2022-10-01T20:04:56.872Z"
   },
   {
    "duration": 5,
    "start_time": "2022-10-01T20:05:00.680Z"
   },
   {
    "duration": 7,
    "start_time": "2022-10-01T20:05:01.100Z"
   },
   {
    "duration": 17,
    "start_time": "2022-10-01T20:05:01.512Z"
   },
   {
    "duration": 8,
    "start_time": "2022-10-01T20:05:01.919Z"
   },
   {
    "duration": 7,
    "start_time": "2022-10-01T20:05:02.380Z"
   },
   {
    "duration": 8,
    "start_time": "2022-10-01T20:05:04.880Z"
   },
   {
    "duration": 25,
    "start_time": "2022-10-01T20:05:08.732Z"
   },
   {
    "duration": 440,
    "start_time": "2022-10-01T20:07:11.070Z"
   },
   {
    "duration": 298,
    "start_time": "2022-10-01T20:09:45.473Z"
   },
   {
    "duration": 16,
    "start_time": "2022-10-01T20:10:51.453Z"
   },
   {
    "duration": 12,
    "start_time": "2022-10-01T20:11:10.941Z"
   },
   {
    "duration": 13,
    "start_time": "2022-10-01T20:11:29.400Z"
   },
   {
    "duration": 15,
    "start_time": "2022-10-01T20:12:47.920Z"
   },
   {
    "duration": 67,
    "start_time": "2022-10-01T20:13:01.039Z"
   },
   {
    "duration": 16,
    "start_time": "2022-10-01T20:13:01.573Z"
   },
   {
    "duration": 14,
    "start_time": "2022-10-01T20:13:01.892Z"
   },
   {
    "duration": 15,
    "start_time": "2022-10-01T20:13:02.200Z"
   },
   {
    "duration": 888,
    "start_time": "2022-10-01T20:13:02.341Z"
   },
   {
    "duration": 16,
    "start_time": "2022-10-01T20:13:03.232Z"
   },
   {
    "duration": 12,
    "start_time": "2022-10-01T20:13:03.440Z"
   },
   {
    "duration": 10,
    "start_time": "2022-10-01T20:13:03.759Z"
   },
   {
    "duration": 24,
    "start_time": "2022-10-01T20:13:04.212Z"
   },
   {
    "duration": 6,
    "start_time": "2022-10-01T20:13:04.560Z"
   },
   {
    "duration": 17,
    "start_time": "2022-10-01T20:13:04.851Z"
   },
   {
    "duration": 41,
    "start_time": "2022-10-01T20:13:05.020Z"
   },
   {
    "duration": 14,
    "start_time": "2022-10-01T20:13:05.351Z"
   },
   {
    "duration": 11,
    "start_time": "2022-10-01T20:13:06.079Z"
   },
   {
    "duration": 9,
    "start_time": "2022-10-01T20:13:06.400Z"
   },
   {
    "duration": 16,
    "start_time": "2022-10-01T20:13:06.700Z"
   },
   {
    "duration": 8,
    "start_time": "2022-10-01T20:13:06.851Z"
   },
   {
    "duration": 5,
    "start_time": "2022-10-01T20:13:07.179Z"
   },
   {
    "duration": 11,
    "start_time": "2022-10-01T20:13:07.319Z"
   },
   {
    "duration": 17,
    "start_time": "2022-10-01T20:13:07.472Z"
   },
   {
    "duration": 7,
    "start_time": "2022-10-01T20:13:07.651Z"
   },
   {
    "duration": 6,
    "start_time": "2022-10-01T20:13:07.971Z"
   },
   {
    "duration": 22,
    "start_time": "2022-10-01T20:13:08.160Z"
   },
   {
    "duration": 14,
    "start_time": "2022-10-01T20:13:09.075Z"
   },
   {
    "duration": 20,
    "start_time": "2022-10-01T20:13:09.639Z"
   },
   {
    "duration": 5,
    "start_time": "2022-10-01T20:13:09.979Z"
   },
   {
    "duration": 6,
    "start_time": "2022-10-01T20:13:10.299Z"
   },
   {
    "duration": 17,
    "start_time": "2022-10-01T20:13:10.579Z"
   },
   {
    "duration": 10,
    "start_time": "2022-10-01T20:13:10.852Z"
   },
   {
    "duration": 8,
    "start_time": "2022-10-01T20:13:11.140Z"
   },
   {
    "duration": 10,
    "start_time": "2022-10-01T20:13:11.740Z"
   },
   {
    "duration": 25,
    "start_time": "2022-10-01T20:13:12.934Z"
   },
   {
    "duration": 32,
    "start_time": "2022-10-01T20:13:13.580Z"
   },
   {
    "duration": 17,
    "start_time": "2022-10-01T20:13:40.679Z"
   },
   {
    "duration": 51,
    "start_time": "2022-10-02T10:11:56.687Z"
   },
   {
    "duration": 925,
    "start_time": "2022-10-02T10:12:04.163Z"
   },
   {
    "duration": 19,
    "start_time": "2022-10-02T10:12:05.137Z"
   },
   {
    "duration": 22,
    "start_time": "2022-10-02T10:12:05.786Z"
   },
   {
    "duration": 18,
    "start_time": "2022-10-02T10:12:06.474Z"
   },
   {
    "duration": 827,
    "start_time": "2022-10-02T10:12:06.845Z"
   },
   {
    "duration": 14,
    "start_time": "2022-10-02T10:12:08.702Z"
   },
   {
    "duration": 11,
    "start_time": "2022-10-02T10:12:09.350Z"
   },
   {
    "duration": 9,
    "start_time": "2022-10-02T10:12:10.080Z"
   },
   {
    "duration": 16,
    "start_time": "2022-10-02T10:12:10.737Z"
   },
   {
    "duration": 6,
    "start_time": "2022-10-02T10:12:11.420Z"
   },
   {
    "duration": 16,
    "start_time": "2022-10-02T10:12:12.070Z"
   },
   {
    "duration": 39,
    "start_time": "2022-10-02T10:12:12.455Z"
   },
   {
    "duration": 9,
    "start_time": "2022-10-02T10:12:13.120Z"
   },
   {
    "duration": 10,
    "start_time": "2022-10-02T10:12:21.210Z"
   },
   {
    "duration": 94,
    "start_time": "2022-10-02T10:12:35.125Z"
   },
   {
    "duration": 22,
    "start_time": "2022-10-02T10:12:37.440Z"
   },
   {
    "duration": 15,
    "start_time": "2022-10-02T10:12:38.630Z"
   },
   {
    "duration": 14,
    "start_time": "2022-10-02T10:12:39.750Z"
   },
   {
    "duration": 824,
    "start_time": "2022-10-02T10:12:40.435Z"
   },
   {
    "duration": 13,
    "start_time": "2022-10-02T10:12:44.160Z"
   },
   {
    "duration": 11,
    "start_time": "2022-10-02T10:12:45.415Z"
   },
   {
    "duration": 10,
    "start_time": "2022-10-02T10:12:46.442Z"
   },
   {
    "duration": 16,
    "start_time": "2022-10-02T10:12:47.420Z"
   },
   {
    "duration": 6,
    "start_time": "2022-10-02T10:12:48.386Z"
   },
   {
    "duration": 25,
    "start_time": "2022-10-02T10:12:49.326Z"
   },
   {
    "duration": 13,
    "start_time": "2022-10-02T10:12:49.842Z"
   },
   {
    "duration": 10,
    "start_time": "2022-10-02T10:13:13.903Z"
   },
   {
    "duration": 29,
    "start_time": "2022-10-02T10:13:52.308Z"
   },
   {
    "duration": 37,
    "start_time": "2022-10-02T10:13:56.648Z"
   },
   {
    "duration": 32,
    "start_time": "2022-10-02T10:14:02.748Z"
   },
   {
    "duration": 9,
    "start_time": "2022-10-02T10:14:04.120Z"
   },
   {
    "duration": 8,
    "start_time": "2022-10-02T10:14:05.128Z"
   },
   {
    "duration": 8,
    "start_time": "2022-10-02T10:14:06.068Z"
   },
   {
    "duration": 20,
    "start_time": "2022-10-02T10:14:06.988Z"
   },
   {
    "duration": 6,
    "start_time": "2022-10-02T10:14:07.368Z"
   },
   {
    "duration": 5,
    "start_time": "2022-10-02T10:14:08.209Z"
   },
   {
    "duration": 6,
    "start_time": "2022-10-02T10:14:08.588Z"
   },
   {
    "duration": 16,
    "start_time": "2022-10-02T10:14:09.037Z"
   },
   {
    "duration": 8,
    "start_time": "2022-10-02T10:14:09.448Z"
   },
   {
    "duration": 8,
    "start_time": "2022-10-02T10:14:10.497Z"
   },
   {
    "duration": 22,
    "start_time": "2022-10-02T10:14:10.928Z"
   },
   {
    "duration": 13,
    "start_time": "2022-10-02T10:14:11.734Z"
   },
   {
    "duration": 18,
    "start_time": "2022-10-02T10:14:12.569Z"
   },
   {
    "duration": 5,
    "start_time": "2022-10-02T10:14:12.968Z"
   },
   {
    "duration": 6,
    "start_time": "2022-10-02T10:14:13.377Z"
   },
   {
    "duration": 17,
    "start_time": "2022-10-02T10:14:13.788Z"
   },
   {
    "duration": 7,
    "start_time": "2022-10-02T10:14:14.236Z"
   },
   {
    "duration": 5,
    "start_time": "2022-10-02T10:14:14.669Z"
   },
   {
    "duration": 8,
    "start_time": "2022-10-02T10:14:16.032Z"
   },
   {
    "duration": 32,
    "start_time": "2022-10-02T10:14:18.996Z"
   },
   {
    "duration": 230,
    "start_time": "2022-10-02T10:14:24.068Z"
   },
   {
    "duration": 7,
    "start_time": "2022-10-02T10:14:55.740Z"
   },
   {
    "duration": 11,
    "start_time": "2022-10-02T10:15:42.388Z"
   },
   {
    "duration": 63,
    "start_time": "2022-10-02T10:16:01.129Z"
   },
   {
    "duration": 15,
    "start_time": "2022-10-02T10:16:02.741Z"
   },
   {
    "duration": 14,
    "start_time": "2022-10-02T10:16:03.780Z"
   },
   {
    "duration": 13,
    "start_time": "2022-10-02T10:16:04.737Z"
   },
   {
    "duration": 734,
    "start_time": "2022-10-02T10:16:05.748Z"
   },
   {
    "duration": 14,
    "start_time": "2022-10-02T10:16:08.869Z"
   },
   {
    "duration": 12,
    "start_time": "2022-10-02T10:16:09.549Z"
   },
   {
    "duration": 10,
    "start_time": "2022-10-02T10:16:10.388Z"
   },
   {
    "duration": 16,
    "start_time": "2022-10-02T10:16:11.136Z"
   },
   {
    "duration": 6,
    "start_time": "2022-10-02T10:16:12.160Z"
   },
   {
    "duration": 16,
    "start_time": "2022-10-02T10:16:13.409Z"
   },
   {
    "duration": 31,
    "start_time": "2022-10-02T10:16:14.091Z"
   },
   {
    "duration": 31,
    "start_time": "2022-10-02T10:16:19.228Z"
   },
   {
    "duration": 9,
    "start_time": "2022-10-02T10:16:19.888Z"
   },
   {
    "duration": 10,
    "start_time": "2022-10-02T10:16:20.388Z"
   },
   {
    "duration": 8,
    "start_time": "2022-10-02T10:16:20.948Z"
   },
   {
    "duration": 17,
    "start_time": "2022-10-02T10:16:21.740Z"
   },
   {
    "duration": 6,
    "start_time": "2022-10-02T10:16:22.048Z"
   },
   {
    "duration": 6,
    "start_time": "2022-10-02T10:16:22.868Z"
   },
   {
    "duration": 5,
    "start_time": "2022-10-02T10:16:23.188Z"
   },
   {
    "duration": 16,
    "start_time": "2022-10-02T10:16:23.508Z"
   },
   {
    "duration": 6,
    "start_time": "2022-10-02T10:16:24.101Z"
   },
   {
    "duration": 7,
    "start_time": "2022-10-02T10:16:25.609Z"
   },
   {
    "duration": 27,
    "start_time": "2022-10-02T10:16:27.629Z"
   },
   {
    "duration": 12,
    "start_time": "2022-10-02T10:16:29.220Z"
   },
   {
    "duration": 17,
    "start_time": "2022-10-02T10:16:29.964Z"
   },
   {
    "duration": 5,
    "start_time": "2022-10-02T10:16:30.725Z"
   },
   {
    "duration": 6,
    "start_time": "2022-10-02T10:16:31.400Z"
   },
   {
    "duration": 17,
    "start_time": "2022-10-02T10:16:32.588Z"
   },
   {
    "duration": 7,
    "start_time": "2022-10-02T10:16:33.349Z"
   },
   {
    "duration": 5,
    "start_time": "2022-10-02T10:16:33.989Z"
   },
   {
    "duration": 8,
    "start_time": "2022-10-02T10:16:34.768Z"
   },
   {
    "duration": 24,
    "start_time": "2022-10-02T10:16:36.368Z"
   },
   {
    "duration": 62,
    "start_time": "2022-10-02T10:16:40.588Z"
   },
   {
    "duration": 11,
    "start_time": "2022-10-02T10:17:24.048Z"
   },
   {
    "duration": 74,
    "start_time": "2022-10-02T10:17:35.248Z"
   },
   {
    "duration": 14,
    "start_time": "2022-10-02T10:17:36.468Z"
   },
   {
    "duration": 14,
    "start_time": "2022-10-02T10:17:37.250Z"
   },
   {
    "duration": 13,
    "start_time": "2022-10-02T10:17:38.129Z"
   },
   {
    "duration": 780,
    "start_time": "2022-10-02T10:17:38.608Z"
   },
   {
    "duration": 15,
    "start_time": "2022-10-02T10:17:40.608Z"
   },
   {
    "duration": 11,
    "start_time": "2022-10-02T10:17:41.468Z"
   },
   {
    "duration": 8,
    "start_time": "2022-10-02T10:17:42.216Z"
   },
   {
    "duration": 16,
    "start_time": "2022-10-02T10:17:42.976Z"
   },
   {
    "duration": 5,
    "start_time": "2022-10-02T10:17:43.969Z"
   },
   {
    "duration": 20,
    "start_time": "2022-10-02T10:17:44.737Z"
   },
   {
    "duration": 103,
    "start_time": "2022-10-02T10:17:46.068Z"
   },
   {
    "duration": 34,
    "start_time": "2022-10-02T10:17:59.188Z"
   },
   {
    "duration": 31,
    "start_time": "2022-10-02T10:18:13.789Z"
   },
   {
    "duration": 33,
    "start_time": "2022-10-02T10:19:39.676Z"
   },
   {
    "duration": 29,
    "start_time": "2022-10-02T10:20:01.062Z"
   },
   {
    "duration": 9,
    "start_time": "2022-10-02T10:20:03.406Z"
   },
   {
    "duration": 8,
    "start_time": "2022-10-02T10:20:03.894Z"
   },
   {
    "duration": 8,
    "start_time": "2022-10-02T10:20:04.274Z"
   },
   {
    "duration": 15,
    "start_time": "2022-10-02T10:20:04.742Z"
   },
   {
    "duration": 6,
    "start_time": "2022-10-02T10:20:05.014Z"
   },
   {
    "duration": 4,
    "start_time": "2022-10-02T10:20:06.295Z"
   },
   {
    "duration": 5,
    "start_time": "2022-10-02T10:20:06.755Z"
   },
   {
    "duration": 17,
    "start_time": "2022-10-02T10:20:07.014Z"
   },
   {
    "duration": 7,
    "start_time": "2022-10-02T10:20:07.654Z"
   },
   {
    "duration": 7,
    "start_time": "2022-10-02T10:20:09.254Z"
   },
   {
    "duration": 22,
    "start_time": "2022-10-02T10:20:09.435Z"
   },
   {
    "duration": 12,
    "start_time": "2022-10-02T10:20:10.334Z"
   },
   {
    "duration": 17,
    "start_time": "2022-10-02T10:20:11.002Z"
   },
   {
    "duration": 4,
    "start_time": "2022-10-02T10:20:14.035Z"
   },
   {
    "duration": 5,
    "start_time": "2022-10-02T10:20:14.495Z"
   },
   {
    "duration": 21,
    "start_time": "2022-10-02T10:20:15.175Z"
   },
   {
    "duration": 9,
    "start_time": "2022-10-02T10:20:15.593Z"
   },
   {
    "duration": 5,
    "start_time": "2022-10-02T10:20:15.894Z"
   },
   {
    "duration": 8,
    "start_time": "2022-10-02T10:20:16.974Z"
   },
   {
    "duration": 24,
    "start_time": "2022-10-02T10:20:21.254Z"
   },
   {
    "duration": 12,
    "start_time": "2022-10-02T10:21:24.405Z"
   },
   {
    "duration": 9,
    "start_time": "2022-10-02T10:23:12.152Z"
   },
   {
    "duration": 8,
    "start_time": "2022-10-02T10:24:43.484Z"
   },
   {
    "duration": 60,
    "start_time": "2022-10-02T10:25:01.832Z"
   },
   {
    "duration": 14,
    "start_time": "2022-10-02T10:26:33.023Z"
   },
   {
    "duration": 210,
    "start_time": "2022-10-02T10:26:51.682Z"
   },
   {
    "duration": 9,
    "start_time": "2022-10-02T10:26:57.022Z"
   },
   {
    "duration": 11,
    "start_time": "2022-10-02T10:29:47.867Z"
   },
   {
    "duration": 8,
    "start_time": "2022-10-02T10:41:49.293Z"
   },
   {
    "duration": 6,
    "start_time": "2022-10-02T10:44:11.641Z"
   },
   {
    "duration": 254,
    "start_time": "2022-10-02T10:44:20.073Z"
   },
   {
    "duration": 9,
    "start_time": "2022-10-02T10:46:08.573Z"
   },
   {
    "duration": 8,
    "start_time": "2022-10-02T10:47:23.294Z"
   },
   {
    "duration": 9,
    "start_time": "2022-10-02T10:47:28.501Z"
   },
   {
    "duration": 12,
    "start_time": "2022-10-02T10:48:37.493Z"
   },
   {
    "duration": 13,
    "start_time": "2022-10-02T10:48:49.813Z"
   },
   {
    "duration": 242,
    "start_time": "2022-10-02T10:49:05.914Z"
   },
   {
    "duration": 228,
    "start_time": "2022-10-02T10:49:32.195Z"
   },
   {
    "duration": 65,
    "start_time": "2022-10-02T10:49:41.853Z"
   },
   {
    "duration": 14,
    "start_time": "2022-10-02T10:49:42.513Z"
   },
   {
    "duration": 13,
    "start_time": "2022-10-02T10:49:42.974Z"
   },
   {
    "duration": 14,
    "start_time": "2022-10-02T10:49:43.774Z"
   },
   {
    "duration": 762,
    "start_time": "2022-10-02T10:49:43.994Z"
   },
   {
    "duration": 15,
    "start_time": "2022-10-02T10:49:46.793Z"
   },
   {
    "duration": 11,
    "start_time": "2022-10-02T10:49:47.333Z"
   },
   {
    "duration": 9,
    "start_time": "2022-10-02T10:49:47.854Z"
   },
   {
    "duration": 15,
    "start_time": "2022-10-02T10:49:48.433Z"
   },
   {
    "duration": 4,
    "start_time": "2022-10-02T10:49:49.154Z"
   },
   {
    "duration": 15,
    "start_time": "2022-10-02T10:49:49.913Z"
   },
   {
    "duration": 30,
    "start_time": "2022-10-02T10:49:50.361Z"
   },
   {
    "duration": 9,
    "start_time": "2022-10-02T10:49:51.973Z"
   },
   {
    "duration": 10,
    "start_time": "2022-10-02T10:49:52.334Z"
   },
   {
    "duration": 8,
    "start_time": "2022-10-02T10:49:52.774Z"
   },
   {
    "duration": 15,
    "start_time": "2022-10-02T10:49:53.161Z"
   },
   {
    "duration": 6,
    "start_time": "2022-10-02T10:49:53.635Z"
   },
   {
    "duration": 5,
    "start_time": "2022-10-02T10:49:54.233Z"
   },
   {
    "duration": 5,
    "start_time": "2022-10-02T10:49:54.473Z"
   },
   {
    "duration": 16,
    "start_time": "2022-10-02T10:49:54.733Z"
   },
   {
    "duration": 6,
    "start_time": "2022-10-02T10:49:54.983Z"
   },
   {
    "duration": 6,
    "start_time": "2022-10-02T10:49:55.813Z"
   },
   {
    "duration": 27,
    "start_time": "2022-10-02T10:49:56.534Z"
   },
   {
    "duration": 11,
    "start_time": "2022-10-02T10:49:57.174Z"
   },
   {
    "duration": 17,
    "start_time": "2022-10-02T10:49:57.793Z"
   },
   {
    "duration": 5,
    "start_time": "2022-10-02T10:49:58.173Z"
   },
   {
    "duration": 6,
    "start_time": "2022-10-02T10:49:58.453Z"
   },
   {
    "duration": 15,
    "start_time": "2022-10-02T10:49:58.774Z"
   },
   {
    "duration": 7,
    "start_time": "2022-10-02T10:49:59.113Z"
   },
   {
    "duration": 5,
    "start_time": "2022-10-02T10:49:59.191Z"
   },
   {
    "duration": 7,
    "start_time": "2022-10-02T10:50:00.066Z"
   },
   {
    "duration": 24,
    "start_time": "2022-10-02T10:50:01.170Z"
   },
   {
    "duration": 784,
    "start_time": "2022-10-02T10:50:02.563Z"
   },
   {
    "duration": 35,
    "start_time": "2022-10-02T10:55:27.515Z"
   },
   {
    "duration": 68,
    "start_time": "2022-10-02T10:55:36.974Z"
   },
   {
    "duration": 13,
    "start_time": "2022-10-02T10:55:37.482Z"
   },
   {
    "duration": 15,
    "start_time": "2022-10-02T10:55:38.226Z"
   },
   {
    "duration": 14,
    "start_time": "2022-10-02T10:55:38.513Z"
   },
   {
    "duration": 728,
    "start_time": "2022-10-02T10:55:38.654Z"
   },
   {
    "duration": 14,
    "start_time": "2022-10-02T10:55:40.753Z"
   },
   {
    "duration": 12,
    "start_time": "2022-10-02T10:55:41.053Z"
   },
   {
    "duration": 8,
    "start_time": "2022-10-02T10:55:41.333Z"
   },
   {
    "duration": 15,
    "start_time": "2022-10-02T10:55:41.813Z"
   },
   {
    "duration": 5,
    "start_time": "2022-10-02T10:55:42.174Z"
   },
   {
    "duration": 15,
    "start_time": "2022-10-02T10:55:42.506Z"
   },
   {
    "duration": 30,
    "start_time": "2022-10-02T10:55:42.654Z"
   },
   {
    "duration": 9,
    "start_time": "2022-10-02T10:55:43.885Z"
   },
   {
    "duration": 8,
    "start_time": "2022-10-02T10:55:44.625Z"
   },
   {
    "duration": 8,
    "start_time": "2022-10-02T10:55:44.973Z"
   },
   {
    "duration": 21,
    "start_time": "2022-10-02T10:55:45.254Z"
   },
   {
    "duration": 7,
    "start_time": "2022-10-02T10:55:45.413Z"
   },
   {
    "duration": 4,
    "start_time": "2022-10-02T10:55:45.735Z"
   },
   {
    "duration": 5,
    "start_time": "2022-10-02T10:55:45.913Z"
   },
   {
    "duration": 16,
    "start_time": "2022-10-02T10:55:46.073Z"
   },
   {
    "duration": 6,
    "start_time": "2022-10-02T10:55:46.254Z"
   },
   {
    "duration": 6,
    "start_time": "2022-10-02T10:55:46.999Z"
   },
   {
    "duration": 22,
    "start_time": "2022-10-02T10:55:47.276Z"
   },
   {
    "duration": 12,
    "start_time": "2022-10-02T10:55:47.601Z"
   },
   {
    "duration": 17,
    "start_time": "2022-10-02T10:55:48.517Z"
   },
   {
    "duration": 5,
    "start_time": "2022-10-02T10:55:49.173Z"
   },
   {
    "duration": 5,
    "start_time": "2022-10-02T10:55:49.334Z"
   },
   {
    "duration": 16,
    "start_time": "2022-10-02T10:55:49.493Z"
   },
   {
    "duration": 6,
    "start_time": "2022-10-02T10:55:49.654Z"
   },
   {
    "duration": 4,
    "start_time": "2022-10-02T10:55:49.814Z"
   },
   {
    "duration": 7,
    "start_time": "2022-10-02T10:55:50.313Z"
   },
   {
    "duration": 24,
    "start_time": "2022-10-02T10:55:52.882Z"
   },
   {
    "duration": 66,
    "start_time": "2022-10-02T10:56:19.486Z"
   },
   {
    "duration": 13,
    "start_time": "2022-10-02T10:57:05.201Z"
   },
   {
    "duration": 66,
    "start_time": "2022-10-02T10:57:13.193Z"
   },
   {
    "duration": 14,
    "start_time": "2022-10-02T10:57:13.854Z"
   },
   {
    "duration": 14,
    "start_time": "2022-10-02T10:57:14.461Z"
   },
   {
    "duration": 15,
    "start_time": "2022-10-02T10:57:14.883Z"
   },
   {
    "duration": 831,
    "start_time": "2022-10-02T10:57:15.054Z"
   },
   {
    "duration": 15,
    "start_time": "2022-10-02T10:57:17.086Z"
   },
   {
    "duration": 12,
    "start_time": "2022-10-02T10:57:17.594Z"
   },
   {
    "duration": 9,
    "start_time": "2022-10-02T10:57:18.095Z"
   },
   {
    "duration": 17,
    "start_time": "2022-10-02T10:57:18.554Z"
   },
   {
    "duration": 5,
    "start_time": "2022-10-02T10:57:19.114Z"
   },
   {
    "duration": 15,
    "start_time": "2022-10-02T10:57:19.694Z"
   },
   {
    "duration": 128,
    "start_time": "2022-10-02T10:57:20.021Z"
   },
   {
    "duration": 13,
    "start_time": "2022-10-02T10:57:21.417Z"
   },
   {
    "duration": 9,
    "start_time": "2022-10-02T10:57:22.213Z"
   },
   {
    "duration": 8,
    "start_time": "2022-10-02T10:57:22.974Z"
   },
   {
    "duration": 15,
    "start_time": "2022-10-02T10:57:23.842Z"
   },
   {
    "duration": 6,
    "start_time": "2022-10-02T10:57:24.213Z"
   },
   {
    "duration": 6,
    "start_time": "2022-10-02T10:57:25.053Z"
   },
   {
    "duration": 7,
    "start_time": "2022-10-02T10:57:25.414Z"
   },
   {
    "duration": 16,
    "start_time": "2022-10-02T10:57:26.014Z"
   },
   {
    "duration": 8,
    "start_time": "2022-10-02T10:57:26.413Z"
   },
   {
    "duration": 6,
    "start_time": "2022-10-02T10:57:27.314Z"
   },
   {
    "duration": 24,
    "start_time": "2022-10-02T10:57:27.654Z"
   },
   {
    "duration": 12,
    "start_time": "2022-10-02T10:57:35.013Z"
   },
   {
    "duration": 16,
    "start_time": "2022-10-02T10:57:36.314Z"
   },
   {
    "duration": 4,
    "start_time": "2022-10-02T10:57:36.634Z"
   },
   {
    "duration": 6,
    "start_time": "2022-10-02T10:57:37.134Z"
   },
   {
    "duration": 18,
    "start_time": "2022-10-02T10:57:37.374Z"
   },
   {
    "duration": 7,
    "start_time": "2022-10-02T10:57:37.594Z"
   },
   {
    "duration": 5,
    "start_time": "2022-10-02T10:57:37.874Z"
   },
   {
    "duration": 6,
    "start_time": "2022-10-02T10:57:38.734Z"
   },
   {
    "duration": 25,
    "start_time": "2022-10-02T10:57:40.154Z"
   },
   {
    "duration": 62,
    "start_time": "2022-10-02T10:57:42.693Z"
   },
   {
    "duration": 78,
    "start_time": "2022-10-02T10:58:42.534Z"
   },
   {
    "duration": 14,
    "start_time": "2022-10-02T10:58:43.734Z"
   },
   {
    "duration": 14,
    "start_time": "2022-10-02T10:58:44.502Z"
   },
   {
    "duration": 18,
    "start_time": "2022-10-02T10:58:45.234Z"
   },
   {
    "duration": 724,
    "start_time": "2022-10-02T10:58:45.593Z"
   },
   {
    "duration": 14,
    "start_time": "2022-10-02T10:58:47.422Z"
   },
   {
    "duration": 11,
    "start_time": "2022-10-02T10:58:48.061Z"
   },
   {
    "duration": 8,
    "start_time": "2022-10-02T10:58:48.714Z"
   },
   {
    "duration": 14,
    "start_time": "2022-10-02T10:58:49.394Z"
   },
   {
    "duration": 6,
    "start_time": "2022-10-02T10:58:49.713Z"
   },
   {
    "duration": 14,
    "start_time": "2022-10-02T10:58:50.194Z"
   },
   {
    "duration": 2028,
    "start_time": "2022-10-02T10:58:50.654Z"
   },
   {
    "duration": 0,
    "start_time": "2022-10-02T10:59:48.114Z"
   },
   {
    "duration": 63,
    "start_time": "2022-10-02T10:59:55.822Z"
   },
   {
    "duration": 13,
    "start_time": "2022-10-02T10:59:57.375Z"
   },
   {
    "duration": 14,
    "start_time": "2022-10-02T10:59:58.273Z"
   },
   {
    "duration": 14,
    "start_time": "2022-10-02T10:59:59.193Z"
   },
   {
    "duration": 779,
    "start_time": "2022-10-02T10:59:59.641Z"
   },
   {
    "duration": 14,
    "start_time": "2022-10-02T11:00:01.922Z"
   },
   {
    "duration": 10,
    "start_time": "2022-10-02T11:00:02.774Z"
   },
   {
    "duration": 9,
    "start_time": "2022-10-02T11:00:03.573Z"
   },
   {
    "duration": 23,
    "start_time": "2022-10-02T11:00:04.494Z"
   },
   {
    "duration": 6,
    "start_time": "2022-10-02T11:00:05.362Z"
   },
   {
    "duration": 16,
    "start_time": "2022-10-02T11:00:06.181Z"
   },
   {
    "duration": 4671,
    "start_time": "2022-10-02T11:00:13.215Z"
   },
   {
    "duration": 4,
    "start_time": "2022-10-02T11:02:59.513Z"
   },
   {
    "duration": 1160,
    "start_time": "2022-10-02T11:03:08.814Z"
   },
   {
    "duration": 63,
    "start_time": "2022-10-02T11:03:34.754Z"
   },
   {
    "duration": 18,
    "start_time": "2022-10-02T11:03:35.254Z"
   },
   {
    "duration": 13,
    "start_time": "2022-10-02T11:03:36.002Z"
   },
   {
    "duration": 14,
    "start_time": "2022-10-02T11:03:36.593Z"
   },
   {
    "duration": 847,
    "start_time": "2022-10-02T11:03:36.914Z"
   },
   {
    "duration": 14,
    "start_time": "2022-10-02T11:03:38.514Z"
   },
   {
    "duration": 11,
    "start_time": "2022-10-02T11:03:39.134Z"
   },
   {
    "duration": 9,
    "start_time": "2022-10-02T11:03:39.594Z"
   },
   {
    "duration": 15,
    "start_time": "2022-10-02T11:03:40.054Z"
   },
   {
    "duration": 5,
    "start_time": "2022-10-02T11:03:40.662Z"
   },
   {
    "duration": 3,
    "start_time": "2022-10-02T11:03:41.914Z"
   },
   {
    "duration": 942,
    "start_time": "2022-10-02T11:03:43.554Z"
   },
   {
    "duration": 990,
    "start_time": "2022-10-02T11:03:58.224Z"
   },
   {
    "duration": 61,
    "start_time": "2022-10-02T11:04:29.382Z"
   },
   {
    "duration": 13,
    "start_time": "2022-10-02T11:04:30.912Z"
   },
   {
    "duration": 13,
    "start_time": "2022-10-02T11:04:31.266Z"
   },
   {
    "duration": 13,
    "start_time": "2022-10-02T11:04:31.906Z"
   },
   {
    "duration": 733,
    "start_time": "2022-10-02T11:04:32.245Z"
   },
   {
    "duration": 15,
    "start_time": "2022-10-02T11:04:34.233Z"
   },
   {
    "duration": 11,
    "start_time": "2022-10-02T11:04:34.874Z"
   },
   {
    "duration": 9,
    "start_time": "2022-10-02T11:04:35.554Z"
   },
   {
    "duration": 15,
    "start_time": "2022-10-02T11:04:36.314Z"
   },
   {
    "duration": 5,
    "start_time": "2022-10-02T11:04:39.555Z"
   },
   {
    "duration": 16,
    "start_time": "2022-10-02T11:04:40.495Z"
   },
   {
    "duration": 16,
    "start_time": "2022-10-02T11:05:21.334Z"
   },
   {
    "duration": 9,
    "start_time": "2022-10-02T11:10:12.436Z"
   },
   {
    "duration": 11,
    "start_time": "2022-10-02T11:11:57.102Z"
   },
   {
    "duration": 5,
    "start_time": "2022-10-02T11:12:06.586Z"
   },
   {
    "duration": 9,
    "start_time": "2022-10-02T11:12:07.855Z"
   },
   {
    "duration": 8,
    "start_time": "2022-10-02T11:12:09.307Z"
   },
   {
    "duration": 8,
    "start_time": "2022-10-02T11:12:09.994Z"
   },
   {
    "duration": 15,
    "start_time": "2022-10-02T11:12:11.015Z"
   },
   {
    "duration": 6,
    "start_time": "2022-10-02T11:12:11.303Z"
   },
   {
    "duration": 6,
    "start_time": "2022-10-02T11:12:12.126Z"
   },
   {
    "duration": 5,
    "start_time": "2022-10-02T11:12:12.334Z"
   },
   {
    "duration": 5,
    "start_time": "2022-10-02T11:12:14.147Z"
   },
   {
    "duration": 5,
    "start_time": "2022-10-02T11:12:24.455Z"
   },
   {
    "duration": 4,
    "start_time": "2022-10-02T11:12:27.246Z"
   },
   {
    "duration": 64,
    "start_time": "2022-10-02T11:12:32.096Z"
   },
   {
    "duration": 63,
    "start_time": "2022-10-02T11:13:01.738Z"
   },
   {
    "duration": 13,
    "start_time": "2022-10-02T11:13:02.736Z"
   },
   {
    "duration": 15,
    "start_time": "2022-10-02T11:13:03.637Z"
   },
   {
    "duration": 14,
    "start_time": "2022-10-02T11:13:04.386Z"
   },
   {
    "duration": 791,
    "start_time": "2022-10-02T11:13:04.840Z"
   },
   {
    "duration": 17,
    "start_time": "2022-10-02T11:13:07.055Z"
   },
   {
    "duration": 12,
    "start_time": "2022-10-02T11:13:07.954Z"
   },
   {
    "duration": 9,
    "start_time": "2022-10-02T11:13:08.738Z"
   },
   {
    "duration": 16,
    "start_time": "2022-10-02T11:13:09.538Z"
   },
   {
    "duration": 4,
    "start_time": "2022-10-02T11:13:10.347Z"
   },
   {
    "duration": 7,
    "start_time": "2022-10-02T11:13:11.154Z"
   },
   {
    "duration": 7,
    "start_time": "2022-10-02T11:13:11.575Z"
   },
   {
    "duration": 10,
    "start_time": "2022-10-02T11:13:12.835Z"
   },
   {
    "duration": 9,
    "start_time": "2022-10-02T11:13:13.690Z"
   },
   {
    "duration": 9,
    "start_time": "2022-10-02T11:13:15.687Z"
   },
   {
    "duration": 16,
    "start_time": "2022-10-02T11:13:16.574Z"
   },
   {
    "duration": 7,
    "start_time": "2022-10-02T11:13:18.138Z"
   },
   {
    "duration": 5,
    "start_time": "2022-10-02T11:13:18.736Z"
   },
   {
    "duration": 5,
    "start_time": "2022-10-02T11:13:39.431Z"
   },
   {
    "duration": 5,
    "start_time": "2022-10-02T11:13:40.295Z"
   },
   {
    "duration": 17,
    "start_time": "2022-10-02T11:13:43.354Z"
   },
   {
    "duration": 7,
    "start_time": "2022-10-02T11:13:43.928Z"
   },
   {
    "duration": 5,
    "start_time": "2022-10-02T11:13:46.338Z"
   },
   {
    "duration": 20,
    "start_time": "2022-10-02T11:13:47.438Z"
   },
   {
    "duration": 12,
    "start_time": "2022-10-02T11:13:49.337Z"
   },
   {
    "duration": 65,
    "start_time": "2022-10-02T11:14:40.198Z"
   },
   {
    "duration": 778,
    "start_time": "2022-10-02T11:14:54.905Z"
   },
   {
    "duration": 15,
    "start_time": "2022-10-02T11:14:55.685Z"
   },
   {
    "duration": 17,
    "start_time": "2022-10-02T11:14:55.701Z"
   },
   {
    "duration": 13,
    "start_time": "2022-10-02T11:14:55.720Z"
   },
   {
    "duration": 844,
    "start_time": "2022-10-02T11:14:55.735Z"
   },
   {
    "duration": 15,
    "start_time": "2022-10-02T11:14:56.581Z"
   },
   {
    "duration": 15,
    "start_time": "2022-10-02T11:14:56.598Z"
   },
   {
    "duration": 10,
    "start_time": "2022-10-02T11:14:56.614Z"
   },
   {
    "duration": 21,
    "start_time": "2022-10-02T11:14:56.625Z"
   },
   {
    "duration": 34,
    "start_time": "2022-10-02T11:14:56.648Z"
   },
   {
    "duration": 11,
    "start_time": "2022-10-02T11:14:56.684Z"
   },
   {
    "duration": 5,
    "start_time": "2022-10-02T11:14:56.697Z"
   },
   {
    "duration": 10,
    "start_time": "2022-10-02T11:14:56.704Z"
   },
   {
    "duration": 9,
    "start_time": "2022-10-02T11:14:56.718Z"
   },
   {
    "duration": 11,
    "start_time": "2022-10-02T11:14:56.729Z"
   },
   {
    "duration": 16,
    "start_time": "2022-10-02T11:14:56.777Z"
   },
   {
    "duration": 6,
    "start_time": "2022-10-02T11:14:56.795Z"
   },
   {
    "duration": 5,
    "start_time": "2022-10-02T11:14:56.803Z"
   },
   {
    "duration": 4,
    "start_time": "2022-10-02T11:14:56.810Z"
   },
   {
    "duration": 16,
    "start_time": "2022-10-02T11:14:56.816Z"
   },
   {
    "duration": 6,
    "start_time": "2022-10-02T11:14:56.834Z"
   },
   {
    "duration": 7,
    "start_time": "2022-10-02T11:14:56.876Z"
   },
   {
    "duration": 25,
    "start_time": "2022-10-02T11:14:56.884Z"
   },
   {
    "duration": 15,
    "start_time": "2022-10-02T11:14:56.911Z"
   },
   {
    "duration": 48,
    "start_time": "2022-10-02T11:14:56.928Z"
   },
   {
    "duration": 6,
    "start_time": "2022-10-02T11:14:56.979Z"
   },
   {
    "duration": 12,
    "start_time": "2022-10-02T11:14:56.986Z"
   },
   {
    "duration": 22,
    "start_time": "2022-10-02T11:14:57.000Z"
   },
   {
    "duration": 8,
    "start_time": "2022-10-02T11:14:57.024Z"
   },
   {
    "duration": 19,
    "start_time": "2022-10-02T11:14:57.034Z"
   },
   {
    "duration": 9,
    "start_time": "2022-10-02T11:14:57.077Z"
   },
   {
    "duration": 29,
    "start_time": "2022-10-02T11:14:57.088Z"
   },
   {
    "duration": 75,
    "start_time": "2022-10-02T11:14:57.120Z"
   },
   {
    "duration": 126,
    "start_time": "2022-10-02T11:16:05.146Z"
   },
   {
    "duration": 12,
    "start_time": "2022-10-02T11:18:09.638Z"
   },
   {
    "duration": 5,
    "start_time": "2022-10-02T11:27:07.458Z"
   },
   {
    "duration": 9,
    "start_time": "2022-10-02T11:27:17.817Z"
   },
   {
    "duration": 6,
    "start_time": "2022-10-02T11:27:27.757Z"
   },
   {
    "duration": 4,
    "start_time": "2022-10-02T11:30:07.849Z"
   },
   {
    "duration": 140,
    "start_time": "2022-10-02T11:37:35.857Z"
   },
   {
    "duration": 224,
    "start_time": "2022-10-02T11:39:17.474Z"
   },
   {
    "duration": 8,
    "start_time": "2022-10-02T11:50:02.737Z"
   },
   {
    "duration": 11,
    "start_time": "2022-10-02T11:50:10.956Z"
   },
   {
    "duration": 6,
    "start_time": "2022-10-02T11:50:19.645Z"
   },
   {
    "duration": 8,
    "start_time": "2022-10-02T11:50:28.257Z"
   },
   {
    "duration": 11,
    "start_time": "2022-10-02T11:54:21.377Z"
   },
   {
    "duration": 31,
    "start_time": "2022-10-02T11:54:32.086Z"
   },
   {
    "duration": 27,
    "start_time": "2022-10-02T11:55:10.156Z"
   },
   {
    "duration": 21,
    "start_time": "2022-10-02T11:55:20.516Z"
   },
   {
    "duration": 9,
    "start_time": "2022-10-02T11:56:19.679Z"
   },
   {
    "duration": 10,
    "start_time": "2022-10-02T11:58:03.518Z"
   },
   {
    "duration": 9,
    "start_time": "2022-10-02T11:58:24.497Z"
   },
   {
    "duration": 120,
    "start_time": "2022-10-02T12:02:32.398Z"
   },
   {
    "duration": 116,
    "start_time": "2022-10-02T12:02:58.807Z"
   },
   {
    "duration": 6,
    "start_time": "2022-10-02T15:49:11.918Z"
   },
   {
    "duration": 31,
    "start_time": "2022-10-02T15:50:31.817Z"
   },
   {
    "duration": 15,
    "start_time": "2022-10-02T15:51:20.338Z"
   },
   {
    "duration": 14,
    "start_time": "2022-10-02T15:52:28.960Z"
   },
   {
    "duration": 380,
    "start_time": "2022-10-02T15:52:37.763Z"
   },
   {
    "duration": 393,
    "start_time": "2022-10-02T15:52:56.535Z"
   },
   {
    "duration": 46,
    "start_time": "2022-10-02T15:53:22.690Z"
   },
   {
    "duration": 389,
    "start_time": "2022-10-02T15:53:28.820Z"
   },
   {
    "duration": 130,
    "start_time": "2022-10-02T15:53:52.795Z"
   },
   {
    "duration": 445,
    "start_time": "2022-10-02T15:53:57.812Z"
   },
   {
    "duration": 415,
    "start_time": "2022-10-02T15:54:08.535Z"
   },
   {
    "duration": 33,
    "start_time": "2022-10-02T15:54:20.891Z"
   },
   {
    "duration": 414,
    "start_time": "2022-10-02T15:54:28.391Z"
   },
   {
    "duration": 383,
    "start_time": "2022-10-02T15:54:48.895Z"
   },
   {
    "duration": 410,
    "start_time": "2022-10-02T15:55:02.462Z"
   },
   {
    "duration": 1663,
    "start_time": "2022-10-02T15:55:35.215Z"
   },
   {
    "duration": 64,
    "start_time": "2022-10-02T16:02:32.482Z"
   },
   {
    "duration": 15,
    "start_time": "2022-10-02T16:02:33.982Z"
   },
   {
    "duration": 15,
    "start_time": "2022-10-02T16:02:34.922Z"
   },
   {
    "duration": 14,
    "start_time": "2022-10-02T16:02:35.704Z"
   },
   {
    "duration": 745,
    "start_time": "2022-10-02T16:02:36.202Z"
   },
   {
    "duration": 15,
    "start_time": "2022-10-02T16:02:38.042Z"
   },
   {
    "duration": 11,
    "start_time": "2022-10-02T16:02:38.802Z"
   },
   {
    "duration": 10,
    "start_time": "2022-10-02T16:02:39.523Z"
   },
   {
    "duration": 16,
    "start_time": "2022-10-02T16:02:40.242Z"
   },
   {
    "duration": 6,
    "start_time": "2022-10-02T16:02:40.874Z"
   },
   {
    "duration": 7,
    "start_time": "2022-10-02T16:02:41.334Z"
   },
   {
    "duration": 5,
    "start_time": "2022-10-02T16:02:41.644Z"
   },
   {
    "duration": 10,
    "start_time": "2022-10-02T16:02:41.862Z"
   },
   {
    "duration": 9,
    "start_time": "2022-10-02T16:02:42.362Z"
   },
   {
    "duration": 8,
    "start_time": "2022-10-02T16:02:42.942Z"
   },
   {
    "duration": 17,
    "start_time": "2022-10-02T16:02:43.622Z"
   },
   {
    "duration": 6,
    "start_time": "2022-10-02T16:02:43.882Z"
   },
   {
    "duration": 5,
    "start_time": "2022-10-02T16:02:44.544Z"
   },
   {
    "duration": 5,
    "start_time": "2022-10-02T16:02:45.082Z"
   },
   {
    "duration": 20,
    "start_time": "2022-10-02T16:02:45.350Z"
   },
   {
    "duration": 7,
    "start_time": "2022-10-02T16:02:45.550Z"
   },
   {
    "duration": 6,
    "start_time": "2022-10-02T16:02:46.042Z"
   },
   {
    "duration": 26,
    "start_time": "2022-10-02T16:02:46.302Z"
   },
   {
    "duration": 13,
    "start_time": "2022-10-02T16:02:46.803Z"
   },
   {
    "duration": 18,
    "start_time": "2022-10-02T16:02:47.562Z"
   },
   {
    "duration": 5,
    "start_time": "2022-10-02T16:02:47.862Z"
   },
   {
    "duration": 7,
    "start_time": "2022-10-02T16:02:48.082Z"
   },
   {
    "duration": 18,
    "start_time": "2022-10-02T16:02:48.531Z"
   },
   {
    "duration": 7,
    "start_time": "2022-10-02T16:02:48.762Z"
   },
   {
    "duration": 5,
    "start_time": "2022-10-02T16:02:48.998Z"
   },
   {
    "duration": 8,
    "start_time": "2022-10-02T16:02:49.802Z"
   },
   {
    "duration": 24,
    "start_time": "2022-10-02T16:02:50.982Z"
   },
   {
    "duration": 6,
    "start_time": "2022-10-02T16:02:53.202Z"
   },
   {
    "duration": 150,
    "start_time": "2022-10-02T16:02:54.910Z"
   },
   {
    "duration": 155,
    "start_time": "2022-10-02T16:02:55.823Z"
   },
   {
    "duration": 846,
    "start_time": "2022-10-02T16:03:41.853Z"
   },
   {
    "duration": 8,
    "start_time": "2022-10-02T16:13:37.421Z"
   },
   {
    "duration": 6,
    "start_time": "2022-10-02T16:13:48.365Z"
   },
   {
    "duration": 28,
    "start_time": "2022-10-02T16:13:56.553Z"
   },
   {
    "duration": 24,
    "start_time": "2022-10-02T16:14:06.485Z"
   },
   {
    "duration": 7,
    "start_time": "2022-10-02T16:16:35.933Z"
   },
   {
    "duration": 7,
    "start_time": "2022-10-02T16:18:52.325Z"
   },
   {
    "duration": 7,
    "start_time": "2022-10-02T16:22:49.081Z"
   },
   {
    "duration": 8,
    "start_time": "2022-10-02T16:23:11.741Z"
   },
   {
    "duration": 7,
    "start_time": "2022-10-02T16:23:18.594Z"
   },
   {
    "duration": 789,
    "start_time": "2022-10-02T16:24:11.703Z"
   },
   {
    "duration": 1056,
    "start_time": "2022-10-02T16:24:46.313Z"
   },
   {
    "duration": 1213,
    "start_time": "2022-10-02T16:27:45.540Z"
   },
   {
    "duration": 1096,
    "start_time": "2022-10-02T16:27:56.832Z"
   },
   {
    "duration": 1116,
    "start_time": "2022-10-02T16:28:37.451Z"
   },
   {
    "duration": 722,
    "start_time": "2022-10-02T16:28:48.740Z"
   },
   {
    "duration": 8,
    "start_time": "2022-10-02T16:32:49.879Z"
   },
   {
    "duration": 7,
    "start_time": "2022-10-02T16:36:48.531Z"
   },
   {
    "duration": 30,
    "start_time": "2022-10-02T16:36:56.261Z"
   },
   {
    "duration": 37,
    "start_time": "2022-10-02T16:38:11.472Z"
   },
   {
    "duration": 100,
    "start_time": "2022-10-02T16:38:23.940Z"
   },
   {
    "duration": 100,
    "start_time": "2022-10-02T16:40:22.951Z"
   },
   {
    "duration": 638,
    "start_time": "2022-10-02T16:40:33.362Z"
   },
   {
    "duration": 13,
    "start_time": "2022-10-02T16:40:34.611Z"
   },
   {
    "duration": 19,
    "start_time": "2022-10-02T16:40:35.331Z"
   },
   {
    "duration": 14,
    "start_time": "2022-10-02T16:40:35.811Z"
   },
   {
    "duration": 766,
    "start_time": "2022-10-02T16:40:36.038Z"
   },
   {
    "duration": 15,
    "start_time": "2022-10-02T16:40:37.424Z"
   },
   {
    "duration": 13,
    "start_time": "2022-10-02T16:40:37.741Z"
   },
   {
    "duration": 10,
    "start_time": "2022-10-02T16:40:38.205Z"
   },
   {
    "duration": 18,
    "start_time": "2022-10-02T16:40:38.541Z"
   },
   {
    "duration": 6,
    "start_time": "2022-10-02T16:40:38.934Z"
   },
   {
    "duration": 7,
    "start_time": "2022-10-02T16:40:39.379Z"
   },
   {
    "duration": 5,
    "start_time": "2022-10-02T16:40:39.587Z"
   },
   {
    "duration": 9,
    "start_time": "2022-10-02T16:40:39.779Z"
   },
   {
    "duration": 9,
    "start_time": "2022-10-02T16:40:40.151Z"
   },
   {
    "duration": 8,
    "start_time": "2022-10-02T16:40:40.599Z"
   },
   {
    "duration": 16,
    "start_time": "2022-10-02T16:40:41.030Z"
   },
   {
    "duration": 6,
    "start_time": "2022-10-02T16:40:41.270Z"
   },
   {
    "duration": 5,
    "start_time": "2022-10-02T16:40:41.760Z"
   },
   {
    "duration": 5,
    "start_time": "2022-10-02T16:40:42.031Z"
   },
   {
    "duration": 15,
    "start_time": "2022-10-02T16:40:42.251Z"
   },
   {
    "duration": 6,
    "start_time": "2022-10-02T16:40:42.471Z"
   },
   {
    "duration": 6,
    "start_time": "2022-10-02T16:40:43.502Z"
   },
   {
    "duration": 23,
    "start_time": "2022-10-02T16:40:43.750Z"
   },
   {
    "duration": 12,
    "start_time": "2022-10-02T16:40:44.212Z"
   },
   {
    "duration": 16,
    "start_time": "2022-10-02T16:40:44.651Z"
   },
   {
    "duration": 5,
    "start_time": "2022-10-02T16:40:44.952Z"
   },
   {
    "duration": 9,
    "start_time": "2022-10-02T16:40:45.190Z"
   },
   {
    "duration": 16,
    "start_time": "2022-10-02T16:40:45.491Z"
   },
   {
    "duration": 6,
    "start_time": "2022-10-02T16:40:45.691Z"
   },
   {
    "duration": 5,
    "start_time": "2022-10-02T16:40:45.877Z"
   },
   {
    "duration": 7,
    "start_time": "2022-10-02T16:40:46.411Z"
   },
   {
    "duration": 26,
    "start_time": "2022-10-02T16:40:47.390Z"
   },
   {
    "duration": 5,
    "start_time": "2022-10-02T16:40:48.611Z"
   },
   {
    "duration": 137,
    "start_time": "2022-10-02T16:40:50.003Z"
   },
   {
    "duration": 150,
    "start_time": "2022-10-02T16:40:50.543Z"
   },
   {
    "duration": 747,
    "start_time": "2022-10-02T16:40:51.744Z"
   },
   {
    "duration": 24,
    "start_time": "2022-10-02T16:40:53.432Z"
   },
   {
    "duration": 7,
    "start_time": "2022-10-02T16:40:54.931Z"
   },
   {
    "duration": 9,
    "start_time": "2022-10-02T16:40:55.731Z"
   },
   {
    "duration": 1256,
    "start_time": "2022-10-02T16:40:56.772Z"
   },
   {
    "duration": 45,
    "start_time": "2022-10-02T16:41:02.243Z"
   },
   {
    "duration": 129,
    "start_time": "2022-10-02T16:41:16.540Z"
   },
   {
    "duration": 114,
    "start_time": "2022-10-02T16:41:45.664Z"
   },
   {
    "duration": 132,
    "start_time": "2022-10-02T16:41:55.037Z"
   },
   {
    "duration": 12,
    "start_time": "2022-10-02T16:43:09.826Z"
   },
   {
    "duration": 126,
    "start_time": "2022-10-02T16:43:15.034Z"
   },
   {
    "duration": 138,
    "start_time": "2022-10-02T16:45:22.382Z"
   },
   {
    "duration": 1046,
    "start_time": "2022-10-02T16:45:40.622Z"
   },
   {
    "duration": 336,
    "start_time": "2022-10-02T16:45:55.482Z"
   },
   {
    "duration": 313,
    "start_time": "2022-10-02T16:46:09.441Z"
   },
   {
    "duration": 315,
    "start_time": "2022-10-02T16:46:27.674Z"
   },
   {
    "duration": 293,
    "start_time": "2022-10-02T16:48:03.434Z"
   },
   {
    "duration": 60,
    "start_time": "2022-10-02T16:54:03.208Z"
   },
   {
    "duration": 338,
    "start_time": "2022-10-02T16:57:43.491Z"
   },
   {
    "duration": 511,
    "start_time": "2022-10-02T16:59:15.538Z"
   },
   {
    "duration": 305,
    "start_time": "2022-10-02T17:00:52.263Z"
   },
   {
    "duration": 300,
    "start_time": "2022-10-02T17:00:59.816Z"
   },
   {
    "duration": 374,
    "start_time": "2022-10-02T17:01:09.703Z"
   },
   {
    "duration": 358,
    "start_time": "2022-10-02T17:01:19.364Z"
   },
   {
    "duration": 418,
    "start_time": "2022-10-02T17:02:57.283Z"
   },
   {
    "duration": 388,
    "start_time": "2022-10-02T17:03:05.203Z"
   },
   {
    "duration": 14,
    "start_time": "2022-10-02T17:05:06.965Z"
   },
   {
    "duration": 12,
    "start_time": "2022-10-02T17:05:37.142Z"
   },
   {
    "duration": 8,
    "start_time": "2022-10-02T17:06:33.683Z"
   },
   {
    "duration": 1159,
    "start_time": "2022-10-02T17:08:05.264Z"
   },
   {
    "duration": 698,
    "start_time": "2022-10-02T17:10:17.023Z"
   },
   {
    "duration": 697,
    "start_time": "2022-10-02T17:11:51.451Z"
   },
   {
    "duration": 695,
    "start_time": "2022-10-02T17:12:30.344Z"
   },
   {
    "duration": 690,
    "start_time": "2022-10-02T17:13:43.523Z"
   },
   {
    "duration": 6,
    "start_time": "2022-10-02T17:16:57.241Z"
   },
   {
    "duration": 5,
    "start_time": "2022-10-02T17:17:04.481Z"
   },
   {
    "duration": 8,
    "start_time": "2022-10-02T17:17:23.502Z"
   },
   {
    "duration": 7,
    "start_time": "2022-10-02T17:22:42.114Z"
   },
   {
    "duration": 8,
    "start_time": "2022-10-02T17:23:26.325Z"
   },
   {
    "duration": 7,
    "start_time": "2022-10-02T17:23:41.837Z"
   },
   {
    "duration": 7,
    "start_time": "2022-10-02T17:23:54.363Z"
   },
   {
    "duration": 16,
    "start_time": "2022-10-02T17:30:46.567Z"
   },
   {
    "duration": 7,
    "start_time": "2022-10-02T17:30:50.359Z"
   },
   {
    "duration": 8,
    "start_time": "2022-10-02T17:30:54.487Z"
   },
   {
    "duration": 10,
    "start_time": "2022-10-02T17:31:04.827Z"
   },
   {
    "duration": 773,
    "start_time": "2022-10-02T17:36:45.646Z"
   },
   {
    "duration": 66,
    "start_time": "2022-10-02T17:37:49.596Z"
   },
   {
    "duration": 1252,
    "start_time": "2022-10-02T17:38:04.554Z"
   },
   {
    "duration": 16,
    "start_time": "2022-10-02T17:38:05.808Z"
   },
   {
    "duration": 17,
    "start_time": "2022-10-02T17:38:05.825Z"
   },
   {
    "duration": 15,
    "start_time": "2022-10-02T17:38:05.843Z"
   },
   {
    "duration": 794,
    "start_time": "2022-10-02T17:38:05.859Z"
   },
   {
    "duration": 21,
    "start_time": "2022-10-02T17:38:06.655Z"
   },
   {
    "duration": 12,
    "start_time": "2022-10-02T17:38:06.678Z"
   },
   {
    "duration": 9,
    "start_time": "2022-10-02T17:38:06.692Z"
   },
   {
    "duration": 15,
    "start_time": "2022-10-02T17:38:06.703Z"
   },
   {
    "duration": 5,
    "start_time": "2022-10-02T17:38:06.720Z"
   },
   {
    "duration": 10,
    "start_time": "2022-10-02T17:38:06.726Z"
   },
   {
    "duration": 4,
    "start_time": "2022-10-02T17:38:06.738Z"
   },
   {
    "duration": 9,
    "start_time": "2022-10-02T17:38:06.776Z"
   },
   {
    "duration": 8,
    "start_time": "2022-10-02T17:38:06.788Z"
   },
   {
    "duration": 7,
    "start_time": "2022-10-02T17:38:06.798Z"
   },
   {
    "duration": 16,
    "start_time": "2022-10-02T17:38:06.807Z"
   },
   {
    "duration": 6,
    "start_time": "2022-10-02T17:38:06.825Z"
   },
   {
    "duration": 5,
    "start_time": "2022-10-02T17:38:06.832Z"
   },
   {
    "duration": 41,
    "start_time": "2022-10-02T17:38:06.839Z"
   },
   {
    "duration": 19,
    "start_time": "2022-10-02T17:38:06.881Z"
   },
   {
    "duration": 6,
    "start_time": "2022-10-02T17:38:06.902Z"
   },
   {
    "duration": 7,
    "start_time": "2022-10-02T17:38:06.909Z"
   },
   {
    "duration": 29,
    "start_time": "2022-10-02T17:38:06.918Z"
   },
   {
    "duration": 40,
    "start_time": "2022-10-02T17:38:06.949Z"
   },
   {
    "duration": 28,
    "start_time": "2022-10-02T17:38:06.991Z"
   },
   {
    "duration": 6,
    "start_time": "2022-10-02T17:38:07.021Z"
   },
   {
    "duration": 30,
    "start_time": "2022-10-02T17:38:07.029Z"
   },
   {
    "duration": 22,
    "start_time": "2022-10-02T17:38:07.061Z"
   },
   {
    "duration": 10,
    "start_time": "2022-10-02T17:38:07.084Z"
   },
   {
    "duration": 13,
    "start_time": "2022-10-02T17:38:07.096Z"
   },
   {
    "duration": 19,
    "start_time": "2022-10-02T17:38:07.110Z"
   },
   {
    "duration": 40,
    "start_time": "2022-10-02T17:38:07.131Z"
   },
   {
    "duration": 5,
    "start_time": "2022-10-02T17:38:07.172Z"
   },
   {
    "duration": 144,
    "start_time": "2022-10-02T17:38:07.179Z"
   },
   {
    "duration": 152,
    "start_time": "2022-10-02T17:38:07.324Z"
   },
   {
    "duration": 804,
    "start_time": "2022-10-02T17:38:07.478Z"
   },
   {
    "duration": 23,
    "start_time": "2022-10-02T17:38:08.284Z"
   },
   {
    "duration": 7,
    "start_time": "2022-10-02T17:38:08.309Z"
   },
   {
    "duration": 14,
    "start_time": "2022-10-02T17:38:08.318Z"
   },
   {
    "duration": 993,
    "start_time": "2022-10-02T17:38:08.333Z"
   },
   {
    "duration": 125,
    "start_time": "2022-10-02T17:38:09.330Z"
   },
   {
    "duration": 155,
    "start_time": "2022-10-02T17:38:09.457Z"
   },
   {
    "duration": 150,
    "start_time": "2022-10-02T17:38:09.613Z"
   },
   {
    "duration": 291,
    "start_time": "2022-10-02T17:38:09.765Z"
   },
   {
    "duration": 283,
    "start_time": "2022-10-02T17:38:10.058Z"
   },
   {
    "duration": 383,
    "start_time": "2022-10-02T17:38:10.343Z"
   },
   {
    "duration": 7,
    "start_time": "2022-10-02T17:38:10.728Z"
   },
   {
    "duration": 7,
    "start_time": "2022-10-02T17:38:10.737Z"
   },
   {
    "duration": 6,
    "start_time": "2022-10-02T17:38:10.746Z"
   },
   {
    "duration": 25,
    "start_time": "2022-10-02T17:38:10.753Z"
   },
   {
    "duration": 12,
    "start_time": "2022-10-02T17:38:10.779Z"
   },
   {
    "duration": 8,
    "start_time": "2022-10-02T17:38:10.793Z"
   },
   {
    "duration": 7,
    "start_time": "2022-10-02T17:38:10.802Z"
   },
   {
    "duration": 8,
    "start_time": "2022-10-02T17:38:10.810Z"
   },
   {
    "duration": 8,
    "start_time": "2022-10-02T17:38:10.820Z"
   },
   {
    "duration": 932,
    "start_time": "2022-10-02T17:38:10.829Z"
   },
   {
    "duration": 26,
    "start_time": "2022-10-02T17:39:08.078Z"
   },
   {
    "duration": 760,
    "start_time": "2022-10-02T17:39:57.306Z"
   },
   {
    "duration": 31,
    "start_time": "2022-10-02T17:40:34.539Z"
   },
   {
    "duration": 1194,
    "start_time": "2022-10-02T17:40:53.265Z"
   },
   {
    "duration": 14,
    "start_time": "2022-10-02T17:40:54.461Z"
   },
   {
    "duration": 16,
    "start_time": "2022-10-02T17:40:54.477Z"
   },
   {
    "duration": 15,
    "start_time": "2022-10-02T17:40:54.494Z"
   },
   {
    "duration": 876,
    "start_time": "2022-10-02T17:40:54.512Z"
   },
   {
    "duration": 21,
    "start_time": "2022-10-02T17:40:55.390Z"
   },
   {
    "duration": 26,
    "start_time": "2022-10-02T17:40:55.413Z"
   },
   {
    "duration": 13,
    "start_time": "2022-10-02T17:40:55.441Z"
   },
   {
    "duration": 35,
    "start_time": "2022-10-02T17:40:55.456Z"
   },
   {
    "duration": 5,
    "start_time": "2022-10-02T17:40:55.494Z"
   },
   {
    "duration": 10,
    "start_time": "2022-10-02T17:40:55.500Z"
   },
   {
    "duration": 5,
    "start_time": "2022-10-02T17:40:55.512Z"
   },
   {
    "duration": 18,
    "start_time": "2022-10-02T17:40:55.518Z"
   },
   {
    "duration": 10,
    "start_time": "2022-10-02T17:40:55.539Z"
   },
   {
    "duration": 9,
    "start_time": "2022-10-02T17:40:55.576Z"
   },
   {
    "duration": 16,
    "start_time": "2022-10-02T17:40:55.587Z"
   },
   {
    "duration": 6,
    "start_time": "2022-10-02T17:40:55.605Z"
   },
   {
    "duration": 6,
    "start_time": "2022-10-02T17:40:55.614Z"
   },
   {
    "duration": 6,
    "start_time": "2022-10-02T17:40:55.622Z"
   },
   {
    "duration": 55,
    "start_time": "2022-10-02T17:40:55.629Z"
   },
   {
    "duration": 7,
    "start_time": "2022-10-02T17:40:55.686Z"
   },
   {
    "duration": 8,
    "start_time": "2022-10-02T17:40:55.694Z"
   },
   {
    "duration": 26,
    "start_time": "2022-10-02T17:40:55.704Z"
   },
   {
    "duration": 13,
    "start_time": "2022-10-02T17:40:55.732Z"
   },
   {
    "duration": 44,
    "start_time": "2022-10-02T17:40:55.747Z"
   },
   {
    "duration": 5,
    "start_time": "2022-10-02T17:40:55.793Z"
   },
   {
    "duration": 10,
    "start_time": "2022-10-02T17:40:55.799Z"
   },
   {
    "duration": 15,
    "start_time": "2022-10-02T17:40:55.811Z"
   },
   {
    "duration": 6,
    "start_time": "2022-10-02T17:40:55.828Z"
   },
   {
    "duration": 10,
    "start_time": "2022-10-02T17:40:55.836Z"
   },
   {
    "duration": 8,
    "start_time": "2022-10-02T17:40:55.877Z"
   },
   {
    "duration": 26,
    "start_time": "2022-10-02T17:40:55.886Z"
   },
   {
    "duration": 26,
    "start_time": "2022-10-02T17:40:55.913Z"
   },
   {
    "duration": 185,
    "start_time": "2022-10-02T17:40:55.941Z"
   },
   {
    "duration": 172,
    "start_time": "2022-10-02T17:40:56.128Z"
   },
   {
    "duration": 897,
    "start_time": "2022-10-02T17:40:56.302Z"
   },
   {
    "duration": 971,
    "start_time": "2022-10-02T17:40:57.201Z"
   },
   {
    "duration": 0,
    "start_time": "2022-10-02T17:40:58.174Z"
   },
   {
    "duration": 0,
    "start_time": "2022-10-02T17:40:58.175Z"
   },
   {
    "duration": 0,
    "start_time": "2022-10-02T17:40:58.176Z"
   },
   {
    "duration": 0,
    "start_time": "2022-10-02T17:40:58.177Z"
   },
   {
    "duration": 0,
    "start_time": "2022-10-02T17:40:58.178Z"
   },
   {
    "duration": 0,
    "start_time": "2022-10-02T17:40:58.179Z"
   },
   {
    "duration": 0,
    "start_time": "2022-10-02T17:40:58.180Z"
   },
   {
    "duration": 0,
    "start_time": "2022-10-02T17:40:58.181Z"
   },
   {
    "duration": 0,
    "start_time": "2022-10-02T17:40:58.182Z"
   },
   {
    "duration": 0,
    "start_time": "2022-10-02T17:40:58.183Z"
   },
   {
    "duration": 0,
    "start_time": "2022-10-02T17:40:58.184Z"
   },
   {
    "duration": 0,
    "start_time": "2022-10-02T17:40:58.186Z"
   },
   {
    "duration": 0,
    "start_time": "2022-10-02T17:40:58.186Z"
   },
   {
    "duration": 0,
    "start_time": "2022-10-02T17:40:58.188Z"
   },
   {
    "duration": 0,
    "start_time": "2022-10-02T17:40:58.189Z"
   },
   {
    "duration": 0,
    "start_time": "2022-10-02T17:40:58.190Z"
   },
   {
    "duration": 0,
    "start_time": "2022-10-02T17:40:58.191Z"
   },
   {
    "duration": 0,
    "start_time": "2022-10-02T17:40:58.192Z"
   },
   {
    "duration": 0,
    "start_time": "2022-10-02T17:40:58.193Z"
   },
   {
    "duration": 1163,
    "start_time": "2022-10-02T17:41:39.586Z"
   },
   {
    "duration": 12,
    "start_time": "2022-10-02T17:41:40.751Z"
   },
   {
    "duration": 16,
    "start_time": "2022-10-02T17:41:40.765Z"
   },
   {
    "duration": 13,
    "start_time": "2022-10-02T17:41:40.783Z"
   },
   {
    "duration": 777,
    "start_time": "2022-10-02T17:41:40.797Z"
   },
   {
    "duration": 16,
    "start_time": "2022-10-02T17:41:41.576Z"
   },
   {
    "duration": 20,
    "start_time": "2022-10-02T17:41:41.594Z"
   },
   {
    "duration": 9,
    "start_time": "2022-10-02T17:41:41.615Z"
   },
   {
    "duration": 19,
    "start_time": "2022-10-02T17:41:41.626Z"
   },
   {
    "duration": 30,
    "start_time": "2022-10-02T17:41:41.648Z"
   },
   {
    "duration": 16,
    "start_time": "2022-10-02T17:41:41.680Z"
   },
   {
    "duration": 5,
    "start_time": "2022-10-02T17:41:41.698Z"
   },
   {
    "duration": 10,
    "start_time": "2022-10-02T17:41:41.705Z"
   },
   {
    "duration": 12,
    "start_time": "2022-10-02T17:41:41.717Z"
   },
   {
    "duration": 10,
    "start_time": "2022-10-02T17:41:41.731Z"
   },
   {
    "duration": 38,
    "start_time": "2022-10-02T17:41:41.743Z"
   },
   {
    "duration": 6,
    "start_time": "2022-10-02T17:41:41.783Z"
   },
   {
    "duration": 6,
    "start_time": "2022-10-02T17:41:41.791Z"
   },
   {
    "duration": 6,
    "start_time": "2022-10-02T17:41:41.798Z"
   },
   {
    "duration": 16,
    "start_time": "2022-10-02T17:41:41.805Z"
   },
   {
    "duration": 7,
    "start_time": "2022-10-02T17:41:41.822Z"
   },
   {
    "duration": 48,
    "start_time": "2022-10-02T17:41:41.830Z"
   },
   {
    "duration": 21,
    "start_time": "2022-10-02T17:41:41.880Z"
   },
   {
    "duration": 13,
    "start_time": "2022-10-02T17:41:41.903Z"
   },
   {
    "duration": 17,
    "start_time": "2022-10-02T17:41:41.918Z"
   },
   {
    "duration": 40,
    "start_time": "2022-10-02T17:41:41.937Z"
   },
   {
    "duration": 6,
    "start_time": "2022-10-02T17:41:41.979Z"
   },
   {
    "duration": 16,
    "start_time": "2022-10-02T17:41:41.988Z"
   },
   {
    "duration": 5,
    "start_time": "2022-10-02T17:41:42.006Z"
   },
   {
    "duration": 6,
    "start_time": "2022-10-02T17:41:42.013Z"
   },
   {
    "duration": 8,
    "start_time": "2022-10-02T17:41:42.021Z"
   },
   {
    "duration": 59,
    "start_time": "2022-10-02T17:41:42.030Z"
   },
   {
    "duration": 21,
    "start_time": "2022-10-02T17:41:42.091Z"
   },
   {
    "duration": 157,
    "start_time": "2022-10-02T17:41:42.113Z"
   },
   {
    "duration": 157,
    "start_time": "2022-10-02T17:41:42.276Z"
   },
   {
    "duration": 106,
    "start_time": "2022-10-02T17:41:42.435Z"
   },
   {
    "duration": 0,
    "start_time": "2022-10-02T17:41:42.543Z"
   },
   {
    "duration": 0,
    "start_time": "2022-10-02T17:41:42.544Z"
   },
   {
    "duration": 0,
    "start_time": "2022-10-02T17:41:42.545Z"
   },
   {
    "duration": 0,
    "start_time": "2022-10-02T17:41:42.546Z"
   },
   {
    "duration": 0,
    "start_time": "2022-10-02T17:41:42.548Z"
   },
   {
    "duration": 0,
    "start_time": "2022-10-02T17:41:42.549Z"
   },
   {
    "duration": 0,
    "start_time": "2022-10-02T17:41:42.551Z"
   },
   {
    "duration": 0,
    "start_time": "2022-10-02T17:41:42.553Z"
   },
   {
    "duration": 0,
    "start_time": "2022-10-02T17:41:42.576Z"
   },
   {
    "duration": 0,
    "start_time": "2022-10-02T17:41:42.577Z"
   },
   {
    "duration": 0,
    "start_time": "2022-10-02T17:41:42.579Z"
   },
   {
    "duration": 0,
    "start_time": "2022-10-02T17:41:42.581Z"
   },
   {
    "duration": 0,
    "start_time": "2022-10-02T17:41:42.582Z"
   },
   {
    "duration": 0,
    "start_time": "2022-10-02T17:41:42.583Z"
   },
   {
    "duration": 0,
    "start_time": "2022-10-02T17:41:42.585Z"
   },
   {
    "duration": 0,
    "start_time": "2022-10-02T17:41:42.586Z"
   },
   {
    "duration": 0,
    "start_time": "2022-10-02T17:41:42.587Z"
   },
   {
    "duration": 0,
    "start_time": "2022-10-02T17:41:42.592Z"
   },
   {
    "duration": 0,
    "start_time": "2022-10-02T17:41:42.593Z"
   },
   {
    "duration": 0,
    "start_time": "2022-10-02T17:41:42.595Z"
   },
   {
    "duration": 34,
    "start_time": "2022-10-02T17:42:17.054Z"
   },
   {
    "duration": 24,
    "start_time": "2022-10-02T17:42:41.958Z"
   },
   {
    "duration": 1169,
    "start_time": "2022-10-02T17:42:49.990Z"
   },
   {
    "duration": 13,
    "start_time": "2022-10-02T17:42:51.161Z"
   },
   {
    "duration": 16,
    "start_time": "2022-10-02T17:42:51.176Z"
   },
   {
    "duration": 12,
    "start_time": "2022-10-02T17:42:51.193Z"
   },
   {
    "duration": 758,
    "start_time": "2022-10-02T17:42:51.207Z"
   },
   {
    "duration": 20,
    "start_time": "2022-10-02T17:42:51.967Z"
   },
   {
    "duration": 13,
    "start_time": "2022-10-02T17:42:51.989Z"
   },
   {
    "duration": 8,
    "start_time": "2022-10-02T17:42:52.004Z"
   },
   {
    "duration": 15,
    "start_time": "2022-10-02T17:42:52.014Z"
   },
   {
    "duration": 5,
    "start_time": "2022-10-02T17:42:52.030Z"
   },
   {
    "duration": 41,
    "start_time": "2022-10-02T17:42:52.037Z"
   },
   {
    "duration": 6,
    "start_time": "2022-10-02T17:42:52.080Z"
   },
   {
    "duration": 9,
    "start_time": "2022-10-02T17:42:52.088Z"
   },
   {
    "duration": 8,
    "start_time": "2022-10-02T17:42:52.101Z"
   },
   {
    "duration": 8,
    "start_time": "2022-10-02T17:42:52.111Z"
   },
   {
    "duration": 15,
    "start_time": "2022-10-02T17:42:52.120Z"
   },
   {
    "duration": 40,
    "start_time": "2022-10-02T17:42:52.137Z"
   },
   {
    "duration": 5,
    "start_time": "2022-10-02T17:42:52.179Z"
   },
   {
    "duration": 9,
    "start_time": "2022-10-02T17:42:52.186Z"
   },
   {
    "duration": 15,
    "start_time": "2022-10-02T17:42:52.197Z"
   },
   {
    "duration": 5,
    "start_time": "2022-10-02T17:42:52.214Z"
   },
   {
    "duration": 7,
    "start_time": "2022-10-02T17:42:52.221Z"
   },
   {
    "duration": 56,
    "start_time": "2022-10-02T17:42:52.230Z"
   },
   {
    "duration": 14,
    "start_time": "2022-10-02T17:42:52.288Z"
   },
   {
    "duration": 18,
    "start_time": "2022-10-02T17:42:52.303Z"
   },
   {
    "duration": 5,
    "start_time": "2022-10-02T17:42:52.323Z"
   },
   {
    "duration": 9,
    "start_time": "2022-10-02T17:42:52.329Z"
   },
   {
    "duration": 47,
    "start_time": "2022-10-02T17:42:52.339Z"
   },
   {
    "duration": 6,
    "start_time": "2022-10-02T17:42:52.388Z"
   },
   {
    "duration": 8,
    "start_time": "2022-10-02T17:42:52.395Z"
   },
   {
    "duration": 9,
    "start_time": "2022-10-02T17:42:52.405Z"
   },
   {
    "duration": 25,
    "start_time": "2022-10-02T17:42:52.416Z"
   },
   {
    "duration": 58,
    "start_time": "2022-10-02T17:42:52.442Z"
   },
   {
    "duration": 160,
    "start_time": "2022-10-02T17:42:52.501Z"
   },
   {
    "duration": 155,
    "start_time": "2022-10-02T17:42:52.662Z"
   },
   {
    "duration": 853,
    "start_time": "2022-10-02T17:42:52.818Z"
   },
   {
    "duration": 982,
    "start_time": "2022-10-02T17:42:53.672Z"
   },
   {
    "duration": 0,
    "start_time": "2022-10-02T17:42:54.656Z"
   },
   {
    "duration": 0,
    "start_time": "2022-10-02T17:42:54.657Z"
   },
   {
    "duration": 0,
    "start_time": "2022-10-02T17:42:54.657Z"
   },
   {
    "duration": 0,
    "start_time": "2022-10-02T17:42:54.658Z"
   },
   {
    "duration": 0,
    "start_time": "2022-10-02T17:42:54.660Z"
   },
   {
    "duration": 0,
    "start_time": "2022-10-02T17:42:54.661Z"
   },
   {
    "duration": 0,
    "start_time": "2022-10-02T17:42:54.662Z"
   },
   {
    "duration": 0,
    "start_time": "2022-10-02T17:42:54.662Z"
   },
   {
    "duration": 0,
    "start_time": "2022-10-02T17:42:54.664Z"
   },
   {
    "duration": 0,
    "start_time": "2022-10-02T17:42:54.664Z"
   },
   {
    "duration": 0,
    "start_time": "2022-10-02T17:42:54.666Z"
   },
   {
    "duration": 0,
    "start_time": "2022-10-02T17:42:54.667Z"
   },
   {
    "duration": 0,
    "start_time": "2022-10-02T17:42:54.668Z"
   },
   {
    "duration": 0,
    "start_time": "2022-10-02T17:42:54.669Z"
   },
   {
    "duration": 0,
    "start_time": "2022-10-02T17:42:54.670Z"
   },
   {
    "duration": 0,
    "start_time": "2022-10-02T17:42:54.671Z"
   },
   {
    "duration": 0,
    "start_time": "2022-10-02T17:42:54.672Z"
   },
   {
    "duration": 0,
    "start_time": "2022-10-02T17:42:54.673Z"
   },
   {
    "duration": 0,
    "start_time": "2022-10-02T17:42:54.674Z"
   },
   {
    "duration": 1281,
    "start_time": "2022-10-02T17:43:37.306Z"
   },
   {
    "duration": 15,
    "start_time": "2022-10-02T17:43:38.590Z"
   },
   {
    "duration": 20,
    "start_time": "2022-10-02T17:43:38.607Z"
   },
   {
    "duration": 14,
    "start_time": "2022-10-02T17:43:38.628Z"
   },
   {
    "duration": 804,
    "start_time": "2022-10-02T17:43:38.644Z"
   },
   {
    "duration": 14,
    "start_time": "2022-10-02T17:43:39.450Z"
   },
   {
    "duration": 18,
    "start_time": "2022-10-02T17:43:39.466Z"
   },
   {
    "duration": 9,
    "start_time": "2022-10-02T17:43:39.486Z"
   },
   {
    "duration": 18,
    "start_time": "2022-10-02T17:43:39.497Z"
   },
   {
    "duration": 11,
    "start_time": "2022-10-02T17:43:39.517Z"
   },
   {
    "duration": 9,
    "start_time": "2022-10-02T17:43:39.530Z"
   },
   {
    "duration": 37,
    "start_time": "2022-10-02T17:43:39.541Z"
   },
   {
    "duration": 10,
    "start_time": "2022-10-02T17:43:39.580Z"
   },
   {
    "duration": 9,
    "start_time": "2022-10-02T17:43:39.594Z"
   },
   {
    "duration": 12,
    "start_time": "2022-10-02T17:43:39.605Z"
   },
   {
    "duration": 16,
    "start_time": "2022-10-02T17:43:39.619Z"
   },
   {
    "duration": 6,
    "start_time": "2022-10-02T17:43:39.636Z"
   },
   {
    "duration": 6,
    "start_time": "2022-10-02T17:43:39.676Z"
   },
   {
    "duration": 6,
    "start_time": "2022-10-02T17:43:39.684Z"
   },
   {
    "duration": 17,
    "start_time": "2022-10-02T17:43:39.692Z"
   },
   {
    "duration": 7,
    "start_time": "2022-10-02T17:43:39.711Z"
   },
   {
    "duration": 6,
    "start_time": "2022-10-02T17:43:39.720Z"
   },
   {
    "duration": 65,
    "start_time": "2022-10-02T17:43:39.727Z"
   },
   {
    "duration": 12,
    "start_time": "2022-10-02T17:43:39.794Z"
   },
   {
    "duration": 17,
    "start_time": "2022-10-02T17:43:39.808Z"
   },
   {
    "duration": 4,
    "start_time": "2022-10-02T17:43:39.827Z"
   },
   {
    "duration": 45,
    "start_time": "2022-10-02T17:43:39.833Z"
   },
   {
    "duration": 28,
    "start_time": "2022-10-02T17:43:39.880Z"
   },
   {
    "duration": 7,
    "start_time": "2022-10-02T17:43:39.910Z"
   },
   {
    "duration": 6,
    "start_time": "2022-10-02T17:43:39.919Z"
   },
   {
    "duration": 9,
    "start_time": "2022-10-02T17:43:39.926Z"
   },
   {
    "duration": 51,
    "start_time": "2022-10-02T17:43:39.937Z"
   },
   {
    "duration": 28,
    "start_time": "2022-10-02T17:43:39.989Z"
   },
   {
    "duration": 189,
    "start_time": "2022-10-02T17:43:40.020Z"
   },
   {
    "duration": 174,
    "start_time": "2022-10-02T17:43:40.211Z"
   },
   {
    "duration": 869,
    "start_time": "2022-10-02T17:43:40.387Z"
   },
   {
    "duration": 30,
    "start_time": "2022-10-02T17:43:41.258Z"
   },
   {
    "duration": 8,
    "start_time": "2022-10-02T17:43:41.290Z"
   },
   {
    "duration": 17,
    "start_time": "2022-10-02T17:43:41.299Z"
   },
   {
    "duration": 1102,
    "start_time": "2022-10-02T17:43:41.318Z"
   },
   {
    "duration": 142,
    "start_time": "2022-10-02T17:43:42.423Z"
   },
   {
    "duration": 182,
    "start_time": "2022-10-02T17:43:42.567Z"
   },
   {
    "duration": 158,
    "start_time": "2022-10-02T17:43:42.751Z"
   },
   {
    "duration": 317,
    "start_time": "2022-10-02T17:43:42.911Z"
   },
   {
    "duration": 286,
    "start_time": "2022-10-02T17:43:43.230Z"
   },
   {
    "duration": 417,
    "start_time": "2022-10-02T17:43:43.518Z"
   },
   {
    "duration": 7,
    "start_time": "2022-10-02T17:43:43.937Z"
   },
   {
    "duration": 23,
    "start_time": "2022-10-02T17:43:43.945Z"
   },
   {
    "duration": 19,
    "start_time": "2022-10-02T17:43:43.970Z"
   },
   {
    "duration": 20,
    "start_time": "2022-10-02T17:43:43.991Z"
   },
   {
    "duration": 22,
    "start_time": "2022-10-02T17:43:44.013Z"
   },
   {
    "duration": 26,
    "start_time": "2022-10-02T17:43:44.036Z"
   },
   {
    "duration": 14,
    "start_time": "2022-10-02T17:43:44.064Z"
   },
   {
    "duration": 41,
    "start_time": "2022-10-02T17:43:44.080Z"
   },
   {
    "duration": 25,
    "start_time": "2022-10-02T17:43:44.123Z"
   },
   {
    "duration": 2231,
    "start_time": "2022-10-02T17:43:44.151Z"
   },
   {
    "duration": 2449,
    "start_time": "2022-10-02T17:44:57.868Z"
   },
   {
    "duration": 7,
    "start_time": "2022-10-02T17:45:53.232Z"
   },
   {
    "duration": 2231,
    "start_time": "2022-10-02T17:46:38.909Z"
   },
   {
    "duration": 7,
    "start_time": "2022-10-02T17:47:04.207Z"
   },
   {
    "duration": 7,
    "start_time": "2022-10-02T17:47:38.080Z"
   },
   {
    "duration": 7,
    "start_time": "2022-10-02T17:49:03.715Z"
   },
   {
    "duration": 7,
    "start_time": "2022-10-02T17:49:15.527Z"
   },
   {
    "duration": 8,
    "start_time": "2022-10-02T17:49:25.248Z"
   },
   {
    "duration": 64,
    "start_time": "2022-10-02T17:57:20.009Z"
   },
   {
    "duration": 65,
    "start_time": "2022-10-02T18:38:21.981Z"
   },
   {
    "duration": 13,
    "start_time": "2022-10-02T18:38:24.699Z"
   },
   {
    "duration": 16,
    "start_time": "2022-10-02T18:38:26.058Z"
   },
   {
    "duration": 15,
    "start_time": "2022-10-02T18:38:26.899Z"
   },
   {
    "duration": 1075,
    "start_time": "2022-10-02T18:38:28.519Z"
   },
   {
    "duration": 15,
    "start_time": "2022-10-02T18:38:31.219Z"
   },
   {
    "duration": 12,
    "start_time": "2022-10-02T18:38:31.978Z"
   },
   {
    "duration": 9,
    "start_time": "2022-10-02T18:38:32.598Z"
   },
   {
    "duration": 15,
    "start_time": "2022-10-02T18:38:33.239Z"
   },
   {
    "duration": 5,
    "start_time": "2022-10-02T18:38:34.130Z"
   },
   {
    "duration": 7,
    "start_time": "2022-10-02T18:38:35.759Z"
   },
   {
    "duration": 5,
    "start_time": "2022-10-02T18:38:36.583Z"
   },
   {
    "duration": 9,
    "start_time": "2022-10-02T18:38:36.867Z"
   },
   {
    "duration": 9,
    "start_time": "2022-10-02T18:38:38.040Z"
   },
   {
    "duration": 8,
    "start_time": "2022-10-02T18:38:40.001Z"
   },
   {
    "duration": 16,
    "start_time": "2022-10-02T18:38:46.139Z"
   },
   {
    "duration": 621,
    "start_time": "2022-10-02T18:39:14.818Z"
   },
   {
    "duration": 6,
    "start_time": "2022-10-02T18:39:33.298Z"
   },
   {
    "duration": 6,
    "start_time": "2022-10-02T18:39:38.862Z"
   },
   {
    "duration": 6,
    "start_time": "2022-10-02T18:39:46.898Z"
   },
   {
    "duration": 5,
    "start_time": "2022-10-02T18:39:58.997Z"
   },
   {
    "duration": 18,
    "start_time": "2022-10-02T18:40:00.465Z"
   },
   {
    "duration": 7,
    "start_time": "2022-10-02T18:40:01.757Z"
   },
   {
    "duration": 6,
    "start_time": "2022-10-02T18:40:08.478Z"
   },
   {
    "duration": 23,
    "start_time": "2022-10-02T18:40:10.157Z"
   },
   {
    "duration": 13,
    "start_time": "2022-10-02T18:40:14.405Z"
   },
   {
    "duration": 24,
    "start_time": "2022-10-02T18:40:20.597Z"
   },
   {
    "duration": 5,
    "start_time": "2022-10-02T18:40:22.128Z"
   },
   {
    "duration": 8,
    "start_time": "2022-10-02T18:40:32.397Z"
   },
   {
    "duration": 5,
    "start_time": "2022-10-02T18:40:51.009Z"
   },
   {
    "duration": 70,
    "start_time": "2022-10-02T18:40:58.049Z"
   },
   {
    "duration": 14,
    "start_time": "2022-10-02T18:40:59.126Z"
   },
   {
    "duration": 14,
    "start_time": "2022-10-02T18:40:59.728Z"
   },
   {
    "duration": 13,
    "start_time": "2022-10-02T18:41:00.338Z"
   },
   {
    "duration": 778,
    "start_time": "2022-10-02T18:41:00.658Z"
   },
   {
    "duration": 13,
    "start_time": "2022-10-02T18:41:02.928Z"
   },
   {
    "duration": 11,
    "start_time": "2022-10-02T18:41:03.841Z"
   },
   {
    "duration": 9,
    "start_time": "2022-10-02T18:41:04.497Z"
   },
   {
    "duration": 22,
    "start_time": "2022-10-02T18:41:06.569Z"
   },
   {
    "duration": 5,
    "start_time": "2022-10-02T18:41:08.408Z"
   },
   {
    "duration": 7,
    "start_time": "2022-10-02T18:41:08.939Z"
   },
   {
    "duration": 6,
    "start_time": "2022-10-02T18:41:09.208Z"
   },
   {
    "duration": 9,
    "start_time": "2022-10-02T18:41:09.528Z"
   },
   {
    "duration": 10,
    "start_time": "2022-10-02T18:41:10.728Z"
   },
   {
    "duration": 8,
    "start_time": "2022-10-02T18:41:11.505Z"
   },
   {
    "duration": 15,
    "start_time": "2022-10-02T18:41:12.777Z"
   },
   {
    "duration": 7,
    "start_time": "2022-10-02T18:41:13.256Z"
   },
   {
    "duration": 5,
    "start_time": "2022-10-02T18:41:15.729Z"
   },
   {
    "duration": 5,
    "start_time": "2022-10-02T18:41:16.048Z"
   },
   {
    "duration": 17,
    "start_time": "2022-10-02T18:41:16.497Z"
   },
   {
    "duration": 7,
    "start_time": "2022-10-02T18:41:18.168Z"
   },
   {
    "duration": 5,
    "start_time": "2022-10-02T18:41:47.808Z"
   },
   {
    "duration": 6,
    "start_time": "2022-10-02T18:42:02.429Z"
   },
   {
    "duration": 22,
    "start_time": "2022-10-02T18:42:04.261Z"
   },
   {
    "duration": 12,
    "start_time": "2022-10-02T18:42:21.881Z"
   },
   {
    "duration": 17,
    "start_time": "2022-10-02T18:42:47.621Z"
   },
   {
    "duration": 17,
    "start_time": "2022-10-02T18:44:20.130Z"
   },
   {
    "duration": 15,
    "start_time": "2022-10-02T18:44:22.990Z"
   },
   {
    "duration": 14,
    "start_time": "2022-10-02T18:44:29.677Z"
   },
   {
    "duration": 16,
    "start_time": "2022-10-02T18:44:31.361Z"
   },
   {
    "duration": 5,
    "start_time": "2022-10-02T18:44:31.920Z"
   },
   {
    "duration": 6,
    "start_time": "2022-10-02T18:44:32.320Z"
   },
   {
    "duration": 16,
    "start_time": "2022-10-02T18:44:32.801Z"
   },
   {
    "duration": 6,
    "start_time": "2022-10-02T18:44:33.157Z"
   },
   {
    "duration": 4,
    "start_time": "2022-10-02T18:44:33.557Z"
   },
   {
    "duration": 7,
    "start_time": "2022-10-02T18:44:34.309Z"
   },
   {
    "duration": 25,
    "start_time": "2022-10-02T18:44:35.548Z"
   },
   {
    "duration": 25,
    "start_time": "2022-10-02T18:44:36.729Z"
   },
   {
    "duration": 138,
    "start_time": "2022-10-02T18:44:38.308Z"
   },
   {
    "duration": 150,
    "start_time": "2022-10-02T18:44:39.888Z"
   },
   {
    "duration": 743,
    "start_time": "2022-10-02T18:44:42.061Z"
   },
   {
    "duration": 25,
    "start_time": "2022-10-02T18:44:45.421Z"
   },
   {
    "duration": 7,
    "start_time": "2022-10-02T18:44:47.741Z"
   },
   {
    "duration": 6,
    "start_time": "2022-10-02T18:44:48.361Z"
   },
   {
    "duration": 975,
    "start_time": "2022-10-02T18:44:49.269Z"
   },
   {
    "duration": 115,
    "start_time": "2022-10-02T18:44:51.789Z"
   },
   {
    "duration": 151,
    "start_time": "2022-10-02T18:44:57.088Z"
   },
   {
    "duration": 139,
    "start_time": "2022-10-02T18:44:59.569Z"
   },
   {
    "duration": 283,
    "start_time": "2022-10-02T18:45:02.449Z"
   },
   {
    "duration": 283,
    "start_time": "2022-10-02T18:45:11.460Z"
   },
   {
    "duration": 286,
    "start_time": "2022-10-02T18:45:13.348Z"
   },
   {
    "duration": 8,
    "start_time": "2022-10-02T18:45:16.821Z"
   },
   {
    "duration": 7,
    "start_time": "2022-10-02T18:45:19.369Z"
   },
   {
    "duration": 9,
    "start_time": "2022-10-02T18:45:19.721Z"
   },
   {
    "duration": 6,
    "start_time": "2022-10-02T18:45:20.109Z"
   },
   {
    "duration": 8,
    "start_time": "2022-10-02T18:45:20.468Z"
   },
   {
    "duration": 8,
    "start_time": "2022-10-02T18:45:22.308Z"
   },
   {
    "duration": 7,
    "start_time": "2022-10-02T18:45:22.669Z"
   },
   {
    "duration": 7,
    "start_time": "2022-10-02T18:45:22.988Z"
   },
   {
    "duration": 7,
    "start_time": "2022-10-02T18:45:23.321Z"
   },
   {
    "duration": 7,
    "start_time": "2022-10-02T18:45:24.849Z"
   },
   {
    "duration": 8,
    "start_time": "2022-10-02T18:45:25.169Z"
   },
   {
    "duration": 7,
    "start_time": "2022-10-02T18:45:25.489Z"
   },
   {
    "duration": 7,
    "start_time": "2022-10-02T18:45:25.889Z"
   },
   {
    "duration": 1143,
    "start_time": "2022-10-02T18:50:48.710Z"
   },
   {
    "duration": 14,
    "start_time": "2022-10-02T18:50:49.855Z"
   },
   {
    "duration": 15,
    "start_time": "2022-10-02T18:50:49.871Z"
   },
   {
    "duration": 14,
    "start_time": "2022-10-02T18:50:49.888Z"
   },
   {
    "duration": 801,
    "start_time": "2022-10-02T18:50:49.904Z"
   },
   {
    "duration": 14,
    "start_time": "2022-10-02T18:50:50.707Z"
   },
   {
    "duration": 15,
    "start_time": "2022-10-02T18:50:50.722Z"
   },
   {
    "duration": 8,
    "start_time": "2022-10-02T18:50:50.738Z"
   },
   {
    "duration": 34,
    "start_time": "2022-10-02T18:50:50.748Z"
   },
   {
    "duration": 5,
    "start_time": "2022-10-02T18:50:50.783Z"
   },
   {
    "duration": 12,
    "start_time": "2022-10-02T18:50:50.789Z"
   },
   {
    "duration": 5,
    "start_time": "2022-10-02T18:50:50.802Z"
   },
   {
    "duration": 9,
    "start_time": "2022-10-02T18:50:50.809Z"
   },
   {
    "duration": 12,
    "start_time": "2022-10-02T18:50:50.821Z"
   },
   {
    "duration": 18,
    "start_time": "2022-10-02T18:50:50.834Z"
   },
   {
    "duration": 35,
    "start_time": "2022-10-02T18:50:50.853Z"
   },
   {
    "duration": 6,
    "start_time": "2022-10-02T18:50:50.890Z"
   },
   {
    "duration": 7,
    "start_time": "2022-10-02T18:50:50.898Z"
   },
   {
    "duration": 5,
    "start_time": "2022-10-02T18:50:50.907Z"
   },
   {
    "duration": 18,
    "start_time": "2022-10-02T18:50:50.914Z"
   },
   {
    "duration": 6,
    "start_time": "2022-10-02T18:50:50.934Z"
   },
   {
    "duration": 39,
    "start_time": "2022-10-02T18:50:50.942Z"
   },
   {
    "duration": 25,
    "start_time": "2022-10-02T18:50:50.982Z"
   },
   {
    "duration": 15,
    "start_time": "2022-10-02T18:50:51.009Z"
   },
   {
    "duration": 17,
    "start_time": "2022-10-02T18:50:51.025Z"
   },
   {
    "duration": 37,
    "start_time": "2022-10-02T18:50:51.043Z"
   },
   {
    "duration": 13,
    "start_time": "2022-10-02T18:50:51.081Z"
   },
   {
    "duration": 17,
    "start_time": "2022-10-02T18:50:51.096Z"
   },
   {
    "duration": 7,
    "start_time": "2022-10-02T18:50:51.114Z"
   },
   {
    "duration": 11,
    "start_time": "2022-10-02T18:50:51.123Z"
   },
   {
    "duration": 9,
    "start_time": "2022-10-02T18:50:51.135Z"
   },
   {
    "duration": 43,
    "start_time": "2022-10-02T18:50:51.145Z"
   },
   {
    "duration": 25,
    "start_time": "2022-10-02T18:50:51.190Z"
   },
   {
    "duration": 165,
    "start_time": "2022-10-02T18:50:51.216Z"
   },
   {
    "duration": 162,
    "start_time": "2022-10-02T18:50:51.383Z"
   },
   {
    "duration": 805,
    "start_time": "2022-10-02T18:50:51.546Z"
   },
   {
    "duration": 29,
    "start_time": "2022-10-02T18:50:52.353Z"
   },
   {
    "duration": 8,
    "start_time": "2022-10-02T18:50:52.384Z"
   },
   {
    "duration": 7,
    "start_time": "2022-10-02T18:50:52.394Z"
   },
   {
    "duration": 1003,
    "start_time": "2022-10-02T18:50:52.404Z"
   },
   {
    "duration": 133,
    "start_time": "2022-10-02T18:50:53.410Z"
   },
   {
    "duration": 147,
    "start_time": "2022-10-02T18:50:53.545Z"
   },
   {
    "duration": 146,
    "start_time": "2022-10-02T18:50:53.694Z"
   },
   {
    "duration": 321,
    "start_time": "2022-10-02T18:50:53.842Z"
   },
   {
    "duration": 285,
    "start_time": "2022-10-02T18:50:54.164Z"
   },
   {
    "duration": 428,
    "start_time": "2022-10-02T18:50:54.451Z"
   },
   {
    "duration": 8,
    "start_time": "2022-10-02T18:50:54.882Z"
   },
   {
    "duration": 13,
    "start_time": "2022-10-02T18:50:54.892Z"
   },
   {
    "duration": 8,
    "start_time": "2022-10-02T18:50:54.907Z"
   },
   {
    "duration": 10,
    "start_time": "2022-10-02T18:50:54.917Z"
   },
   {
    "duration": 14,
    "start_time": "2022-10-02T18:50:54.929Z"
   },
   {
    "duration": 33,
    "start_time": "2022-10-02T18:50:54.945Z"
   },
   {
    "duration": 7,
    "start_time": "2022-10-02T18:50:54.981Z"
   },
   {
    "duration": 9,
    "start_time": "2022-10-02T18:50:54.990Z"
   },
   {
    "duration": 12,
    "start_time": "2022-10-02T18:50:55.000Z"
   },
   {
    "duration": 7,
    "start_time": "2022-10-02T18:50:55.013Z"
   },
   {
    "duration": 6,
    "start_time": "2022-10-02T18:50:55.022Z"
   },
   {
    "duration": 8,
    "start_time": "2022-10-02T18:50:55.029Z"
   },
   {
    "duration": 46,
    "start_time": "2022-10-02T18:50:55.038Z"
   },
   {
    "duration": 8,
    "start_time": "2022-10-02T19:06:55.851Z"
   },
   {
    "duration": 108,
    "start_time": "2022-10-02T19:07:30.762Z"
   },
   {
    "duration": 8,
    "start_time": "2022-10-02T19:09:01.490Z"
   },
   {
    "duration": 16,
    "start_time": "2022-10-02T19:09:22.325Z"
   },
   {
    "duration": 14,
    "start_time": "2022-10-02T19:09:46.126Z"
   },
   {
    "duration": 10,
    "start_time": "2022-10-02T19:10:04.994Z"
   },
   {
    "duration": 7,
    "start_time": "2022-10-02T19:12:28.017Z"
   },
   {
    "duration": 13,
    "start_time": "2022-10-02T19:12:50.398Z"
   },
   {
    "duration": 14,
    "start_time": "2022-10-02T19:13:43.427Z"
   },
   {
    "duration": 10,
    "start_time": "2022-10-02T19:14:01.127Z"
   },
   {
    "duration": 14,
    "start_time": "2022-10-02T19:18:55.236Z"
   },
   {
    "duration": 1879,
    "start_time": "2022-10-04T08:03:54.500Z"
   },
   {
    "duration": 13,
    "start_time": "2022-10-04T08:03:56.381Z"
   },
   {
    "duration": 14,
    "start_time": "2022-10-04T08:03:57.575Z"
   },
   {
    "duration": 15,
    "start_time": "2022-10-04T08:03:58.960Z"
   },
   {
    "duration": 820,
    "start_time": "2022-10-04T08:03:59.641Z"
   },
   {
    "duration": 15,
    "start_time": "2022-10-04T08:04:01.695Z"
   },
   {
    "duration": 13,
    "start_time": "2022-10-04T08:04:02.519Z"
   },
   {
    "duration": 10,
    "start_time": "2022-10-04T08:04:03.049Z"
   },
   {
    "duration": 15,
    "start_time": "2022-10-04T08:04:03.114Z"
   },
   {
    "duration": 6,
    "start_time": "2022-10-04T08:04:03.178Z"
   },
   {
    "duration": 8,
    "start_time": "2022-10-04T08:04:03.245Z"
   },
   {
    "duration": 6,
    "start_time": "2022-10-04T08:04:03.328Z"
   },
   {
    "duration": 11,
    "start_time": "2022-10-04T08:04:03.361Z"
   },
   {
    "duration": 10,
    "start_time": "2022-10-04T08:04:03.413Z"
   },
   {
    "duration": 8,
    "start_time": "2022-10-04T08:04:04.453Z"
   },
   {
    "duration": 18,
    "start_time": "2022-10-04T08:04:04.574Z"
   },
   {
    "duration": 7,
    "start_time": "2022-10-04T08:04:04.607Z"
   },
   {
    "duration": 6,
    "start_time": "2022-10-04T08:04:08.463Z"
   },
   {
    "duration": 19,
    "start_time": "2022-10-04T08:04:25.191Z"
   },
   {
    "duration": 6,
    "start_time": "2022-10-04T08:04:26.032Z"
   },
   {
    "duration": 6,
    "start_time": "2022-10-04T08:04:31.120Z"
   },
   {
    "duration": 22,
    "start_time": "2022-10-04T08:04:32.561Z"
   },
   {
    "duration": 19,
    "start_time": "2022-10-04T08:04:40.327Z"
   },
   {
    "duration": 6,
    "start_time": "2022-10-04T08:06:12.359Z"
   },
   {
    "duration": 17,
    "start_time": "2022-10-04T08:06:12.905Z"
   },
   {
    "duration": 7,
    "start_time": "2022-10-04T08:06:13.407Z"
   },
   {
    "duration": 5,
    "start_time": "2022-10-04T08:06:14.263Z"
   },
   {
    "duration": 9,
    "start_time": "2022-10-04T08:06:19.590Z"
   },
   {
    "duration": 26,
    "start_time": "2022-10-04T08:06:44.887Z"
   },
   {
    "duration": 19,
    "start_time": "2022-10-04T08:07:23.096Z"
   },
   {
    "duration": 26,
    "start_time": "2022-10-04T08:07:39.752Z"
   },
   {
    "duration": 155,
    "start_time": "2022-10-04T08:07:46.783Z"
   },
   {
    "duration": 176,
    "start_time": "2022-10-04T08:07:48.590Z"
   },
   {
    "duration": 947,
    "start_time": "2022-10-04T08:07:50.430Z"
   },
   {
    "duration": 27,
    "start_time": "2022-10-04T08:07:52.199Z"
   },
   {
    "duration": 8,
    "start_time": "2022-10-04T08:07:54.350Z"
   },
   {
    "duration": 8,
    "start_time": "2022-10-04T08:07:54.910Z"
   },
   {
    "duration": 1095,
    "start_time": "2022-10-04T08:07:57.606Z"
   },
   {
    "duration": 125,
    "start_time": "2022-10-04T08:08:02.735Z"
   },
   {
    "duration": 71,
    "start_time": "2022-10-04T08:09:02.359Z"
   },
   {
    "duration": 16,
    "start_time": "2022-10-04T08:09:04.064Z"
   },
   {
    "duration": 17,
    "start_time": "2022-10-04T08:09:05.117Z"
   },
   {
    "duration": 15,
    "start_time": "2022-10-04T08:09:05.910Z"
   },
   {
    "duration": 804,
    "start_time": "2022-10-04T08:09:06.445Z"
   },
   {
    "duration": 16,
    "start_time": "2022-10-04T08:09:07.997Z"
   },
   {
    "duration": 13,
    "start_time": "2022-10-04T08:09:08.685Z"
   },
   {
    "duration": 8,
    "start_time": "2022-10-04T08:09:09.254Z"
   },
   {
    "duration": 15,
    "start_time": "2022-10-04T08:09:09.758Z"
   },
   {
    "duration": 5,
    "start_time": "2022-10-04T08:09:10.246Z"
   },
   {
    "duration": 7,
    "start_time": "2022-10-04T08:09:10.769Z"
   },
   {
    "duration": 5,
    "start_time": "2022-10-04T08:09:11.303Z"
   },
   {
    "duration": 10,
    "start_time": "2022-10-04T08:09:11.550Z"
   },
   {
    "duration": 9,
    "start_time": "2022-10-04T08:09:12.383Z"
   },
   {
    "duration": 9,
    "start_time": "2022-10-04T08:09:13.149Z"
   },
   {
    "duration": 19,
    "start_time": "2022-10-04T08:09:14.005Z"
   },
   {
    "duration": 6,
    "start_time": "2022-10-04T08:09:14.318Z"
   },
   {
    "duration": 17,
    "start_time": "2022-10-04T08:09:15.165Z"
   },
   {
    "duration": 6,
    "start_time": "2022-10-04T08:09:15.453Z"
   },
   {
    "duration": 5,
    "start_time": "2022-10-04T08:09:16.037Z"
   },
   {
    "duration": 23,
    "start_time": "2022-10-04T08:09:16.342Z"
   },
   {
    "duration": 16,
    "start_time": "2022-10-04T08:09:16.894Z"
   },
   {
    "duration": 7,
    "start_time": "2022-10-04T08:09:17.989Z"
   },
   {
    "duration": 20,
    "start_time": "2022-10-04T08:09:18.253Z"
   },
   {
    "duration": 9,
    "start_time": "2022-10-04T08:09:18.542Z"
   },
   {
    "duration": 5,
    "start_time": "2022-10-04T08:09:18.830Z"
   },
   {
    "duration": 9,
    "start_time": "2022-10-04T08:09:19.381Z"
   },
   {
    "duration": 144,
    "start_time": "2022-10-04T08:09:21.021Z"
   },
   {
    "duration": 20,
    "start_time": "2022-10-04T08:09:21.645Z"
   },
   {
    "duration": 26,
    "start_time": "2022-10-04T08:09:22.782Z"
   },
   {
    "duration": 159,
    "start_time": "2022-10-04T08:09:24.758Z"
   },
   {
    "duration": 171,
    "start_time": "2022-10-04T08:09:25.254Z"
   },
   {
    "duration": 839,
    "start_time": "2022-10-04T08:09:26.630Z"
   },
   {
    "duration": 29,
    "start_time": "2022-10-04T08:09:28.262Z"
   },
   {
    "duration": 8,
    "start_time": "2022-10-04T08:09:29.885Z"
   },
   {
    "duration": 7,
    "start_time": "2022-10-04T08:09:30.669Z"
   },
   {
    "duration": 1251,
    "start_time": "2022-10-04T08:09:31.518Z"
   },
   {
    "duration": 142,
    "start_time": "2022-10-04T08:09:35.157Z"
   },
   {
    "duration": 250,
    "start_time": "2022-10-04T08:10:39.579Z"
   },
   {
    "duration": 134,
    "start_time": "2022-10-04T08:10:56.421Z"
   },
   {
    "duration": 126,
    "start_time": "2022-10-04T08:11:03.550Z"
   },
   {
    "duration": 134,
    "start_time": "2022-10-04T08:11:09.197Z"
   },
   {
    "duration": 121,
    "start_time": "2022-10-04T08:16:43.853Z"
   },
   {
    "duration": 132,
    "start_time": "2022-10-04T08:18:06.459Z"
   },
   {
    "duration": 118,
    "start_time": "2022-10-04T08:20:26.066Z"
   },
   {
    "duration": 136,
    "start_time": "2022-10-04T08:22:04.354Z"
   },
   {
    "duration": 137,
    "start_time": "2022-10-04T08:23:30.682Z"
   },
   {
    "duration": 129,
    "start_time": "2022-10-04T08:23:47.825Z"
   },
   {
    "duration": 148,
    "start_time": "2022-10-04T08:24:02.930Z"
   },
   {
    "duration": 129,
    "start_time": "2022-10-04T08:24:45.622Z"
   },
   {
    "duration": 163,
    "start_time": "2022-10-04T08:25:00.857Z"
   },
   {
    "duration": 110,
    "start_time": "2022-10-04T08:25:40.817Z"
   },
   {
    "duration": 7,
    "start_time": "2022-10-04T08:25:46.936Z"
   },
   {
    "duration": 8,
    "start_time": "2022-10-04T08:27:54.720Z"
   },
   {
    "duration": 7,
    "start_time": "2022-10-04T08:27:55.623Z"
   },
   {
    "duration": 7,
    "start_time": "2022-10-04T08:27:56.465Z"
   },
   {
    "duration": 7,
    "start_time": "2022-10-04T08:27:56.848Z"
   },
   {
    "duration": 163,
    "start_time": "2022-10-04T08:34:01.639Z"
   },
   {
    "duration": 162,
    "start_time": "2022-10-04T08:34:51.374Z"
   },
   {
    "duration": 324,
    "start_time": "2022-10-04T08:35:01.621Z"
   }
  ],
  "kernelspec": {
   "display_name": "Python 3 (ipykernel)",
   "language": "python",
   "name": "python3"
  },
  "language_info": {
   "codemirror_mode": {
    "name": "ipython",
    "version": 3
   },
   "file_extension": ".py",
   "mimetype": "text/x-python",
   "name": "python",
   "nbconvert_exporter": "python",
   "pygments_lexer": "ipython3",
   "version": "3.9.5"
  },
  "toc": {
   "base_numbering": 1,
   "nav_menu": {},
   "number_sections": true,
   "sideBar": true,
   "skip_h1_title": true,
   "title_cell": "Table of Contents",
   "title_sidebar": "Contents",
   "toc_cell": false,
   "toc_position": {
    "height": "calc(100% - 180px)",
    "left": "10px",
    "top": "150px",
    "width": "366.188px"
   },
   "toc_section_display": true,
   "toc_window_display": true
  }
 },
 "nbformat": 4,
 "nbformat_minor": 2
}
