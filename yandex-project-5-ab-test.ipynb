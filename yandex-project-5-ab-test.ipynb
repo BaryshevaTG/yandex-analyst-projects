{
 "cells": [
  {
   "cell_type": "markdown",
   "metadata": {},
   "source": [
    "<div class=\"alert alert-success\">\n",
    "<b>Комментарий ревьюера v 2.0 ✔️:</b> Отлично, Татьяна! Ты здорово поработала над комментариями и теперь твой проект принят.\n",
    "    \n",
    "Спасибо за работу и успехов в следующих проектах!)"
   ]
  },
  {
   "cell_type": "markdown",
   "metadata": {},
   "source": [
    "<div style=\"border:solid green 2px; padding: 20px\">\n",
    "<b>Привет!</b>\n",
    "\n",
    "Меня зовут Михаленко Дмитрий, и я буду проверять твой проект. Предлагаю общаться на «ты» :) Но если это не удобно - дай знать, и мы перейдем на \"вы\". \n",
    "\n",
    "Моя основная цель — не указать на совершенные тобою ошибки, а поделиться своим опытом и помочь тебе стать аналитиком данных. Ты уже проделала большую работу над проектом, но давай сделаем его еще лучше. Ниже ты найдешь мои комментарии - **пожалуйста, не перемещай, не изменяй и не удаляй их**. Увидев у тебя ошибку, в первый раз я лишь укажу на ее наличие и дам тебе возможность самой найти и исправить ее. На реальной работе твой начальник будет поступать так же, а я пытаюсь подготовить тебя именно к работе аналитиком. Но если ты пока не справишься с такой задачей - при следующей проверке я дам более точную подсказку. Я буду использовать цветовую разметку:\n",
    "\n",
    "<div class=\"alert alert-danger\">\n",
    "<b>Комментарий ревьюера ❌:</b> Так выделены самые важные замечания. Без их отработки проект не будет принят. </div>\n",
    "\n",
    "<div class=\"alert alert-warning\">\n",
    "<b>Комментарий ревьюера ⚠️:</b> Так выделены небольшие замечания. Я надеюсь, что их ты тоже учтешь - твой проект от этого станет только лучше. Но настаивать на их отработке не буду.\n",
    "\n",
    "</div>\n",
    "\n",
    "<div class=\"alert alert-success\">\n",
    "<b>Комментарий ревьюера ✔️:</b> Так я выделяю все остальные комментарии.</div>\n",
    "\n",
    "Давай работать над проектом в диалоге: **если ты что-то меняешь в проекте или отвечаешь на мои комментарии — пиши об этом.** Мне будет легче отследить изменения, если ты выделишь свои комментарии:\n",
    "<div class=\"alert alert-info\"> <b>Комментарий студента:</b> Например, вот так.</div>\n",
    "\n",
    "Всё это поможет выполнить повторную проверку твоего проекта оперативнее. "
   ]
  },
  {
   "cell_type": "markdown",
   "metadata": {},
   "source": [
    "### Описание и цель проекта"
   ]
  },
  {
   "cell_type": "markdown",
   "metadata": {},
   "source": [
    "<b>Описание проекта: </b> Есть данные, включающие список гипотез, которые могут влиять на увеличение выручки интрнет-магазина.\n",
    "\n",
    "<b>Цель проекта: </b> Приоритезировать гипотезы, запустить A/B-тест и проанализировать результаты."
   ]
  },
  {
   "cell_type": "markdown",
   "metadata": {},
   "source": [
    "<div class=\"alert alert-success\">\n",
    "<b>Комментарий ревьюера ✔️:</b> Коротко обозначила основную цель проекта </div>"
   ]
  },
  {
   "cell_type": "markdown",
   "metadata": {},
   "source": [
    "### Задачи и чек-лист по проекту"
   ]
  },
  {
   "cell_type": "markdown",
   "metadata": {},
   "source": [
    "#### Часть 1: Приоритизация гипотез"
   ]
  },
  {
   "cell_type": "markdown",
   "metadata": {},
   "source": [
    "В файле /datasets/hypothesis.csv 9 гипотез по увеличению выручки интернет-магазина с указанными параметрами Reach, Impact, Confidence, Effort."
   ]
  },
  {
   "cell_type": "markdown",
   "metadata": {},
   "source": [
    "- [x]  Примените фреймворк ICE для приоритизации гипотез. Отсортируйте их по убыванию приоритета.\n",
    "- [x]  Примените фреймворк RICE для приоритизации гипотез. Отсортируйте их по убыванию приоритета.\n",
    "- [x]  Укажите, как изменилась приоритизация гипотез при применении RICE вместо ICE. Объясните, почему так произошло."
   ]
  },
  {
   "cell_type": "markdown",
   "metadata": {},
   "source": [
    "#### Часть 2: Анализ A/B-теста"
   ]
  },
  {
   "cell_type": "markdown",
   "metadata": {},
   "source": [
    "Вы провели A/B-тест и получили результаты, которые описаны в файлах /datasets/orders.csv и /datasets/visitors.csv."
   ]
  },
  {
   "cell_type": "markdown",
   "metadata": {},
   "source": [
    "Проанализируйте A/B-тест:\n",
    "\n",
    "- [x]  Постройте график кумулятивной выручки по группам. Сделайте выводы и предположения.\n",
    "- [x]  Постройте график кумулятивного среднего чека по группам. Сделайте выводы и предположения.\n",
    "- [x]  Постройте график относительного изменения кумулятивного среднего чека группы B к группе A. Сделайте выводы и предположения.\n",
    "- [x]  Постройте график кумулятивного среднего количества заказов на посетителя по группам. Сделайте выводы и предположения.\n",
    "- [x]  Постройте график относительного изменения кумулятивного среднего количества заказов на посетителя группы B к группе A. Сделайте выводы и предположения.\n",
    "- [x]  Постройте точечный график количества заказов по пользователям. Сделайте выводы и предположения.\n",
    "- [x]  Посчитайте 95-й и 99-й перцентили количества заказов на пользователя. Выберите границу для определения аномальных пользователей.\n",
    "- [x]  Постройте точечный график стоимостей заказов. Сделайте выводы и предположения.\n",
    "- [x]  Посчитайте 95-й и 99-й перцентили стоимости заказов. Выберите границу для определения аномальных заказов.\n",
    "- [x]  Посчитайте статистическую значимость различий в среднем количестве заказов на посетителя между группами по «сырым» данным. Сделайте выводы и предположения.\n",
    "- [x]  Посчитайте статистическую значимость различий в среднем чеке заказа между группами по «сырым» данным. Сделайте выводы и предположения.\n",
    "- [x]  Посчитайте статистическую значимость различий в среднем количестве заказов на посетителя между группами по «очищенным» данным. Сделайте выводы и предположения.\n",
    "- [x]  Посчитайте статистическую значимость различий в среднем чеке заказа между группами по «очищенным» данным. Сделайте выводы и предположения.\n",
    "- [x]  Примите решение по результатам теста и объясните его. Варианты решений: 1. Остановить тест, зафиксировать победу одной из групп. 2. Остановить тест, зафиксировать отсутствие различий между группами. 3. Продолжить тест."
   ]
  },
  {
   "cell_type": "markdown",
   "metadata": {},
   "source": [
    "### Приоритизация гипотез"
   ]
  },
  {
   "cell_type": "markdown",
   "metadata": {},
   "source": [
    "Считаем таблицу с гипотезами и основными метриками из файла. Выведем таблицу на экран."
   ]
  },
  {
   "cell_type": "code",
   "execution_count": 148,
   "metadata": {},
   "outputs": [
    {
     "data": {
      "text/html": [
       "<div>\n",
       "<style scoped>\n",
       "    .dataframe tbody tr th:only-of-type {\n",
       "        vertical-align: middle;\n",
       "    }\n",
       "\n",
       "    .dataframe tbody tr th {\n",
       "        vertical-align: top;\n",
       "    }\n",
       "\n",
       "    .dataframe thead th {\n",
       "        text-align: right;\n",
       "    }\n",
       "</style>\n",
       "<table border=\"1\" class=\"dataframe\">\n",
       "  <thead>\n",
       "    <tr style=\"text-align: right;\">\n",
       "      <th></th>\n",
       "      <th>Hypothesis</th>\n",
       "      <th>Reach</th>\n",
       "      <th>Impact</th>\n",
       "      <th>Confidence</th>\n",
       "      <th>Efforts</th>\n",
       "    </tr>\n",
       "  </thead>\n",
       "  <tbody>\n",
       "    <tr>\n",
       "      <th>0</th>\n",
       "      <td>Добавить два новых канала привлечения трафика,...</td>\n",
       "      <td>3</td>\n",
       "      <td>10</td>\n",
       "      <td>8</td>\n",
       "      <td>6</td>\n",
       "    </tr>\n",
       "    <tr>\n",
       "      <th>1</th>\n",
       "      <td>Запустить собственную службу доставки, что сок...</td>\n",
       "      <td>2</td>\n",
       "      <td>5</td>\n",
       "      <td>4</td>\n",
       "      <td>10</td>\n",
       "    </tr>\n",
       "    <tr>\n",
       "      <th>2</th>\n",
       "      <td>Добавить блоки рекомендаций товаров на сайт ин...</td>\n",
       "      <td>8</td>\n",
       "      <td>3</td>\n",
       "      <td>7</td>\n",
       "      <td>3</td>\n",
       "    </tr>\n",
       "    <tr>\n",
       "      <th>3</th>\n",
       "      <td>Изменить структура категорий, что увеличит кон...</td>\n",
       "      <td>8</td>\n",
       "      <td>3</td>\n",
       "      <td>3</td>\n",
       "      <td>8</td>\n",
       "    </tr>\n",
       "    <tr>\n",
       "      <th>4</th>\n",
       "      <td>Изменить цвет фона главной страницы, чтобы уве...</td>\n",
       "      <td>3</td>\n",
       "      <td>1</td>\n",
       "      <td>1</td>\n",
       "      <td>1</td>\n",
       "    </tr>\n",
       "    <tr>\n",
       "      <th>5</th>\n",
       "      <td>Добавить страницу отзывов клиентов о магазине,...</td>\n",
       "      <td>3</td>\n",
       "      <td>2</td>\n",
       "      <td>2</td>\n",
       "      <td>3</td>\n",
       "    </tr>\n",
       "    <tr>\n",
       "      <th>6</th>\n",
       "      <td>Показать на главной странице баннеры с актуаль...</td>\n",
       "      <td>5</td>\n",
       "      <td>3</td>\n",
       "      <td>8</td>\n",
       "      <td>3</td>\n",
       "    </tr>\n",
       "    <tr>\n",
       "      <th>7</th>\n",
       "      <td>Добавить форму подписки на все основные страни...</td>\n",
       "      <td>10</td>\n",
       "      <td>7</td>\n",
       "      <td>8</td>\n",
       "      <td>5</td>\n",
       "    </tr>\n",
       "    <tr>\n",
       "      <th>8</th>\n",
       "      <td>Запустить акцию, дающую скидку на товар в день...</td>\n",
       "      <td>1</td>\n",
       "      <td>9</td>\n",
       "      <td>9</td>\n",
       "      <td>5</td>\n",
       "    </tr>\n",
       "  </tbody>\n",
       "</table>\n",
       "</div>"
      ],
      "text/plain": [
       "                                          Hypothesis  Reach  Impact  \\\n",
       "0  Добавить два новых канала привлечения трафика,...      3      10   \n",
       "1  Запустить собственную службу доставки, что сок...      2       5   \n",
       "2  Добавить блоки рекомендаций товаров на сайт ин...      8       3   \n",
       "3  Изменить структура категорий, что увеличит кон...      8       3   \n",
       "4  Изменить цвет фона главной страницы, чтобы уве...      3       1   \n",
       "5  Добавить страницу отзывов клиентов о магазине,...      3       2   \n",
       "6  Показать на главной странице баннеры с актуаль...      5       3   \n",
       "7  Добавить форму подписки на все основные страни...     10       7   \n",
       "8  Запустить акцию, дающую скидку на товар в день...      1       9   \n",
       "\n",
       "   Confidence  Efforts  \n",
       "0           8        6  \n",
       "1           4       10  \n",
       "2           7        3  \n",
       "3           3        8  \n",
       "4           1        1  \n",
       "5           2        3  \n",
       "6           8        3  \n",
       "7           8        5  \n",
       "8           9        5  "
      ]
     },
     "execution_count": 148,
     "metadata": {},
     "output_type": "execute_result"
    }
   ],
   "source": [
    "import pandas as pd\n",
    "import numpy as np\n",
    "import datetime as dt\n",
    "import matplotlib.pyplot as plt\n",
    "import scipy.stats as stats\n",
    "\n",
    "data = pd.read_csv('/datasets/hypothesis.csv', sep=',')\n",
    "\n",
    "data"
   ]
  },
  {
   "cell_type": "markdown",
   "metadata": {},
   "source": [
    "#### Фреймворк ICE\n",
    "\n",
    "Применим фреймворк ICE для приоритизации гипотез. Добавим столбец 'ICE' в таблицу data. Отсортируем значения по убыванию приоритета."
   ]
  },
  {
   "cell_type": "markdown",
   "metadata": {},
   "source": [
    "<div class=\"alert alert-success\">\n",
    "<b>Комментарий ревьюера ✔️:</b> Хорошо используешь отображение данных в таблице</div>"
   ]
  },
  {
   "cell_type": "code",
   "execution_count": 149,
   "metadata": {},
   "outputs": [
    {
     "data": {
      "text/html": [
       "<style  type=\"text/css\" >\n",
       "#T_adca8_row0_col0,#T_adca8_row0_col1,#T_adca8_row0_col2,#T_adca8_row0_col3,#T_adca8_row0_col4,#T_adca8_row0_col5,#T_adca8_row1_col0,#T_adca8_row1_col1,#T_adca8_row1_col2,#T_adca8_row1_col3,#T_adca8_row1_col4,#T_adca8_row1_col5,#T_adca8_row2_col0,#T_adca8_row2_col1,#T_adca8_row2_col2,#T_adca8_row2_col3,#T_adca8_row2_col4,#T_adca8_row2_col5,#T_adca8_row3_col0,#T_adca8_row3_col1,#T_adca8_row3_col2,#T_adca8_row3_col3,#T_adca8_row3_col4,#T_adca8_row3_col5,#T_adca8_row4_col0,#T_adca8_row4_col1,#T_adca8_row4_col2,#T_adca8_row4_col3,#T_adca8_row4_col4,#T_adca8_row4_col5,#T_adca8_row5_col0,#T_adca8_row5_col1,#T_adca8_row5_col2,#T_adca8_row5_col3,#T_adca8_row5_col4,#T_adca8_row5_col5,#T_adca8_row6_col0,#T_adca8_row6_col1,#T_adca8_row6_col2,#T_adca8_row6_col3,#T_adca8_row6_col4,#T_adca8_row6_col5,#T_adca8_row7_col0,#T_adca8_row7_col1,#T_adca8_row7_col2,#T_adca8_row7_col3,#T_adca8_row7_col4,#T_adca8_row7_col5,#T_adca8_row8_col0,#T_adca8_row8_col1,#T_adca8_row8_col2,#T_adca8_row8_col3,#T_adca8_row8_col4,#T_adca8_row8_col5{\n",
       "            text-align:  left;\n",
       "        }</style><table id=\"T_adca8_\" ><thead>    <tr>        <th class=\"blank level0\" ></th>        <th class=\"col_heading level0 col0\" >Hypothesis</th>        <th class=\"col_heading level0 col1\" >Reach</th>        <th class=\"col_heading level0 col2\" >Impact</th>        <th class=\"col_heading level0 col3\" >Confidence</th>        <th class=\"col_heading level0 col4\" >Efforts</th>        <th class=\"col_heading level0 col5\" >ICE</th>    </tr></thead><tbody>\n",
       "                <tr>\n",
       "                        <th id=\"T_adca8_level0_row0\" class=\"row_heading level0 row0\" >8</th>\n",
       "                        <td id=\"T_adca8_row0_col0\" class=\"data row0 col0\" >Запустить акцию, дающую скидку на товар в день рождения</td>\n",
       "                        <td id=\"T_adca8_row0_col1\" class=\"data row0 col1\" >1</td>\n",
       "                        <td id=\"T_adca8_row0_col2\" class=\"data row0 col2\" >9</td>\n",
       "                        <td id=\"T_adca8_row0_col3\" class=\"data row0 col3\" >9</td>\n",
       "                        <td id=\"T_adca8_row0_col4\" class=\"data row0 col4\" >5</td>\n",
       "                        <td id=\"T_adca8_row0_col5\" class=\"data row0 col5\" >16.200000</td>\n",
       "            </tr>\n",
       "            <tr>\n",
       "                        <th id=\"T_adca8_level0_row1\" class=\"row_heading level0 row1\" >0</th>\n",
       "                        <td id=\"T_adca8_row1_col0\" class=\"data row1 col0\" >Добавить два новых канала привлечения трафика, что позволит привлекать на 30% больше пользователей</td>\n",
       "                        <td id=\"T_adca8_row1_col1\" class=\"data row1 col1\" >3</td>\n",
       "                        <td id=\"T_adca8_row1_col2\" class=\"data row1 col2\" >10</td>\n",
       "                        <td id=\"T_adca8_row1_col3\" class=\"data row1 col3\" >8</td>\n",
       "                        <td id=\"T_adca8_row1_col4\" class=\"data row1 col4\" >6</td>\n",
       "                        <td id=\"T_adca8_row1_col5\" class=\"data row1 col5\" >13.330000</td>\n",
       "            </tr>\n",
       "            <tr>\n",
       "                        <th id=\"T_adca8_level0_row2\" class=\"row_heading level0 row2\" >7</th>\n",
       "                        <td id=\"T_adca8_row2_col0\" class=\"data row2 col0\" >Добавить форму подписки на все основные страницы, чтобы собрать базу клиентов для email-рассылок</td>\n",
       "                        <td id=\"T_adca8_row2_col1\" class=\"data row2 col1\" >10</td>\n",
       "                        <td id=\"T_adca8_row2_col2\" class=\"data row2 col2\" >7</td>\n",
       "                        <td id=\"T_adca8_row2_col3\" class=\"data row2 col3\" >8</td>\n",
       "                        <td id=\"T_adca8_row2_col4\" class=\"data row2 col4\" >5</td>\n",
       "                        <td id=\"T_adca8_row2_col5\" class=\"data row2 col5\" >11.200000</td>\n",
       "            </tr>\n",
       "            <tr>\n",
       "                        <th id=\"T_adca8_level0_row3\" class=\"row_heading level0 row3\" >6</th>\n",
       "                        <td id=\"T_adca8_row3_col0\" class=\"data row3 col0\" >Показать на главной странице баннеры с актуальными акциями и распродажами, чтобы увеличить конверсию</td>\n",
       "                        <td id=\"T_adca8_row3_col1\" class=\"data row3 col1\" >5</td>\n",
       "                        <td id=\"T_adca8_row3_col2\" class=\"data row3 col2\" >3</td>\n",
       "                        <td id=\"T_adca8_row3_col3\" class=\"data row3 col3\" >8</td>\n",
       "                        <td id=\"T_adca8_row3_col4\" class=\"data row3 col4\" >3</td>\n",
       "                        <td id=\"T_adca8_row3_col5\" class=\"data row3 col5\" >8.000000</td>\n",
       "            </tr>\n",
       "            <tr>\n",
       "                        <th id=\"T_adca8_level0_row4\" class=\"row_heading level0 row4\" >2</th>\n",
       "                        <td id=\"T_adca8_row4_col0\" class=\"data row4 col0\" >Добавить блоки рекомендаций товаров на сайт интернет магазина, чтобы повысить конверсию и средний чек заказа</td>\n",
       "                        <td id=\"T_adca8_row4_col1\" class=\"data row4 col1\" >8</td>\n",
       "                        <td id=\"T_adca8_row4_col2\" class=\"data row4 col2\" >3</td>\n",
       "                        <td id=\"T_adca8_row4_col3\" class=\"data row4 col3\" >7</td>\n",
       "                        <td id=\"T_adca8_row4_col4\" class=\"data row4 col4\" >3</td>\n",
       "                        <td id=\"T_adca8_row4_col5\" class=\"data row4 col5\" >7.000000</td>\n",
       "            </tr>\n",
       "            <tr>\n",
       "                        <th id=\"T_adca8_level0_row5\" class=\"row_heading level0 row5\" >1</th>\n",
       "                        <td id=\"T_adca8_row5_col0\" class=\"data row5 col0\" >Запустить собственную службу доставки, что сократит срок доставки заказов</td>\n",
       "                        <td id=\"T_adca8_row5_col1\" class=\"data row5 col1\" >2</td>\n",
       "                        <td id=\"T_adca8_row5_col2\" class=\"data row5 col2\" >5</td>\n",
       "                        <td id=\"T_adca8_row5_col3\" class=\"data row5 col3\" >4</td>\n",
       "                        <td id=\"T_adca8_row5_col4\" class=\"data row5 col4\" >10</td>\n",
       "                        <td id=\"T_adca8_row5_col5\" class=\"data row5 col5\" >2.000000</td>\n",
       "            </tr>\n",
       "            <tr>\n",
       "                        <th id=\"T_adca8_level0_row6\" class=\"row_heading level0 row6\" >5</th>\n",
       "                        <td id=\"T_adca8_row6_col0\" class=\"data row6 col0\" >Добавить страницу отзывов клиентов о магазине, что позволит увеличить количество заказов</td>\n",
       "                        <td id=\"T_adca8_row6_col1\" class=\"data row6 col1\" >3</td>\n",
       "                        <td id=\"T_adca8_row6_col2\" class=\"data row6 col2\" >2</td>\n",
       "                        <td id=\"T_adca8_row6_col3\" class=\"data row6 col3\" >2</td>\n",
       "                        <td id=\"T_adca8_row6_col4\" class=\"data row6 col4\" >3</td>\n",
       "                        <td id=\"T_adca8_row6_col5\" class=\"data row6 col5\" >1.330000</td>\n",
       "            </tr>\n",
       "            <tr>\n",
       "                        <th id=\"T_adca8_level0_row7\" class=\"row_heading level0 row7\" >3</th>\n",
       "                        <td id=\"T_adca8_row7_col0\" class=\"data row7 col0\" >Изменить структура категорий, что увеличит конверсию, т.к. пользователи быстрее найдут нужный товар</td>\n",
       "                        <td id=\"T_adca8_row7_col1\" class=\"data row7 col1\" >8</td>\n",
       "                        <td id=\"T_adca8_row7_col2\" class=\"data row7 col2\" >3</td>\n",
       "                        <td id=\"T_adca8_row7_col3\" class=\"data row7 col3\" >3</td>\n",
       "                        <td id=\"T_adca8_row7_col4\" class=\"data row7 col4\" >8</td>\n",
       "                        <td id=\"T_adca8_row7_col5\" class=\"data row7 col5\" >1.120000</td>\n",
       "            </tr>\n",
       "            <tr>\n",
       "                        <th id=\"T_adca8_level0_row8\" class=\"row_heading level0 row8\" >4</th>\n",
       "                        <td id=\"T_adca8_row8_col0\" class=\"data row8 col0\" >Изменить цвет фона главной страницы, чтобы увеличить вовлеченность пользователей</td>\n",
       "                        <td id=\"T_adca8_row8_col1\" class=\"data row8 col1\" >3</td>\n",
       "                        <td id=\"T_adca8_row8_col2\" class=\"data row8 col2\" >1</td>\n",
       "                        <td id=\"T_adca8_row8_col3\" class=\"data row8 col3\" >1</td>\n",
       "                        <td id=\"T_adca8_row8_col4\" class=\"data row8 col4\" >1</td>\n",
       "                        <td id=\"T_adca8_row8_col5\" class=\"data row8 col5\" >1.000000</td>\n",
       "            </tr>\n",
       "    </tbody></table>"
      ],
      "text/plain": [
       "<pandas.io.formats.style.Styler at 0x7fb0b107a220>"
      ]
     },
     "execution_count": 149,
     "metadata": {},
     "output_type": "execute_result"
    }
   ],
   "source": [
    "data['ICE'] = ((data['Impact']*data['Confidence'])/data['Efforts']).round(decimals=2)\n",
    "data.sort_values(by='ICE', ascending=False).style.set_properties(**{'text-align': 'left'})"
   ]
  },
  {
   "cell_type": "markdown",
   "metadata": {},
   "source": [
    "<div class=\"alert alert-warning\">\n",
    "<b>Комментарий ревьюера ⚠️:</b> В целом верно, но тут значения в ICE вполне можно округлить до второго знака"
   ]
  },
  {
   "cell_type": "markdown",
   "metadata": {},
   "source": [
    "#### Фреймворк RICE\n",
    "\n",
    "Применим фреймворк RICE для приоритизации гипотез. Добавим столбец 'RICE' в таблицу data. Отсортируем значения по убыванию приоритета."
   ]
  },
  {
   "cell_type": "code",
   "execution_count": 150,
   "metadata": {},
   "outputs": [
    {
     "data": {
      "text/html": [
       "<style  type=\"text/css\" >\n",
       "#T_c579f_row0_col0,#T_c579f_row0_col1,#T_c579f_row0_col2,#T_c579f_row0_col3,#T_c579f_row0_col4,#T_c579f_row0_col5,#T_c579f_row0_col6,#T_c579f_row1_col0,#T_c579f_row1_col1,#T_c579f_row1_col2,#T_c579f_row1_col3,#T_c579f_row1_col4,#T_c579f_row1_col5,#T_c579f_row1_col6,#T_c579f_row2_col0,#T_c579f_row2_col1,#T_c579f_row2_col2,#T_c579f_row2_col3,#T_c579f_row2_col4,#T_c579f_row2_col5,#T_c579f_row2_col6,#T_c579f_row3_col0,#T_c579f_row3_col1,#T_c579f_row3_col2,#T_c579f_row3_col3,#T_c579f_row3_col4,#T_c579f_row3_col5,#T_c579f_row3_col6,#T_c579f_row4_col0,#T_c579f_row4_col1,#T_c579f_row4_col2,#T_c579f_row4_col3,#T_c579f_row4_col4,#T_c579f_row4_col5,#T_c579f_row4_col6,#T_c579f_row5_col0,#T_c579f_row5_col1,#T_c579f_row5_col2,#T_c579f_row5_col3,#T_c579f_row5_col4,#T_c579f_row5_col5,#T_c579f_row5_col6,#T_c579f_row6_col0,#T_c579f_row6_col1,#T_c579f_row6_col2,#T_c579f_row6_col3,#T_c579f_row6_col4,#T_c579f_row6_col5,#T_c579f_row6_col6,#T_c579f_row7_col0,#T_c579f_row7_col1,#T_c579f_row7_col2,#T_c579f_row7_col3,#T_c579f_row7_col4,#T_c579f_row7_col5,#T_c579f_row7_col6,#T_c579f_row8_col0,#T_c579f_row8_col1,#T_c579f_row8_col2,#T_c579f_row8_col3,#T_c579f_row8_col4,#T_c579f_row8_col5,#T_c579f_row8_col6{\n",
       "            text-align:  left;\n",
       "        }</style><table id=\"T_c579f_\" ><thead>    <tr>        <th class=\"blank level0\" ></th>        <th class=\"col_heading level0 col0\" >Hypothesis</th>        <th class=\"col_heading level0 col1\" >Reach</th>        <th class=\"col_heading level0 col2\" >Impact</th>        <th class=\"col_heading level0 col3\" >Confidence</th>        <th class=\"col_heading level0 col4\" >Efforts</th>        <th class=\"col_heading level0 col5\" >ICE</th>        <th class=\"col_heading level0 col6\" >RICE</th>    </tr></thead><tbody>\n",
       "                <tr>\n",
       "                        <th id=\"T_c579f_level0_row0\" class=\"row_heading level0 row0\" >7</th>\n",
       "                        <td id=\"T_c579f_row0_col0\" class=\"data row0 col0\" >Добавить форму подписки на все основные страницы, чтобы собрать базу клиентов для email-рассылок</td>\n",
       "                        <td id=\"T_c579f_row0_col1\" class=\"data row0 col1\" >10</td>\n",
       "                        <td id=\"T_c579f_row0_col2\" class=\"data row0 col2\" >7</td>\n",
       "                        <td id=\"T_c579f_row0_col3\" class=\"data row0 col3\" >8</td>\n",
       "                        <td id=\"T_c579f_row0_col4\" class=\"data row0 col4\" >5</td>\n",
       "                        <td id=\"T_c579f_row0_col5\" class=\"data row0 col5\" >11.200000</td>\n",
       "                        <td id=\"T_c579f_row0_col6\" class=\"data row0 col6\" >112.000000</td>\n",
       "            </tr>\n",
       "            <tr>\n",
       "                        <th id=\"T_c579f_level0_row1\" class=\"row_heading level0 row1\" >2</th>\n",
       "                        <td id=\"T_c579f_row1_col0\" class=\"data row1 col0\" >Добавить блоки рекомендаций товаров на сайт интернет магазина, чтобы повысить конверсию и средний чек заказа</td>\n",
       "                        <td id=\"T_c579f_row1_col1\" class=\"data row1 col1\" >8</td>\n",
       "                        <td id=\"T_c579f_row1_col2\" class=\"data row1 col2\" >3</td>\n",
       "                        <td id=\"T_c579f_row1_col3\" class=\"data row1 col3\" >7</td>\n",
       "                        <td id=\"T_c579f_row1_col4\" class=\"data row1 col4\" >3</td>\n",
       "                        <td id=\"T_c579f_row1_col5\" class=\"data row1 col5\" >7.000000</td>\n",
       "                        <td id=\"T_c579f_row1_col6\" class=\"data row1 col6\" >56.000000</td>\n",
       "            </tr>\n",
       "            <tr>\n",
       "                        <th id=\"T_c579f_level0_row2\" class=\"row_heading level0 row2\" >0</th>\n",
       "                        <td id=\"T_c579f_row2_col0\" class=\"data row2 col0\" >Добавить два новых канала привлечения трафика, что позволит привлекать на 30% больше пользователей</td>\n",
       "                        <td id=\"T_c579f_row2_col1\" class=\"data row2 col1\" >3</td>\n",
       "                        <td id=\"T_c579f_row2_col2\" class=\"data row2 col2\" >10</td>\n",
       "                        <td id=\"T_c579f_row2_col3\" class=\"data row2 col3\" >8</td>\n",
       "                        <td id=\"T_c579f_row2_col4\" class=\"data row2 col4\" >6</td>\n",
       "                        <td id=\"T_c579f_row2_col5\" class=\"data row2 col5\" >13.330000</td>\n",
       "                        <td id=\"T_c579f_row2_col6\" class=\"data row2 col6\" >40.000000</td>\n",
       "            </tr>\n",
       "            <tr>\n",
       "                        <th id=\"T_c579f_level0_row3\" class=\"row_heading level0 row3\" >6</th>\n",
       "                        <td id=\"T_c579f_row3_col0\" class=\"data row3 col0\" >Показать на главной странице баннеры с актуальными акциями и распродажами, чтобы увеличить конверсию</td>\n",
       "                        <td id=\"T_c579f_row3_col1\" class=\"data row3 col1\" >5</td>\n",
       "                        <td id=\"T_c579f_row3_col2\" class=\"data row3 col2\" >3</td>\n",
       "                        <td id=\"T_c579f_row3_col3\" class=\"data row3 col3\" >8</td>\n",
       "                        <td id=\"T_c579f_row3_col4\" class=\"data row3 col4\" >3</td>\n",
       "                        <td id=\"T_c579f_row3_col5\" class=\"data row3 col5\" >8.000000</td>\n",
       "                        <td id=\"T_c579f_row3_col6\" class=\"data row3 col6\" >40.000000</td>\n",
       "            </tr>\n",
       "            <tr>\n",
       "                        <th id=\"T_c579f_level0_row4\" class=\"row_heading level0 row4\" >8</th>\n",
       "                        <td id=\"T_c579f_row4_col0\" class=\"data row4 col0\" >Запустить акцию, дающую скидку на товар в день рождения</td>\n",
       "                        <td id=\"T_c579f_row4_col1\" class=\"data row4 col1\" >1</td>\n",
       "                        <td id=\"T_c579f_row4_col2\" class=\"data row4 col2\" >9</td>\n",
       "                        <td id=\"T_c579f_row4_col3\" class=\"data row4 col3\" >9</td>\n",
       "                        <td id=\"T_c579f_row4_col4\" class=\"data row4 col4\" >5</td>\n",
       "                        <td id=\"T_c579f_row4_col5\" class=\"data row4 col5\" >16.200000</td>\n",
       "                        <td id=\"T_c579f_row4_col6\" class=\"data row4 col6\" >16.200000</td>\n",
       "            </tr>\n",
       "            <tr>\n",
       "                        <th id=\"T_c579f_level0_row5\" class=\"row_heading level0 row5\" >3</th>\n",
       "                        <td id=\"T_c579f_row5_col0\" class=\"data row5 col0\" >Изменить структура категорий, что увеличит конверсию, т.к. пользователи быстрее найдут нужный товар</td>\n",
       "                        <td id=\"T_c579f_row5_col1\" class=\"data row5 col1\" >8</td>\n",
       "                        <td id=\"T_c579f_row5_col2\" class=\"data row5 col2\" >3</td>\n",
       "                        <td id=\"T_c579f_row5_col3\" class=\"data row5 col3\" >3</td>\n",
       "                        <td id=\"T_c579f_row5_col4\" class=\"data row5 col4\" >8</td>\n",
       "                        <td id=\"T_c579f_row5_col5\" class=\"data row5 col5\" >1.120000</td>\n",
       "                        <td id=\"T_c579f_row5_col6\" class=\"data row5 col6\" >9.000000</td>\n",
       "            </tr>\n",
       "            <tr>\n",
       "                        <th id=\"T_c579f_level0_row6\" class=\"row_heading level0 row6\" >1</th>\n",
       "                        <td id=\"T_c579f_row6_col0\" class=\"data row6 col0\" >Запустить собственную службу доставки, что сократит срок доставки заказов</td>\n",
       "                        <td id=\"T_c579f_row6_col1\" class=\"data row6 col1\" >2</td>\n",
       "                        <td id=\"T_c579f_row6_col2\" class=\"data row6 col2\" >5</td>\n",
       "                        <td id=\"T_c579f_row6_col3\" class=\"data row6 col3\" >4</td>\n",
       "                        <td id=\"T_c579f_row6_col4\" class=\"data row6 col4\" >10</td>\n",
       "                        <td id=\"T_c579f_row6_col5\" class=\"data row6 col5\" >2.000000</td>\n",
       "                        <td id=\"T_c579f_row6_col6\" class=\"data row6 col6\" >4.000000</td>\n",
       "            </tr>\n",
       "            <tr>\n",
       "                        <th id=\"T_c579f_level0_row7\" class=\"row_heading level0 row7\" >5</th>\n",
       "                        <td id=\"T_c579f_row7_col0\" class=\"data row7 col0\" >Добавить страницу отзывов клиентов о магазине, что позволит увеличить количество заказов</td>\n",
       "                        <td id=\"T_c579f_row7_col1\" class=\"data row7 col1\" >3</td>\n",
       "                        <td id=\"T_c579f_row7_col2\" class=\"data row7 col2\" >2</td>\n",
       "                        <td id=\"T_c579f_row7_col3\" class=\"data row7 col3\" >2</td>\n",
       "                        <td id=\"T_c579f_row7_col4\" class=\"data row7 col4\" >3</td>\n",
       "                        <td id=\"T_c579f_row7_col5\" class=\"data row7 col5\" >1.330000</td>\n",
       "                        <td id=\"T_c579f_row7_col6\" class=\"data row7 col6\" >4.000000</td>\n",
       "            </tr>\n",
       "            <tr>\n",
       "                        <th id=\"T_c579f_level0_row8\" class=\"row_heading level0 row8\" >4</th>\n",
       "                        <td id=\"T_c579f_row8_col0\" class=\"data row8 col0\" >Изменить цвет фона главной страницы, чтобы увеличить вовлеченность пользователей</td>\n",
       "                        <td id=\"T_c579f_row8_col1\" class=\"data row8 col1\" >3</td>\n",
       "                        <td id=\"T_c579f_row8_col2\" class=\"data row8 col2\" >1</td>\n",
       "                        <td id=\"T_c579f_row8_col3\" class=\"data row8 col3\" >1</td>\n",
       "                        <td id=\"T_c579f_row8_col4\" class=\"data row8 col4\" >1</td>\n",
       "                        <td id=\"T_c579f_row8_col5\" class=\"data row8 col5\" >1.000000</td>\n",
       "                        <td id=\"T_c579f_row8_col6\" class=\"data row8 col6\" >3.000000</td>\n",
       "            </tr>\n",
       "    </tbody></table>"
      ],
      "text/plain": [
       "<pandas.io.formats.style.Styler at 0x7fb0b1064a30>"
      ]
     },
     "execution_count": 150,
     "metadata": {},
     "output_type": "execute_result"
    }
   ],
   "source": [
    "data['RICE'] = ((data['Reach']*data['Impact']*data['Confidence'])/data['Efforts']).round(decimals=2)\n",
    "data.sort_values(by='RICE', ascending=False).style.set_properties(**{'text-align': 'left'})"
   ]
  },
  {
   "cell_type": "markdown",
   "metadata": {},
   "source": [
    "#### Сравнение фреймворков. Выводы"
   ]
  },
  {
   "cell_type": "markdown",
   "metadata": {},
   "source": [
    "В случае с фреймворков RICE в расчет был включен такой парметр, как Reach, который показывает охват пользователей. Добавление акции по случю дня рождения затронуло бы всего одного пользоватля, тогда как e-mail рассылки - 10. Этот параметр невелирует параметры Impact и Confidence, которые у гипотезы [Добавить форму подписки на все основные страницы, чтобы собрать базу клиентов для email-рассылок] ниже,чем у [Запустить акцию, дающую скидку на товар в день рождения]."
   ]
  },
  {
   "cell_type": "markdown",
   "metadata": {},
   "source": [
    "<div class=\"alert alert-warning\">\n",
    "<b>Комментарий ревьюера ⚠️:</b>  Тут лучше например вместо гипотезы 7 - вывести ее название. Поскольку 7 - это не номер гипотезы - это ее индекс. У \"коллег\", все может быть иначе, например список в Ноушен с другой сортировкой, поэтому аналитик должен дать универсальный вывод.\n"
   ]
  },
  {
   "cell_type": "markdown",
   "metadata": {},
   "source": [
    "<div class=\"alert alert-success\">\n",
    "<b>Комментарий ревьюера v 2.0 ✔️:</b> Отлично"
   ]
  },
  {
   "cell_type": "markdown",
   "metadata": {},
   "source": [
    "### Анализ A/B-теста"
   ]
  },
  {
   "cell_type": "markdown",
   "metadata": {},
   "source": [
    "Считаем файлы /datasets/orders.csv и /datasets/visitors.csv"
   ]
  },
  {
   "cell_type": "code",
   "execution_count": 151,
   "metadata": {},
   "outputs": [
    {
     "data": {
      "text/html": [
       "<div>\n",
       "<style scoped>\n",
       "    .dataframe tbody tr th:only-of-type {\n",
       "        vertical-align: middle;\n",
       "    }\n",
       "\n",
       "    .dataframe tbody tr th {\n",
       "        vertical-align: top;\n",
       "    }\n",
       "\n",
       "    .dataframe thead th {\n",
       "        text-align: right;\n",
       "    }\n",
       "</style>\n",
       "<table border=\"1\" class=\"dataframe\">\n",
       "  <thead>\n",
       "    <tr style=\"text-align: right;\">\n",
       "      <th></th>\n",
       "      <th>transactionId</th>\n",
       "      <th>visitorId</th>\n",
       "      <th>date</th>\n",
       "      <th>revenue</th>\n",
       "      <th>group</th>\n",
       "    </tr>\n",
       "  </thead>\n",
       "  <tbody>\n",
       "    <tr>\n",
       "      <th>0</th>\n",
       "      <td>3667963787</td>\n",
       "      <td>3312258926</td>\n",
       "      <td>2019-08-15</td>\n",
       "      <td>1650</td>\n",
       "      <td>B</td>\n",
       "    </tr>\n",
       "    <tr>\n",
       "      <th>1</th>\n",
       "      <td>2804400009</td>\n",
       "      <td>3642806036</td>\n",
       "      <td>2019-08-15</td>\n",
       "      <td>730</td>\n",
       "      <td>B</td>\n",
       "    </tr>\n",
       "    <tr>\n",
       "      <th>2</th>\n",
       "      <td>2961555356</td>\n",
       "      <td>4069496402</td>\n",
       "      <td>2019-08-15</td>\n",
       "      <td>400</td>\n",
       "      <td>A</td>\n",
       "    </tr>\n",
       "    <tr>\n",
       "      <th>3</th>\n",
       "      <td>3797467345</td>\n",
       "      <td>1196621759</td>\n",
       "      <td>2019-08-15</td>\n",
       "      <td>9759</td>\n",
       "      <td>B</td>\n",
       "    </tr>\n",
       "    <tr>\n",
       "      <th>4</th>\n",
       "      <td>2282983706</td>\n",
       "      <td>2322279887</td>\n",
       "      <td>2019-08-15</td>\n",
       "      <td>2308</td>\n",
       "      <td>B</td>\n",
       "    </tr>\n",
       "    <tr>\n",
       "      <th>...</th>\n",
       "      <td>...</td>\n",
       "      <td>...</td>\n",
       "      <td>...</td>\n",
       "      <td>...</td>\n",
       "      <td>...</td>\n",
       "    </tr>\n",
       "    <tr>\n",
       "      <th>1192</th>\n",
       "      <td>2662137336</td>\n",
       "      <td>3733762160</td>\n",
       "      <td>2019-08-14</td>\n",
       "      <td>6490</td>\n",
       "      <td>B</td>\n",
       "    </tr>\n",
       "    <tr>\n",
       "      <th>1193</th>\n",
       "      <td>2203539145</td>\n",
       "      <td>370388673</td>\n",
       "      <td>2019-08-14</td>\n",
       "      <td>3190</td>\n",
       "      <td>A</td>\n",
       "    </tr>\n",
       "    <tr>\n",
       "      <th>1194</th>\n",
       "      <td>1807773912</td>\n",
       "      <td>573423106</td>\n",
       "      <td>2019-08-14</td>\n",
       "      <td>10550</td>\n",
       "      <td>A</td>\n",
       "    </tr>\n",
       "    <tr>\n",
       "      <th>1195</th>\n",
       "      <td>1947021204</td>\n",
       "      <td>1614305549</td>\n",
       "      <td>2019-08-14</td>\n",
       "      <td>100</td>\n",
       "      <td>A</td>\n",
       "    </tr>\n",
       "    <tr>\n",
       "      <th>1196</th>\n",
       "      <td>3936777065</td>\n",
       "      <td>2108080724</td>\n",
       "      <td>2019-08-15</td>\n",
       "      <td>202740</td>\n",
       "      <td>B</td>\n",
       "    </tr>\n",
       "  </tbody>\n",
       "</table>\n",
       "<p>1197 rows × 5 columns</p>\n",
       "</div>"
      ],
      "text/plain": [
       "      transactionId   visitorId        date  revenue group\n",
       "0        3667963787  3312258926  2019-08-15     1650     B\n",
       "1        2804400009  3642806036  2019-08-15      730     B\n",
       "2        2961555356  4069496402  2019-08-15      400     A\n",
       "3        3797467345  1196621759  2019-08-15     9759     B\n",
       "4        2282983706  2322279887  2019-08-15     2308     B\n",
       "...             ...         ...         ...      ...   ...\n",
       "1192     2662137336  3733762160  2019-08-14     6490     B\n",
       "1193     2203539145   370388673  2019-08-14     3190     A\n",
       "1194     1807773912   573423106  2019-08-14    10550     A\n",
       "1195     1947021204  1614305549  2019-08-14      100     A\n",
       "1196     3936777065  2108080724  2019-08-15   202740     B\n",
       "\n",
       "[1197 rows x 5 columns]"
      ]
     },
     "execution_count": 151,
     "metadata": {},
     "output_type": "execute_result"
    }
   ],
   "source": [
    "orders = pd.read_csv('/datasets/orders.csv')\n",
    "visitors = pd.read_csv('/datasets/visitors.csv')\n",
    "\n",
    "orders"
   ]
  },
  {
   "cell_type": "code",
   "execution_count": 152,
   "metadata": {},
   "outputs": [
    {
     "data": {
      "text/html": [
       "<div>\n",
       "<style scoped>\n",
       "    .dataframe tbody tr th:only-of-type {\n",
       "        vertical-align: middle;\n",
       "    }\n",
       "\n",
       "    .dataframe tbody tr th {\n",
       "        vertical-align: top;\n",
       "    }\n",
       "\n",
       "    .dataframe thead th {\n",
       "        text-align: right;\n",
       "    }\n",
       "</style>\n",
       "<table border=\"1\" class=\"dataframe\">\n",
       "  <thead>\n",
       "    <tr style=\"text-align: right;\">\n",
       "      <th></th>\n",
       "      <th>date</th>\n",
       "      <th>group</th>\n",
       "      <th>visitors</th>\n",
       "    </tr>\n",
       "  </thead>\n",
       "  <tbody>\n",
       "    <tr>\n",
       "      <th>0</th>\n",
       "      <td>2019-08-01</td>\n",
       "      <td>A</td>\n",
       "      <td>719</td>\n",
       "    </tr>\n",
       "    <tr>\n",
       "      <th>1</th>\n",
       "      <td>2019-08-02</td>\n",
       "      <td>A</td>\n",
       "      <td>619</td>\n",
       "    </tr>\n",
       "    <tr>\n",
       "      <th>2</th>\n",
       "      <td>2019-08-03</td>\n",
       "      <td>A</td>\n",
       "      <td>507</td>\n",
       "    </tr>\n",
       "    <tr>\n",
       "      <th>3</th>\n",
       "      <td>2019-08-04</td>\n",
       "      <td>A</td>\n",
       "      <td>717</td>\n",
       "    </tr>\n",
       "    <tr>\n",
       "      <th>4</th>\n",
       "      <td>2019-08-05</td>\n",
       "      <td>A</td>\n",
       "      <td>756</td>\n",
       "    </tr>\n",
       "    <tr>\n",
       "      <th>...</th>\n",
       "      <td>...</td>\n",
       "      <td>...</td>\n",
       "      <td>...</td>\n",
       "    </tr>\n",
       "    <tr>\n",
       "      <th>57</th>\n",
       "      <td>2019-08-27</td>\n",
       "      <td>B</td>\n",
       "      <td>720</td>\n",
       "    </tr>\n",
       "    <tr>\n",
       "      <th>58</th>\n",
       "      <td>2019-08-28</td>\n",
       "      <td>B</td>\n",
       "      <td>654</td>\n",
       "    </tr>\n",
       "    <tr>\n",
       "      <th>59</th>\n",
       "      <td>2019-08-29</td>\n",
       "      <td>B</td>\n",
       "      <td>531</td>\n",
       "    </tr>\n",
       "    <tr>\n",
       "      <th>60</th>\n",
       "      <td>2019-08-30</td>\n",
       "      <td>B</td>\n",
       "      <td>490</td>\n",
       "    </tr>\n",
       "    <tr>\n",
       "      <th>61</th>\n",
       "      <td>2019-08-31</td>\n",
       "      <td>B</td>\n",
       "      <td>718</td>\n",
       "    </tr>\n",
       "  </tbody>\n",
       "</table>\n",
       "<p>62 rows × 3 columns</p>\n",
       "</div>"
      ],
      "text/plain": [
       "          date group  visitors\n",
       "0   2019-08-01     A       719\n",
       "1   2019-08-02     A       619\n",
       "2   2019-08-03     A       507\n",
       "3   2019-08-04     A       717\n",
       "4   2019-08-05     A       756\n",
       "..         ...   ...       ...\n",
       "57  2019-08-27     B       720\n",
       "58  2019-08-28     B       654\n",
       "59  2019-08-29     B       531\n",
       "60  2019-08-30     B       490\n",
       "61  2019-08-31     B       718\n",
       "\n",
       "[62 rows x 3 columns]"
      ]
     },
     "execution_count": 152,
     "metadata": {},
     "output_type": "execute_result"
    }
   ],
   "source": [
    "visitors"
   ]
  },
  {
   "cell_type": "markdown",
   "metadata": {},
   "source": [
    "Проверим датафреймы на пропуски и дубликаты."
   ]
  },
  {
   "cell_type": "code",
   "execution_count": 153,
   "metadata": {},
   "outputs": [
    {
     "data": {
      "text/plain": [
       "transactionId    0\n",
       "visitorId        0\n",
       "date             0\n",
       "revenue          0\n",
       "group            0\n",
       "dtype: int64"
      ]
     },
     "execution_count": 153,
     "metadata": {},
     "output_type": "execute_result"
    }
   ],
   "source": [
    "orders.isna().sum()"
   ]
  },
  {
   "cell_type": "code",
   "execution_count": 154,
   "metadata": {},
   "outputs": [
    {
     "data": {
      "text/plain": [
       "date        0\n",
       "group       0\n",
       "visitors    0\n",
       "dtype: int64"
      ]
     },
     "execution_count": 154,
     "metadata": {},
     "output_type": "execute_result"
    }
   ],
   "source": [
    "visitors.isna().sum()"
   ]
  },
  {
   "cell_type": "code",
   "execution_count": 155,
   "metadata": {},
   "outputs": [
    {
     "data": {
      "text/plain": [
       "0"
      ]
     },
     "execution_count": 155,
     "metadata": {},
     "output_type": "execute_result"
    }
   ],
   "source": [
    "orders.duplicated().sum()"
   ]
  },
  {
   "cell_type": "code",
   "execution_count": 156,
   "metadata": {},
   "outputs": [
    {
     "data": {
      "text/plain": [
       "0"
      ]
     },
     "execution_count": 156,
     "metadata": {},
     "output_type": "execute_result"
    }
   ],
   "source": [
    "visitors.duplicated().sum()"
   ]
  },
  {
   "cell_type": "markdown",
   "metadata": {},
   "source": [
    "<div class=\"alert alert-success\">\n",
    "<b>Комментарий ревьюера v 2.0 ✔️:</b> Дубликаты и пропуски проверены"
   ]
  },
  {
   "cell_type": "markdown",
   "metadata": {},
   "source": [
    "Данные готовы для работы."
   ]
  },
  {
   "cell_type": "code",
   "execution_count": 157,
   "metadata": {},
   "outputs": [
    {
     "data": {
      "text/plain": [
       "group    58\n",
       "dtype: int64"
      ]
     },
     "execution_count": 157,
     "metadata": {},
     "output_type": "execute_result"
    }
   ],
   "source": [
    "add_tbl = orders.groupby('visitorId').agg({'group':'nunique'}).sort_values(by='group', ascending=False)\n",
    "add_tbl = add_tbl.query('group == 2')\n",
    "add_tbl.count()"
   ]
  },
  {
   "cell_type": "markdown",
   "metadata": {},
   "source": [
    "58 пользователей принадлежат обеим группам. Можно пренебречь данными позициями, на выборку в целом такое количсетво не повлияет сильно."
   ]
  },
  {
   "cell_type": "markdown",
   "metadata": {},
   "source": [
    "<div class=\"alert alert-success\">\n",
    "<b>Комментарий ревьюера v 2.0 ✔️:</b> Пересечения также проверила как надо, здорово!"
   ]
  },
  {
   "cell_type": "code",
   "execution_count": 158,
   "metadata": {
    "scrolled": true
   },
   "outputs": [
    {
     "data": {
      "text/html": [
       "<div>\n",
       "<style scoped>\n",
       "    .dataframe tbody tr th:only-of-type {\n",
       "        vertical-align: middle;\n",
       "    }\n",
       "\n",
       "    .dataframe tbody tr th {\n",
       "        vertical-align: top;\n",
       "    }\n",
       "\n",
       "    .dataframe thead th {\n",
       "        text-align: right;\n",
       "    }\n",
       "</style>\n",
       "<table border=\"1\" class=\"dataframe\">\n",
       "  <thead>\n",
       "    <tr style=\"text-align: right;\">\n",
       "      <th></th>\n",
       "      <th>transactionId</th>\n",
       "      <th>visitorId</th>\n",
       "      <th>date</th>\n",
       "      <th>revenue</th>\n",
       "      <th>group</th>\n",
       "    </tr>\n",
       "  </thead>\n",
       "  <tbody>\n",
       "    <tr>\n",
       "      <th>0</th>\n",
       "      <td>3667963787</td>\n",
       "      <td>3312258926</td>\n",
       "      <td>2019-08-15</td>\n",
       "      <td>1650</td>\n",
       "      <td>B</td>\n",
       "    </tr>\n",
       "    <tr>\n",
       "      <th>1</th>\n",
       "      <td>2804400009</td>\n",
       "      <td>3642806036</td>\n",
       "      <td>2019-08-15</td>\n",
       "      <td>730</td>\n",
       "      <td>B</td>\n",
       "    </tr>\n",
       "    <tr>\n",
       "      <th>3</th>\n",
       "      <td>3797467345</td>\n",
       "      <td>1196621759</td>\n",
       "      <td>2019-08-15</td>\n",
       "      <td>9759</td>\n",
       "      <td>B</td>\n",
       "    </tr>\n",
       "    <tr>\n",
       "      <th>4</th>\n",
       "      <td>2282983706</td>\n",
       "      <td>2322279887</td>\n",
       "      <td>2019-08-15</td>\n",
       "      <td>2308</td>\n",
       "      <td>B</td>\n",
       "    </tr>\n",
       "    <tr>\n",
       "      <th>5</th>\n",
       "      <td>182168103</td>\n",
       "      <td>935554773</td>\n",
       "      <td>2019-08-15</td>\n",
       "      <td>2210</td>\n",
       "      <td>B</td>\n",
       "    </tr>\n",
       "    <tr>\n",
       "      <th>...</th>\n",
       "      <td>...</td>\n",
       "      <td>...</td>\n",
       "      <td>...</td>\n",
       "      <td>...</td>\n",
       "      <td>...</td>\n",
       "    </tr>\n",
       "    <tr>\n",
       "      <th>1191</th>\n",
       "      <td>3592955527</td>\n",
       "      <td>608641596</td>\n",
       "      <td>2019-08-14</td>\n",
       "      <td>16490</td>\n",
       "      <td>B</td>\n",
       "    </tr>\n",
       "    <tr>\n",
       "      <th>1192</th>\n",
       "      <td>2662137336</td>\n",
       "      <td>3733762160</td>\n",
       "      <td>2019-08-14</td>\n",
       "      <td>6490</td>\n",
       "      <td>B</td>\n",
       "    </tr>\n",
       "    <tr>\n",
       "      <th>1193</th>\n",
       "      <td>2203539145</td>\n",
       "      <td>370388673</td>\n",
       "      <td>2019-08-14</td>\n",
       "      <td>3190</td>\n",
       "      <td>A</td>\n",
       "    </tr>\n",
       "    <tr>\n",
       "      <th>1194</th>\n",
       "      <td>1807773912</td>\n",
       "      <td>573423106</td>\n",
       "      <td>2019-08-14</td>\n",
       "      <td>10550</td>\n",
       "      <td>A</td>\n",
       "    </tr>\n",
       "    <tr>\n",
       "      <th>1196</th>\n",
       "      <td>3936777065</td>\n",
       "      <td>2108080724</td>\n",
       "      <td>2019-08-15</td>\n",
       "      <td>202740</td>\n",
       "      <td>B</td>\n",
       "    </tr>\n",
       "  </tbody>\n",
       "</table>\n",
       "<p>1016 rows × 5 columns</p>\n",
       "</div>"
      ],
      "text/plain": [
       "      transactionId   visitorId        date  revenue group\n",
       "0        3667963787  3312258926  2019-08-15     1650     B\n",
       "1        2804400009  3642806036  2019-08-15      730     B\n",
       "3        3797467345  1196621759  2019-08-15     9759     B\n",
       "4        2282983706  2322279887  2019-08-15     2308     B\n",
       "5         182168103   935554773  2019-08-15     2210     B\n",
       "...             ...         ...         ...      ...   ...\n",
       "1191     3592955527   608641596  2019-08-14    16490     B\n",
       "1192     2662137336  3733762160  2019-08-14     6490     B\n",
       "1193     2203539145   370388673  2019-08-14     3190     A\n",
       "1194     1807773912   573423106  2019-08-14    10550     A\n",
       "1196     3936777065  2108080724  2019-08-15   202740     B\n",
       "\n",
       "[1016 rows x 5 columns]"
      ]
     },
     "execution_count": 158,
     "metadata": {},
     "output_type": "execute_result"
    }
   ],
   "source": [
    "ordr = orders.merge(add_tbl, on=\"visitorId\", how=\"left\", indicator=True)\n",
    "orders = ordr.query('group_y != 2').drop(columns=['_merge', 'group_y'])\n",
    "\n",
    "orders = orders.rename(columns={'group_x': 'group'})\n",
    "\n",
    "orders"
   ]
  },
  {
   "cell_type": "markdown",
   "metadata": {},
   "source": [
    "Подготовим данные для создания графиков по куммулятивным покаателям."
   ]
  },
  {
   "cell_type": "code",
   "execution_count": 159,
   "metadata": {},
   "outputs": [
    {
     "data": {
      "text/html": [
       "<div>\n",
       "<style scoped>\n",
       "    .dataframe tbody tr th:only-of-type {\n",
       "        vertical-align: middle;\n",
       "    }\n",
       "\n",
       "    .dataframe tbody tr th {\n",
       "        vertical-align: top;\n",
       "    }\n",
       "\n",
       "    .dataframe thead th {\n",
       "        text-align: right;\n",
       "    }\n",
       "</style>\n",
       "<table border=\"1\" class=\"dataframe\">\n",
       "  <thead>\n",
       "    <tr style=\"text-align: right;\">\n",
       "      <th></th>\n",
       "      <th>date</th>\n",
       "      <th>group</th>\n",
       "    </tr>\n",
       "  </thead>\n",
       "  <tbody>\n",
       "    <tr>\n",
       "      <th>0</th>\n",
       "      <td>2019-08-15</td>\n",
       "      <td>B</td>\n",
       "    </tr>\n",
       "    <tr>\n",
       "      <th>7</th>\n",
       "      <td>2019-08-15</td>\n",
       "      <td>A</td>\n",
       "    </tr>\n",
       "    <tr>\n",
       "      <th>45</th>\n",
       "      <td>2019-08-16</td>\n",
       "      <td>A</td>\n",
       "    </tr>\n",
       "    <tr>\n",
       "      <th>47</th>\n",
       "      <td>2019-08-16</td>\n",
       "      <td>B</td>\n",
       "    </tr>\n",
       "    <tr>\n",
       "      <th>55</th>\n",
       "      <td>2019-08-01</td>\n",
       "      <td>A</td>\n",
       "    </tr>\n",
       "    <tr>\n",
       "      <th>...</th>\n",
       "      <td>...</td>\n",
       "      <td>...</td>\n",
       "    </tr>\n",
       "    <tr>\n",
       "      <th>1068</th>\n",
       "      <td>2019-08-12</td>\n",
       "      <td>A</td>\n",
       "    </tr>\n",
       "    <tr>\n",
       "      <th>1114</th>\n",
       "      <td>2019-08-13</td>\n",
       "      <td>B</td>\n",
       "    </tr>\n",
       "    <tr>\n",
       "      <th>1116</th>\n",
       "      <td>2019-08-13</td>\n",
       "      <td>A</td>\n",
       "    </tr>\n",
       "    <tr>\n",
       "      <th>1149</th>\n",
       "      <td>2019-08-14</td>\n",
       "      <td>B</td>\n",
       "    </tr>\n",
       "    <tr>\n",
       "      <th>1150</th>\n",
       "      <td>2019-08-14</td>\n",
       "      <td>A</td>\n",
       "    </tr>\n",
       "  </tbody>\n",
       "</table>\n",
       "<p>62 rows × 2 columns</p>\n",
       "</div>"
      ],
      "text/plain": [
       "            date group\n",
       "0     2019-08-15     B\n",
       "7     2019-08-15     A\n",
       "45    2019-08-16     A\n",
       "47    2019-08-16     B\n",
       "55    2019-08-01     A\n",
       "...          ...   ...\n",
       "1068  2019-08-12     A\n",
       "1114  2019-08-13     B\n",
       "1116  2019-08-13     A\n",
       "1149  2019-08-14     B\n",
       "1150  2019-08-14     A\n",
       "\n",
       "[62 rows x 2 columns]"
      ]
     },
     "execution_count": 159,
     "metadata": {},
     "output_type": "execute_result"
    }
   ],
   "source": [
    "datesGroups = orders[['date','group']].drop_duplicates() \n",
    "datesGroups"
   ]
  },
  {
   "cell_type": "code",
   "execution_count": 160,
   "metadata": {},
   "outputs": [
    {
     "data": {
      "text/html": [
       "<div>\n",
       "<style scoped>\n",
       "    .dataframe tbody tr th:only-of-type {\n",
       "        vertical-align: middle;\n",
       "    }\n",
       "\n",
       "    .dataframe tbody tr th {\n",
       "        vertical-align: top;\n",
       "    }\n",
       "\n",
       "    .dataframe thead th {\n",
       "        text-align: right;\n",
       "    }\n",
       "</style>\n",
       "<table border=\"1\" class=\"dataframe\">\n",
       "  <thead>\n",
       "    <tr style=\"text-align: right;\">\n",
       "      <th></th>\n",
       "      <th>date</th>\n",
       "      <th>group</th>\n",
       "      <th>transactionId</th>\n",
       "      <th>visitorId</th>\n",
       "      <th>revenue</th>\n",
       "    </tr>\n",
       "  </thead>\n",
       "  <tbody>\n",
       "    <tr>\n",
       "      <th>55</th>\n",
       "      <td>2019-08-01</td>\n",
       "      <td>A</td>\n",
       "      <td>23</td>\n",
       "      <td>19</td>\n",
       "      <td>142779</td>\n",
       "    </tr>\n",
       "    <tr>\n",
       "      <th>66</th>\n",
       "      <td>2019-08-01</td>\n",
       "      <td>B</td>\n",
       "      <td>17</td>\n",
       "      <td>17</td>\n",
       "      <td>59758</td>\n",
       "    </tr>\n",
       "    <tr>\n",
       "      <th>175</th>\n",
       "      <td>2019-08-02</td>\n",
       "      <td>A</td>\n",
       "      <td>42</td>\n",
       "      <td>36</td>\n",
       "      <td>234381</td>\n",
       "    </tr>\n",
       "    <tr>\n",
       "      <th>173</th>\n",
       "      <td>2019-08-02</td>\n",
       "      <td>B</td>\n",
       "      <td>40</td>\n",
       "      <td>39</td>\n",
       "      <td>221801</td>\n",
       "    </tr>\n",
       "    <tr>\n",
       "      <th>291</th>\n",
       "      <td>2019-08-03</td>\n",
       "      <td>A</td>\n",
       "      <td>66</td>\n",
       "      <td>60</td>\n",
       "      <td>346854</td>\n",
       "    </tr>\n",
       "    <tr>\n",
       "      <th>...</th>\n",
       "      <td>...</td>\n",
       "      <td>...</td>\n",
       "      <td>...</td>\n",
       "      <td>...</td>\n",
       "      <td>...</td>\n",
       "    </tr>\n",
       "    <tr>\n",
       "      <th>533</th>\n",
       "      <td>2019-08-29</td>\n",
       "      <td>B</td>\n",
       "      <td>510</td>\n",
       "      <td>490</td>\n",
       "      <td>4746610</td>\n",
       "    </tr>\n",
       "    <tr>\n",
       "      <th>757</th>\n",
       "      <td>2019-08-30</td>\n",
       "      <td>A</td>\n",
       "      <td>460</td>\n",
       "      <td>437</td>\n",
       "      <td>3311413</td>\n",
       "    </tr>\n",
       "    <tr>\n",
       "      <th>690</th>\n",
       "      <td>2019-08-30</td>\n",
       "      <td>B</td>\n",
       "      <td>531</td>\n",
       "      <td>511</td>\n",
       "      <td>4955833</td>\n",
       "    </tr>\n",
       "    <tr>\n",
       "      <th>958</th>\n",
       "      <td>2019-08-31</td>\n",
       "      <td>A</td>\n",
       "      <td>468</td>\n",
       "      <td>445</td>\n",
       "      <td>3364656</td>\n",
       "    </tr>\n",
       "    <tr>\n",
       "      <th>930</th>\n",
       "      <td>2019-08-31</td>\n",
       "      <td>B</td>\n",
       "      <td>548</td>\n",
       "      <td>528</td>\n",
       "      <td>5068972</td>\n",
       "    </tr>\n",
       "  </tbody>\n",
       "</table>\n",
       "<p>62 rows × 5 columns</p>\n",
       "</div>"
      ],
      "text/plain": [
       "           date group  transactionId  visitorId  revenue\n",
       "55   2019-08-01     A             23         19   142779\n",
       "66   2019-08-01     B             17         17    59758\n",
       "175  2019-08-02     A             42         36   234381\n",
       "173  2019-08-02     B             40         39   221801\n",
       "291  2019-08-03     A             66         60   346854\n",
       "..          ...   ...            ...        ...      ...\n",
       "533  2019-08-29     B            510        490  4746610\n",
       "757  2019-08-30     A            460        437  3311413\n",
       "690  2019-08-30     B            531        511  4955833\n",
       "958  2019-08-31     A            468        445  3364656\n",
       "930  2019-08-31     B            548        528  5068972\n",
       "\n",
       "[62 rows x 5 columns]"
      ]
     },
     "execution_count": 160,
     "metadata": {},
     "output_type": "execute_result"
    }
   ],
   "source": [
    "ordersAggregated = datesGroups.apply(lambda x: orders[np.logical_and(orders['date'] <= x['date'], orders['group'] == x['group'])]\\\n",
    ".agg({'date' : 'max', 'group' : 'max', 'transactionId' : 'nunique', 'visitorId' : 'nunique', 'revenue' : 'sum'}), axis=1).sort_values(by=['date','group'])\n",
    "\n",
    "ordersAggregated"
   ]
  },
  {
   "cell_type": "code",
   "execution_count": 161,
   "metadata": {},
   "outputs": [
    {
     "data": {
      "text/html": [
       "<div>\n",
       "<style scoped>\n",
       "    .dataframe tbody tr th:only-of-type {\n",
       "        vertical-align: middle;\n",
       "    }\n",
       "\n",
       "    .dataframe tbody tr th {\n",
       "        vertical-align: top;\n",
       "    }\n",
       "\n",
       "    .dataframe thead th {\n",
       "        text-align: right;\n",
       "    }\n",
       "</style>\n",
       "<table border=\"1\" class=\"dataframe\">\n",
       "  <thead>\n",
       "    <tr style=\"text-align: right;\">\n",
       "      <th></th>\n",
       "      <th>date</th>\n",
       "      <th>group</th>\n",
       "      <th>visitors</th>\n",
       "    </tr>\n",
       "  </thead>\n",
       "  <tbody>\n",
       "    <tr>\n",
       "      <th>55</th>\n",
       "      <td>2019-08-01</td>\n",
       "      <td>A</td>\n",
       "      <td>719</td>\n",
       "    </tr>\n",
       "    <tr>\n",
       "      <th>66</th>\n",
       "      <td>2019-08-01</td>\n",
       "      <td>B</td>\n",
       "      <td>713</td>\n",
       "    </tr>\n",
       "    <tr>\n",
       "      <th>175</th>\n",
       "      <td>2019-08-02</td>\n",
       "      <td>A</td>\n",
       "      <td>1338</td>\n",
       "    </tr>\n",
       "    <tr>\n",
       "      <th>173</th>\n",
       "      <td>2019-08-02</td>\n",
       "      <td>B</td>\n",
       "      <td>1294</td>\n",
       "    </tr>\n",
       "    <tr>\n",
       "      <th>291</th>\n",
       "      <td>2019-08-03</td>\n",
       "      <td>A</td>\n",
       "      <td>1845</td>\n",
       "    </tr>\n",
       "    <tr>\n",
       "      <th>...</th>\n",
       "      <td>...</td>\n",
       "      <td>...</td>\n",
       "      <td>...</td>\n",
       "    </tr>\n",
       "    <tr>\n",
       "      <th>533</th>\n",
       "      <td>2019-08-29</td>\n",
       "      <td>B</td>\n",
       "      <td>17708</td>\n",
       "    </tr>\n",
       "    <tr>\n",
       "      <th>757</th>\n",
       "      <td>2019-08-30</td>\n",
       "      <td>A</td>\n",
       "      <td>18037</td>\n",
       "    </tr>\n",
       "    <tr>\n",
       "      <th>690</th>\n",
       "      <td>2019-08-30</td>\n",
       "      <td>B</td>\n",
       "      <td>18198</td>\n",
       "    </tr>\n",
       "    <tr>\n",
       "      <th>958</th>\n",
       "      <td>2019-08-31</td>\n",
       "      <td>A</td>\n",
       "      <td>18736</td>\n",
       "    </tr>\n",
       "    <tr>\n",
       "      <th>930</th>\n",
       "      <td>2019-08-31</td>\n",
       "      <td>B</td>\n",
       "      <td>18916</td>\n",
       "    </tr>\n",
       "  </tbody>\n",
       "</table>\n",
       "<p>62 rows × 3 columns</p>\n",
       "</div>"
      ],
      "text/plain": [
       "           date group  visitors\n",
       "55   2019-08-01     A       719\n",
       "66   2019-08-01     B       713\n",
       "175  2019-08-02     A      1338\n",
       "173  2019-08-02     B      1294\n",
       "291  2019-08-03     A      1845\n",
       "..          ...   ...       ...\n",
       "533  2019-08-29     B     17708\n",
       "757  2019-08-30     A     18037\n",
       "690  2019-08-30     B     18198\n",
       "958  2019-08-31     A     18736\n",
       "930  2019-08-31     B     18916\n",
       "\n",
       "[62 rows x 3 columns]"
      ]
     },
     "execution_count": 161,
     "metadata": {},
     "output_type": "execute_result"
    }
   ],
   "source": [
    "visitorsAggregated = datesGroups.apply(lambda x: visitors[np.logical_and(visitors['date'] <= x['date'], visitors['group'] == x['group'])].agg({'date' : 'max', 'group' : 'max', 'visitors' : 'sum'}), axis=1).sort_values(by=['date','group'])\n",
    "\n",
    "visitorsAggregated"
   ]
  },
  {
   "cell_type": "code",
   "execution_count": 162,
   "metadata": {
    "scrolled": false
   },
   "outputs": [
    {
     "data": {
      "text/html": [
       "<div>\n",
       "<style scoped>\n",
       "    .dataframe tbody tr th:only-of-type {\n",
       "        vertical-align: middle;\n",
       "    }\n",
       "\n",
       "    .dataframe tbody tr th {\n",
       "        vertical-align: top;\n",
       "    }\n",
       "\n",
       "    .dataframe thead th {\n",
       "        text-align: right;\n",
       "    }\n",
       "</style>\n",
       "<table border=\"1\" class=\"dataframe\">\n",
       "  <thead>\n",
       "    <tr style=\"text-align: right;\">\n",
       "      <th></th>\n",
       "      <th>date</th>\n",
       "      <th>group</th>\n",
       "      <th>orders</th>\n",
       "      <th>buyers</th>\n",
       "      <th>revenue</th>\n",
       "      <th>visitors</th>\n",
       "    </tr>\n",
       "  </thead>\n",
       "  <tbody>\n",
       "    <tr>\n",
       "      <th>0</th>\n",
       "      <td>2019-08-01</td>\n",
       "      <td>A</td>\n",
       "      <td>23</td>\n",
       "      <td>19</td>\n",
       "      <td>142779</td>\n",
       "      <td>719</td>\n",
       "    </tr>\n",
       "    <tr>\n",
       "      <th>1</th>\n",
       "      <td>2019-08-01</td>\n",
       "      <td>B</td>\n",
       "      <td>17</td>\n",
       "      <td>17</td>\n",
       "      <td>59758</td>\n",
       "      <td>713</td>\n",
       "    </tr>\n",
       "    <tr>\n",
       "      <th>2</th>\n",
       "      <td>2019-08-02</td>\n",
       "      <td>A</td>\n",
       "      <td>42</td>\n",
       "      <td>36</td>\n",
       "      <td>234381</td>\n",
       "      <td>1338</td>\n",
       "    </tr>\n",
       "    <tr>\n",
       "      <th>3</th>\n",
       "      <td>2019-08-02</td>\n",
       "      <td>B</td>\n",
       "      <td>40</td>\n",
       "      <td>39</td>\n",
       "      <td>221801</td>\n",
       "      <td>1294</td>\n",
       "    </tr>\n",
       "    <tr>\n",
       "      <th>4</th>\n",
       "      <td>2019-08-03</td>\n",
       "      <td>A</td>\n",
       "      <td>66</td>\n",
       "      <td>60</td>\n",
       "      <td>346854</td>\n",
       "      <td>1845</td>\n",
       "    </tr>\n",
       "    <tr>\n",
       "      <th>...</th>\n",
       "      <td>...</td>\n",
       "      <td>...</td>\n",
       "      <td>...</td>\n",
       "      <td>...</td>\n",
       "      <td>...</td>\n",
       "      <td>...</td>\n",
       "    </tr>\n",
       "    <tr>\n",
       "      <th>57</th>\n",
       "      <td>2019-08-29</td>\n",
       "      <td>B</td>\n",
       "      <td>510</td>\n",
       "      <td>490</td>\n",
       "      <td>4746610</td>\n",
       "      <td>17708</td>\n",
       "    </tr>\n",
       "    <tr>\n",
       "      <th>58</th>\n",
       "      <td>2019-08-30</td>\n",
       "      <td>A</td>\n",
       "      <td>460</td>\n",
       "      <td>437</td>\n",
       "      <td>3311413</td>\n",
       "      <td>18037</td>\n",
       "    </tr>\n",
       "    <tr>\n",
       "      <th>59</th>\n",
       "      <td>2019-08-30</td>\n",
       "      <td>B</td>\n",
       "      <td>531</td>\n",
       "      <td>511</td>\n",
       "      <td>4955833</td>\n",
       "      <td>18198</td>\n",
       "    </tr>\n",
       "    <tr>\n",
       "      <th>60</th>\n",
       "      <td>2019-08-31</td>\n",
       "      <td>A</td>\n",
       "      <td>468</td>\n",
       "      <td>445</td>\n",
       "      <td>3364656</td>\n",
       "      <td>18736</td>\n",
       "    </tr>\n",
       "    <tr>\n",
       "      <th>61</th>\n",
       "      <td>2019-08-31</td>\n",
       "      <td>B</td>\n",
       "      <td>548</td>\n",
       "      <td>528</td>\n",
       "      <td>5068972</td>\n",
       "      <td>18916</td>\n",
       "    </tr>\n",
       "  </tbody>\n",
       "</table>\n",
       "<p>62 rows × 6 columns</p>\n",
       "</div>"
      ],
      "text/plain": [
       "          date group  orders  buyers  revenue  visitors\n",
       "0   2019-08-01     A      23      19   142779       719\n",
       "1   2019-08-01     B      17      17    59758       713\n",
       "2   2019-08-02     A      42      36   234381      1338\n",
       "3   2019-08-02     B      40      39   221801      1294\n",
       "4   2019-08-03     A      66      60   346854      1845\n",
       "..         ...   ...     ...     ...      ...       ...\n",
       "57  2019-08-29     B     510     490  4746610     17708\n",
       "58  2019-08-30     A     460     437  3311413     18037\n",
       "59  2019-08-30     B     531     511  4955833     18198\n",
       "60  2019-08-31     A     468     445  3364656     18736\n",
       "61  2019-08-31     B     548     528  5068972     18916\n",
       "\n",
       "[62 rows x 6 columns]"
      ]
     },
     "execution_count": 162,
     "metadata": {},
     "output_type": "execute_result"
    }
   ],
   "source": [
    "cumulativeData = ordersAggregated.merge(visitorsAggregated, left_on=['date', 'group'], right_on=['date', 'group'])\n",
    "cumulativeData.columns = ['date', 'group', 'orders', 'buyers', 'revenue', 'visitors']\n",
    "\n",
    "cumulativeData"
   ]
  },
  {
   "cell_type": "markdown",
   "metadata": {},
   "source": [
    "<div class=\"alert alert-success\">\n",
    "<b>Комментарий ревьюера ✔️:</b> Уникальные пары сформированы, получены агрегированные данные, молодец!</div>"
   ]
  },
  {
   "cell_type": "markdown",
   "metadata": {},
   "source": [
    "<div class=\"alert alert-danger\">\n",
    "<b>Комментарий ревьюера ❌:</b> Но к сожалению, в разделе отсутствуют проверки данных на дубликаты и пропуски, стоит их выполнить и отразить эти две проверки в выводах. \n",
    "    \n",
    "Также здесь необходимо проверить и описать, не попадают ли какие-то пользователи в обе группы - по таблице с заказами. Мы здесь можем проверить только пересечния именно по покупателям, поскольку данные с визитами уже представлены агрегированными </div>"
   ]
  },
  {
   "cell_type": "markdown",
   "metadata": {},
   "source": [
    "<div class=\"alert alert-warning\">\n",
    "<b>Комментарий ревьюера ⚠️:</b> Еще очень посоветовал бы посмотреть на следующие параметры:\n",
    "    \n",
    "* сколько у нас групп в АВ-тесте;\n",
    "\n",
    "* даты начала и окончания теста;\n",
    "\n",
    "* сколько пользователей в каждой группе"
   ]
  },
  {
   "cell_type": "code",
   "execution_count": 163,
   "metadata": {},
   "outputs": [
    {
     "data": {
      "text/html": [
       "<div>\n",
       "<style scoped>\n",
       "    .dataframe tbody tr th:only-of-type {\n",
       "        vertical-align: middle;\n",
       "    }\n",
       "\n",
       "    .dataframe tbody tr th {\n",
       "        vertical-align: top;\n",
       "    }\n",
       "\n",
       "    .dataframe thead th {\n",
       "        text-align: right;\n",
       "    }\n",
       "</style>\n",
       "<table border=\"1\" class=\"dataframe\">\n",
       "  <thead>\n",
       "    <tr style=\"text-align: right;\">\n",
       "      <th></th>\n",
       "      <th>date</th>\n",
       "      <th>revenue</th>\n",
       "      <th>orders</th>\n",
       "      <th>visitors</th>\n",
       "      <th>buyers</th>\n",
       "    </tr>\n",
       "  </thead>\n",
       "  <tbody>\n",
       "    <tr>\n",
       "      <th>0</th>\n",
       "      <td>2019-08-01</td>\n",
       "      <td>142779</td>\n",
       "      <td>23</td>\n",
       "      <td>719</td>\n",
       "      <td>19</td>\n",
       "    </tr>\n",
       "    <tr>\n",
       "      <th>2</th>\n",
       "      <td>2019-08-02</td>\n",
       "      <td>234381</td>\n",
       "      <td>42</td>\n",
       "      <td>1338</td>\n",
       "      <td>36</td>\n",
       "    </tr>\n",
       "    <tr>\n",
       "      <th>4</th>\n",
       "      <td>2019-08-03</td>\n",
       "      <td>346854</td>\n",
       "      <td>66</td>\n",
       "      <td>1845</td>\n",
       "      <td>60</td>\n",
       "    </tr>\n",
       "    <tr>\n",
       "      <th>6</th>\n",
       "      <td>2019-08-04</td>\n",
       "      <td>388030</td>\n",
       "      <td>77</td>\n",
       "      <td>2562</td>\n",
       "      <td>71</td>\n",
       "    </tr>\n",
       "    <tr>\n",
       "      <th>8</th>\n",
       "      <td>2019-08-05</td>\n",
       "      <td>474413</td>\n",
       "      <td>99</td>\n",
       "      <td>3318</td>\n",
       "      <td>92</td>\n",
       "    </tr>\n",
       "    <tr>\n",
       "      <th>10</th>\n",
       "      <td>2019-08-06</td>\n",
       "      <td>515332</td>\n",
       "      <td>114</td>\n",
       "      <td>3985</td>\n",
       "      <td>104</td>\n",
       "    </tr>\n",
       "    <tr>\n",
       "      <th>12</th>\n",
       "      <td>2019-08-07</td>\n",
       "      <td>638580</td>\n",
       "      <td>130</td>\n",
       "      <td>4629</td>\n",
       "      <td>120</td>\n",
       "    </tr>\n",
       "    <tr>\n",
       "      <th>14</th>\n",
       "      <td>2019-08-08</td>\n",
       "      <td>727219</td>\n",
       "      <td>144</td>\n",
       "      <td>5239</td>\n",
       "      <td>133</td>\n",
       "    </tr>\n",
       "    <tr>\n",
       "      <th>16</th>\n",
       "      <td>2019-08-09</td>\n",
       "      <td>861456</td>\n",
       "      <td>155</td>\n",
       "      <td>5856</td>\n",
       "      <td>143</td>\n",
       "    </tr>\n",
       "    <tr>\n",
       "      <th>18</th>\n",
       "      <td>2019-08-10</td>\n",
       "      <td>1013731</td>\n",
       "      <td>170</td>\n",
       "      <td>6262</td>\n",
       "      <td>158</td>\n",
       "    </tr>\n",
       "    <tr>\n",
       "      <th>20</th>\n",
       "      <td>2019-08-11</td>\n",
       "      <td>1074396</td>\n",
       "      <td>181</td>\n",
       "      <td>6980</td>\n",
       "      <td>169</td>\n",
       "    </tr>\n",
       "    <tr>\n",
       "      <th>22</th>\n",
       "      <td>2019-08-12</td>\n",
       "      <td>1294788</td>\n",
       "      <td>200</td>\n",
       "      <td>7575</td>\n",
       "      <td>188</td>\n",
       "    </tr>\n",
       "    <tr>\n",
       "      <th>24</th>\n",
       "      <td>2019-08-13</td>\n",
       "      <td>1558426</td>\n",
       "      <td>214</td>\n",
       "      <td>8323</td>\n",
       "      <td>201</td>\n",
       "    </tr>\n",
       "    <tr>\n",
       "      <th>26</th>\n",
       "      <td>2019-08-14</td>\n",
       "      <td>1601692</td>\n",
       "      <td>231</td>\n",
       "      <td>9058</td>\n",
       "      <td>218</td>\n",
       "    </tr>\n",
       "    <tr>\n",
       "      <th>28</th>\n",
       "      <td>2019-08-15</td>\n",
       "      <td>1682569</td>\n",
       "      <td>241</td>\n",
       "      <td>9686</td>\n",
       "      <td>228</td>\n",
       "    </tr>\n",
       "    <tr>\n",
       "      <th>30</th>\n",
       "      <td>2019-08-16</td>\n",
       "      <td>1782420</td>\n",
       "      <td>259</td>\n",
       "      <td>10047</td>\n",
       "      <td>246</td>\n",
       "    </tr>\n",
       "    <tr>\n",
       "      <th>32</th>\n",
       "      <td>2019-08-17</td>\n",
       "      <td>1817160</td>\n",
       "      <td>265</td>\n",
       "      <td>10459</td>\n",
       "      <td>251</td>\n",
       "    </tr>\n",
       "    <tr>\n",
       "      <th>34</th>\n",
       "      <td>2019-08-18</td>\n",
       "      <td>1876741</td>\n",
       "      <td>278</td>\n",
       "      <td>11127</td>\n",
       "      <td>264</td>\n",
       "    </tr>\n",
       "    <tr>\n",
       "      <th>36</th>\n",
       "      <td>2019-08-19</td>\n",
       "      <td>2044934</td>\n",
       "      <td>299</td>\n",
       "      <td>11629</td>\n",
       "      <td>283</td>\n",
       "    </tr>\n",
       "    <tr>\n",
       "      <th>38</th>\n",
       "      <td>2019-08-20</td>\n",
       "      <td>2103613</td>\n",
       "      <td>309</td>\n",
       "      <td>12204</td>\n",
       "      <td>293</td>\n",
       "    </tr>\n",
       "    <tr>\n",
       "      <th>40</th>\n",
       "      <td>2019-08-21</td>\n",
       "      <td>2273782</td>\n",
       "      <td>329</td>\n",
       "      <td>12850</td>\n",
       "      <td>311</td>\n",
       "    </tr>\n",
       "    <tr>\n",
       "      <th>42</th>\n",
       "      <td>2019-08-22</td>\n",
       "      <td>2366147</td>\n",
       "      <td>339</td>\n",
       "      <td>13459</td>\n",
       "      <td>321</td>\n",
       "    </tr>\n",
       "    <tr>\n",
       "      <th>44</th>\n",
       "      <td>2019-08-23</td>\n",
       "      <td>2424010</td>\n",
       "      <td>359</td>\n",
       "      <td>13927</td>\n",
       "      <td>341</td>\n",
       "    </tr>\n",
       "    <tr>\n",
       "      <th>46</th>\n",
       "      <td>2019-08-24</td>\n",
       "      <td>2546023</td>\n",
       "      <td>372</td>\n",
       "      <td>14322</td>\n",
       "      <td>354</td>\n",
       "    </tr>\n",
       "    <tr>\n",
       "      <th>48</th>\n",
       "      <td>2019-08-25</td>\n",
       "      <td>2597907</td>\n",
       "      <td>380</td>\n",
       "      <td>14943</td>\n",
       "      <td>362</td>\n",
       "    </tr>\n",
       "    <tr>\n",
       "      <th>50</th>\n",
       "      <td>2019-08-26</td>\n",
       "      <td>2755121</td>\n",
       "      <td>396</td>\n",
       "      <td>15665</td>\n",
       "      <td>378</td>\n",
       "    </tr>\n",
       "    <tr>\n",
       "      <th>52</th>\n",
       "      <td>2019-08-27</td>\n",
       "      <td>2940471</td>\n",
       "      <td>419</td>\n",
       "      <td>16376</td>\n",
       "      <td>400</td>\n",
       "    </tr>\n",
       "    <tr>\n",
       "      <th>54</th>\n",
       "      <td>2019-08-28</td>\n",
       "      <td>3036933</td>\n",
       "      <td>434</td>\n",
       "      <td>16970</td>\n",
       "      <td>413</td>\n",
       "    </tr>\n",
       "    <tr>\n",
       "      <th>56</th>\n",
       "      <td>2019-08-29</td>\n",
       "      <td>3233233</td>\n",
       "      <td>451</td>\n",
       "      <td>17547</td>\n",
       "      <td>430</td>\n",
       "    </tr>\n",
       "    <tr>\n",
       "      <th>58</th>\n",
       "      <td>2019-08-30</td>\n",
       "      <td>3311413</td>\n",
       "      <td>460</td>\n",
       "      <td>18037</td>\n",
       "      <td>437</td>\n",
       "    </tr>\n",
       "    <tr>\n",
       "      <th>60</th>\n",
       "      <td>2019-08-31</td>\n",
       "      <td>3364656</td>\n",
       "      <td>468</td>\n",
       "      <td>18736</td>\n",
       "      <td>445</td>\n",
       "    </tr>\n",
       "  </tbody>\n",
       "</table>\n",
       "</div>"
      ],
      "text/plain": [
       "          date  revenue  orders  visitors  buyers\n",
       "0   2019-08-01   142779      23       719      19\n",
       "2   2019-08-02   234381      42      1338      36\n",
       "4   2019-08-03   346854      66      1845      60\n",
       "6   2019-08-04   388030      77      2562      71\n",
       "8   2019-08-05   474413      99      3318      92\n",
       "10  2019-08-06   515332     114      3985     104\n",
       "12  2019-08-07   638580     130      4629     120\n",
       "14  2019-08-08   727219     144      5239     133\n",
       "16  2019-08-09   861456     155      5856     143\n",
       "18  2019-08-10  1013731     170      6262     158\n",
       "20  2019-08-11  1074396     181      6980     169\n",
       "22  2019-08-12  1294788     200      7575     188\n",
       "24  2019-08-13  1558426     214      8323     201\n",
       "26  2019-08-14  1601692     231      9058     218\n",
       "28  2019-08-15  1682569     241      9686     228\n",
       "30  2019-08-16  1782420     259     10047     246\n",
       "32  2019-08-17  1817160     265     10459     251\n",
       "34  2019-08-18  1876741     278     11127     264\n",
       "36  2019-08-19  2044934     299     11629     283\n",
       "38  2019-08-20  2103613     309     12204     293\n",
       "40  2019-08-21  2273782     329     12850     311\n",
       "42  2019-08-22  2366147     339     13459     321\n",
       "44  2019-08-23  2424010     359     13927     341\n",
       "46  2019-08-24  2546023     372     14322     354\n",
       "48  2019-08-25  2597907     380     14943     362\n",
       "50  2019-08-26  2755121     396     15665     378\n",
       "52  2019-08-27  2940471     419     16376     400\n",
       "54  2019-08-28  3036933     434     16970     413\n",
       "56  2019-08-29  3233233     451     17547     430\n",
       "58  2019-08-30  3311413     460     18037     437\n",
       "60  2019-08-31  3364656     468     18736     445"
      ]
     },
     "execution_count": 163,
     "metadata": {},
     "output_type": "execute_result"
    }
   ],
   "source": [
    "cumulativeRevenueA = cumulativeData[cumulativeData['group']=='A'][['date','revenue', 'orders', 'visitors', 'buyers']]\n",
    "\n",
    "cumulativeRevenueB = cumulativeData[cumulativeData['group']=='B'][['date','revenue', 'orders', 'visitors', 'buyers']]\n",
    "\n",
    "cumulativeRevenueA"
   ]
  },
  {
   "cell_type": "code",
   "execution_count": 164,
   "metadata": {},
   "outputs": [
    {
     "data": {
      "text/html": [
       "<div>\n",
       "<style scoped>\n",
       "    .dataframe tbody tr th:only-of-type {\n",
       "        vertical-align: middle;\n",
       "    }\n",
       "\n",
       "    .dataframe tbody tr th {\n",
       "        vertical-align: top;\n",
       "    }\n",
       "\n",
       "    .dataframe thead th {\n",
       "        text-align: right;\n",
       "    }\n",
       "</style>\n",
       "<table border=\"1\" class=\"dataframe\">\n",
       "  <thead>\n",
       "    <tr style=\"text-align: right;\">\n",
       "      <th></th>\n",
       "      <th>date</th>\n",
       "      <th>revenue</th>\n",
       "      <th>orders</th>\n",
       "      <th>visitors</th>\n",
       "      <th>buyers</th>\n",
       "    </tr>\n",
       "  </thead>\n",
       "  <tbody>\n",
       "    <tr>\n",
       "      <th>1</th>\n",
       "      <td>2019-08-01</td>\n",
       "      <td>59758</td>\n",
       "      <td>17</td>\n",
       "      <td>713</td>\n",
       "      <td>17</td>\n",
       "    </tr>\n",
       "    <tr>\n",
       "      <th>3</th>\n",
       "      <td>2019-08-02</td>\n",
       "      <td>221801</td>\n",
       "      <td>40</td>\n",
       "      <td>1294</td>\n",
       "      <td>39</td>\n",
       "    </tr>\n",
       "    <tr>\n",
       "      <th>5</th>\n",
       "      <td>2019-08-03</td>\n",
       "      <td>288850</td>\n",
       "      <td>54</td>\n",
       "      <td>1803</td>\n",
       "      <td>53</td>\n",
       "    </tr>\n",
       "    <tr>\n",
       "      <th>7</th>\n",
       "      <td>2019-08-04</td>\n",
       "      <td>385740</td>\n",
       "      <td>68</td>\n",
       "      <td>2573</td>\n",
       "      <td>66</td>\n",
       "    </tr>\n",
       "    <tr>\n",
       "      <th>9</th>\n",
       "      <td>2019-08-05</td>\n",
       "      <td>475648</td>\n",
       "      <td>89</td>\n",
       "      <td>3280</td>\n",
       "      <td>87</td>\n",
       "    </tr>\n",
       "    <tr>\n",
       "      <th>11</th>\n",
       "      <td>2019-08-06</td>\n",
       "      <td>690490</td>\n",
       "      <td>112</td>\n",
       "      <td>3935</td>\n",
       "      <td>109</td>\n",
       "    </tr>\n",
       "    <tr>\n",
       "      <th>13</th>\n",
       "      <td>2019-08-07</td>\n",
       "      <td>909654</td>\n",
       "      <td>135</td>\n",
       "      <td>4644</td>\n",
       "      <td>132</td>\n",
       "    </tr>\n",
       "    <tr>\n",
       "      <th>15</th>\n",
       "      <td>2019-08-08</td>\n",
       "      <td>1059795</td>\n",
       "      <td>157</td>\n",
       "      <td>5298</td>\n",
       "      <td>154</td>\n",
       "    </tr>\n",
       "    <tr>\n",
       "      <th>17</th>\n",
       "      <td>2019-08-09</td>\n",
       "      <td>1162961</td>\n",
       "      <td>176</td>\n",
       "      <td>5908</td>\n",
       "      <td>173</td>\n",
       "    </tr>\n",
       "    <tr>\n",
       "      <th>19</th>\n",
       "      <td>2019-08-10</td>\n",
       "      <td>1268123</td>\n",
       "      <td>198</td>\n",
       "      <td>6277</td>\n",
       "      <td>195</td>\n",
       "    </tr>\n",
       "    <tr>\n",
       "      <th>21</th>\n",
       "      <td>2019-08-11</td>\n",
       "      <td>1321183</td>\n",
       "      <td>210</td>\n",
       "      <td>6998</td>\n",
       "      <td>207</td>\n",
       "    </tr>\n",
       "    <tr>\n",
       "      <th>23</th>\n",
       "      <td>2019-08-12</td>\n",
       "      <td>1425237</td>\n",
       "      <td>229</td>\n",
       "      <td>7541</td>\n",
       "      <td>225</td>\n",
       "    </tr>\n",
       "    <tr>\n",
       "      <th>25</th>\n",
       "      <td>2019-08-13</td>\n",
       "      <td>1542928</td>\n",
       "      <td>249</td>\n",
       "      <td>8310</td>\n",
       "      <td>244</td>\n",
       "    </tr>\n",
       "    <tr>\n",
       "      <th>27</th>\n",
       "      <td>2019-08-14</td>\n",
       "      <td>1650268</td>\n",
       "      <td>263</td>\n",
       "      <td>9056</td>\n",
       "      <td>258</td>\n",
       "    </tr>\n",
       "    <tr>\n",
       "      <th>29</th>\n",
       "      <td>2019-08-15</td>\n",
       "      <td>1960427</td>\n",
       "      <td>289</td>\n",
       "      <td>9600</td>\n",
       "      <td>284</td>\n",
       "    </tr>\n",
       "    <tr>\n",
       "      <th>31</th>\n",
       "      <td>2019-08-16</td>\n",
       "      <td>2074677</td>\n",
       "      <td>307</td>\n",
       "      <td>10013</td>\n",
       "      <td>302</td>\n",
       "    </tr>\n",
       "    <tr>\n",
       "      <th>33</th>\n",
       "      <td>2019-08-17</td>\n",
       "      <td>2155542</td>\n",
       "      <td>320</td>\n",
       "      <td>10434</td>\n",
       "      <td>314</td>\n",
       "    </tr>\n",
       "    <tr>\n",
       "      <th>35</th>\n",
       "      <td>2019-08-18</td>\n",
       "      <td>2190865</td>\n",
       "      <td>327</td>\n",
       "      <td>11171</td>\n",
       "      <td>321</td>\n",
       "    </tr>\n",
       "    <tr>\n",
       "      <th>37</th>\n",
       "      <td>2019-08-19</td>\n",
       "      <td>3620785</td>\n",
       "      <td>348</td>\n",
       "      <td>11658</td>\n",
       "      <td>341</td>\n",
       "    </tr>\n",
       "    <tr>\n",
       "      <th>39</th>\n",
       "      <td>2019-08-20</td>\n",
       "      <td>3768059</td>\n",
       "      <td>368</td>\n",
       "      <td>12218</td>\n",
       "      <td>360</td>\n",
       "    </tr>\n",
       "    <tr>\n",
       "      <th>41</th>\n",
       "      <td>2019-08-21</td>\n",
       "      <td>3908406</td>\n",
       "      <td>380</td>\n",
       "      <td>12874</td>\n",
       "      <td>370</td>\n",
       "    </tr>\n",
       "    <tr>\n",
       "      <th>43</th>\n",
       "      <td>2019-08-22</td>\n",
       "      <td>4050134</td>\n",
       "      <td>401</td>\n",
       "      <td>13524</td>\n",
       "      <td>388</td>\n",
       "    </tr>\n",
       "    <tr>\n",
       "      <th>45</th>\n",
       "      <td>2019-08-23</td>\n",
       "      <td>4127403</td>\n",
       "      <td>414</td>\n",
       "      <td>14070</td>\n",
       "      <td>400</td>\n",
       "    </tr>\n",
       "    <tr>\n",
       "      <th>47</th>\n",
       "      <td>2019-08-24</td>\n",
       "      <td>4215269</td>\n",
       "      <td>428</td>\n",
       "      <td>14448</td>\n",
       "      <td>412</td>\n",
       "    </tr>\n",
       "    <tr>\n",
       "      <th>49</th>\n",
       "      <td>2019-08-25</td>\n",
       "      <td>4294526</td>\n",
       "      <td>440</td>\n",
       "      <td>15127</td>\n",
       "      <td>424</td>\n",
       "    </tr>\n",
       "    <tr>\n",
       "      <th>51</th>\n",
       "      <td>2019-08-26</td>\n",
       "      <td>4467965</td>\n",
       "      <td>462</td>\n",
       "      <td>15803</td>\n",
       "      <td>446</td>\n",
       "    </tr>\n",
       "    <tr>\n",
       "      <th>53</th>\n",
       "      <td>2019-08-27</td>\n",
       "      <td>4579312</td>\n",
       "      <td>473</td>\n",
       "      <td>16523</td>\n",
       "      <td>456</td>\n",
       "    </tr>\n",
       "    <tr>\n",
       "      <th>55</th>\n",
       "      <td>2019-08-28</td>\n",
       "      <td>4640510</td>\n",
       "      <td>495</td>\n",
       "      <td>17177</td>\n",
       "      <td>476</td>\n",
       "    </tr>\n",
       "    <tr>\n",
       "      <th>57</th>\n",
       "      <td>2019-08-29</td>\n",
       "      <td>4746610</td>\n",
       "      <td>510</td>\n",
       "      <td>17708</td>\n",
       "      <td>490</td>\n",
       "    </tr>\n",
       "    <tr>\n",
       "      <th>59</th>\n",
       "      <td>2019-08-30</td>\n",
       "      <td>4955833</td>\n",
       "      <td>531</td>\n",
       "      <td>18198</td>\n",
       "      <td>511</td>\n",
       "    </tr>\n",
       "    <tr>\n",
       "      <th>61</th>\n",
       "      <td>2019-08-31</td>\n",
       "      <td>5068972</td>\n",
       "      <td>548</td>\n",
       "      <td>18916</td>\n",
       "      <td>528</td>\n",
       "    </tr>\n",
       "  </tbody>\n",
       "</table>\n",
       "</div>"
      ],
      "text/plain": [
       "          date  revenue  orders  visitors  buyers\n",
       "1   2019-08-01    59758      17       713      17\n",
       "3   2019-08-02   221801      40      1294      39\n",
       "5   2019-08-03   288850      54      1803      53\n",
       "7   2019-08-04   385740      68      2573      66\n",
       "9   2019-08-05   475648      89      3280      87\n",
       "11  2019-08-06   690490     112      3935     109\n",
       "13  2019-08-07   909654     135      4644     132\n",
       "15  2019-08-08  1059795     157      5298     154\n",
       "17  2019-08-09  1162961     176      5908     173\n",
       "19  2019-08-10  1268123     198      6277     195\n",
       "21  2019-08-11  1321183     210      6998     207\n",
       "23  2019-08-12  1425237     229      7541     225\n",
       "25  2019-08-13  1542928     249      8310     244\n",
       "27  2019-08-14  1650268     263      9056     258\n",
       "29  2019-08-15  1960427     289      9600     284\n",
       "31  2019-08-16  2074677     307     10013     302\n",
       "33  2019-08-17  2155542     320     10434     314\n",
       "35  2019-08-18  2190865     327     11171     321\n",
       "37  2019-08-19  3620785     348     11658     341\n",
       "39  2019-08-20  3768059     368     12218     360\n",
       "41  2019-08-21  3908406     380     12874     370\n",
       "43  2019-08-22  4050134     401     13524     388\n",
       "45  2019-08-23  4127403     414     14070     400\n",
       "47  2019-08-24  4215269     428     14448     412\n",
       "49  2019-08-25  4294526     440     15127     424\n",
       "51  2019-08-26  4467965     462     15803     446\n",
       "53  2019-08-27  4579312     473     16523     456\n",
       "55  2019-08-28  4640510     495     17177     476\n",
       "57  2019-08-29  4746610     510     17708     490\n",
       "59  2019-08-30  4955833     531     18198     511\n",
       "61  2019-08-31  5068972     548     18916     528"
      ]
     },
     "execution_count": 164,
     "metadata": {},
     "output_type": "execute_result"
    }
   ],
   "source": [
    "cumulativeRevenueB"
   ]
  },
  {
   "cell_type": "markdown",
   "metadata": {},
   "source": [
    "#### Кумулятивая выручка по группам"
   ]
  },
  {
   "cell_type": "markdown",
   "metadata": {},
   "source": [
    "Построим график кумулятивной выручки по группам."
   ]
  },
  {
   "cell_type": "code",
   "execution_count": 165,
   "metadata": {},
   "outputs": [
    {
     "data": {
      "text/plain": [
       "<matplotlib.legend.Legend at 0x7fb0b0f7dc70>"
      ]
     },
     "execution_count": 165,
     "metadata": {},
     "output_type": "execute_result"
    },
    {
     "data": {
      "image/png": "[encoded data removed]",
      "text/plain": [
       "<Figure size 2160x720 with 1 Axes>"
      ]
     },
     "metadata": {
      "needs_background": "light"
     },
     "output_type": "display_data"
    }
   ],
   "source": [
    "plt.figure(figsize = (30,10))\n",
    "plt.suptitle('Куммулятивная выручка по группам', fontsize=30)\n",
    "plt.xlabel('Дата', fontsize=22)\n",
    "plt.ylabel('Выручка', fontsize=22)\n",
    "plt.plot(cumulativeRevenueA['date'], cumulativeRevenueA['revenue'], label='Группа A', linewidth=5)\n",
    "\n",
    "plt.plot(cumulativeRevenueB['date'], cumulativeRevenueB['revenue'], label='Группа B', linewidth=5)\n",
    "\n",
    "plt.legend(ncol=2, fontsize='xx-large') "
   ]
  },
  {
   "cell_type": "markdown",
   "metadata": {},
   "source": [
    "Выручка почти равномерно увеличивается в течение половины анализируемого периода.\n",
    "Однако график по группе В резко растет с середины периода. Это может сигнализировать о всплесках числа заказов, либо о появлении очень дорогих заказов в выборке. "
   ]
  },
  {
   "cell_type": "markdown",
   "metadata": {},
   "source": [
    "<div class=\"alert alert-success\">\n",
    "<b>Комментарий ревьюера ✔️:</b> Аномалия хорошо зафиксирована и молодец, что предлагаешь возможную причину ее возникновения.</div>"
   ]
  },
  {
   "cell_type": "markdown",
   "metadata": {},
   "source": [
    "#### Кумулятивный средний чек по группам\n",
    "\n",
    "Построим график кумулятивного среднего чека по группам. "
   ]
  },
  {
   "cell_type": "code",
   "execution_count": 166,
   "metadata": {},
   "outputs": [
    {
     "data": {
      "text/plain": [
       "<matplotlib.legend.Legend at 0x7fb0b0eb6a30>"
      ]
     },
     "execution_count": 166,
     "metadata": {},
     "output_type": "execute_result"
    },
    {
     "data": {
      "image/png": "[encoded data removed]",
      "text/plain": [
       "<Figure size 2160x720 with 1 Axes>"
      ]
     },
     "metadata": {
      "needs_background": "light"
     },
     "output_type": "display_data"
    }
   ],
   "source": [
    "plt.figure(figsize = (30,10))\n",
    "plt.suptitle('Куммулятивный средний чек по группам', fontsize=30)\n",
    "plt.xlabel('Дата', fontsize=22)\n",
    "plt.ylabel('Средний чек', fontsize=22)\n",
    "plt.plot(cumulativeRevenueA['date'], cumulativeRevenueA['revenue']/cumulativeRevenueA['orders'], label='Группа A', linewidth=5)\n",
    "\n",
    "plt.plot(cumulativeRevenueB['date'], cumulativeRevenueB['revenue']/cumulativeRevenueB['orders'], label='Группа B', linewidth=5)\n",
    "\n",
    "plt.legend(ncol=2, fontsize='xx-large') "
   ]
  },
  {
   "cell_type": "markdown",
   "metadata": {},
   "source": [
    "Графики кум-ной выручки и кум-ного среднего чека коррелируют друг с другом, что логично."
   ]
  },
  {
   "cell_type": "markdown",
   "metadata": {},
   "source": [
    "<div class=\"alert alert-success\">\n",
    "<b>Комментарий ревьюера ✔️:</b> Вполне логично. Очевидно, здесь тоже есть влияние выбросов</div>"
   ]
  },
  {
   "cell_type": "markdown",
   "metadata": {},
   "source": [
    "#### Относительное изменение кумулятивного среднего чека группы B к группе A\n",
    "\n",
    "Построим график относительного изменения кумулятивного среднего чека группы B к группе A."
   ]
  },
  {
   "cell_type": "code",
   "execution_count": 167,
   "metadata": {},
   "outputs": [
    {
     "data": {
      "text/plain": [
       "<matplotlib.lines.Line2D at 0x7fb0b0dda280>"
      ]
     },
     "execution_count": 167,
     "metadata": {},
     "output_type": "execute_result"
    },
    {
     "data": {
      "image/png": "[encoded data removed]",
      "text/plain": [
       "<Figure size 2160x720 with 1 Axes>"
      ]
     },
     "metadata": {
      "needs_background": "light"
     },
     "output_type": "display_data"
    }
   ],
   "source": [
    "mergedCumulativeRevenue = cumulativeRevenueA.merge(cumulativeRevenueB, left_on='date', right_on='date', how='left', suffixes=['A', 'B'])\n",
    "\n",
    "plt.figure(figsize = (30,10))\n",
    "plt.suptitle('Относительное изменение кумулятивного среднего чека группы B к группе A', fontsize=30)\n",
    "plt.xlabel('Дата', fontsize=22)\n",
    "plt.plot(mergedCumulativeRevenue['date'], (mergedCumulativeRevenue['revenueB']/mergedCumulativeRevenue['ordersB'])/(mergedCumulativeRevenue['revenueA']/mergedCumulativeRevenue['ordersA'])-1)\n",
    "\n",
    "plt.axhline(y=0, color='black', linestyle='--')"
   ]
  },
  {
   "cell_type": "markdown",
   "metadata": {},
   "source": [
    "Есть два периода где различия между сегментами резко «скачет». Значит, есть крупные заказы и выбросы."
   ]
  },
  {
   "cell_type": "markdown",
   "metadata": {},
   "source": [
    "<div class=\"alert alert-success\">\n",
    "<b>Комментарий ревьюера ✔️:</b> Отлично, отдельно отмечу отображение оси X, она повышает наглядность</div>"
   ]
  },
  {
   "cell_type": "markdown",
   "metadata": {},
   "source": [
    "#### Кумулятивное среднее количества заказов на посетителя по группам\n",
    "\n",
    "Построим график кумулятивного среднего количества заказов на посетителя по группам."
   ]
  },
  {
   "cell_type": "code",
   "execution_count": 168,
   "metadata": {},
   "outputs": [
    {
     "data": {
      "text/plain": [
       "<matplotlib.legend.Legend at 0x7fb0b0d5c0d0>"
      ]
     },
     "execution_count": 168,
     "metadata": {},
     "output_type": "execute_result"
    },
    {
     "data": {
      "image/png": "[encoded data removed]",
      "text/plain": [
       "<Figure size 2160x720 with 1 Axes>"
      ]
     },
     "metadata": {
      "needs_background": "light"
     },
     "output_type": "display_data"
    }
   ],
   "source": [
    "plt.figure(figsize = (30,10))\n",
    "plt.suptitle('Кумулятивное среднее количества заказов на посетителя по группам', fontsize=30)\n",
    "plt.xlabel('Дата', fontsize=22)\n",
    "plt.ylabel('Средний количество заказов', fontsize=22)\n",
    "plt.plot(cumulativeRevenueA['date'], cumulativeRevenueA['orders']/cumulativeRevenueA['visitors'], label='Группа A', linewidth=5)\n",
    "\n",
    "plt.plot(cumulativeRevenueB['date'], cumulativeRevenueB['orders']/cumulativeRevenueB['visitors'], label='Группа B', linewidth=5)\n",
    "\n",
    "plt.legend(ncol=2, fontsize='xx-large') "
   ]
  },
  {
   "cell_type": "markdown",
   "metadata": {},
   "source": [
    "Среднее количество заказов на посетителя выше в группе В, чем в группе А, практически во всем анализируемом периоде. Это может быть причиной высокой выручки."
   ]
  },
  {
   "cell_type": "markdown",
   "metadata": {},
   "source": [
    "<div class=\"alert alert-success\">\n",
    "<b>Комментарий ревьюера ✔️:</b> Согласен, В почти все время была выше</div>"
   ]
  },
  {
   "cell_type": "markdown",
   "metadata": {},
   "source": [
    "#### Относительное изменения кумулятивного среднего количества заказов\n",
    "\n",
    "Построим график относительного изменения кумулятивного среднего количества заказов на посетителя группы B к группе A."
   ]
  },
  {
   "cell_type": "code",
   "execution_count": 169,
   "metadata": {},
   "outputs": [
    {
     "data": {
      "text/plain": [
       "<matplotlib.lines.Line2D at 0x7fb0b0d00280>"
      ]
     },
     "execution_count": 169,
     "metadata": {},
     "output_type": "execute_result"
    },
    {
     "data": {
      "image/png": "[encoded data removed]",
      "text/plain": [
       "<Figure size 2160x720 with 1 Axes>"
      ]
     },
     "metadata": {
      "needs_background": "light"
     },
     "output_type": "display_data"
    }
   ],
   "source": [
    "mergedCumulativeRevenue = cumulativeRevenueA.merge(cumulativeRevenueB, left_on='date', right_on='date', how='left', suffixes=['A', 'B'])\n",
    "\n",
    "plt.figure(figsize = (30,10))\n",
    "plt.suptitle('Относительное изменения кумулятивного среднего количества заказов', fontsize=30)\n",
    "plt.xlabel('Дата', fontsize=22)\n",
    "plt.plot(mergedCumulativeRevenue['date'], (mergedCumulativeRevenue['ordersB']/mergedCumulativeRevenue['visitorsB'])/(mergedCumulativeRevenue['ordersA']/mergedCumulativeRevenue['visitorsA'])-1)\n",
    "\n",
    "plt.axhline(y=0, color='black', linestyle='--')"
   ]
  },
  {
   "cell_type": "markdown",
   "metadata": {},
   "source": [
    "График коррелирует с графиком среднего количества заказов, что лишь подтверждет сдланные ранее выводы."
   ]
  },
  {
   "cell_type": "markdown",
   "metadata": {},
   "source": [
    "<div class=\"alert alert-success\">\n",
    "<b>Комментарий ревьюера ✔️:</b> Здорово, также удобная для восприятия горизонтальная линия</div>"
   ]
  },
  {
   "cell_type": "markdown",
   "metadata": {},
   "source": [
    "#### Точечный график количества заказов по пользователям\n",
    "\n",
    "Построим точечный график количества заказов по пользователям."
   ]
  },
  {
   "cell_type": "code",
   "execution_count": 170,
   "metadata": {},
   "outputs": [
    {
     "data": {
      "text/html": [
       "<div>\n",
       "<style scoped>\n",
       "    .dataframe tbody tr th:only-of-type {\n",
       "        vertical-align: middle;\n",
       "    }\n",
       "\n",
       "    .dataframe tbody tr th {\n",
       "        vertical-align: top;\n",
       "    }\n",
       "\n",
       "    .dataframe thead th {\n",
       "        text-align: right;\n",
       "    }\n",
       "</style>\n",
       "<table border=\"1\" class=\"dataframe\">\n",
       "  <thead>\n",
       "    <tr style=\"text-align: right;\">\n",
       "      <th></th>\n",
       "      <th>visitorId</th>\n",
       "      <th>orders</th>\n",
       "    </tr>\n",
       "  </thead>\n",
       "  <tbody>\n",
       "    <tr>\n",
       "      <th>908</th>\n",
       "      <td>3967698036</td>\n",
       "      <td>3</td>\n",
       "    </tr>\n",
       "    <tr>\n",
       "      <th>55</th>\n",
       "      <td>249864742</td>\n",
       "      <td>3</td>\n",
       "    </tr>\n",
       "    <tr>\n",
       "      <th>478</th>\n",
       "      <td>2108163459</td>\n",
       "      <td>3</td>\n",
       "    </tr>\n",
       "    <tr>\n",
       "      <th>687</th>\n",
       "      <td>2988190573</td>\n",
       "      <td>3</td>\n",
       "    </tr>\n",
       "    <tr>\n",
       "      <th>890</th>\n",
       "      <td>3908431265</td>\n",
       "      <td>3</td>\n",
       "    </tr>\n",
       "    <tr>\n",
       "      <th>...</th>\n",
       "      <td>...</td>\n",
       "      <td>...</td>\n",
       "    </tr>\n",
       "    <tr>\n",
       "      <th>331</th>\n",
       "      <td>1438226485</td>\n",
       "      <td>1</td>\n",
       "    </tr>\n",
       "    <tr>\n",
       "      <th>332</th>\n",
       "      <td>1452540367</td>\n",
       "      <td>1</td>\n",
       "    </tr>\n",
       "    <tr>\n",
       "      <th>333</th>\n",
       "      <td>1455323168</td>\n",
       "      <td>1</td>\n",
       "    </tr>\n",
       "    <tr>\n",
       "      <th>334</th>\n",
       "      <td>1455861274</td>\n",
       "      <td>1</td>\n",
       "    </tr>\n",
       "    <tr>\n",
       "      <th>972</th>\n",
       "      <td>4283872382</td>\n",
       "      <td>1</td>\n",
       "    </tr>\n",
       "  </tbody>\n",
       "</table>\n",
       "<p>973 rows × 2 columns</p>\n",
       "</div>"
      ],
      "text/plain": [
       "      visitorId  orders\n",
       "908  3967698036       3\n",
       "55    249864742       3\n",
       "478  2108163459       3\n",
       "687  2988190573       3\n",
       "890  3908431265       3\n",
       "..          ...     ...\n",
       "331  1438226485       1\n",
       "332  1452540367       1\n",
       "333  1455323168       1\n",
       "334  1455861274       1\n",
       "972  4283872382       1\n",
       "\n",
       "[973 rows x 2 columns]"
      ]
     },
     "execution_count": 170,
     "metadata": {},
     "output_type": "execute_result"
    }
   ],
   "source": [
    "ordersByUsers = (orders.groupby('visitorId', as_index=False).agg({'transactionId': 'nunique'})).sort_values(by='transactionId', ascending=False).rename(columns={'transactionId': 'orders'})\n",
    "ordersByUsers"
   ]
  },
  {
   "cell_type": "code",
   "execution_count": 171,
   "metadata": {},
   "outputs": [
    {
     "data": {
      "text/plain": [
       "<matplotlib.collections.PathCollection at 0x7fb0b0da4400>"
      ]
     },
     "execution_count": 171,
     "metadata": {},
     "output_type": "execute_result"
    },
    {
     "data": {
      "image/png": "[encoded data removed]",
      "text/plain": [
       "<Figure size 432x288 with 1 Axes>"
      ]
     },
     "metadata": {
      "needs_background": "light"
     },
     "output_type": "display_data"
    }
   ],
   "source": [
    "x_values = pd.Series(range(0,len(ordersByUsers)))\n",
    "\n",
    "plt.scatter(x_values, ordersByUsers['orders']) "
   ]
  },
  {
   "cell_type": "markdown",
   "metadata": {},
   "source": [
    "В основном пользователи совершают 1 заказ. Это не очень хорошо, так как из этого следует, что удержание пользователей низкое. Но есть и выбросы."
   ]
  },
  {
   "cell_type": "markdown",
   "metadata": {},
   "source": [
    "<div class=\"alert alert-success\">\n",
    "<b>Комментарий ревьюера ✔️:</b> Совершенно верно, и перцентили тут помогут для более точного расчета</div>"
   ]
  },
  {
   "cell_type": "markdown",
   "metadata": {},
   "source": [
    "#### Перцентили количества заказов на пользователя\n",
    "\n",
    "Посчитаем 95-й и 99-й перцентили количества заказов на пользователя. Выберем границу для определения аномальных пользователей."
   ]
  },
  {
   "cell_type": "code",
   "execution_count": 172,
   "metadata": {},
   "outputs": [
    {
     "data": {
      "text/plain": [
       "array([1., 2.])"
      ]
     },
     "execution_count": 172,
     "metadata": {},
     "output_type": "execute_result"
    }
   ],
   "source": [
    "np.percentile(ordersByUsers['orders'], [95, 99])"
   ]
  },
  {
   "cell_type": "markdown",
   "metadata": {},
   "source": [
    "Не более 1% пользователей оформляли больше чем 4 заказа. И 5% пользователей заказывали более 2 раз.\n",
    "\n",
    "Разумно выбрать 2 заказа на одного пользователя за верхнюю границу числа заказов, и отсеять аномальных пользователей по ней."
   ]
  },
  {
   "cell_type": "markdown",
   "metadata": {},
   "source": [
    "<div class=\"alert alert-success\">\n",
    "<b>Комментарий ревьюера ✔️:</b> Корректная интерпретация</div>"
   ]
  },
  {
   "cell_type": "markdown",
   "metadata": {},
   "source": [
    "#### Точечный график стоимостей заказов\n",
    "\n",
    "Построим точечный график стоимостей заказов."
   ]
  },
  {
   "cell_type": "code",
   "execution_count": 173,
   "metadata": {},
   "outputs": [
    {
     "data": {
      "text/html": [
       "<div>\n",
       "<style scoped>\n",
       "    .dataframe tbody tr th:only-of-type {\n",
       "        vertical-align: middle;\n",
       "    }\n",
       "\n",
       "    .dataframe tbody tr th {\n",
       "        vertical-align: top;\n",
       "    }\n",
       "\n",
       "    .dataframe thead th {\n",
       "        text-align: right;\n",
       "    }\n",
       "</style>\n",
       "<table border=\"1\" class=\"dataframe\">\n",
       "  <thead>\n",
       "    <tr style=\"text-align: right;\">\n",
       "      <th></th>\n",
       "      <th>transactionId</th>\n",
       "      <th>revenue</th>\n",
       "    </tr>\n",
       "  </thead>\n",
       "  <tbody>\n",
       "    <tr>\n",
       "      <th>143</th>\n",
       "      <td>590470918</td>\n",
       "      <td>1294500</td>\n",
       "    </tr>\n",
       "    <tr>\n",
       "      <th>939</th>\n",
       "      <td>3936777065</td>\n",
       "      <td>202740</td>\n",
       "    </tr>\n",
       "    <tr>\n",
       "      <th>161</th>\n",
       "      <td>666610489</td>\n",
       "      <td>92550</td>\n",
       "    </tr>\n",
       "    <tr>\n",
       "      <th>875</th>\n",
       "      <td>3668308183</td>\n",
       "      <td>86620</td>\n",
       "    </tr>\n",
       "    <tr>\n",
       "      <th>850</th>\n",
       "      <td>3603576309</td>\n",
       "      <td>67990</td>\n",
       "    </tr>\n",
       "    <tr>\n",
       "      <th>...</th>\n",
       "      <td>...</td>\n",
       "      <td>...</td>\n",
       "    </tr>\n",
       "    <tr>\n",
       "      <th>481</th>\n",
       "      <td>2052514069</td>\n",
       "      <td>70</td>\n",
       "    </tr>\n",
       "    <tr>\n",
       "      <th>892</th>\n",
       "      <td>3760662696</td>\n",
       "      <td>60</td>\n",
       "    </tr>\n",
       "    <tr>\n",
       "      <th>203</th>\n",
       "      <td>863448794</td>\n",
       "      <td>50</td>\n",
       "    </tr>\n",
       "    <tr>\n",
       "      <th>25</th>\n",
       "      <td>125335873</td>\n",
       "      <td>50</td>\n",
       "    </tr>\n",
       "    <tr>\n",
       "      <th>249</th>\n",
       "      <td>1126146019</td>\n",
       "      <td>50</td>\n",
       "    </tr>\n",
       "  </tbody>\n",
       "</table>\n",
       "<p>1016 rows × 2 columns</p>\n",
       "</div>"
      ],
      "text/plain": [
       "     transactionId  revenue\n",
       "143      590470918  1294500\n",
       "939     3936777065   202740\n",
       "161      666610489    92550\n",
       "875     3668308183    86620\n",
       "850     3603576309    67990\n",
       "..             ...      ...\n",
       "481     2052514069       70\n",
       "892     3760662696       60\n",
       "203      863448794       50\n",
       "25       125335873       50\n",
       "249     1126146019       50\n",
       "\n",
       "[1016 rows x 2 columns]"
      ]
     },
     "execution_count": 173,
     "metadata": {},
     "output_type": "execute_result"
    }
   ],
   "source": [
    "revByOrders = (orders.groupby('transactionId', as_index=False).agg({'revenue': 'sum'})).sort_values(by='revenue', ascending=False)\n",
    "revByOrders"
   ]
  },
  {
   "cell_type": "code",
   "execution_count": 174,
   "metadata": {},
   "outputs": [
    {
     "data": {
      "text/plain": [
       "<matplotlib.collections.PathCollection at 0x7fb0b0c63dc0>"
      ]
     },
     "execution_count": 174,
     "metadata": {},
     "output_type": "execute_result"
    },
    {
     "data": {
      "image/png": "[encoded data removed]",
      "text/plain": [
       "<Figure size 432x288 with 1 Axes>"
      ]
     },
     "metadata": {
      "needs_background": "light"
     },
     "output_type": "display_data"
    }
   ],
   "source": [
    "x_values = pd.Series(range(0,len(revByOrders)))\n",
    "\n",
    "plt.scatter(x_values, revByOrders['revenue']) "
   ]
  },
  {
   "cell_type": "markdown",
   "metadata": {},
   "source": [
    "Видно, что есть выбросы."
   ]
  },
  {
   "cell_type": "markdown",
   "metadata": {},
   "source": [
    "<div class=\"alert alert-success\">\n",
    "<b>Комментарий ревьюера ✔️:</b> Да, тут есть аномалии</div>"
   ]
  },
  {
   "cell_type": "markdown",
   "metadata": {},
   "source": [
    "#### Перцентили стоимости заказов\n",
    "\n",
    "Посчитаем 95-й и 99-й перцентили стоимости заказов. Выберем границу для определения аномальных заказов."
   ]
  },
  {
   "cell_type": "code",
   "execution_count": 175,
   "metadata": {},
   "outputs": [
    {
     "data": {
      "text/plain": [
       "array([26785., 53904.])"
      ]
     },
     "execution_count": 175,
     "metadata": {},
     "output_type": "execute_result"
    }
   ],
   "source": [
    "np.percentile(revByOrders['revenue'], [95, 99])"
   ]
  },
  {
   "cell_type": "markdown",
   "metadata": {},
   "source": [
    "Не более 1% пользователей оформляли заказ на сумму больше чем 58233. И 5% пользователей заказывали на сумму больше чем 28000.\n",
    "\n",
    "Разумно выбрать сумму заказа заказа на одного пользователя равную 28000 за верхнюю границу и отсеять аномальные значения."
   ]
  },
  {
   "cell_type": "markdown",
   "metadata": {},
   "source": [
    "<div class=\"alert alert-success\">\n",
    "<b>Комментарий ревьюера ✔️:</b> Вполне оправданно</div>"
   ]
  },
  {
   "cell_type": "markdown",
   "metadata": {},
   "source": [
    "#### Значимость различий в среднем количестве заказов («сырые» данные)\n",
    "\n",
    "Посчитаем статистическую значимость различий в среднем количестве заказов на посетителя между группами по «сырым» данным."
   ]
  },
  {
   "cell_type": "code",
   "execution_count": 176,
   "metadata": {},
   "outputs": [
    {
     "data": {
      "text/html": [
       "<div>\n",
       "<style scoped>\n",
       "    .dataframe tbody tr th:only-of-type {\n",
       "        vertical-align: middle;\n",
       "    }\n",
       "\n",
       "    .dataframe tbody tr th {\n",
       "        vertical-align: top;\n",
       "    }\n",
       "\n",
       "    .dataframe thead th {\n",
       "        text-align: right;\n",
       "    }\n",
       "</style>\n",
       "<table border=\"1\" class=\"dataframe\">\n",
       "  <thead>\n",
       "    <tr style=\"text-align: right;\">\n",
       "      <th></th>\n",
       "      <th>date</th>\n",
       "      <th>ordersPerDateA</th>\n",
       "      <th>revenuePerDateA</th>\n",
       "      <th>ordersPerDateB</th>\n",
       "      <th>revenuePerDateB</th>\n",
       "      <th>ordersCummulativeA</th>\n",
       "      <th>revenueCummulativeA</th>\n",
       "      <th>ordersCummulativeB</th>\n",
       "      <th>revenueCummulativeB</th>\n",
       "      <th>visitorsPerDateA</th>\n",
       "      <th>visitorsPerDateB</th>\n",
       "      <th>visitorsCummulativeA</th>\n",
       "      <th>visitorsCummulativeB</th>\n",
       "    </tr>\n",
       "  </thead>\n",
       "  <tbody>\n",
       "    <tr>\n",
       "      <th>0</th>\n",
       "      <td>2019-08-01</td>\n",
       "      <td>23</td>\n",
       "      <td>142779</td>\n",
       "      <td>17</td>\n",
       "      <td>59758</td>\n",
       "      <td>23</td>\n",
       "      <td>142779</td>\n",
       "      <td>17</td>\n",
       "      <td>59758</td>\n",
       "      <td>719</td>\n",
       "      <td>713</td>\n",
       "      <td>719</td>\n",
       "      <td>713</td>\n",
       "    </tr>\n",
       "    <tr>\n",
       "      <th>1</th>\n",
       "      <td>2019-08-02</td>\n",
       "      <td>19</td>\n",
       "      <td>91602</td>\n",
       "      <td>23</td>\n",
       "      <td>162043</td>\n",
       "      <td>42</td>\n",
       "      <td>234381</td>\n",
       "      <td>40</td>\n",
       "      <td>221801</td>\n",
       "      <td>619</td>\n",
       "      <td>581</td>\n",
       "      <td>1338</td>\n",
       "      <td>1294</td>\n",
       "    </tr>\n",
       "    <tr>\n",
       "      <th>2</th>\n",
       "      <td>2019-08-03</td>\n",
       "      <td>24</td>\n",
       "      <td>112473</td>\n",
       "      <td>14</td>\n",
       "      <td>67049</td>\n",
       "      <td>66</td>\n",
       "      <td>346854</td>\n",
       "      <td>54</td>\n",
       "      <td>288850</td>\n",
       "      <td>507</td>\n",
       "      <td>509</td>\n",
       "      <td>1845</td>\n",
       "      <td>1803</td>\n",
       "    </tr>\n",
       "    <tr>\n",
       "      <th>3</th>\n",
       "      <td>2019-08-04</td>\n",
       "      <td>11</td>\n",
       "      <td>41176</td>\n",
       "      <td>14</td>\n",
       "      <td>96890</td>\n",
       "      <td>77</td>\n",
       "      <td>388030</td>\n",
       "      <td>68</td>\n",
       "      <td>385740</td>\n",
       "      <td>717</td>\n",
       "      <td>770</td>\n",
       "      <td>2562</td>\n",
       "      <td>2573</td>\n",
       "    </tr>\n",
       "    <tr>\n",
       "      <th>4</th>\n",
       "      <td>2019-08-05</td>\n",
       "      <td>22</td>\n",
       "      <td>86383</td>\n",
       "      <td>21</td>\n",
       "      <td>89908</td>\n",
       "      <td>99</td>\n",
       "      <td>474413</td>\n",
       "      <td>89</td>\n",
       "      <td>475648</td>\n",
       "      <td>756</td>\n",
       "      <td>707</td>\n",
       "      <td>3318</td>\n",
       "      <td>3280</td>\n",
       "    </tr>\n",
       "  </tbody>\n",
       "</table>\n",
       "</div>"
      ],
      "text/plain": [
       "         date  ordersPerDateA  revenuePerDateA  ordersPerDateB  \\\n",
       "0  2019-08-01              23           142779              17   \n",
       "1  2019-08-02              19            91602              23   \n",
       "2  2019-08-03              24           112473              14   \n",
       "3  2019-08-04              11            41176              14   \n",
       "4  2019-08-05              22            86383              21   \n",
       "\n",
       "   revenuePerDateB  ordersCummulativeA  revenueCummulativeA  \\\n",
       "0            59758                  23               142779   \n",
       "1           162043                  42               234381   \n",
       "2            67049                  66               346854   \n",
       "3            96890                  77               388030   \n",
       "4            89908                  99               474413   \n",
       "\n",
       "   ordersCummulativeB  revenueCummulativeB  visitorsPerDateA  \\\n",
       "0                  17                59758               719   \n",
       "1                  40               221801               619   \n",
       "2                  54               288850               507   \n",
       "3                  68               385740               717   \n",
       "4                  89               475648               756   \n",
       "\n",
       "   visitorsPerDateB  visitorsCummulativeA  visitorsCummulativeB  \n",
       "0               713                   719                   713  \n",
       "1               581                  1338                  1294  \n",
       "2               509                  1845                  1803  \n",
       "3               770                  2562                  2573  \n",
       "4               707                  3318                  3280  "
      ]
     },
     "execution_count": 176,
     "metadata": {},
     "output_type": "execute_result"
    }
   ],
   "source": [
    "visitorsADaily = visitors[visitors['group'] == 'A'][['date', 'visitors']]\n",
    "visitorsADaily.columns = ['date', 'visitorsPerDateA']\n",
    "\n",
    "visitorsACummulative = visitorsADaily.apply(lambda x: visitorsADaily[visitorsADaily['date'] <= x['date']].agg(\n",
    "    {'date': 'max', 'visitorsPerDateA': 'sum'}),axis=1)\n",
    "visitorsACummulative.columns = ['date', 'visitorsCummulativeA']\n",
    "\n",
    "visitorsBDaily = visitors[visitors['group'] == 'B'][['date', 'visitors']]\n",
    "visitorsBDaily.columns = ['date', 'visitorsPerDateB']\n",
    "\n",
    "visitorsBCummulative = visitorsBDaily.apply(lambda x: visitorsBDaily[visitorsBDaily['date'] <= x['date']].agg(\n",
    "    {'date': 'max', 'visitorsPerDateB': 'sum'}),axis=1)\n",
    "visitorsBCummulative.columns = ['date', 'visitorsCummulativeB']\n",
    "\n",
    "ordersADaily = (\n",
    "    orders[orders['group'] == 'A'][['date', 'transactionId', 'visitorId', 'revenue']]\n",
    "    .groupby('date', as_index=False)\n",
    "    .agg({'transactionId': pd.Series.nunique, 'revenue': 'sum'})\n",
    ")\n",
    "ordersADaily.columns = ['date', 'ordersPerDateA', 'revenuePerDateA']\n",
    "\n",
    "ordersACummulative = ordersADaily.apply(lambda x: ordersADaily[ordersADaily['date'] <= x['date']].agg(\n",
    "    {'date': 'max', 'ordersPerDateA': 'sum', 'revenuePerDateA': 'sum'}),axis=1).sort_values(by=['date'])\n",
    "ordersACummulative.columns = ['date','ordersCummulativeA','revenueCummulativeA',]\n",
    "\n",
    "ordersBDaily = (orders[orders['group'] == 'B'][['date', 'transactionId', 'visitorId', 'revenue']]\n",
    "    .groupby('date', as_index=False).agg({'transactionId': pd.Series.nunique, 'revenue': 'sum'}))\n",
    "ordersBDaily.columns = ['date', 'ordersPerDateB', 'revenuePerDateB']\n",
    "\n",
    "ordersBCummulative = ordersBDaily.apply(lambda x: ordersBDaily[ordersBDaily['date'] <= x['date']].agg(\n",
    "    {'date': 'max', 'ordersPerDateB': 'sum', 'revenuePerDateB': 'sum'}),axis=1).sort_values(by=['date'])\n",
    "ordersBCummulative.columns = ['date','ordersCummulativeB','revenueCummulativeB',]\n",
    "\n",
    "data = (ordersADaily.merge(ordersBDaily, left_on='date', right_on='date', how='left')\n",
    "    .merge(ordersACummulative, left_on='date', right_on='date', how='left')\n",
    "    .merge(ordersBCummulative, left_on='date', right_on='date', how='left')\n",
    "    .merge(visitorsADaily, left_on='date', right_on='date', how='left')\n",
    "    .merge(visitorsBDaily, left_on='date', right_on='date', how='left')\n",
    "    .merge(visitorsACummulative, left_on='date', right_on='date', how='left')\n",
    "    .merge(visitorsBCummulative, left_on='date', right_on='date', how='left')\n",
    ")\n",
    "\n",
    "data.head()"
   ]
  },
  {
   "cell_type": "markdown",
   "metadata": {},
   "source": [
    "Создадим переменные ordersByUsersA и ordersByUsersB со столбцами ['userId', 'orders']. В них для пользователей, которые заказывали хотя бы 1 раз, укажем число совершённых заказов."
   ]
  },
  {
   "cell_type": "code",
   "execution_count": 177,
   "metadata": {},
   "outputs": [],
   "source": [
    "ordersByUsersA = (orders[orders['group'] == 'A'].groupby('visitorId', as_index=False).agg({'transactionId': pd.Series.nunique}))\n",
    "ordersByUsersA.columns = ['visitorId', 'orders']\n",
    "\n",
    "ordersByUsersB = (orders[orders['group'] == 'B'].groupby('visitorId', as_index=False).agg({'transactionId': pd.Series.nunique}))\n",
    "ordersByUsersB.columns = ['visitorId', 'orders']"
   ]
  },
  {
   "cell_type": "markdown",
   "metadata": {},
   "source": [
    "Объявим переменные sampleA и sampleB, в которых пользователям из разных групп будет соответствовать количество заказов. Тем, кто ничего не заказал, будут соответствовать нули. Это нужно, чтобы подготовить выборки к проверке критерием Манна-Уитни."
   ]
  },
  {
   "cell_type": "markdown",
   "metadata": {},
   "source": [
    "Сформулируем гипотезы:\n",
    "\n",
    "1. Нулевая гипотеза: Нет различий в среднем количестве заказов между группами А и В.\n",
    "2. Альтернативная гипотеза: Различия между двумя группами по среднему числу заказов есть."
   ]
  },
  {
   "cell_type": "markdown",
   "metadata": {},
   "source": [
    "<div class=\"alert alert-success\">\n",
    "<b>Комментарий ревьюера v 2.0 ✔️:</b> Гипотезы указаны"
   ]
  },
  {
   "cell_type": "markdown",
   "metadata": {},
   "source": [
    "<div class=\"alert alert-success\">\n",
    "<b>Комментарий ревьюера ✔️:</b> Хорошо собрала все данные для проверки</div>"
   ]
  },
  {
   "cell_type": "code",
   "execution_count": 178,
   "metadata": {},
   "outputs": [],
   "source": [
    "sampleA = pd.concat([ordersByUsersA['orders'],pd.Series(0, index=np.arange(data['visitorsPerDateA'].sum() - len(ordersByUsersA['orders'])), name='orders')],axis=0)\n",
    "sampleB = pd.concat([ordersByUsersB['orders'],pd.Series(0, index=np.arange(data['visitorsPerDateB'].sum() - len(ordersByUsersB['orders'])), name='orders')],axis=0)"
   ]
  },
  {
   "cell_type": "markdown",
   "metadata": {},
   "source": [
    "<div class=\"alert alert-danger\">\n",
    "<b>Комментарий ревьюера ❌:</b> Но ведь фактически это проверка гипотезы, значит здесь нужно четко сформулировать нулевую и альтернативную гипотезу для этой самой проверки) </div>"
   ]
  },
  {
   "cell_type": "code",
   "execution_count": 180,
   "metadata": {},
   "outputs": [
    {
     "name": "stdout",
     "output_type": "stream",
     "text": [
      "P-value:  0.011\n",
      "Относительный прирост среднего числа заказов группы B:  0.160\n"
     ]
    }
   ],
   "source": [
    "ordersByUsersA = (orders[orders['group'] == 'A'].groupby('visitorId', as_index=False).agg({'transactionId': pd.Series.nunique}))\n",
    "ordersByUsersA.columns = ['visitorId', 'orders']\n",
    "\n",
    "ordersByUsersB = (orders[orders['group'] == 'B'].groupby('visitorId', as_index=False).agg({'transactionId': pd.Series.nunique}))\n",
    "ordersByUsersB.columns = ['visitorId', 'orders']\n",
    "\n",
    "sampleA = pd.concat([ordersByUsersA['orders'],pd.Series(0,index=np.arange(\n",
    "    data['visitorsPerDateA'].sum() - len(ordersByUsersA['orders'])),name='orders',),],axis=0)\n",
    "\n",
    "sampleB = pd.concat([ordersByUsersB['orders'],pd.Series(0,index=np.arange(\n",
    "    data['visitorsPerDateB'].sum() - len(ordersByUsersB['orders'])),name='orders',),],axis=0)\n",
    "\n",
    "print('P-value: ', \"{0:.3f}\".format(stats.mannwhitneyu(sampleA, sampleB)[1]))\n",
    "\n",
    "print('Относительный прирост среднего числа заказов группы B: ', \"{0:.3f}\".format(sampleB.mean() / sampleA.mean() - 1))"
   ]
  },
  {
   "cell_type": "markdown",
   "metadata": {},
   "source": [
    "<div class=\"alert alert-warning\">\n",
    "<b>Комментарий ревьюера ⚠️:</b> Эти два числа тут и ниже стоит подписать для удобства. Сейчас не совсем понятно, что из них что"
   ]
  },
  {
   "cell_type": "markdown",
   "metadata": {},
   "source": [
    "<div class=\"alert alert-success\">\n",
    "<b>Комментарий ревьюера v 2.0 ✔️:</b> Так стало нагляднее"
   ]
  },
  {
   "cell_type": "markdown",
   "metadata": {},
   "source": [
    "Вывод: P-value меньше 0.05. Значит, есть причины отвергать нулевую гипотезу и считать, что в среднем количестве заказов есть различия между группами. Среднее число заказов В ниже на 13.8%"
   ]
  },
  {
   "cell_type": "markdown",
   "metadata": {},
   "source": [
    "<div class=\"alert alert-success\">\n",
    "<b>Комментарий ревьюера ✔️:</b> Сам же тест проводишь как надо, хорошо</div>"
   ]
  },
  {
   "cell_type": "markdown",
   "metadata": {},
   "source": [
    "#### Значимость различий в среднем чеке заказа между группами («сырые» данные)\n",
    "\n",
    "Посчитаем статистическую значимость различий в среднем чеке заказа между группами по «сырым» данным."
   ]
  },
  {
   "cell_type": "markdown",
   "metadata": {},
   "source": [
    "Выведем относительный прирост среднего числа заказов группы B: среднее число заказов группы B / среднее число заказов группы A - 1. Округлим до трёх знаков после запятой."
   ]
  },
  {
   "cell_type": "markdown",
   "metadata": {},
   "source": [
    "Сформулируем гипотезы:\n",
    "\n",
    "1. Нулевая гипотеза: Нет различий в среднем чеке заказа между группами А и В.\n",
    "2. Альтернативная гипотеза: Различия между двумя группами по среднему чеку заказа есть."
   ]
  },
  {
   "cell_type": "markdown",
   "metadata": {},
   "source": [
    "<div class=\"alert alert-success\">\n",
    "<b>Комментарий ревьюера v 2.0 ✔️:</b> Все правильно"
   ]
  },
  {
   "cell_type": "markdown",
   "metadata": {},
   "source": [
    "<div class=\"alert alert-danger\">\n",
    "<b>Комментарий ревьюера ❌:</b> Здесь также укажи пожалуйста гипотезы, которые мы проверяем) </div>"
   ]
  },
  {
   "cell_type": "code",
   "execution_count": 182,
   "metadata": {},
   "outputs": [
    {
     "name": "stdout",
     "output_type": "stream",
     "text": [
      "P-value:  0.829\n",
      "Относительный прирост среднем чеке заказа группы B:  0.287\n"
     ]
    }
   ],
   "source": [
    "print('P-value: ', '{0:.3f}'.format(stats.mannwhitneyu(orders[orders['group']=='A']['revenue'], orders[orders['group']=='B']['revenue'])[1]))\n",
    "print('Относительный прирост среднем чеке заказа группы B: ', '{0:.3f}'.format(orders[orders['group']=='B']['revenue'].mean()/orders[orders['group']=='A']['revenue'].mean()-1))"
   ]
  },
  {
   "cell_type": "markdown",
   "metadata": {},
   "source": [
    "Вывод: По «сырым» данным различий в среднем числе заказов групп A и B нет.\n",
    "Первое число — p-value = 0.729 больше 0.05. Значит, нулевую гипотезу о том, что статистически значимых различий в среднем чеке заказа между группами нет, не отвергаем. Однако относительный проигрыш группы B равен 25.9% — второе число в выводе."
   ]
  },
  {
   "cell_type": "markdown",
   "metadata": {},
   "source": [
    "<div class=\"alert alert-warning\">\n",
    "<b>Комментарий ревьюера ⚠️:</b> Лучше еще добавить, что такой относительный проигрыш обусловлен выбросами в данных"
   ]
  },
  {
   "cell_type": "markdown",
   "metadata": {},
   "source": [
    "#### Значимость различий в среднем количестве заказов («очищенные» данные)\n",
    "\n",
    "Посчитаем статистическую значимость различий в среднем количестве заказов на посетителя между группами по «очищенным» данным."
   ]
  },
  {
   "cell_type": "markdown",
   "metadata": {},
   "source": [
    "Подготовим данные. Узнаем сколько аномалий."
   ]
  },
  {
   "cell_type": "code",
   "execution_count": 185,
   "metadata": {},
   "outputs": [
    {
     "data": {
      "text/plain": [
       "55"
      ]
     },
     "execution_count": 185,
     "metadata": {},
     "output_type": "execute_result"
    }
   ],
   "source": [
    "usersWithManyOrders = pd.concat([ordersByUsersA[ordersByUsersA['orders'] > 2]['visitorId'],\n",
    "                                 ordersByUsersB[ordersByUsersB['orders'] > 2]['visitorId']],axis=0)\n",
    "\n",
    "usersWithExpensiveOrders = orders[orders['revenue'] > 28000]['visitorId']\n",
    "abnormalUsers = (pd.concat([usersWithManyOrders, usersWithExpensiveOrders], axis=0).drop_duplicates().sort_values())\n",
    "\n",
    "abnormalUsers.shape[0]"
   ]
  },
  {
   "cell_type": "markdown",
   "metadata": {},
   "source": [
    "<div class=\"alert alert-warning\">\n",
    "<b>Комментарий ревьюера ⚠️:</b> Лучше не указывать числа напрямую, а обращаться к ним через переменную или перцентиль. В таком случае, если данные изменятся нам не нужно будет корректировать код"
   ]
  },
  {
   "cell_type": "markdown",
   "metadata": {},
   "source": [
    "Всего 74 \"аномальных\" пользователя. Подготовим выборки."
   ]
  },
  {
   "cell_type": "code",
   "execution_count": 186,
   "metadata": {},
   "outputs": [],
   "source": [
    "sampleAFiltered = pd.concat([ordersByUsersA[np.logical_not(ordersByUsersA['visitorId'].isin(abnormalUsers))]['orders'],\n",
    "                             pd.Series(0,index=np.arange(data['visitorsPerDateA'].sum() - len(ordersByUsersA['orders'])),\n",
    "                                       name='orders')],axis=0)\n",
    "\n",
    "sampleBFiltered = pd.concat([ordersByUsersB[np.logical_not(ordersByUsersB['visitorId'].isin(abnormalUsers))]['orders'],\n",
    "                             pd.Series(0,index=np.arange(data['visitorsPerDateB'].sum() - len(ordersByUsersB['orders'])),\n",
    "                                       name='orders')],axis=0)"
   ]
  },
  {
   "cell_type": "markdown",
   "metadata": {},
   "source": [
    "Сформулируем гипотезы:\n",
    "\n",
    "1. Нулевая гипотеза: Нет различий в среднем количестве заказов между группами А и В.\n",
    "2. Альтернативная гипотеза: Различия между двумя группами по среднем количестве заказов заказа есть."
   ]
  },
  {
   "cell_type": "markdown",
   "metadata": {},
   "source": [
    "<div class=\"alert alert-success\">\n",
    "<b>Комментарий ревьюера v 2.0 ✔️:</b> Тут гипотезы тоже есть"
   ]
  },
  {
   "cell_type": "markdown",
   "metadata": {},
   "source": [
    "Применим статистический критерий Манна-Уитни к полученным выборкам."
   ]
  },
  {
   "cell_type": "markdown",
   "metadata": {},
   "source": [
    "<div class=\"alert alert-danger\">\n",
    "<b>Комментарий ревьюера ❌:</b> Но тут все же снова нужно указать, для каких гипотез мы проводим этот тест </div>"
   ]
  },
  {
   "cell_type": "code",
   "execution_count": 188,
   "metadata": {},
   "outputs": [
    {
     "name": "stdout",
     "output_type": "stream",
     "text": [
      "P-value:  0.009\n",
      "Относительный прирост среднего количества заказов B:  0.189\n"
     ]
    }
   ],
   "source": [
    "print('P-value: ', '{0:.3f}'.format(stats.mannwhitneyu(sampleAFiltered, sampleBFiltered)[1]))\n",
    "print('Относительный прирост среднего количества заказов B: ', '{0:.3f}'.format(sampleBFiltered.mean()/sampleAFiltered.mean()-1))"
   ]
  },
  {
   "cell_type": "markdown",
   "metadata": {},
   "source": [
    "Вывод: P-value меньше 0.05. Значит, есть причины отвергать нулевую гипотезу и считать, что в среднем количестве заказов есть различия между группами. Среднее число заказов В ниже на 17.3%. \n",
    "\n",
    "P-value не сильно изменился после очистки. Но процент увеличился: теперь среднее число заказов ниже на 17.8% в группе В"
   ]
  },
  {
   "cell_type": "markdown",
   "metadata": {},
   "source": [
    "<div class=\"alert alert-success\">\n",
    "<b>Комментарий ревьюера ✔️:</b> В остальном хорошо</div>"
   ]
  },
  {
   "cell_type": "markdown",
   "metadata": {},
   "source": [
    "#### Значимость различий в среднем чеке заказа («очищенные» данные)\n",
    "\n",
    "Посчитаем статистическую значимость различий в среднем чеке заказа между группами по «очищенным» данным."
   ]
  },
  {
   "cell_type": "markdown",
   "metadata": {},
   "source": [
    "Сформулируем гипотезы:\n",
    "\n",
    "1. Нулевая гипотеза: Нет различий в среднем чеке заказа между группами А и В.\n",
    "2. Альтернативная гипотеза: Различия между двумя группами по среднему чеку заказа заказа есть."
   ]
  },
  {
   "cell_type": "markdown",
   "metadata": {},
   "source": [
    "<div class=\"alert alert-success\">\n",
    "<b>Комментарий ревьюера v 2.0 ✔️:</b> Верно!"
   ]
  },
  {
   "cell_type": "markdown",
   "metadata": {},
   "source": [
    "<div class=\"alert alert-danger\">\n",
    "<b>Комментарий ревьюера ❌:</b> И снова обращу твое внимание на формулировку гипотез) </div>"
   ]
  },
  {
   "cell_type": "code",
   "execution_count": 189,
   "metadata": {},
   "outputs": [
    {
     "name": "stdout",
     "output_type": "stream",
     "text": [
      "P-value:  0.762\n",
      "Относительный прирост среднем чеке заказа группы B:  -0.022\n"
     ]
    }
   ],
   "source": [
    "print('P-value: ', \n",
    "    '{0:.3f}'.format(\n",
    "        stats.mannwhitneyu(\n",
    "            orders[\n",
    "                np.logical_and(\n",
    "                    orders['group'] == 'A',\n",
    "                    np.logical_not(orders['visitorId'].isin(abnormalUsers)),\n",
    "                )\n",
    "            ]['revenue'],\n",
    "            orders[\n",
    "                np.logical_and(\n",
    "                    orders['group'] == 'B',\n",
    "                    np.logical_not(orders['visitorId'].isin(abnormalUsers)),\n",
    "                )\n",
    "            ]['revenue'],\n",
    "        )[1]\n",
    "    )\n",
    ")\n",
    "\n",
    "print('Относительный прирост среднем чеке заказа группы B: ', \n",
    "    \"{0:.3f}\".format(\n",
    "        orders[\n",
    "            np.logical_and(\n",
    "                orders['group'] == 'B',\n",
    "                np.logical_not(orders['visitorId'].isin(abnormalUsers)),\n",
    "            )\n",
    "        ]['revenue'].mean()\n",
    "        / orders[\n",
    "            np.logical_and(\n",
    "                orders['group'] == 'A',\n",
    "                np.logical_not(orders['visitorId'].isin(abnormalUsers)),\n",
    "            )\n",
    "        ]['revenue'].mean()\n",
    "        - 1\n",
    "    )\n",
    ")"
   ]
  },
  {
   "cell_type": "markdown",
   "metadata": {},
   "source": [
    "Первое число — p-value = 738 больше 0.05 ( и выше, чем в сырых данных). Значит, нулевую гипотезу о том, что статистически значимых различий в среднем чеке заказа между группами нет, не отвергаем. Можно отметить, что сократился относительный прирост по среднему заказу группы B."
   ]
  },
  {
   "cell_type": "markdown",
   "metadata": {},
   "source": [
    "<div class=\"alert alert-danger\">\n",
    "<b>Комментарий ревьюера ❌:</b> Здесь не совсем корректно в последнем предложении писать про различия, когда сначала мы пишем, что статистически значимых различий нет) </div>"
   ]
  },
  {
   "cell_type": "markdown",
   "metadata": {},
   "source": [
    "<div class=\"alert alert-success\">\n",
    "<b>Комментарий ревьюера v 2.0 ✔️:</b> Так лучше)"
   ]
  },
  {
   "cell_type": "markdown",
   "metadata": {},
   "source": [
    "#### Результат теста\n",
    "\n",
    "Примем решение по результатам теста и объясните его. \n",
    "\n",
    "Варианты решений: \n",
    "\n",
    "1. Остановить тест, зафиксировать победу одной из групп. \n",
    "2. Остановить тест, зафиксировать отсутствие различий между группами. \n",
    "3. Продолжить тест."
   ]
  },
  {
   "cell_type": "markdown",
   "metadata": {},
   "source": [
    "Вывод: Остановить тест, зафиксировать победу одной из групп. Здесь видно, что группа А побеждает в среднем кличестве заказов группу В. И при сырых, и при очищенных данных (только вырастают показатели). Очистка данных даже сделала различия в среднем числе заказов выше."
   ]
  },
  {
   "cell_type": "markdown",
   "metadata": {},
   "source": [
    "![jupyter](https://vsememy.ru/wp-content/uploads/2022/09/1dfc48cde55390b390a9a7e55f7a7fc2.jpg)"
   ]
  },
  {
   "cell_type": "markdown",
   "metadata": {},
   "source": [
    "<div class=\"alert alert-success\">\n",
    "<b>Комментарий ревьюера ✔️:</b> Общий вывод сформулирован классно. Есть решение по самому результату проведения</div>"
   ]
  },
  {
   "cell_type": "markdown",
   "metadata": {},
   "source": [
    "<div class=\"alert alert-success\">\n",
    "<b>Комментарий ревьюера ✔️:</b> Татьяна, проект отличный! У тебя сильные аналитические навыки, владение инструментами для проведения исследования, понимание статистики и навыки продуктовой аналитики. Но всё же в проекте есть несколько замечаний и я попрошу тебя исправить их, чтобы проект стал еще лучше! </div>"
   ]
  }
 ],
 "metadata": {
  "ExecuteTimeLog": [
   {
    "duration": 4,
    "start_time": "2022-12-10T11:07:37.990Z"
   },
   {
    "duration": 3,
    "start_time": "2022-12-10T11:11:32.048Z"
   },
   {
    "duration": 534,
    "start_time": "2022-12-10T11:38:24.830Z"
   },
   {
    "duration": 102,
    "start_time": "2022-12-10T11:38:50.851Z"
   },
   {
    "duration": 32,
    "start_time": "2022-12-10T11:38:58.910Z"
   },
   {
    "duration": 62,
    "start_time": "2022-12-10T11:42:25.310Z"
   },
   {
    "duration": 17,
    "start_time": "2022-12-10T11:45:05.935Z"
   },
   {
    "duration": 33,
    "start_time": "2022-12-10T11:45:28.211Z"
   },
   {
    "duration": 12,
    "start_time": "2022-12-10T11:45:48.413Z"
   },
   {
    "duration": 16,
    "start_time": "2022-12-10T11:47:31.678Z"
   },
   {
    "duration": 516,
    "start_time": "2022-12-10T12:09:02.251Z"
   },
   {
    "duration": 26,
    "start_time": "2022-12-10T12:09:22.353Z"
   },
   {
    "duration": 33,
    "start_time": "2022-12-10T12:10:55.016Z"
   },
   {
    "duration": 33,
    "start_time": "2022-12-10T12:11:13.168Z"
   },
   {
    "duration": 42,
    "start_time": "2022-12-10T12:11:31.652Z"
   },
   {
    "duration": 26,
    "start_time": "2022-12-10T12:11:33.811Z"
   },
   {
    "duration": 23,
    "start_time": "2022-12-10T12:11:36.596Z"
   },
   {
    "duration": 3,
    "start_time": "2022-12-10T12:18:15.251Z"
   },
   {
    "duration": 3,
    "start_time": "2022-12-10T12:18:54.156Z"
   },
   {
    "duration": 115,
    "start_time": "2022-12-10T12:23:17.073Z"
   },
   {
    "duration": 134,
    "start_time": "2022-12-10T12:23:45.183Z"
   },
   {
    "duration": 12,
    "start_time": "2022-12-10T12:23:47.952Z"
   },
   {
    "duration": 86,
    "start_time": "2022-12-10T12:25:00.897Z"
   },
   {
    "duration": 10,
    "start_time": "2022-12-10T12:25:01.712Z"
   },
   {
    "duration": 8,
    "start_time": "2022-12-10T12:30:09.882Z"
   },
   {
    "duration": 17,
    "start_time": "2022-12-10T12:30:16.834Z"
   },
   {
    "duration": 41,
    "start_time": "2022-12-10T12:34:34.512Z"
   },
   {
    "duration": 186,
    "start_time": "2022-12-10T12:35:27.132Z"
   },
   {
    "duration": 228,
    "start_time": "2022-12-10T12:35:40.974Z"
   },
   {
    "duration": 94,
    "start_time": "2022-12-10T12:36:05.783Z"
   },
   {
    "duration": 13,
    "start_time": "2022-12-10T12:36:08.478Z"
   },
   {
    "duration": 219,
    "start_time": "2022-12-10T12:36:23.795Z"
   },
   {
    "duration": 34,
    "start_time": "2022-12-10T12:36:52.704Z"
   },
   {
    "duration": 30,
    "start_time": "2022-12-10T12:36:53.933Z"
   },
   {
    "duration": 36,
    "start_time": "2022-12-10T12:36:54.872Z"
   },
   {
    "duration": 74,
    "start_time": "2022-12-10T12:36:56.783Z"
   },
   {
    "duration": 11,
    "start_time": "2022-12-10T12:36:57.712Z"
   },
   {
    "duration": 13,
    "start_time": "2022-12-10T12:36:59.503Z"
   },
   {
    "duration": 164,
    "start_time": "2022-12-10T12:37:49.124Z"
   },
   {
    "duration": 154,
    "start_time": "2022-12-10T12:37:58.233Z"
   },
   {
    "duration": 19,
    "start_time": "2022-12-10T12:39:45.624Z"
   },
   {
    "duration": 24,
    "start_time": "2022-12-10T12:39:57.294Z"
   },
   {
    "duration": 19,
    "start_time": "2022-12-10T12:41:24.875Z"
   },
   {
    "duration": 262,
    "start_time": "2022-12-10T12:41:26.076Z"
   },
   {
    "duration": 251,
    "start_time": "2022-12-10T12:41:26.632Z"
   },
   {
    "duration": 38,
    "start_time": "2022-12-10T12:41:59.784Z"
   },
   {
    "duration": 21,
    "start_time": "2022-12-10T12:42:00.877Z"
   },
   {
    "duration": 44,
    "start_time": "2022-12-10T12:42:02.032Z"
   },
   {
    "duration": 110,
    "start_time": "2022-12-10T12:42:04.906Z"
   },
   {
    "duration": 15,
    "start_time": "2022-12-10T12:42:05.587Z"
   },
   {
    "duration": 19,
    "start_time": "2022-12-10T12:42:06.652Z"
   },
   {
    "duration": 316,
    "start_time": "2022-12-10T12:42:07.253Z"
   },
   {
    "duration": 214,
    "start_time": "2022-12-10T12:42:09.304Z"
   },
   {
    "duration": 24,
    "start_time": "2022-12-10T12:42:10.665Z"
   },
   {
    "duration": 23,
    "start_time": "2022-12-10T12:42:16.415Z"
   },
   {
    "duration": 17,
    "start_time": "2022-12-10T12:42:22.934Z"
   },
   {
    "duration": 332,
    "start_time": "2022-12-10T12:43:01.393Z"
   },
   {
    "duration": 9,
    "start_time": "2022-12-10T12:43:15.512Z"
   },
   {
    "duration": 14,
    "start_time": "2022-12-10T12:43:41.183Z"
   },
   {
    "duration": 13,
    "start_time": "2022-12-10T12:43:51.016Z"
   },
   {
    "duration": 338,
    "start_time": "2022-12-10T12:44:09.112Z"
   },
   {
    "duration": 19,
    "start_time": "2022-12-10T12:45:50.504Z"
   },
   {
    "duration": 580,
    "start_time": "2022-12-10T12:47:20.955Z"
   },
   {
    "duration": 420,
    "start_time": "2022-12-10T12:47:26.851Z"
   },
   {
    "duration": 524,
    "start_time": "2022-12-10T12:47:36.444Z"
   },
   {
    "duration": 300,
    "start_time": "2022-12-10T12:48:19.104Z"
   },
   {
    "duration": 268,
    "start_time": "2022-12-10T12:48:27.479Z"
   },
   {
    "duration": 312,
    "start_time": "2022-12-10T12:49:15.811Z"
   },
   {
    "duration": 540,
    "start_time": "2022-12-10T12:49:27.737Z"
   },
   {
    "duration": 424,
    "start_time": "2022-12-10T12:50:35.485Z"
   },
   {
    "duration": 413,
    "start_time": "2022-12-10T12:50:39.112Z"
   },
   {
    "duration": 421,
    "start_time": "2022-12-10T12:51:09.444Z"
   },
   {
    "duration": 592,
    "start_time": "2022-12-10T12:52:44.102Z"
   },
   {
    "duration": 425,
    "start_time": "2022-12-10T12:53:03.802Z"
   },
   {
    "duration": 435,
    "start_time": "2022-12-10T12:53:13.177Z"
   },
   {
    "duration": 16,
    "start_time": "2022-12-10T12:55:00.198Z"
   },
   {
    "duration": 24,
    "start_time": "2022-12-10T12:55:14.552Z"
   },
   {
    "duration": 424,
    "start_time": "2022-12-10T12:55:17.797Z"
   },
   {
    "duration": 280,
    "start_time": "2022-12-10T12:55:48.284Z"
   },
   {
    "duration": 268,
    "start_time": "2022-12-10T12:56:01.533Z"
   },
   {
    "duration": 429,
    "start_time": "2022-12-10T12:56:50.177Z"
   },
   {
    "duration": 449,
    "start_time": "2022-12-10T12:57:58.732Z"
   },
   {
    "duration": 471,
    "start_time": "2022-12-10T12:59:04.782Z"
   },
   {
    "duration": 451,
    "start_time": "2022-12-10T13:00:51.952Z"
   },
   {
    "duration": 506,
    "start_time": "2022-12-10T13:00:57.873Z"
   },
   {
    "duration": 490,
    "start_time": "2022-12-10T13:01:04.892Z"
   },
   {
    "duration": 251,
    "start_time": "2022-12-10T13:01:28.161Z"
   },
   {
    "duration": 451,
    "start_time": "2022-12-10T13:01:40.381Z"
   },
   {
    "duration": 493,
    "start_time": "2022-12-10T13:03:07.973Z"
   },
   {
    "duration": 1038,
    "start_time": "2022-12-10T13:03:17.551Z"
   },
   {
    "duration": 896,
    "start_time": "2022-12-10T13:03:25.914Z"
   },
   {
    "duration": 619,
    "start_time": "2022-12-10T13:03:31.252Z"
   },
   {
    "duration": 409,
    "start_time": "2022-12-10T13:03:36.812Z"
   },
   {
    "duration": 568,
    "start_time": "2022-12-10T13:03:44.239Z"
   },
   {
    "duration": 425,
    "start_time": "2022-12-10T13:03:50.212Z"
   },
   {
    "duration": 60,
    "start_time": "2022-12-10T13:04:52.752Z"
   },
   {
    "duration": 413,
    "start_time": "2022-12-10T13:04:57.395Z"
   },
   {
    "duration": 567,
    "start_time": "2022-12-10T13:05:06.040Z"
   },
   {
    "duration": 550,
    "start_time": "2022-12-10T13:05:24.739Z"
   },
   {
    "duration": 419,
    "start_time": "2022-12-10T13:05:54.892Z"
   },
   {
    "duration": 436,
    "start_time": "2022-12-10T13:06:10.736Z"
   },
   {
    "duration": 412,
    "start_time": "2022-12-10T13:06:16.004Z"
   },
   {
    "duration": 170,
    "start_time": "2022-12-10T13:37:49.250Z"
   },
   {
    "duration": 167,
    "start_time": "2022-12-10T13:38:12.237Z"
   },
   {
    "duration": 318,
    "start_time": "2022-12-10T13:38:43.044Z"
   },
   {
    "duration": 52,
    "start_time": "2022-12-10T13:38:53.490Z"
   },
   {
    "duration": 177,
    "start_time": "2022-12-10T13:39:05.910Z"
   },
   {
    "duration": 336,
    "start_time": "2022-12-10T13:40:03.671Z"
   },
   {
    "duration": 322,
    "start_time": "2022-12-10T13:40:14.910Z"
   },
   {
    "duration": 317,
    "start_time": "2022-12-10T13:42:47.909Z"
   },
   {
    "duration": 345,
    "start_time": "2022-12-10T13:43:09.778Z"
   },
   {
    "duration": 321,
    "start_time": "2022-12-10T13:43:21.389Z"
   },
   {
    "duration": 17,
    "start_time": "2022-12-10T13:43:51.210Z"
   },
   {
    "duration": 182,
    "start_time": "2022-12-10T13:44:00.973Z"
   },
   {
    "duration": 333,
    "start_time": "2022-12-10T13:50:03.650Z"
   },
   {
    "duration": 175,
    "start_time": "2022-12-10T13:50:11.769Z"
   },
   {
    "duration": 295,
    "start_time": "2022-12-10T14:05:42.609Z"
   },
   {
    "duration": 330,
    "start_time": "2022-12-10T14:05:59.835Z"
   },
   {
    "duration": 160,
    "start_time": "2022-12-10T14:10:00.065Z"
   },
   {
    "duration": 17,
    "start_time": "2022-12-10T14:10:05.632Z"
   },
   {
    "duration": 14,
    "start_time": "2022-12-10T14:10:06.665Z"
   },
   {
    "duration": 8,
    "start_time": "2022-12-10T14:10:08.145Z"
   },
   {
    "duration": 435,
    "start_time": "2022-12-10T14:10:13.028Z"
   },
   {
    "duration": 381,
    "start_time": "2022-12-10T14:11:43.805Z"
   },
   {
    "duration": 392,
    "start_time": "2022-12-10T14:12:12.908Z"
   },
   {
    "duration": 52,
    "start_time": "2022-12-10T14:15:18.935Z"
   },
   {
    "duration": 411,
    "start_time": "2022-12-10T14:15:40.354Z"
   },
   {
    "duration": 523,
    "start_time": "2022-12-10T14:16:20.343Z"
   },
   {
    "duration": 46,
    "start_time": "2022-12-10T14:17:32.450Z"
   },
   {
    "duration": 1038,
    "start_time": "2022-12-10T14:20:05.772Z"
   },
   {
    "duration": 13,
    "start_time": "2022-12-10T14:20:47.752Z"
   },
   {
    "duration": 14,
    "start_time": "2022-12-10T14:20:48.847Z"
   },
   {
    "duration": 388,
    "start_time": "2022-12-10T14:20:55.579Z"
   },
   {
    "duration": 386,
    "start_time": "2022-12-10T14:20:58.259Z"
   },
   {
    "duration": 601,
    "start_time": "2022-12-10T14:21:02.159Z"
   },
   {
    "duration": 431,
    "start_time": "2022-12-10T14:21:08.673Z"
   },
   {
    "duration": 50,
    "start_time": "2022-12-10T14:23:00.851Z"
   },
   {
    "duration": 442,
    "start_time": "2022-12-10T14:25:02.772Z"
   },
   {
    "duration": 507,
    "start_time": "2022-12-10T14:25:43.148Z"
   },
   {
    "duration": 11,
    "start_time": "2022-12-10T14:30:02.057Z"
   },
   {
    "duration": 12,
    "start_time": "2022-12-10T14:30:30.341Z"
   },
   {
    "duration": 8,
    "start_time": "2022-12-10T14:31:26.660Z"
   },
   {
    "duration": 12,
    "start_time": "2022-12-10T14:31:36.255Z"
   },
   {
    "duration": 19,
    "start_time": "2022-12-10T14:32:27.658Z"
   },
   {
    "duration": 47,
    "start_time": "2022-12-10T14:33:17.154Z"
   },
   {
    "duration": 47,
    "start_time": "2022-12-10T14:33:29.553Z"
   },
   {
    "duration": 48,
    "start_time": "2022-12-10T14:34:35.516Z"
   },
   {
    "duration": 14,
    "start_time": "2022-12-10T14:35:28.211Z"
   },
   {
    "duration": 10,
    "start_time": "2022-12-10T14:36:56.295Z"
   },
   {
    "duration": 8,
    "start_time": "2022-12-10T14:37:02.199Z"
   },
   {
    "duration": 7,
    "start_time": "2022-12-10T14:37:20.159Z"
   },
   {
    "duration": 14,
    "start_time": "2022-12-10T14:37:28.871Z"
   },
   {
    "duration": 128,
    "start_time": "2022-12-10T14:38:12.711Z"
   },
   {
    "duration": 42,
    "start_time": "2022-12-10T14:38:39.671Z"
   },
   {
    "duration": 6,
    "start_time": "2022-12-10T14:40:31.369Z"
   },
   {
    "duration": 14,
    "start_time": "2022-12-10T14:46:27.593Z"
   },
   {
    "duration": 142,
    "start_time": "2022-12-10T14:46:51.465Z"
   },
   {
    "duration": 52,
    "start_time": "2022-12-10T14:48:23.650Z"
   },
   {
    "duration": 6,
    "start_time": "2022-12-10T14:48:36.561Z"
   },
   {
    "duration": 5,
    "start_time": "2022-12-10T14:48:48.065Z"
   },
   {
    "duration": 13,
    "start_time": "2022-12-10T14:55:45.666Z"
   },
   {
    "duration": 166,
    "start_time": "2022-12-10T14:56:09.470Z"
   },
   {
    "duration": 755,
    "start_time": "2022-12-10T14:56:54.679Z"
   },
   {
    "duration": 221,
    "start_time": "2022-12-10T15:01:36.351Z"
   },
   {
    "duration": 208,
    "start_time": "2022-12-10T15:01:47.825Z"
   },
   {
    "duration": 190,
    "start_time": "2022-12-10T15:01:54.204Z"
   },
   {
    "duration": 7,
    "start_time": "2022-12-10T15:01:58.592Z"
   },
   {
    "duration": 26,
    "start_time": "2022-12-10T15:04:05.775Z"
   },
   {
    "duration": 201,
    "start_time": "2022-12-10T15:04:13.680Z"
   },
   {
    "duration": 484,
    "start_time": "2022-12-10T15:04:53.273Z"
   },
   {
    "duration": 27,
    "start_time": "2022-12-10T15:04:55.752Z"
   },
   {
    "duration": 19,
    "start_time": "2022-12-10T15:04:57.361Z"
   },
   {
    "duration": 79,
    "start_time": "2022-12-10T15:05:00.881Z"
   },
   {
    "duration": 16,
    "start_time": "2022-12-10T15:05:01.551Z"
   },
   {
    "duration": 12,
    "start_time": "2022-12-10T15:05:02.852Z"
   },
   {
    "duration": 166,
    "start_time": "2022-12-10T15:05:03.473Z"
   },
   {
    "duration": 161,
    "start_time": "2022-12-10T15:05:04.153Z"
   },
   {
    "duration": 15,
    "start_time": "2022-12-10T15:05:04.857Z"
   },
   {
    "duration": 13,
    "start_time": "2022-12-10T15:05:05.493Z"
   },
   {
    "duration": 10,
    "start_time": "2022-12-10T15:05:06.193Z"
   },
   {
    "duration": 421,
    "start_time": "2022-12-10T15:05:08.453Z"
   },
   {
    "duration": 406,
    "start_time": "2022-12-10T15:05:11.401Z"
   },
   {
    "duration": 421,
    "start_time": "2022-12-10T15:05:14.993Z"
   },
   {
    "duration": 448,
    "start_time": "2022-12-10T15:05:19.292Z"
   },
   {
    "duration": 415,
    "start_time": "2022-12-10T15:05:21.613Z"
   },
   {
    "duration": 438,
    "start_time": "2022-12-10T15:05:23.947Z"
   },
   {
    "duration": 664,
    "start_time": "2022-12-10T15:05:29.372Z"
   },
   {
    "duration": 485,
    "start_time": "2022-12-10T15:05:35.973Z"
   },
   {
    "duration": 15,
    "start_time": "2022-12-10T15:05:38.692Z"
   },
   {
    "duration": 112,
    "start_time": "2022-12-10T15:05:39.779Z"
   },
   {
    "duration": 163,
    "start_time": "2022-12-10T15:05:43.680Z"
   },
   {
    "duration": 6,
    "start_time": "2022-12-10T15:05:47.408Z"
   },
   {
    "duration": 12,
    "start_time": "2022-12-10T15:05:50.661Z"
   },
   {
    "duration": 129,
    "start_time": "2022-12-10T15:05:51.472Z"
   },
   {
    "duration": 9,
    "start_time": "2022-12-10T15:05:54.752Z"
   },
   {
    "duration": 278,
    "start_time": "2022-12-10T15:05:58.253Z"
   },
   {
    "duration": 144,
    "start_time": "2022-12-10T15:05:59.249Z"
   },
   {
    "duration": 8,
    "start_time": "2022-12-10T15:05:59.991Z"
   },
   {
    "duration": 183,
    "start_time": "2022-12-10T15:06:00.912Z"
   },
   {
    "duration": 159,
    "start_time": "2022-12-10T15:19:45.897Z"
   },
   {
    "duration": 237,
    "start_time": "2022-12-10T15:21:25.557Z"
   },
   {
    "duration": 166,
    "start_time": "2022-12-10T15:23:13.175Z"
   },
   {
    "duration": 184,
    "start_time": "2022-12-10T15:33:16.194Z"
   },
   {
    "duration": 265,
    "start_time": "2022-12-10T15:33:30.270Z"
   },
   {
    "duration": 146,
    "start_time": "2022-12-10T15:33:31.773Z"
   },
   {
    "duration": 7,
    "start_time": "2022-12-10T15:33:33.512Z"
   },
   {
    "duration": 316,
    "start_time": "2022-12-10T15:33:34.473Z"
   },
   {
    "duration": 13,
    "start_time": "2022-12-10T15:33:37.954Z"
   },
   {
    "duration": 15,
    "start_time": "2022-12-10T15:35:31.712Z"
   },
   {
    "duration": 13,
    "start_time": "2022-12-10T15:40:05.393Z"
   },
   {
    "duration": 13,
    "start_time": "2022-12-10T15:40:37.049Z"
   },
   {
    "duration": 12,
    "start_time": "2022-12-10T15:43:11.713Z"
   },
   {
    "duration": 38,
    "start_time": "2022-12-10T15:43:46.671Z"
   },
   {
    "duration": 15,
    "start_time": "2022-12-10T15:49:03.965Z"
   },
   {
    "duration": 162,
    "start_time": "2022-12-10T16:00:03.393Z"
   },
   {
    "duration": 55,
    "start_time": "2022-12-10T16:00:11.839Z"
   },
   {
    "duration": 607,
    "start_time": "2022-12-10T16:01:34.893Z"
   },
   {
    "duration": 305,
    "start_time": "2022-12-10T16:10:02.302Z"
   },
   {
    "duration": 613,
    "start_time": "2022-12-10T16:11:18.281Z"
   },
   {
    "duration": 52,
    "start_time": "2022-12-10T19:34:45.628Z"
   },
   {
    "duration": 1328,
    "start_time": "2022-12-10T19:34:52.496Z"
   },
   {
    "duration": 90,
    "start_time": "2022-12-10T19:34:54.311Z"
   },
   {
    "duration": 27,
    "start_time": "2022-12-10T19:35:07.248Z"
   },
   {
    "duration": 26,
    "start_time": "2022-12-10T19:35:13.449Z"
   },
   {
    "duration": 17,
    "start_time": "2022-12-10T19:36:16.928Z"
   },
   {
    "duration": 18,
    "start_time": "2022-12-10T19:36:41.868Z"
   },
   {
    "duration": 13,
    "start_time": "2022-12-10T19:38:24.029Z"
   },
   {
    "duration": 20,
    "start_time": "2022-12-10T19:38:39.148Z"
   },
   {
    "duration": 12,
    "start_time": "2022-12-10T19:38:45.509Z"
   },
   {
    "duration": 21,
    "start_time": "2022-12-10T19:38:56.889Z"
   },
   {
    "duration": 21,
    "start_time": "2022-12-10T19:39:10.588Z"
   },
   {
    "duration": 24,
    "start_time": "2022-12-10T19:39:16.728Z"
   },
   {
    "duration": 32,
    "start_time": "2022-12-10T19:39:21.449Z"
   },
   {
    "duration": 18,
    "start_time": "2022-12-10T19:39:22.748Z"
   },
   {
    "duration": 19,
    "start_time": "2022-12-10T19:39:24.487Z"
   },
   {
    "duration": 169,
    "start_time": "2022-12-10T19:40:13.069Z"
   },
   {
    "duration": 14,
    "start_time": "2022-12-10T19:40:13.572Z"
   },
   {
    "duration": 15,
    "start_time": "2022-12-10T19:40:13.788Z"
   },
   {
    "duration": 177,
    "start_time": "2022-12-10T19:40:14.594Z"
   },
   {
    "duration": 129,
    "start_time": "2022-12-10T19:40:14.928Z"
   },
   {
    "duration": 16,
    "start_time": "2022-12-10T19:40:15.269Z"
   },
   {
    "duration": 8,
    "start_time": "2022-12-10T19:44:44.689Z"
   },
   {
    "duration": 5,
    "start_time": "2022-12-10T19:45:00.384Z"
   },
   {
    "duration": 7,
    "start_time": "2022-12-10T19:45:13.989Z"
   },
   {
    "duration": 7,
    "start_time": "2022-12-10T19:45:39.228Z"
   },
   {
    "duration": 6,
    "start_time": "2022-12-10T19:45:49.249Z"
   },
   {
    "duration": 72,
    "start_time": "2022-12-10T19:48:42.757Z"
   },
   {
    "duration": 11,
    "start_time": "2022-12-10T19:48:47.908Z"
   },
   {
    "duration": 75,
    "start_time": "2022-12-10T19:49:57.296Z"
   },
   {
    "duration": 15,
    "start_time": "2022-12-10T19:50:18.469Z"
   },
   {
    "duration": 14,
    "start_time": "2022-12-10T19:50:32.444Z"
   },
   {
    "duration": 13,
    "start_time": "2022-12-10T19:53:44.904Z"
   },
   {
    "duration": 12,
    "start_time": "2022-12-10T19:54:26.176Z"
   },
   {
    "duration": 11,
    "start_time": "2022-12-10T19:58:42.291Z"
   },
   {
    "duration": 8,
    "start_time": "2022-12-10T19:59:12.716Z"
   },
   {
    "duration": 13,
    "start_time": "2022-12-10T19:59:26.929Z"
   },
   {
    "duration": 50,
    "start_time": "2022-12-10T20:01:13.529Z"
   },
   {
    "duration": 12,
    "start_time": "2022-12-10T20:01:22.657Z"
   },
   {
    "duration": 10,
    "start_time": "2022-12-10T20:01:34.328Z"
   },
   {
    "duration": 823,
    "start_time": "2022-12-10T20:05:41.129Z"
   },
   {
    "duration": 713,
    "start_time": "2022-12-10T20:05:50.149Z"
   },
   {
    "duration": 15,
    "start_time": "2022-12-10T20:09:53.169Z"
   },
   {
    "duration": 13,
    "start_time": "2022-12-10T20:10:01.334Z"
   },
   {
    "duration": 27,
    "start_time": "2022-12-10T20:10:06.628Z"
   },
   {
    "duration": 78,
    "start_time": "2022-12-10T20:12:05.400Z"
   },
   {
    "duration": 12,
    "start_time": "2022-12-10T20:12:05.656Z"
   },
   {
    "duration": 8,
    "start_time": "2022-12-10T20:12:06.197Z"
   },
   {
    "duration": 7,
    "start_time": "2022-12-10T20:12:06.668Z"
   },
   {
    "duration": 8,
    "start_time": "2022-12-10T20:12:06.920Z"
   },
   {
    "duration": 6,
    "start_time": "2022-12-10T20:12:07.401Z"
   },
   {
    "duration": 11,
    "start_time": "2022-12-10T20:12:09.301Z"
   },
   {
    "duration": 23,
    "start_time": "2022-12-10T20:12:26.469Z"
   },
   {
    "duration": 16,
    "start_time": "2022-12-10T20:14:44.028Z"
   },
   {
    "duration": 38,
    "start_time": "2022-12-10T20:14:50.628Z"
   },
   {
    "duration": 39,
    "start_time": "2022-12-10T20:15:05.829Z"
   },
   {
    "duration": 68,
    "start_time": "2022-12-10T20:15:11.468Z"
   },
   {
    "duration": 11,
    "start_time": "2022-12-10T20:15:12.097Z"
   },
   {
    "duration": 6,
    "start_time": "2022-12-10T20:15:13.699Z"
   },
   {
    "duration": 6,
    "start_time": "2022-12-10T20:15:13.797Z"
   },
   {
    "duration": 6,
    "start_time": "2022-12-10T20:15:14.617Z"
   },
   {
    "duration": 5,
    "start_time": "2022-12-10T20:15:15.209Z"
   },
   {
    "duration": 10,
    "start_time": "2022-12-10T20:15:17.868Z"
   },
   {
    "duration": 24,
    "start_time": "2022-12-10T20:15:22.081Z"
   },
   {
    "duration": 35,
    "start_time": "2022-12-10T20:15:48.541Z"
   },
   {
    "duration": 31,
    "start_time": "2022-12-10T20:15:55.809Z"
   },
   {
    "duration": 17,
    "start_time": "2022-12-10T20:15:56.549Z"
   },
   {
    "duration": 18,
    "start_time": "2022-12-10T20:15:57.329Z"
   },
   {
    "duration": 67,
    "start_time": "2022-12-10T20:15:58.628Z"
   },
   {
    "duration": 10,
    "start_time": "2022-12-10T20:15:58.849Z"
   },
   {
    "duration": 7,
    "start_time": "2022-12-10T20:15:59.581Z"
   },
   {
    "duration": 5,
    "start_time": "2022-12-10T20:15:59.801Z"
   },
   {
    "duration": 7,
    "start_time": "2022-12-10T20:16:00.161Z"
   },
   {
    "duration": 6,
    "start_time": "2022-12-10T20:16:00.476Z"
   },
   {
    "duration": 11,
    "start_time": "2022-12-10T20:16:01.389Z"
   },
   {
    "duration": 25,
    "start_time": "2022-12-10T20:16:03.452Z"
   },
   {
    "duration": 23,
    "start_time": "2022-12-10T20:16:33.008Z"
   },
   {
    "duration": 68,
    "start_time": "2022-12-10T20:17:42.908Z"
   },
   {
    "duration": 10,
    "start_time": "2022-12-10T20:17:43.168Z"
   },
   {
    "duration": 5,
    "start_time": "2022-12-10T20:17:43.829Z"
   },
   {
    "duration": 6,
    "start_time": "2022-12-10T20:17:44.069Z"
   },
   {
    "duration": 6,
    "start_time": "2022-12-10T20:17:44.229Z"
   },
   {
    "duration": 7,
    "start_time": "2022-12-10T20:17:44.448Z"
   },
   {
    "duration": 11,
    "start_time": "2022-12-10T20:17:45.393Z"
   },
   {
    "duration": 47,
    "start_time": "2022-12-10T20:17:48.305Z"
   },
   {
    "duration": 42,
    "start_time": "2022-12-10T20:18:04.360Z"
   },
   {
    "duration": 52,
    "start_time": "2022-12-10T20:18:16.658Z"
   },
   {
    "duration": 46,
    "start_time": "2022-12-10T20:18:43.640Z"
   },
   {
    "duration": 27,
    "start_time": "2022-12-10T20:19:41.868Z"
   },
   {
    "duration": 36,
    "start_time": "2022-12-10T20:20:58.765Z"
   },
   {
    "duration": 66,
    "start_time": "2022-12-10T20:21:10.984Z"
   },
   {
    "duration": 9,
    "start_time": "2022-12-10T20:21:11.309Z"
   },
   {
    "duration": 6,
    "start_time": "2022-12-10T20:21:12.209Z"
   },
   {
    "duration": 8,
    "start_time": "2022-12-10T20:21:12.488Z"
   },
   {
    "duration": 5,
    "start_time": "2022-12-10T20:21:12.749Z"
   },
   {
    "duration": 6,
    "start_time": "2022-12-10T20:21:13.157Z"
   },
   {
    "duration": 10,
    "start_time": "2022-12-10T20:21:15.269Z"
   },
   {
    "duration": 15,
    "start_time": "2022-12-10T20:21:17.489Z"
   },
   {
    "duration": 67,
    "start_time": "2022-12-10T20:21:29.148Z"
   },
   {
    "duration": 9,
    "start_time": "2022-12-10T20:21:29.389Z"
   },
   {
    "duration": 6,
    "start_time": "2022-12-10T20:21:29.876Z"
   },
   {
    "duration": 5,
    "start_time": "2022-12-10T20:21:30.321Z"
   },
   {
    "duration": 7,
    "start_time": "2022-12-10T20:21:30.560Z"
   },
   {
    "duration": 5,
    "start_time": "2022-12-10T20:21:30.829Z"
   },
   {
    "duration": 11,
    "start_time": "2022-12-10T20:21:32.048Z"
   },
   {
    "duration": 24,
    "start_time": "2022-12-10T20:21:33.281Z"
   },
   {
    "duration": 67,
    "start_time": "2022-12-10T20:22:25.608Z"
   },
   {
    "duration": 12,
    "start_time": "2022-12-10T20:22:25.989Z"
   },
   {
    "duration": 7,
    "start_time": "2022-12-10T20:22:26.989Z"
   },
   {
    "duration": 7,
    "start_time": "2022-12-10T20:22:28.048Z"
   },
   {
    "duration": 7,
    "start_time": "2022-12-10T20:22:28.936Z"
   },
   {
    "duration": 5,
    "start_time": "2022-12-10T20:22:29.729Z"
   },
   {
    "duration": 12,
    "start_time": "2022-12-10T20:22:33.277Z"
   },
   {
    "duration": 25,
    "start_time": "2022-12-10T20:22:34.657Z"
   },
   {
    "duration": 11,
    "start_time": "2022-12-10T20:22:51.917Z"
   },
   {
    "duration": 10,
    "start_time": "2022-12-10T20:22:58.397Z"
   },
   {
    "duration": 67,
    "start_time": "2022-12-10T20:23:45.349Z"
   },
   {
    "duration": 10,
    "start_time": "2022-12-10T20:23:45.700Z"
   },
   {
    "duration": 7,
    "start_time": "2022-12-10T20:23:46.308Z"
   },
   {
    "duration": 17,
    "start_time": "2022-12-10T20:23:46.737Z"
   },
   {
    "duration": 8,
    "start_time": "2022-12-10T20:23:47.028Z"
   },
   {
    "duration": 7,
    "start_time": "2022-12-10T20:23:47.277Z"
   },
   {
    "duration": 13,
    "start_time": "2022-12-10T20:23:48.337Z"
   },
   {
    "duration": 23,
    "start_time": "2022-12-10T20:23:49.969Z"
   },
   {
    "duration": 69,
    "start_time": "2022-12-10T20:23:56.789Z"
   },
   {
    "duration": 10,
    "start_time": "2022-12-10T20:23:57.041Z"
   },
   {
    "duration": 7,
    "start_time": "2022-12-10T20:23:57.388Z"
   },
   {
    "duration": 6,
    "start_time": "2022-12-10T20:23:57.577Z"
   },
   {
    "duration": 7,
    "start_time": "2022-12-10T20:23:57.708Z"
   },
   {
    "duration": 5,
    "start_time": "2022-12-10T20:23:57.888Z"
   },
   {
    "duration": 11,
    "start_time": "2022-12-10T20:23:59.168Z"
   },
   {
    "duration": 16,
    "start_time": "2022-12-10T20:24:01.041Z"
   },
   {
    "duration": 71,
    "start_time": "2022-12-10T20:24:17.909Z"
   },
   {
    "duration": 9,
    "start_time": "2022-12-10T20:24:18.169Z"
   },
   {
    "duration": 6,
    "start_time": "2022-12-10T20:24:18.854Z"
   },
   {
    "duration": 9,
    "start_time": "2022-12-10T20:24:19.108Z"
   },
   {
    "duration": 7,
    "start_time": "2022-12-10T20:24:19.369Z"
   },
   {
    "duration": 6,
    "start_time": "2022-12-10T20:24:19.609Z"
   },
   {
    "duration": 14,
    "start_time": "2022-12-10T20:24:20.737Z"
   },
   {
    "duration": 33,
    "start_time": "2022-12-10T20:24:22.449Z"
   },
   {
    "duration": 7,
    "start_time": "2022-12-10T20:24:53.561Z"
   },
   {
    "duration": 11,
    "start_time": "2022-12-10T20:25:23.168Z"
   },
   {
    "duration": 171,
    "start_time": "2022-12-10T20:25:24.056Z"
   },
   {
    "duration": 156,
    "start_time": "2022-12-10T20:25:30.888Z"
   },
   {
    "duration": 16,
    "start_time": "2022-12-10T20:25:31.689Z"
   },
   {
    "duration": 15,
    "start_time": "2022-12-10T20:25:40.649Z"
   },
   {
    "duration": 13,
    "start_time": "2022-12-10T20:25:42.305Z"
   },
   {
    "duration": 31,
    "start_time": "2022-12-10T20:31:53.034Z"
   },
   {
    "duration": 17,
    "start_time": "2022-12-10T20:31:55.534Z"
   },
   {
    "duration": 19,
    "start_time": "2022-12-10T20:31:57.634Z"
   },
   {
    "duration": 69,
    "start_time": "2022-12-10T20:32:01.134Z"
   },
   {
    "duration": 9,
    "start_time": "2022-12-10T20:32:01.642Z"
   },
   {
    "duration": 8,
    "start_time": "2022-12-10T20:32:02.742Z"
   },
   {
    "duration": 6,
    "start_time": "2022-12-10T20:32:03.234Z"
   },
   {
    "duration": 6,
    "start_time": "2022-12-10T20:32:03.734Z"
   },
   {
    "duration": 5,
    "start_time": "2022-12-10T20:32:04.254Z"
   },
   {
    "duration": 11,
    "start_time": "2022-12-10T20:32:05.255Z"
   },
   {
    "duration": 26,
    "start_time": "2022-12-10T20:32:06.294Z"
   },
   {
    "duration": 10,
    "start_time": "2022-12-10T20:32:07.443Z"
   },
   {
    "duration": 164,
    "start_time": "2022-12-10T20:32:08.034Z"
   },
   {
    "duration": 117,
    "start_time": "2022-12-10T20:32:08.674Z"
   },
   {
    "duration": 16,
    "start_time": "2022-12-10T20:32:09.834Z"
   },
   {
    "duration": 17,
    "start_time": "2022-12-10T20:32:12.934Z"
   },
   {
    "duration": 11,
    "start_time": "2022-12-10T20:32:13.666Z"
   },
   {
    "duration": 451,
    "start_time": "2022-12-10T20:32:15.794Z"
   },
   {
    "duration": 487,
    "start_time": "2022-12-10T20:32:22.254Z"
   },
   {
    "duration": 490,
    "start_time": "2022-12-10T20:32:26.970Z"
   },
   {
    "duration": 420,
    "start_time": "2022-12-10T20:32:55.555Z"
   },
   {
    "duration": 504,
    "start_time": "2022-12-10T20:33:35.654Z"
   },
   {
    "duration": 16,
    "start_time": "2022-12-10T20:33:45.794Z"
   },
   {
    "duration": 216,
    "start_time": "2022-12-10T20:33:50.314Z"
   },
   {
    "duration": 6,
    "start_time": "2022-12-10T20:33:58.543Z"
   },
   {
    "duration": 14,
    "start_time": "2022-12-10T20:34:03.854Z"
   },
   {
    "duration": 135,
    "start_time": "2022-12-10T20:34:05.950Z"
   },
   {
    "duration": 6,
    "start_time": "2022-12-10T20:34:09.966Z"
   },
   {
    "duration": 227,
    "start_time": "2022-12-10T20:34:14.910Z"
   },
   {
    "duration": 168,
    "start_time": "2022-12-10T20:34:16.554Z"
   },
   {
    "duration": 8,
    "start_time": "2022-12-10T20:36:39.322Z"
   },
   {
    "duration": 165,
    "start_time": "2022-12-10T20:36:41.174Z"
   },
   {
    "duration": 200,
    "start_time": "2022-12-10T20:39:27.174Z"
   },
   {
    "duration": 11,
    "start_time": "2022-12-10T20:41:34.106Z"
   },
   {
    "duration": 11,
    "start_time": "2022-12-10T20:42:22.055Z"
   },
   {
    "duration": 10,
    "start_time": "2022-12-10T20:44:18.514Z"
   },
   {
    "duration": 11,
    "start_time": "2022-12-10T20:44:22.774Z"
   },
   {
    "duration": 9,
    "start_time": "2022-12-10T20:44:26.127Z"
   },
   {
    "duration": 7,
    "start_time": "2022-12-10T20:44:27.923Z"
   },
   {
    "duration": 24,
    "start_time": "2022-12-10T20:44:30.452Z"
   },
   {
    "duration": 25,
    "start_time": "2022-12-10T20:46:07.434Z"
   },
   {
    "duration": 15,
    "start_time": "2022-12-10T20:46:11.537Z"
   }
  ],
  "kernelspec": {
   "display_name": "Python 3 (ipykernel)",
   "language": "python",
   "name": "python3"
  },
  "language_info": {
   "codemirror_mode": {
    "name": "ipython",
    "version": 3
   },
   "file_extension": ".py",
   "mimetype": "text/x-python",
   "name": "python",
   "nbconvert_exporter": "python",
   "pygments_lexer": "ipython3",
   "version": "3.9.5"
  },
  "toc": {
   "base_numbering": 1,
   "nav_menu": {},
   "number_sections": true,
   "sideBar": true,
   "skip_h1_title": true,
   "title_cell": "Table of Contents",
   "title_sidebar": "Contents",
   "toc_cell": false,
   "toc_position": {},
   "toc_section_display": true,
   "toc_window_display": false
  }
 },
 "nbformat": 4,
 "nbformat_minor": 2
}
