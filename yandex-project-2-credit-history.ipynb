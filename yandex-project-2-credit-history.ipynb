{
 "cells": [
  {
   "cell_type": "markdown",
   "id": "70433f06",
   "metadata": {},
   "source": [
    "<div style=\"border:solid green 3px; padding: 20px\">\n",
    "\n",
    "<b>Привет!</b>\n",
    "\n",
    "Меня зовут Сороколетов Илья и я буду проверять твой проект. \n",
    "\n",
    "Предлагаю общаться на «**ты**», но если тебе будет комфортнее общаться на «**вы**», то сообщи об этом в комментариях)\n",
    "\n",
    "\n",
    "Для твоего удобства, я буду выделять свои комментарии следующим образом:\n",
    "\n",
    "<div class=\"alert alert-danger\">\n",
    "<b>❌ Комментарий ревьюера v1:</b> Самые важные замечания. Они указывают на ключевые моменты, которые влияют на конечный результат проекта. </div>\n",
    "\n",
    "<div class=\"alert alert-warning\">\n",
    "<b>⚠️ Комментарий ревьюера v1:</b> Советы или замечания, которые помогут сделать твою работу лучше, но необязательны к выполнению.\n",
    "\n",
    "</div>\n",
    "\n",
    "<div class=\"alert alert-success\">\n",
    "<b>✔️ Комментарий ревьюера v1:</b> Так я выделяю все остальные комментарии.</div>\n",
    "\n",
    "\n",
    "Пометками <b>v1-v2-v3-...</b> я буду отмечать версию проверки. Так ты сможешь быстро найти мои новые комментарии.\n",
    "\n",
    "Давай работать над проектом в диалоге: если ты что-то меняешь в проекте по моим рекомендациям — пиши об этом. Выбери для своих комментариев какой-то заметный цвет, так мне будет легче отследить изменения, например вот так:\n",
    "    \n",
    "<div class=\"alert alert-info\">\n",
    "<b>Комментарий студента:</b>\n",
    "<br>\n",
    "</div>\n",
    "\n",
    "<b>Пожалуйста, не перемещай, не изменяй и не удаляй мои комментарии.</b> Если ты оставляешь свои комментарии, то делай это под моими, чтобы сообщения были расположены в хронологическом порядке. Всё это поможет выполнить повторную проверку твоего проекта быстрее. \n",
    "\n",
    "\n",
    "Перед отправкой работы я рекомендую нажимать Kernel -> Restart & Run All. Это перезапустит ядро и по очереди выполнит все ячейки. Так ты сможешь проверить, что всё работает корректно. Кнопка Kernel находится в панели сверху\n",
    "\n",
    "Обязательно задавай вопросы если они возникнут, а я перехожу к проверке)\n",
    "\n",
    "P.S. На всякий случай, я оставлю пустой шаблон для твоих комментариев ниже. Кликни два раза на мой комментарий, скопируй последние четыре строчки кода и вставляй их в пустую ячейку там, где ты хочешь оставить комментарий. Не забудь только перед этим сменить тип ячейки на Markdown. Быстро это можно сделать так: кликнуть на ячейку - нажать ESC - нажать M. \n",
    "    \n",
    "    \n",
    "<div class=\"alert alert-info\">\n",
    "<b>Комментарий студента:</b>\n",
    "<br>Место для твоего комментария\n",
    "</div>"
   ]
  },
  {
   "cell_type": "markdown",
   "id": "c81daeeb",
   "metadata": {
    "deletable": false,
    "id": "c81daeeb"
   },
   "source": [
    "# Исследование надежности заемщиков\n"
   ]
  },
  {
   "cell_type": "markdown",
   "id": "827c20bf",
   "metadata": {
    "id": "827c20bf"
   },
   "source": [
    "Во второй части проекта вы выполните шаги 3 и 4. Их вручную проверит ревьюер.\n",
    "Чтобы вам не пришлось писать код заново для шагов 1 и 2, мы добавили авторские решения в ячейки с кодом. \n",
    "\n"
   ]
  },
  {
   "cell_type": "markdown",
   "id": "744d7639",
   "metadata": {
    "deletable": false,
    "id": "744d7639"
   },
   "source": [
    "## Откройте таблицу и изучите общую информацию о данных"
   ]
  },
  {
   "cell_type": "markdown",
   "id": "e7a14c31",
   "metadata": {
    "deletable": false,
    "id": "e7a14c31"
   },
   "source": [
    "**Задание 1. Импортируйте библиотеку pandas. Считайте данные из csv-файла в датафрейм и сохраните в переменную `data`. Путь к файлу:**\n",
    "\n",
    "`/datasets/data.csv`"
   ]
  },
  {
   "cell_type": "code",
   "execution_count": 1,
   "id": "7bcf75c9",
   "metadata": {
    "deletable": false,
    "id": "7bcf75c9"
   },
   "outputs": [],
   "source": [
    "import pandas as pd\n",
    "\n",
    "try:\n",
    "    data = pd.read_csv('/datasets/data.csv')\n",
    "except:\n",
    "    data = pd.read_csv('https://code.s3.yandex.net/datasets/data.csv')"
   ]
  },
  {
   "cell_type": "markdown",
   "id": "b8038fe3",
   "metadata": {
    "deletable": false,
    "id": "b8038fe3"
   },
   "source": [
    "**Задание 2. Выведите первые 20 строчек датафрейма `data` на экран.**"
   ]
  },
  {
   "cell_type": "code",
   "execution_count": 2,
   "id": "2a7cab99",
   "metadata": {
    "deletable": false,
    "id": "2a7cab99",
    "outputId": "1a8f3ef2-d323-4ec2-ddf7-89670b5944c4"
   },
   "outputs": [
    {
     "data": {
      "text/html": [
       "<div>\n",
       "<style scoped>\n",
       "    .dataframe tbody tr th:only-of-type {\n",
       "        vertical-align: middle;\n",
       "    }\n",
       "\n",
       "    .dataframe tbody tr th {\n",
       "        vertical-align: top;\n",
       "    }\n",
       "\n",
       "    .dataframe thead th {\n",
       "        text-align: right;\n",
       "    }\n",
       "</style>\n",
       "<table border=\"1\" class=\"dataframe\">\n",
       "  <thead>\n",
       "    <tr style=\"text-align: right;\">\n",
       "      <th></th>\n",
       "      <th>children</th>\n",
       "      <th>days_employed</th>\n",
       "      <th>dob_years</th>\n",
       "      <th>education</th>\n",
       "      <th>education_id</th>\n",
       "      <th>family_status</th>\n",
       "      <th>family_status_id</th>\n",
       "      <th>gender</th>\n",
       "      <th>income_type</th>\n",
       "      <th>debt</th>\n",
       "      <th>total_income</th>\n",
       "      <th>purpose</th>\n",
       "    </tr>\n",
       "  </thead>\n",
       "  <tbody>\n",
       "    <tr>\n",
       "      <th>0</th>\n",
       "      <td>1</td>\n",
       "      <td>-8437.673028</td>\n",
       "      <td>42</td>\n",
       "      <td>высшее</td>\n",
       "      <td>0</td>\n",
       "      <td>женат / замужем</td>\n",
       "      <td>0</td>\n",
       "      <td>F</td>\n",
       "      <td>сотрудник</td>\n",
       "      <td>0</td>\n",
       "      <td>253875.639453</td>\n",
       "      <td>покупка жилья</td>\n",
       "    </tr>\n",
       "    <tr>\n",
       "      <th>1</th>\n",
       "      <td>1</td>\n",
       "      <td>-4024.803754</td>\n",
       "      <td>36</td>\n",
       "      <td>среднее</td>\n",
       "      <td>1</td>\n",
       "      <td>женат / замужем</td>\n",
       "      <td>0</td>\n",
       "      <td>F</td>\n",
       "      <td>сотрудник</td>\n",
       "      <td>0</td>\n",
       "      <td>112080.014102</td>\n",
       "      <td>приобретение автомобиля</td>\n",
       "    </tr>\n",
       "    <tr>\n",
       "      <th>2</th>\n",
       "      <td>0</td>\n",
       "      <td>-5623.422610</td>\n",
       "      <td>33</td>\n",
       "      <td>Среднее</td>\n",
       "      <td>1</td>\n",
       "      <td>женат / замужем</td>\n",
       "      <td>0</td>\n",
       "      <td>M</td>\n",
       "      <td>сотрудник</td>\n",
       "      <td>0</td>\n",
       "      <td>145885.952297</td>\n",
       "      <td>покупка жилья</td>\n",
       "    </tr>\n",
       "    <tr>\n",
       "      <th>3</th>\n",
       "      <td>3</td>\n",
       "      <td>-4124.747207</td>\n",
       "      <td>32</td>\n",
       "      <td>среднее</td>\n",
       "      <td>1</td>\n",
       "      <td>женат / замужем</td>\n",
       "      <td>0</td>\n",
       "      <td>M</td>\n",
       "      <td>сотрудник</td>\n",
       "      <td>0</td>\n",
       "      <td>267628.550329</td>\n",
       "      <td>дополнительное образование</td>\n",
       "    </tr>\n",
       "    <tr>\n",
       "      <th>4</th>\n",
       "      <td>0</td>\n",
       "      <td>340266.072047</td>\n",
       "      <td>53</td>\n",
       "      <td>среднее</td>\n",
       "      <td>1</td>\n",
       "      <td>гражданский брак</td>\n",
       "      <td>1</td>\n",
       "      <td>F</td>\n",
       "      <td>пенсионер</td>\n",
       "      <td>0</td>\n",
       "      <td>158616.077870</td>\n",
       "      <td>сыграть свадьбу</td>\n",
       "    </tr>\n",
       "    <tr>\n",
       "      <th>5</th>\n",
       "      <td>0</td>\n",
       "      <td>-926.185831</td>\n",
       "      <td>27</td>\n",
       "      <td>высшее</td>\n",
       "      <td>0</td>\n",
       "      <td>гражданский брак</td>\n",
       "      <td>1</td>\n",
       "      <td>M</td>\n",
       "      <td>компаньон</td>\n",
       "      <td>0</td>\n",
       "      <td>255763.565419</td>\n",
       "      <td>покупка жилья</td>\n",
       "    </tr>\n",
       "    <tr>\n",
       "      <th>6</th>\n",
       "      <td>0</td>\n",
       "      <td>-2879.202052</td>\n",
       "      <td>43</td>\n",
       "      <td>высшее</td>\n",
       "      <td>0</td>\n",
       "      <td>женат / замужем</td>\n",
       "      <td>0</td>\n",
       "      <td>F</td>\n",
       "      <td>компаньон</td>\n",
       "      <td>0</td>\n",
       "      <td>240525.971920</td>\n",
       "      <td>операции с жильем</td>\n",
       "    </tr>\n",
       "    <tr>\n",
       "      <th>7</th>\n",
       "      <td>0</td>\n",
       "      <td>-152.779569</td>\n",
       "      <td>50</td>\n",
       "      <td>СРЕДНЕЕ</td>\n",
       "      <td>1</td>\n",
       "      <td>женат / замужем</td>\n",
       "      <td>0</td>\n",
       "      <td>M</td>\n",
       "      <td>сотрудник</td>\n",
       "      <td>0</td>\n",
       "      <td>135823.934197</td>\n",
       "      <td>образование</td>\n",
       "    </tr>\n",
       "    <tr>\n",
       "      <th>8</th>\n",
       "      <td>2</td>\n",
       "      <td>-6929.865299</td>\n",
       "      <td>35</td>\n",
       "      <td>ВЫСШЕЕ</td>\n",
       "      <td>0</td>\n",
       "      <td>гражданский брак</td>\n",
       "      <td>1</td>\n",
       "      <td>F</td>\n",
       "      <td>сотрудник</td>\n",
       "      <td>0</td>\n",
       "      <td>95856.832424</td>\n",
       "      <td>на проведение свадьбы</td>\n",
       "    </tr>\n",
       "    <tr>\n",
       "      <th>9</th>\n",
       "      <td>0</td>\n",
       "      <td>-2188.756445</td>\n",
       "      <td>41</td>\n",
       "      <td>среднее</td>\n",
       "      <td>1</td>\n",
       "      <td>женат / замужем</td>\n",
       "      <td>0</td>\n",
       "      <td>M</td>\n",
       "      <td>сотрудник</td>\n",
       "      <td>0</td>\n",
       "      <td>144425.938277</td>\n",
       "      <td>покупка жилья для семьи</td>\n",
       "    </tr>\n",
       "    <tr>\n",
       "      <th>10</th>\n",
       "      <td>2</td>\n",
       "      <td>-4171.483647</td>\n",
       "      <td>36</td>\n",
       "      <td>высшее</td>\n",
       "      <td>0</td>\n",
       "      <td>женат / замужем</td>\n",
       "      <td>0</td>\n",
       "      <td>M</td>\n",
       "      <td>компаньон</td>\n",
       "      <td>0</td>\n",
       "      <td>113943.491460</td>\n",
       "      <td>покупка недвижимости</td>\n",
       "    </tr>\n",
       "    <tr>\n",
       "      <th>11</th>\n",
       "      <td>0</td>\n",
       "      <td>-792.701887</td>\n",
       "      <td>40</td>\n",
       "      <td>среднее</td>\n",
       "      <td>1</td>\n",
       "      <td>женат / замужем</td>\n",
       "      <td>0</td>\n",
       "      <td>F</td>\n",
       "      <td>сотрудник</td>\n",
       "      <td>0</td>\n",
       "      <td>77069.234271</td>\n",
       "      <td>покупка коммерческой недвижимости</td>\n",
       "    </tr>\n",
       "    <tr>\n",
       "      <th>12</th>\n",
       "      <td>0</td>\n",
       "      <td>NaN</td>\n",
       "      <td>65</td>\n",
       "      <td>среднее</td>\n",
       "      <td>1</td>\n",
       "      <td>гражданский брак</td>\n",
       "      <td>1</td>\n",
       "      <td>M</td>\n",
       "      <td>пенсионер</td>\n",
       "      <td>0</td>\n",
       "      <td>NaN</td>\n",
       "      <td>сыграть свадьбу</td>\n",
       "    </tr>\n",
       "    <tr>\n",
       "      <th>13</th>\n",
       "      <td>0</td>\n",
       "      <td>-1846.641941</td>\n",
       "      <td>54</td>\n",
       "      <td>неоконченное высшее</td>\n",
       "      <td>2</td>\n",
       "      <td>женат / замужем</td>\n",
       "      <td>0</td>\n",
       "      <td>F</td>\n",
       "      <td>сотрудник</td>\n",
       "      <td>0</td>\n",
       "      <td>130458.228857</td>\n",
       "      <td>приобретение автомобиля</td>\n",
       "    </tr>\n",
       "    <tr>\n",
       "      <th>14</th>\n",
       "      <td>0</td>\n",
       "      <td>-1844.956182</td>\n",
       "      <td>56</td>\n",
       "      <td>высшее</td>\n",
       "      <td>0</td>\n",
       "      <td>гражданский брак</td>\n",
       "      <td>1</td>\n",
       "      <td>F</td>\n",
       "      <td>компаньон</td>\n",
       "      <td>1</td>\n",
       "      <td>165127.911772</td>\n",
       "      <td>покупка жилой недвижимости</td>\n",
       "    </tr>\n",
       "    <tr>\n",
       "      <th>15</th>\n",
       "      <td>1</td>\n",
       "      <td>-972.364419</td>\n",
       "      <td>26</td>\n",
       "      <td>среднее</td>\n",
       "      <td>1</td>\n",
       "      <td>женат / замужем</td>\n",
       "      <td>0</td>\n",
       "      <td>F</td>\n",
       "      <td>сотрудник</td>\n",
       "      <td>0</td>\n",
       "      <td>116820.904450</td>\n",
       "      <td>строительство собственной недвижимости</td>\n",
       "    </tr>\n",
       "    <tr>\n",
       "      <th>16</th>\n",
       "      <td>0</td>\n",
       "      <td>-1719.934226</td>\n",
       "      <td>35</td>\n",
       "      <td>среднее</td>\n",
       "      <td>1</td>\n",
       "      <td>женат / замужем</td>\n",
       "      <td>0</td>\n",
       "      <td>F</td>\n",
       "      <td>сотрудник</td>\n",
       "      <td>0</td>\n",
       "      <td>289202.704229</td>\n",
       "      <td>недвижимость</td>\n",
       "    </tr>\n",
       "    <tr>\n",
       "      <th>17</th>\n",
       "      <td>0</td>\n",
       "      <td>-2369.999720</td>\n",
       "      <td>33</td>\n",
       "      <td>высшее</td>\n",
       "      <td>0</td>\n",
       "      <td>гражданский брак</td>\n",
       "      <td>1</td>\n",
       "      <td>M</td>\n",
       "      <td>сотрудник</td>\n",
       "      <td>0</td>\n",
       "      <td>90410.586745</td>\n",
       "      <td>строительство недвижимости</td>\n",
       "    </tr>\n",
       "    <tr>\n",
       "      <th>18</th>\n",
       "      <td>0</td>\n",
       "      <td>400281.136913</td>\n",
       "      <td>53</td>\n",
       "      <td>среднее</td>\n",
       "      <td>1</td>\n",
       "      <td>вдовец / вдова</td>\n",
       "      <td>2</td>\n",
       "      <td>F</td>\n",
       "      <td>пенсионер</td>\n",
       "      <td>0</td>\n",
       "      <td>56823.777243</td>\n",
       "      <td>на покупку подержанного автомобиля</td>\n",
       "    </tr>\n",
       "    <tr>\n",
       "      <th>19</th>\n",
       "      <td>0</td>\n",
       "      <td>-10038.818549</td>\n",
       "      <td>48</td>\n",
       "      <td>СРЕДНЕЕ</td>\n",
       "      <td>1</td>\n",
       "      <td>в разводе</td>\n",
       "      <td>3</td>\n",
       "      <td>F</td>\n",
       "      <td>сотрудник</td>\n",
       "      <td>0</td>\n",
       "      <td>242831.107982</td>\n",
       "      <td>на покупку своего автомобиля</td>\n",
       "    </tr>\n",
       "  </tbody>\n",
       "</table>\n",
       "</div>"
      ],
      "text/plain": [
       "    children  days_employed  dob_years            education  education_id  \\\n",
       "0          1   -8437.673028         42               высшее             0   \n",
       "1          1   -4024.803754         36              среднее             1   \n",
       "2          0   -5623.422610         33              Среднее             1   \n",
       "3          3   -4124.747207         32              среднее             1   \n",
       "4          0  340266.072047         53              среднее             1   \n",
       "5          0    -926.185831         27               высшее             0   \n",
       "6          0   -2879.202052         43               высшее             0   \n",
       "7          0    -152.779569         50              СРЕДНЕЕ             1   \n",
       "8          2   -6929.865299         35               ВЫСШЕЕ             0   \n",
       "9          0   -2188.756445         41              среднее             1   \n",
       "10         2   -4171.483647         36               высшее             0   \n",
       "11         0    -792.701887         40              среднее             1   \n",
       "12         0            NaN         65              среднее             1   \n",
       "13         0   -1846.641941         54  неоконченное высшее             2   \n",
       "14         0   -1844.956182         56               высшее             0   \n",
       "15         1    -972.364419         26              среднее             1   \n",
       "16         0   -1719.934226         35              среднее             1   \n",
       "17         0   -2369.999720         33               высшее             0   \n",
       "18         0  400281.136913         53              среднее             1   \n",
       "19         0  -10038.818549         48              СРЕДНЕЕ             1   \n",
       "\n",
       "       family_status  family_status_id gender income_type  debt  \\\n",
       "0    женат / замужем                 0      F   сотрудник     0   \n",
       "1    женат / замужем                 0      F   сотрудник     0   \n",
       "2    женат / замужем                 0      M   сотрудник     0   \n",
       "3    женат / замужем                 0      M   сотрудник     0   \n",
       "4   гражданский брак                 1      F   пенсионер     0   \n",
       "5   гражданский брак                 1      M   компаньон     0   \n",
       "6    женат / замужем                 0      F   компаньон     0   \n",
       "7    женат / замужем                 0      M   сотрудник     0   \n",
       "8   гражданский брак                 1      F   сотрудник     0   \n",
       "9    женат / замужем                 0      M   сотрудник     0   \n",
       "10   женат / замужем                 0      M   компаньон     0   \n",
       "11   женат / замужем                 0      F   сотрудник     0   \n",
       "12  гражданский брак                 1      M   пенсионер     0   \n",
       "13   женат / замужем                 0      F   сотрудник     0   \n",
       "14  гражданский брак                 1      F   компаньон     1   \n",
       "15   женат / замужем                 0      F   сотрудник     0   \n",
       "16   женат / замужем                 0      F   сотрудник     0   \n",
       "17  гражданский брак                 1      M   сотрудник     0   \n",
       "18    вдовец / вдова                 2      F   пенсионер     0   \n",
       "19         в разводе                 3      F   сотрудник     0   \n",
       "\n",
       "     total_income                                 purpose  \n",
       "0   253875.639453                           покупка жилья  \n",
       "1   112080.014102                 приобретение автомобиля  \n",
       "2   145885.952297                           покупка жилья  \n",
       "3   267628.550329              дополнительное образование  \n",
       "4   158616.077870                         сыграть свадьбу  \n",
       "5   255763.565419                           покупка жилья  \n",
       "6   240525.971920                       операции с жильем  \n",
       "7   135823.934197                             образование  \n",
       "8    95856.832424                   на проведение свадьбы  \n",
       "9   144425.938277                 покупка жилья для семьи  \n",
       "10  113943.491460                    покупка недвижимости  \n",
       "11   77069.234271       покупка коммерческой недвижимости  \n",
       "12            NaN                         сыграть свадьбу  \n",
       "13  130458.228857                 приобретение автомобиля  \n",
       "14  165127.911772              покупка жилой недвижимости  \n",
       "15  116820.904450  строительство собственной недвижимости  \n",
       "16  289202.704229                            недвижимость  \n",
       "17   90410.586745              строительство недвижимости  \n",
       "18   56823.777243      на покупку подержанного автомобиля  \n",
       "19  242831.107982            на покупку своего автомобиля  "
      ]
     },
     "execution_count": 2,
     "metadata": {},
     "output_type": "execute_result"
    }
   ],
   "source": [
    "data.head(20)"
   ]
  },
  {
   "cell_type": "markdown",
   "id": "1c12e233",
   "metadata": {
    "deletable": false,
    "id": "1c12e233"
   },
   "source": [
    "**Задание 3. Выведите основную информацию о датафрейме с помощью метода `info()`.**"
   ]
  },
  {
   "cell_type": "code",
   "execution_count": 3,
   "id": "2b757bca",
   "metadata": {
    "deletable": false,
    "id": "2b757bca",
    "outputId": "15376089-8dad-46c9-b520-c05248d43158"
   },
   "outputs": [
    {
     "name": "stdout",
     "output_type": "stream",
     "text": [
      "<class 'pandas.core.frame.DataFrame'>\n",
      "RangeIndex: 21525 entries, 0 to 21524\n",
      "Data columns (total 12 columns):\n",
      " #   Column            Non-Null Count  Dtype  \n",
      "---  ------            --------------  -----  \n",
      " 0   children          21525 non-null  int64  \n",
      " 1   days_employed     19351 non-null  float64\n",
      " 2   dob_years         21525 non-null  int64  \n",
      " 3   education         21525 non-null  object \n",
      " 4   education_id      21525 non-null  int64  \n",
      " 5   family_status     21525 non-null  object \n",
      " 6   family_status_id  21525 non-null  int64  \n",
      " 7   gender            21525 non-null  object \n",
      " 8   income_type       21525 non-null  object \n",
      " 9   debt              21525 non-null  int64  \n",
      " 10  total_income      19351 non-null  float64\n",
      " 11  purpose           21525 non-null  object \n",
      "dtypes: float64(2), int64(5), object(5)\n",
      "memory usage: 2.0+ MB\n"
     ]
    }
   ],
   "source": [
    "data.info()"
   ]
  },
  {
   "cell_type": "markdown",
   "id": "333ec665",
   "metadata": {
    "deletable": false,
    "id": "333ec665"
   },
   "source": [
    "## Предобработка данных"
   ]
  },
  {
   "cell_type": "markdown",
   "id": "02d92d53",
   "metadata": {
    "deletable": false,
    "id": "02d92d53"
   },
   "source": [
    "### Удаление пропусков"
   ]
  },
  {
   "cell_type": "markdown",
   "id": "cd84967c",
   "metadata": {
    "deletable": false,
    "id": "cd84967c"
   },
   "source": [
    "**Задание 4. Выведите количество пропущенных значений для каждого столбца. Используйте комбинацию двух методов.**"
   ]
  },
  {
   "cell_type": "code",
   "execution_count": 4,
   "id": "7f9b2309",
   "metadata": {
    "deletable": false,
    "id": "7f9b2309",
    "outputId": "81f4d817-781c-465c-ed15-91ce4446810d"
   },
   "outputs": [
    {
     "data": {
      "text/plain": [
       "children               0\n",
       "days_employed       2174\n",
       "dob_years              0\n",
       "education              0\n",
       "education_id           0\n",
       "family_status          0\n",
       "family_status_id       0\n",
       "gender                 0\n",
       "income_type            0\n",
       "debt                   0\n",
       "total_income        2174\n",
       "purpose                0\n",
       "dtype: int64"
      ]
     },
     "execution_count": 4,
     "metadata": {},
     "output_type": "execute_result"
    }
   ],
   "source": [
    "data.isna().sum()"
   ]
  },
  {
   "cell_type": "markdown",
   "id": "db86e27b",
   "metadata": {
    "deletable": false,
    "id": "db86e27b"
   },
   "source": [
    "**Задание 5. В двух столбцах есть пропущенные значения. Один из них — `days_employed`. Пропуски в этом столбце вы обработаете на следующем этапе. Другой столбец с пропущенными значениями — `total_income` — хранит данные о доходах. На сумму дохода сильнее всего влияет тип занятости, поэтому заполнить пропуски в этом столбце нужно медианным значением по каждому типу из столбца `income_type`. Например, у человека с типом занятости `сотрудник` пропуск в столбце `total_income` должен быть заполнен медианным доходом среди всех записей с тем же типом.**"
   ]
  },
  {
   "cell_type": "code",
   "execution_count": 5,
   "id": "42006a93",
   "metadata": {
    "deletable": false,
    "id": "42006a93"
   },
   "outputs": [],
   "source": [
    "for t in data['income_type'].unique():\n",
    "    data.loc[(data['income_type'] == t) & (data['total_income'].isna()), 'total_income'] = \\\n",
    "    data.loc[(data['income_type'] == t), 'total_income'].median()"
   ]
  },
  {
   "cell_type": "markdown",
   "id": "89da5ece",
   "metadata": {
    "deletable": false,
    "id": "89da5ece"
   },
   "source": [
    "### Обработка аномальных значений"
   ]
  },
  {
   "cell_type": "markdown",
   "id": "57964554",
   "metadata": {
    "deletable": false,
    "id": "57964554"
   },
   "source": [
    "**Задание 6. В данных могут встречаться артефакты (аномалии) — значения, которые не отражают действительность и появились по какой-то ошибке. таким артефактом будет отрицательное количество дней трудового стажа в столбце `days_employed`. Для реальных данных это нормально. Обработайте значения в этом столбце: замените все отрицательные значения положительными с помощью метода `abs()`.**"
   ]
  },
  {
   "cell_type": "code",
   "execution_count": 6,
   "id": "f6f055bf",
   "metadata": {
    "deletable": false,
    "id": "f6f055bf"
   },
   "outputs": [],
   "source": [
    "data['days_employed'] = data['days_employed'].abs()"
   ]
  },
  {
   "cell_type": "markdown",
   "id": "6107dd2f",
   "metadata": {
    "deletable": false,
    "id": "6107dd2f"
   },
   "source": [
    "**Задание 7. Для каждого типа занятости выведите медианное значение трудового стажа `days_employed` в днях.**"
   ]
  },
  {
   "cell_type": "code",
   "execution_count": 7,
   "id": "85a5faf6",
   "metadata": {
    "deletable": false,
    "id": "85a5faf6",
    "outputId": "801ef80e-522b-4668-f34e-565af7432bcf"
   },
   "outputs": [
    {
     "data": {
      "text/plain": [
       "income_type\n",
       "безработный        366413.652744\n",
       "в декрете            3296.759962\n",
       "госслужащий          2689.368353\n",
       "компаньон            1547.382223\n",
       "пенсионер          365213.306266\n",
       "предприниматель       520.848083\n",
       "сотрудник            1574.202821\n",
       "студент               578.751554\n",
       "Name: days_employed, dtype: float64"
      ]
     },
     "execution_count": 7,
     "metadata": {},
     "output_type": "execute_result"
    }
   ],
   "source": [
    "data.groupby('income_type')['days_employed'].agg('median')"
   ]
  },
  {
   "cell_type": "markdown",
   "id": "38d1a030",
   "metadata": {
    "deletable": false,
    "id": "38d1a030"
   },
   "source": [
    "У двух типов (безработные и пенсионеры) получатся аномально большие значения. Исправить такие значения сложно, поэтому оставьте их как есть. Тем более этот столбец не понадобится вам для исследования."
   ]
  },
  {
   "cell_type": "markdown",
   "id": "d8a9f147",
   "metadata": {
    "deletable": false,
    "id": "d8a9f147"
   },
   "source": [
    "**Задание 8. Выведите перечень уникальных значений столбца `children`.**"
   ]
  },
  {
   "cell_type": "code",
   "execution_count": 8,
   "id": "ef5056eb",
   "metadata": {
    "deletable": false,
    "id": "ef5056eb",
    "outputId": "6975b15c-7f95-4697-d16d-a0c79b657b03"
   },
   "outputs": [
    {
     "data": {
      "text/plain": [
       "array([ 1,  0,  3,  2, -1,  4, 20,  5])"
      ]
     },
     "execution_count": 8,
     "metadata": {},
     "output_type": "execute_result"
    }
   ],
   "source": [
    "data['children'].unique()"
   ]
  },
  {
   "cell_type": "markdown",
   "id": "40b9ebf2",
   "metadata": {
    "deletable": false,
    "id": "40b9ebf2"
   },
   "source": [
    "**Задание 9. В столбце `children` есть два аномальных значения. Удалите строки, в которых встречаются такие аномальные значения из датафрейма `data`.**"
   ]
  },
  {
   "cell_type": "code",
   "execution_count": 9,
   "id": "3ff9801d",
   "metadata": {
    "deletable": false,
    "id": "3ff9801d"
   },
   "outputs": [],
   "source": [
    "data = data[(data['children'] != -1) & (data['children'] != 20)]"
   ]
  },
  {
   "cell_type": "markdown",
   "id": "bbc4d0ce",
   "metadata": {
    "deletable": false,
    "id": "bbc4d0ce"
   },
   "source": [
    "**Задание 10. Ещё раз выведите перечень уникальных значений столбца `children`, чтобы убедиться, что артефакты удалены.**"
   ]
  },
  {
   "cell_type": "code",
   "execution_count": 10,
   "id": "ad4fa8b7",
   "metadata": {
    "deletable": false,
    "id": "ad4fa8b7",
    "outputId": "b2097101-d49d-44d9-901b-32a65c9463d1"
   },
   "outputs": [
    {
     "data": {
      "text/plain": [
       "array([1, 0, 3, 2, 4, 5])"
      ]
     },
     "execution_count": 10,
     "metadata": {},
     "output_type": "execute_result"
    }
   ],
   "source": [
    "data['children'].unique()"
   ]
  },
  {
   "cell_type": "markdown",
   "id": "75440b63",
   "metadata": {
    "deletable": false,
    "id": "75440b63"
   },
   "source": [
    "### Удаление пропусков (продолжение)"
   ]
  },
  {
   "cell_type": "markdown",
   "id": "f4ea573f",
   "metadata": {
    "deletable": false,
    "id": "f4ea573f"
   },
   "source": [
    "**Задание 11. Заполните пропуски в столбце `days_employed` медианными значениями по каждого типа занятости `income_type`.**"
   ]
  },
  {
   "cell_type": "code",
   "execution_count": 11,
   "id": "af6b1a7e",
   "metadata": {
    "deletable": false,
    "id": "af6b1a7e"
   },
   "outputs": [],
   "source": [
    "for t in data['income_type'].unique():\n",
    "    data.loc[(data['income_type'] == t) & (data['days_employed'].isna()), 'days_employed'] = \\\n",
    "    data.loc[(data['income_type'] == t), 'days_employed'].median()"
   ]
  },
  {
   "cell_type": "markdown",
   "id": "2753f40d",
   "metadata": {
    "deletable": false,
    "id": "2753f40d"
   },
   "source": [
    "**Задание 12. Убедитесь, что все пропуски заполнены. Проверьте себя и ещё раз выведите количество пропущенных значений для каждого столбца с помощью двух методов.**"
   ]
  },
  {
   "cell_type": "code",
   "execution_count": 12,
   "id": "55f78bc2",
   "metadata": {
    "deletable": false,
    "id": "55f78bc2",
    "outputId": "8da1e4e1-358e-4e87-98c9-f261bce0a7b2"
   },
   "outputs": [
    {
     "data": {
      "text/plain": [
       "children            0\n",
       "days_employed       0\n",
       "dob_years           0\n",
       "education           0\n",
       "education_id        0\n",
       "family_status       0\n",
       "family_status_id    0\n",
       "gender              0\n",
       "income_type         0\n",
       "debt                0\n",
       "total_income        0\n",
       "purpose             0\n",
       "dtype: int64"
      ]
     },
     "execution_count": 12,
     "metadata": {},
     "output_type": "execute_result"
    }
   ],
   "source": [
    "data.isna().sum()"
   ]
  },
  {
   "cell_type": "markdown",
   "id": "ddc81e43",
   "metadata": {
    "deletable": false,
    "id": "ddc81e43"
   },
   "source": [
    "### Изменение типов данных"
   ]
  },
  {
   "cell_type": "markdown",
   "id": "42d19d24",
   "metadata": {
    "deletable": false,
    "id": "42d19d24"
   },
   "source": [
    "**Задание 13. Замените вещественный тип данных в столбце `total_income` на целочисленный с помощью метода `astype()`.**"
   ]
  },
  {
   "cell_type": "code",
   "execution_count": 13,
   "id": "920b65ad",
   "metadata": {
    "deletable": false,
    "id": "920b65ad"
   },
   "outputs": [],
   "source": [
    "data['total_income'] = data['total_income'].astype(int)"
   ]
  },
  {
   "cell_type": "markdown",
   "id": "80c420ba",
   "metadata": {
    "deletable": false,
    "id": "80c420ba"
   },
   "source": [
    "### Обработка дубликатов"
   ]
  },
  {
   "cell_type": "markdown",
   "id": "dc587695",
   "metadata": {
    "deletable": false,
    "id": "dc587695"
   },
   "source": [
    "**Задание 14. Выведите на экран количество строк-дубликатов в данных. Если такие строки присутствуют, удалите их.**"
   ]
  },
  {
   "cell_type": "code",
   "execution_count": 14,
   "id": "3ee445e4",
   "metadata": {
    "deletable": false,
    "id": "3ee445e4",
    "outputId": "9684deba-1934-42d1-99e1-cda61740f822"
   },
   "outputs": [
    {
     "data": {
      "text/plain": [
       "54"
      ]
     },
     "execution_count": 14,
     "metadata": {},
     "output_type": "execute_result"
    }
   ],
   "source": [
    "data.duplicated().sum()"
   ]
  },
  {
   "cell_type": "code",
   "execution_count": 15,
   "id": "8575fe05",
   "metadata": {
    "deletable": false,
    "id": "8575fe05"
   },
   "outputs": [],
   "source": [
    "data = data.drop_duplicates()"
   ]
  },
  {
   "cell_type": "markdown",
   "id": "9771a76c",
   "metadata": {
    "deletable": false,
    "id": "9771a76c"
   },
   "source": [
    "**Задание 15. Обработайте неявные дубликаты в столбце `education`. В этом столбце есть одни и те же значения, но записанные по-разному: с использованием заглавных и строчных букв. Приведите их к нижнему регистру. Проверьте остальные столбцы.**"
   ]
  },
  {
   "cell_type": "code",
   "execution_count": 16,
   "id": "a9f8e2bf",
   "metadata": {
    "deletable": false,
    "id": "a9f8e2bf"
   },
   "outputs": [],
   "source": [
    "data['education'] = data['education'].str.lower()"
   ]
  },
  {
   "cell_type": "markdown",
   "id": "9904cf55",
   "metadata": {
    "deletable": false,
    "id": "9904cf55"
   },
   "source": [
    "### Категоризация данных"
   ]
  },
  {
   "cell_type": "markdown",
   "id": "72fcc8a2",
   "metadata": {
    "deletable": false,
    "id": "72fcc8a2"
   },
   "source": [
    "**Задание 16. На основании диапазонов, указанных ниже, создайте в датафрейме `data` столбец `total_income_category` с категориями:**\n",
    "\n",
    "- 0–30000 — `'E'`;\n",
    "- 30001–50000 — `'D'`;\n",
    "- 50001–200000 — `'C'`;\n",
    "- 200001–1000000 — `'B'`;\n",
    "- 1000001 и выше — `'A'`.\n",
    "\n",
    "\n",
    "**Например, кредитополучателю с доходом 25000 нужно назначить категорию `'E'`, а клиенту, получающему 235000, — `'B'`. Используйте собственную функцию с именем `categorize_income()` и метод `apply()`.**"
   ]
  },
  {
   "cell_type": "code",
   "execution_count": 17,
   "id": "e1771346",
   "metadata": {
    "deletable": false,
    "id": "e1771346"
   },
   "outputs": [],
   "source": [
    "def categorize_income(income):\n",
    "    try:\n",
    "        if 0 <= income <= 30000:\n",
    "            return 'E'\n",
    "        elif 30001 <= income <= 50000:\n",
    "            return 'D'\n",
    "        elif 50001 <= income <= 200000:\n",
    "            return 'C'\n",
    "        elif 200001 <= income <= 1000000:\n",
    "            return 'B'\n",
    "        elif income >= 1000001:\n",
    "            return 'A'\n",
    "    except:\n",
    "        pass"
   ]
  },
  {
   "cell_type": "code",
   "execution_count": 18,
   "id": "d5f3586d",
   "metadata": {
    "deletable": false,
    "id": "d5f3586d"
   },
   "outputs": [],
   "source": [
    "data['total_income_category'] = data['total_income'].apply(categorize_income)"
   ]
  },
  {
   "cell_type": "markdown",
   "id": "dde49b5c",
   "metadata": {
    "deletable": false,
    "id": "dde49b5c"
   },
   "source": [
    "**Задание 17. Выведите на экран перечень уникальных целей взятия кредита из столбца `purpose`.**"
   ]
  },
  {
   "cell_type": "code",
   "execution_count": 19,
   "id": "f67ce9b3",
   "metadata": {
    "deletable": false,
    "id": "f67ce9b3",
    "outputId": "673c12d9-7d7e-4ae0-9812-c622c89dd244"
   },
   "outputs": [
    {
     "data": {
      "text/plain": [
       "array(['покупка жилья', 'приобретение автомобиля',\n",
       "       'дополнительное образование', 'сыграть свадьбу',\n",
       "       'операции с жильем', 'образование', 'на проведение свадьбы',\n",
       "       'покупка жилья для семьи', 'покупка недвижимости',\n",
       "       'покупка коммерческой недвижимости', 'покупка жилой недвижимости',\n",
       "       'строительство собственной недвижимости', 'недвижимость',\n",
       "       'строительство недвижимости', 'на покупку подержанного автомобиля',\n",
       "       'на покупку своего автомобиля',\n",
       "       'операции с коммерческой недвижимостью',\n",
       "       'строительство жилой недвижимости', 'жилье',\n",
       "       'операции со своей недвижимостью', 'автомобили',\n",
       "       'заняться образованием', 'сделка с подержанным автомобилем',\n",
       "       'получение образования', 'автомобиль', 'свадьба',\n",
       "       'получение дополнительного образования', 'покупка своего жилья',\n",
       "       'операции с недвижимостью', 'получение высшего образования',\n",
       "       'свой автомобиль', 'сделка с автомобилем',\n",
       "       'профильное образование', 'высшее образование',\n",
       "       'покупка жилья для сдачи', 'на покупку автомобиля', 'ремонт жилью',\n",
       "       'заняться высшим образованием'], dtype=object)"
      ]
     },
     "execution_count": 19,
     "metadata": {},
     "output_type": "execute_result"
    }
   ],
   "source": [
    "data['purpose'].unique()"
   ]
  },
  {
   "cell_type": "markdown",
   "id": "85d0aef0",
   "metadata": {
    "deletable": false,
    "id": "85d0aef0"
   },
   "source": [
    "**Задание 18. Создайте функцию, которая на основании данных из столбца `purpose` сформирует новый столбец `purpose_category`, в который войдут следующие категории:**\n",
    "\n",
    "- `'операции с автомобилем'`,\n",
    "- `'операции с недвижимостью'`,\n",
    "- `'проведение свадьбы'`,\n",
    "- `'получение образования'`.\n",
    "\n",
    "**Например, если в столбце `purpose` находится подстрока `'на покупку автомобиля'`, то в столбце `purpose_category` должна появиться строка `'операции с автомобилем'`.**\n",
    "\n",
    "**Используйте собственную функцию с именем `categorize_purpose()` и метод `apply()`. Изучите данные в столбце `purpose` и определите, какие подстроки помогут вам правильно определить категорию.**"
   ]
  },
  {
   "cell_type": "code",
   "execution_count": 20,
   "id": "e149fab4",
   "metadata": {
    "deletable": false,
    "id": "e149fab4"
   },
   "outputs": [],
   "source": [
    "def categorize_purpose(row):\n",
    "    try:\n",
    "        if 'автом' in row:\n",
    "            return 'операции с автомобилем'\n",
    "        elif 'жил' in row or 'недвиж' in row:\n",
    "            return 'операции с недвижимостью'\n",
    "        elif 'свад' in row:\n",
    "            return 'проведение свадьбы'\n",
    "        elif 'образов' in row:\n",
    "            return 'получение образования'\n",
    "    except:\n",
    "        return 'нет категории'"
   ]
  },
  {
   "cell_type": "code",
   "execution_count": 21,
   "id": "bf36e69b",
   "metadata": {
    "deletable": false,
    "id": "bf36e69b"
   },
   "outputs": [],
   "source": [
    "data['purpose_category'] = data['purpose'].apply(categorize_purpose)"
   ]
  },
  {
   "cell_type": "markdown",
   "id": "09b242bf",
   "metadata": {
    "deletable": false,
    "editable": false,
    "id": "09b242bf"
   },
   "source": [
    "## Исследуйте данные и ответьте на вопросы"
   ]
  },
  {
   "cell_type": "markdown",
   "id": "c5d66278",
   "metadata": {
    "deletable": false,
    "editable": false,
    "id": "c5d66278"
   },
   "source": [
    "**Задание 19. Есть ли зависимость между количеством детей и возвратом кредита в срок?**"
   ]
  },
  {
   "cell_type": "code",
   "execution_count": 22,
   "id": "2cacfc4a",
   "metadata": {
    "id": "2cacfc4a"
   },
   "outputs": [
    {
     "data": {
      "text/html": [
       "<div>\n",
       "<style scoped>\n",
       "    .dataframe tbody tr th:only-of-type {\n",
       "        vertical-align: middle;\n",
       "    }\n",
       "\n",
       "    .dataframe tbody tr th {\n",
       "        vertical-align: top;\n",
       "    }\n",
       "\n",
       "    .dataframe thead th {\n",
       "        text-align: right;\n",
       "    }\n",
       "</style>\n",
       "<table border=\"1\" class=\"dataframe\">\n",
       "  <thead>\n",
       "    <tr style=\"text-align: right;\">\n",
       "      <th></th>\n",
       "      <th>total</th>\n",
       "      <th>target</th>\n",
       "      <th>share</th>\n",
       "    </tr>\n",
       "    <tr>\n",
       "      <th>children</th>\n",
       "      <th></th>\n",
       "      <th></th>\n",
       "      <th></th>\n",
       "    </tr>\n",
       "  </thead>\n",
       "  <tbody>\n",
       "    <tr>\n",
       "      <th>5</th>\n",
       "      <td>9</td>\n",
       "      <td>0</td>\n",
       "      <td>0.000</td>\n",
       "    </tr>\n",
       "    <tr>\n",
       "      <th>0</th>\n",
       "      <td>14107</td>\n",
       "      <td>1063</td>\n",
       "      <td>0.075</td>\n",
       "    </tr>\n",
       "    <tr>\n",
       "      <th>3</th>\n",
       "      <td>330</td>\n",
       "      <td>27</td>\n",
       "      <td>0.082</td>\n",
       "    </tr>\n",
       "    <tr>\n",
       "      <th>1</th>\n",
       "      <td>4809</td>\n",
       "      <td>444</td>\n",
       "      <td>0.092</td>\n",
       "    </tr>\n",
       "    <tr>\n",
       "      <th>2</th>\n",
       "      <td>2052</td>\n",
       "      <td>194</td>\n",
       "      <td>0.095</td>\n",
       "    </tr>\n",
       "    <tr>\n",
       "      <th>4</th>\n",
       "      <td>41</td>\n",
       "      <td>4</td>\n",
       "      <td>0.098</td>\n",
       "    </tr>\n",
       "  </tbody>\n",
       "</table>\n",
       "</div>"
      ],
      "text/plain": [
       "          total  target  share\n",
       "children                      \n",
       "5             9       0  0.000\n",
       "0         14107    1063  0.075\n",
       "3           330      27  0.082\n",
       "1          4809     444  0.092\n",
       "2          2052     194  0.095\n",
       "4            41       4  0.098"
      ]
     },
     "metadata": {},
     "output_type": "display_data"
    }
   ],
   "source": [
    "target = data.pivot_table(index = [ 'children'], values = 'debt', aggfunc = {'count','sum'})\n",
    "target = target.rename(columns={'count':'total','sum':'target'})\n",
    "target['share'] = round(target['target']/target['total'], 3)\n",
    "target = target.sort_values(by='share', ascending=True)\n",
    "display(target)\n",
    "\n",
    "# Ваш код будет здесь. Вы можете создавать новые ячейки."
   ]
  },
  {
   "cell_type": "markdown",
   "id": "3a6b99ec",
   "metadata": {
    "deletable": false,
    "id": "3a6b99ec"
   },
   "source": [
    "**Вывод: корреляция между возвратом кредита в срок и количеством детей прослеживается, но не сильная. Люди, у которых 3 или 5 детей, и люди, у которых детей нет, либо не допускают вовсе, либо допускают незначительно просрочку кредита. Объясняться это может тем, что первые более ответственны, а вторые - более платежеспособны, так как имеют меньшую финансовую нагрузку. Люди, у которых 1-2 ребенка, в целом допускают практически одинаковую просрочку по кредитам. При этом семьи с 2 детьми, допускают такое чаще, что может быть подтверждением гипотезы. Семьи с 4 детьми допускают наибольший процент невозвратности кредитов, возможно, ввиду серьезной финансовой нагрузки на семью. ** "
   ]
  },
  {
   "cell_type": "markdown",
   "id": "cbff5e66",
   "metadata": {},
   "source": [
    "<div class=\"alert alert-success\">\n",
    "<b>✔️ Комментарий ревьюера v1:</b> \n",
    "<br>Верно! Отлично, что ты используешь сводную таблицу\n",
    "</div>"
   ]
  },
  {
   "cell_type": "markdown",
   "id": "97be82ca",
   "metadata": {
    "deletable": false,
    "editable": false,
    "id": "97be82ca"
   },
   "source": [
    "**Задание 20. Есть ли зависимость между семейным положением и возвратом кредита в срок?**"
   ]
  },
  {
   "cell_type": "code",
   "execution_count": 23,
   "id": "dc3f7ee8",
   "metadata": {
    "id": "dc3f7ee8"
   },
   "outputs": [
    {
     "data": {
      "text/html": [
       "<div>\n",
       "<style scoped>\n",
       "    .dataframe tbody tr th:only-of-type {\n",
       "        vertical-align: middle;\n",
       "    }\n",
       "\n",
       "    .dataframe tbody tr th {\n",
       "        vertical-align: top;\n",
       "    }\n",
       "\n",
       "    .dataframe thead th {\n",
       "        text-align: right;\n",
       "    }\n",
       "</style>\n",
       "<table border=\"1\" class=\"dataframe\">\n",
       "  <thead>\n",
       "    <tr style=\"text-align: right;\">\n",
       "      <th></th>\n",
       "      <th>total</th>\n",
       "      <th>target</th>\n",
       "      <th>share</th>\n",
       "    </tr>\n",
       "    <tr>\n",
       "      <th>family_status</th>\n",
       "      <th></th>\n",
       "      <th></th>\n",
       "      <th></th>\n",
       "    </tr>\n",
       "  </thead>\n",
       "  <tbody>\n",
       "    <tr>\n",
       "      <th>вдовец / вдова</th>\n",
       "      <td>951</td>\n",
       "      <td>63</td>\n",
       "      <td>0.066</td>\n",
       "    </tr>\n",
       "    <tr>\n",
       "      <th>в разводе</th>\n",
       "      <td>1189</td>\n",
       "      <td>84</td>\n",
       "      <td>0.071</td>\n",
       "    </tr>\n",
       "    <tr>\n",
       "      <th>женат / замужем</th>\n",
       "      <td>12266</td>\n",
       "      <td>927</td>\n",
       "      <td>0.076</td>\n",
       "    </tr>\n",
       "    <tr>\n",
       "      <th>гражданский брак</th>\n",
       "      <td>4146</td>\n",
       "      <td>385</td>\n",
       "      <td>0.093</td>\n",
       "    </tr>\n",
       "    <tr>\n",
       "      <th>Не женат / не замужем</th>\n",
       "      <td>2796</td>\n",
       "      <td>273</td>\n",
       "      <td>0.098</td>\n",
       "    </tr>\n",
       "  </tbody>\n",
       "</table>\n",
       "</div>"
      ],
      "text/plain": [
       "                       total  target  share\n",
       "family_status                              \n",
       "вдовец / вдова           951      63  0.066\n",
       "в разводе               1189      84  0.071\n",
       "женат / замужем        12266     927  0.076\n",
       "гражданский брак        4146     385  0.093\n",
       "Не женат / не замужем   2796     273  0.098"
      ]
     },
     "metadata": {},
     "output_type": "display_data"
    }
   ],
   "source": [
    "target = data.pivot_table(index = [ 'family_status'], values = 'debt', aggfunc = {'count','sum'})\n",
    "target = target.rename(columns={'count':'total','sum':'target'})\n",
    "target['share'] = round(target['target']/target['total'], 3)\n",
    "target = target.sort_values(by='share', ascending=True)\n",
    "display(target)\n",
    "\n",
    "# Ваш код будет здесь. Вы можете создавать новые ячейки."
   ]
  },
  {
   "cell_type": "markdown",
   "id": "1cef7837",
   "metadata": {
    "deletable": false,
    "id": "1cef7837"
   },
   "source": [
    "**Вывод: Здесь наблюдается высокая вероятность возврата кредита в срок у людей, не состоящих в браке, но ранее имевших данный опыт. Здесь может быть ряд причин: возраст, чувство ответственности, финансовая состоятельность. Люди, которые находятся в браке, имеют не плохую, но и не хорошую кредитную историю. Здесь возможны такие факторы, как наличие детей и финансовые трудности. Люди в гражданском браке и люди, не состоящие в браке, имеют самую низкую долю возвратности кредитов. Причины этому могут быть также разные: наличие детей, молодой возраст, недостаточный доход и пр. В целом, зависимость есть. ** "
   ]
  },
  {
   "cell_type": "markdown",
   "id": "44f301f2",
   "metadata": {},
   "source": [
    "<div class=\"alert alert-success\">\n",
    "<b>✔️ Комментарий ревьюера v1:</b> \n",
    "<br>Тут всё правильно\n",
    "</div>"
   ]
  },
  {
   "cell_type": "markdown",
   "id": "1e8b2fca",
   "metadata": {
    "deletable": false,
    "editable": false,
    "id": "1e8b2fca"
   },
   "source": [
    "**Задание 21. Есть ли зависимость между уровнем дохода и возвратом кредита в срок?**"
   ]
  },
  {
   "cell_type": "code",
   "execution_count": 24,
   "id": "cd7e3720",
   "metadata": {
    "id": "cd7e3720"
   },
   "outputs": [
    {
     "data": {
      "text/html": [
       "<div>\n",
       "<style scoped>\n",
       "    .dataframe tbody tr th:only-of-type {\n",
       "        vertical-align: middle;\n",
       "    }\n",
       "\n",
       "    .dataframe tbody tr th {\n",
       "        vertical-align: top;\n",
       "    }\n",
       "\n",
       "    .dataframe thead th {\n",
       "        text-align: right;\n",
       "    }\n",
       "</style>\n",
       "<table border=\"1\" class=\"dataframe\">\n",
       "  <thead>\n",
       "    <tr style=\"text-align: right;\">\n",
       "      <th></th>\n",
       "      <th>total</th>\n",
       "      <th>target</th>\n",
       "      <th>share</th>\n",
       "    </tr>\n",
       "    <tr>\n",
       "      <th>total_income_category</th>\n",
       "      <th></th>\n",
       "      <th></th>\n",
       "      <th></th>\n",
       "    </tr>\n",
       "  </thead>\n",
       "  <tbody>\n",
       "    <tr>\n",
       "      <th>D</th>\n",
       "      <td>349</td>\n",
       "      <td>21</td>\n",
       "      <td>0.060</td>\n",
       "    </tr>\n",
       "    <tr>\n",
       "      <th>B</th>\n",
       "      <td>5014</td>\n",
       "      <td>354</td>\n",
       "      <td>0.071</td>\n",
       "    </tr>\n",
       "    <tr>\n",
       "      <th>A</th>\n",
       "      <td>25</td>\n",
       "      <td>2</td>\n",
       "      <td>0.080</td>\n",
       "    </tr>\n",
       "    <tr>\n",
       "      <th>C</th>\n",
       "      <td>15938</td>\n",
       "      <td>1353</td>\n",
       "      <td>0.085</td>\n",
       "    </tr>\n",
       "    <tr>\n",
       "      <th>E</th>\n",
       "      <td>22</td>\n",
       "      <td>2</td>\n",
       "      <td>0.091</td>\n",
       "    </tr>\n",
       "  </tbody>\n",
       "</table>\n",
       "</div>"
      ],
      "text/plain": [
       "                       total  target  share\n",
       "total_income_category                      \n",
       "D                        349      21  0.060\n",
       "B                       5014     354  0.071\n",
       "A                         25       2  0.080\n",
       "C                      15938    1353  0.085\n",
       "E                         22       2  0.091"
      ]
     },
     "metadata": {},
     "output_type": "display_data"
    }
   ],
   "source": [
    "target = data.pivot_table(index = [ 'total_income_category'], values = 'debt', aggfunc = {'count','sum'})\n",
    "target = target.rename(columns={'count':'total','sum':'target'})\n",
    "target['share'] = round(target['target']/target['total'], 3)\n",
    "target = target.sort_values(by='share', ascending=True)\n",
    "display(target)\n",
    "# Ваш код будет здесь. Вы можете создавать новые ячейки."
   ]
  },
  {
   "cell_type": "markdown",
   "id": "e8593def",
   "metadata": {
    "deletable": false,
    "id": "e8593def"
   },
   "source": [
    "**Вывод: самая высокая возвратность у людей с доходом от 30 до 50 тысяч. Это может быть по причине, что люди не хотят штрафов, так как доход может не покрыть их. Люди с доходом от 500 до 1000 тысяч также имеют низкую долю просрочки по кредиту. Думаю ввиду хорошего дохода и ответственности, похоже, что это предприниматели. Примечательно, что люди с высоким доходом, имеют относительно среднюю вероятность не вернуть кредит в срок. Люди с доходом от 50 до 200 имеют высокую вероятность, относительно остальных, не вернуть кредит. Возможно, это объясняется тем, что это основная масса людей, которые имею семьи и у которых не один кредит на руках. И в заключении, люди, с самым низким доходом имеют наивысшую вероятность не вернуть кредит. В этом случае корреляция очевидна. ** "
   ]
  },
  {
   "cell_type": "markdown",
   "id": "a86b0809",
   "metadata": {},
   "source": [
    "<div class=\"alert alert-success\">\n",
    "<b>✔️ Комментарий ревьюера v1:</b> \n",
    "<br>Согласен! Идём дальше)\n",
    "</div>"
   ]
  },
  {
   "cell_type": "markdown",
   "id": "99ecbd1f",
   "metadata": {
    "deletable": false,
    "editable": false,
    "id": "99ecbd1f"
   },
   "source": [
    "**Задание 22. Как разные цели кредита влияют на его возврат в срок?**"
   ]
  },
  {
   "cell_type": "code",
   "execution_count": 25,
   "id": "2b687290",
   "metadata": {
    "id": "2b687290"
   },
   "outputs": [
    {
     "data": {
      "text/html": [
       "<div>\n",
       "<style scoped>\n",
       "    .dataframe tbody tr th:only-of-type {\n",
       "        vertical-align: middle;\n",
       "    }\n",
       "\n",
       "    .dataframe tbody tr th {\n",
       "        vertical-align: top;\n",
       "    }\n",
       "\n",
       "    .dataframe thead th {\n",
       "        text-align: right;\n",
       "    }\n",
       "</style>\n",
       "<table border=\"1\" class=\"dataframe\">\n",
       "  <thead>\n",
       "    <tr style=\"text-align: right;\">\n",
       "      <th></th>\n",
       "      <th>total</th>\n",
       "      <th>target</th>\n",
       "      <th>share</th>\n",
       "    </tr>\n",
       "    <tr>\n",
       "      <th>purpose_category</th>\n",
       "      <th></th>\n",
       "      <th></th>\n",
       "      <th></th>\n",
       "    </tr>\n",
       "  </thead>\n",
       "  <tbody>\n",
       "    <tr>\n",
       "      <th>операции с недвижимостью</th>\n",
       "      <td>10754</td>\n",
       "      <td>780</td>\n",
       "      <td>0.073</td>\n",
       "    </tr>\n",
       "    <tr>\n",
       "      <th>проведение свадьбы</th>\n",
       "      <td>2324</td>\n",
       "      <td>183</td>\n",
       "      <td>0.079</td>\n",
       "    </tr>\n",
       "    <tr>\n",
       "      <th>операции с автомобилем</th>\n",
       "      <td>4281</td>\n",
       "      <td>400</td>\n",
       "      <td>0.093</td>\n",
       "    </tr>\n",
       "    <tr>\n",
       "      <th>получение образования</th>\n",
       "      <td>3989</td>\n",
       "      <td>369</td>\n",
       "      <td>0.093</td>\n",
       "    </tr>\n",
       "  </tbody>\n",
       "</table>\n",
       "</div>"
      ],
      "text/plain": [
       "                          total  target  share\n",
       "purpose_category                              \n",
       "операции с недвижимостью  10754     780  0.073\n",
       "проведение свадьбы         2324     183  0.079\n",
       "операции с автомобилем     4281     400  0.093\n",
       "получение образования      3989     369  0.093"
      ]
     },
     "metadata": {},
     "output_type": "display_data"
    }
   ],
   "source": [
    "target = data.pivot_table(index = [ 'purpose_category'], values = 'debt', aggfunc = {'count','sum'})\n",
    "target = target.rename(columns={'count':'total','sum':'target'})\n",
    "target['share'] = round(target['target']/target['total'], 3)\n",
    "target = target.sort_values(by='share', ascending=True)\n",
    "display(target)\n",
    "# Ваш код будет здесь. Вы можете создавать новые ячейки."
   ]
  },
  {
   "cell_type": "markdown",
   "id": "b4bb2ce6",
   "metadata": {
    "deletable": false,
    "id": "b4bb2ce6"
   },
   "source": [
    "**Вывод: здесь наблюдается корреляция. В случае с людьми, которые стремятся к созданию семьи или приобретению своей жил площадью, вероятность возврата кредита заметно выше, чем у людей, которые берут потребительский кредит на вещи существенно ниже по стоимости. Здесь, вероятно, играет роль величина суммы кредита** "
   ]
  },
  {
   "cell_type": "markdown",
   "id": "13680eee",
   "metadata": {},
   "source": [
    "<div class=\"alert alert-success\">\n",
    "<b>✔️ Комментарий ревьюера v1:</b>\n",
    "<br>Абсолютно верно!\n",
    "</div>"
   ]
  },
  {
   "cell_type": "markdown",
   "id": "09c3ac4c",
   "metadata": {
    "deletable": false,
    "editable": false,
    "id": "09c3ac4c"
   },
   "source": [
    "**Задание 23. Приведите возможные причины появления пропусков в исходных данных.**"
   ]
  },
  {
   "cell_type": "markdown",
   "id": "9da2ceda",
   "metadata": {
    "deletable": false,
    "id": "9da2ceda"
   },
   "source": [
    "*Ответ: пропуски здесь были в столбцах days_employed и total_income. В первую очередь, человеческий фактор, кто-то, возможно, не захотел отвечать. Такж стоит отметить, что количество пропусков в столбцах одинаковы, можно сделать вывод, что заполнение одного из столбцов влияет на заполненность другого столбца.* "
   ]
  },
  {
   "cell_type": "markdown",
   "id": "e478a6bf",
   "metadata": {},
   "source": [
    "<div class=\"alert alert-success\">\n",
    "<b>✔️ Комментарий ревьюера v1:</b> \n",
    "<br>Верно 👍\n",
    "</div>"
   ]
  },
  {
   "cell_type": "markdown",
   "id": "7b0487d6",
   "metadata": {
    "deletable": false,
    "editable": false,
    "id": "7b0487d6"
   },
   "source": [
    "**Задание 24. Объясните, почему заполнить пропуски медианным значением — лучшее решение для количественных переменных.**"
   ]
  },
  {
   "cell_type": "markdown",
   "id": "7ecf2b8e",
   "metadata": {
    "deletable": false,
    "id": "7ecf2b8e"
   },
   "source": [
    "*Ответ: медианное значение лучше всего отражает выборку в целом, в случае, если есть незаполненные данные. Среднее арифметическое отражает ситуацию некорректно, так как не учитывает разброс данных.* "
   ]
  },
  {
   "cell_type": "markdown",
   "id": "ae572d38",
   "metadata": {},
   "source": [
    "<div class=\"alert alert-success\">\n",
    "<b>✔️ Комментарий ревьюера v1:</b> \n",
    "<br>Верно 👍\n",
    "</div>"
   ]
  },
  {
   "cell_type": "markdown",
   "id": "6db5255a",
   "metadata": {
    "deletable": false,
    "editable": false,
    "id": "6db5255a"
   },
   "source": [
    "## Общий вывод."
   ]
  },
  {
   "cell_type": "markdown",
   "id": "bad65432",
   "metadata": {
    "id": "bad65432"
   },
   "source": [
    "В целом, по выдвинутым гипотезам корреляция прослеживается невысокая. Нет четкой взаимосвязи, но тем не менее, про проведенному анализу можно сделать вывод о том, что люди, которые с наибольшей вероятностью допустят просрочку по кредиту, вероятно, будут иметь 4 детей, возможно будут состоять в гражданском браке, а более вероятно, что не будут состоять в браке вовсе, и их доход будет существенно низок. Также, возможно, что целью кредита будет получение образования или покупка автомобиля, а также прочие относительно невысокие по стоимости товары и услуги. Не обязательно, что все эти факторы должны совпасть, но комбинация нескольких из них может говорить о том, что в будущем возможны просрочки по кредиту.\n",
    "Напротив, высока вероятность возврата кредита в срок, если человек более не состоит в браке, имеет высокий доход и, вероятно, у него нет детей на попечении."
   ]
  },
  {
   "cell_type": "markdown",
   "id": "9eebae53",
   "metadata": {},
   "source": [
    "<div class=\"alert alert-danger\">\n",
    "<b>❌ Комментарий ревьюера v1:</b> \n",
    "<br>Нужно добавить общий вывод, в котором ты подведёшь итоги своей работы.  Добавь в него описание клиента с наибольшей вероятностью просрочки, например, женат, 3е детей, доход - такой-то, цель кредита - такая-то. Для этого используй ответы на вопросы выше\n",
    "</div>"
   ]
  },
  {
   "cell_type": "markdown",
   "id": "b6ee9fbe",
   "metadata": {},
   "source": [
    "<div class=\"alert alert-success\">\n",
    "<b>✔️ Комментарий ревьюера v2:</b> \n",
    "<br>Всё верно 👍\n",
    "</div>"
   ]
  },
  {
   "cell_type": "markdown",
   "id": "15437e87",
   "metadata": {},
   "source": [
    "<div class=\"alert alert-danger\">\n",
    "<b>❌ Итоговый комментарий ревьюера v1:</b> \n",
    "<br>Ты хорошо потрудилась, большая часть работы сделана, но остаётся внести следующие правки:\n",
    "<br>- дописать  общий вывод\n",
    "\n",
    "</div>"
   ]
  },
  {
   "cell_type": "markdown",
   "id": "90f120ee",
   "metadata": {},
   "source": [
    "<div class=\"alert alert-info\">\n",
    "<b>Комментарий студента:</b>\n",
    "<br>Спасибо за ревью. Пропустила ячейку с выводом по невнимательности :)\n",
    "</div>"
   ]
  },
  {
   "cell_type": "markdown",
   "id": "a650c3ca",
   "metadata": {},
   "source": [
    "<div class=\"alert alert-success\">\n",
    "<b>✔️ Итоговый комментарий ревьюера v2:</b>\n",
    "<br>Рад был поработать над проверкой твоего проекта) Желаю удачи в дальнейшем обучении! 😉\n",
    "</div>"
   ]
  }
 ],
 "metadata": {
  "ExecuteTimeLog": [
   {
    "duration": 519,
    "start_time": "2022-06-27T14:35:27.131Z"
   },
   {
    "duration": 27,
    "start_time": "2022-06-27T14:35:31.216Z"
   },
   {
    "duration": 27,
    "start_time": "2022-06-27T14:35:40.552Z"
   },
   {
    "duration": 10,
    "start_time": "2022-06-27T14:36:06.393Z"
   },
   {
    "duration": 38,
    "start_time": "2022-06-27T14:36:09.599Z"
   },
   {
    "duration": 3,
    "start_time": "2022-06-27T14:36:11.775Z"
   },
   {
    "duration": 9,
    "start_time": "2022-06-27T14:36:14.487Z"
   },
   {
    "duration": 7,
    "start_time": "2022-06-27T14:36:17.271Z"
   },
   {
    "duration": 8,
    "start_time": "2022-06-27T14:36:19.607Z"
   },
   {
    "duration": 7,
    "start_time": "2022-06-27T14:36:21.768Z"
   },
   {
    "duration": 43,
    "start_time": "2022-06-27T14:36:24.431Z"
   },
   {
    "duration": 11,
    "start_time": "2022-06-27T14:36:26.567Z"
   },
   {
    "duration": 4,
    "start_time": "2022-06-27T14:36:29.112Z"
   },
   {
    "duration": 20,
    "start_time": "2022-06-27T14:36:32.007Z"
   },
   {
    "duration": 18,
    "start_time": "2022-06-27T14:36:33.953Z"
   },
   {
    "duration": 13,
    "start_time": "2022-06-27T14:36:36.256Z"
   },
   {
    "duration": 4,
    "start_time": "2022-06-27T14:36:39.646Z"
   },
   {
    "duration": 11,
    "start_time": "2022-06-27T14:36:42.175Z"
   },
   {
    "duration": 9,
    "start_time": "2022-06-27T14:36:45.258Z"
   },
   {
    "duration": 4,
    "start_time": "2022-06-27T14:36:48.391Z"
   },
   {
    "duration": 9,
    "start_time": "2022-06-27T14:36:50.415Z"
   },
   {
    "duration": 449,
    "start_time": "2022-06-28T05:39:28.275Z"
   },
   {
    "duration": 21,
    "start_time": "2022-06-28T05:39:33.139Z"
   },
   {
    "duration": 15,
    "start_time": "2022-06-28T05:39:36.898Z"
   },
   {
    "duration": 10,
    "start_time": "2022-06-28T05:39:39.890Z"
   },
   {
    "duration": 35,
    "start_time": "2022-06-28T05:39:42.617Z"
   },
   {
    "duration": 4,
    "start_time": "2022-06-28T05:39:45.210Z"
   },
   {
    "duration": 9,
    "start_time": "2022-06-28T05:39:47.554Z"
   },
   {
    "duration": 4,
    "start_time": "2022-06-28T05:39:50.123Z"
   },
   {
    "duration": 6,
    "start_time": "2022-06-28T05:39:52.171Z"
   },
   {
    "duration": 4,
    "start_time": "2022-06-28T05:39:54.315Z"
   },
   {
    "duration": 32,
    "start_time": "2022-06-28T05:39:56.994Z"
   },
   {
    "duration": 11,
    "start_time": "2022-06-28T05:39:59.674Z"
   },
   {
    "duration": 3,
    "start_time": "2022-06-28T05:40:02.523Z"
   },
   {
    "duration": 18,
    "start_time": "2022-06-28T05:40:04.602Z"
   },
   {
    "duration": 17,
    "start_time": "2022-06-28T05:40:06.801Z"
   },
   {
    "duration": 13,
    "start_time": "2022-06-28T05:40:09.065Z"
   },
   {
    "duration": 3,
    "start_time": "2022-06-28T05:40:11.210Z"
   },
   {
    "duration": 12,
    "start_time": "2022-06-28T05:40:13.234Z"
   },
   {
    "duration": 7,
    "start_time": "2022-06-28T05:40:15.370Z"
   },
   {
    "duration": 3,
    "start_time": "2022-06-28T05:40:18.169Z"
   },
   {
    "duration": 7,
    "start_time": "2022-06-28T05:40:22.828Z"
   },
   {
    "duration": 12,
    "start_time": "2022-06-28T05:40:49.827Z"
   },
   {
    "duration": 3,
    "start_time": "2022-06-28T05:41:12.879Z"
   },
   {
    "duration": 19,
    "start_time": "2022-06-28T05:44:40.713Z"
   },
   {
    "duration": 79,
    "start_time": "2022-06-28T05:47:44.811Z"
   },
   {
    "duration": 12,
    "start_time": "2022-06-28T05:48:23.559Z"
   },
   {
    "duration": 12,
    "start_time": "2022-06-28T05:49:11.910Z"
   },
   {
    "duration": 18,
    "start_time": "2022-06-28T05:49:20.048Z"
   },
   {
    "duration": 14,
    "start_time": "2022-06-28T05:51:40.694Z"
   },
   {
    "duration": 12,
    "start_time": "2022-06-28T05:51:55.629Z"
   },
   {
    "duration": 13,
    "start_time": "2022-06-28T05:52:11.687Z"
   },
   {
    "duration": 13,
    "start_time": "2022-06-28T05:56:51.812Z"
   },
   {
    "duration": 14,
    "start_time": "2022-06-28T05:58:40.054Z"
   },
   {
    "duration": 16,
    "start_time": "2022-06-28T05:59:13.738Z"
   },
   {
    "duration": 13,
    "start_time": "2022-06-28T06:02:40.476Z"
   },
   {
    "duration": 12,
    "start_time": "2022-06-28T06:05:36.912Z"
   },
   {
    "duration": 49,
    "start_time": "2022-06-28T17:20:40.074Z"
   },
   {
    "duration": 766,
    "start_time": "2022-06-28T17:20:50.405Z"
   },
   {
    "duration": 23,
    "start_time": "2022-06-28T17:20:52.953Z"
   },
   {
    "duration": 15,
    "start_time": "2022-06-28T17:20:59.725Z"
   },
   {
    "duration": 10,
    "start_time": "2022-06-28T17:21:02.945Z"
   },
   {
    "duration": 33,
    "start_time": "2022-06-28T17:21:05.886Z"
   },
   {
    "duration": 4,
    "start_time": "2022-06-28T17:21:08.175Z"
   },
   {
    "duration": 9,
    "start_time": "2022-06-28T17:21:10.123Z"
   },
   {
    "duration": 5,
    "start_time": "2022-06-28T17:21:12.453Z"
   },
   {
    "duration": 7,
    "start_time": "2022-06-28T17:21:15.195Z"
   },
   {
    "duration": 5,
    "start_time": "2022-06-28T17:21:17.493Z"
   },
   {
    "duration": 33,
    "start_time": "2022-06-28T17:21:19.584Z"
   },
   {
    "duration": 9,
    "start_time": "2022-06-28T17:21:21.771Z"
   },
   {
    "duration": 4,
    "start_time": "2022-06-28T17:21:24.653Z"
   },
   {
    "duration": 20,
    "start_time": "2022-06-28T17:21:27.114Z"
   },
   {
    "duration": 16,
    "start_time": "2022-06-28T17:21:29.096Z"
   },
   {
    "duration": 11,
    "start_time": "2022-06-28T17:21:31.175Z"
   },
   {
    "duration": 3,
    "start_time": "2022-06-28T17:23:24.272Z"
   },
   {
    "duration": 6,
    "start_time": "2022-06-28T17:23:26.832Z"
   },
   {
    "duration": 4,
    "start_time": "2022-06-28T17:23:29.454Z"
   },
   {
    "duration": 14,
    "start_time": "2022-06-28T17:23:31.153Z"
   },
   {
    "duration": 12,
    "start_time": "2022-06-28T17:23:45.532Z"
   },
   {
    "duration": 40,
    "start_time": "2022-06-28T17:24:15.032Z"
   },
   {
    "duration": 12,
    "start_time": "2022-06-28T17:24:26.234Z"
   },
   {
    "duration": 11,
    "start_time": "2022-06-28T17:24:44.498Z"
   },
   {
    "duration": 15,
    "start_time": "2022-06-28T17:28:30.069Z"
   },
   {
    "duration": 17,
    "start_time": "2022-06-28T17:31:34.739Z"
   },
   {
    "duration": 15,
    "start_time": "2022-06-28T17:36:14.800Z"
   },
   {
    "duration": 16,
    "start_time": "2022-06-28T17:36:29.815Z"
   },
   {
    "duration": 16,
    "start_time": "2022-06-28T17:45:39.609Z"
   },
   {
    "duration": 16,
    "start_time": "2022-06-28T17:45:47.918Z"
   },
   {
    "duration": 21,
    "start_time": "2022-06-28T17:49:36.552Z"
   },
   {
    "duration": 16,
    "start_time": "2022-06-28T17:51:21.008Z"
   },
   {
    "duration": 19,
    "start_time": "2022-06-28T17:54:07.549Z"
   },
   {
    "duration": 16,
    "start_time": "2022-06-28T17:54:33.070Z"
   },
   {
    "duration": 14,
    "start_time": "2022-06-28T17:54:44.178Z"
   },
   {
    "duration": 16,
    "start_time": "2022-06-28T17:55:08.170Z"
   },
   {
    "duration": 16,
    "start_time": "2022-06-28T17:58:26.349Z"
   },
   {
    "duration": 21,
    "start_time": "2022-06-28T17:58:44.716Z"
   },
   {
    "duration": 15,
    "start_time": "2022-06-28T18:02:05.150Z"
   },
   {
    "duration": 1443,
    "start_time": "2022-06-28T18:02:18.797Z"
   },
   {
    "duration": 1410,
    "start_time": "2022-06-28T18:02:23.967Z"
   },
   {
    "duration": 1592,
    "start_time": "2022-06-28T18:02:35.623Z"
   },
   {
    "duration": 11,
    "start_time": "2022-06-28T18:02:43.002Z"
   },
   {
    "duration": 18,
    "start_time": "2022-06-28T18:04:07.882Z"
   },
   {
    "duration": 27,
    "start_time": "2022-06-28T18:04:33.313Z"
   },
   {
    "duration": 18,
    "start_time": "2022-06-28T18:04:44.243Z"
   },
   {
    "duration": 20,
    "start_time": "2022-06-28T18:06:36.979Z"
   },
   {
    "duration": 16,
    "start_time": "2022-06-28T18:07:06.367Z"
   },
   {
    "duration": 567,
    "start_time": "2022-06-28T18:07:18.241Z"
   },
   {
    "duration": 16,
    "start_time": "2022-06-28T18:07:39.451Z"
   },
   {
    "duration": 1489,
    "start_time": "2022-06-28T18:09:13.922Z"
   },
   {
    "duration": 1256,
    "start_time": "2022-06-28T18:09:45.289Z"
   },
   {
    "duration": 1274,
    "start_time": "2022-06-28T18:10:27.090Z"
   },
   {
    "duration": 18,
    "start_time": "2022-06-28T18:10:39.869Z"
   },
   {
    "duration": 19,
    "start_time": "2022-06-28T18:11:37.620Z"
   },
   {
    "duration": 20,
    "start_time": "2022-06-28T18:11:52.688Z"
   },
   {
    "duration": 21,
    "start_time": "2022-06-28T18:23:28.529Z"
   },
   {
    "duration": 29,
    "start_time": "2022-06-28T18:31:25.111Z"
   },
   {
    "duration": 26,
    "start_time": "2022-06-28T18:32:29.381Z"
   },
   {
    "duration": 4,
    "start_time": "2022-06-28T18:35:02.489Z"
   },
   {
    "duration": 10,
    "start_time": "2022-06-28T18:35:04.531Z"
   },
   {
    "duration": 65,
    "start_time": "2022-06-28T18:35:33.596Z"
   },
   {
    "duration": 14,
    "start_time": "2022-06-28T18:35:39.597Z"
   },
   {
    "duration": 14,
    "start_time": "2022-06-28T18:35:43.748Z"
   },
   {
    "duration": 10,
    "start_time": "2022-06-28T18:35:46.444Z"
   },
   {
    "duration": 33,
    "start_time": "2022-06-28T18:35:49.077Z"
   },
   {
    "duration": 4,
    "start_time": "2022-06-28T18:35:51.177Z"
   },
   {
    "duration": 7,
    "start_time": "2022-06-28T18:35:53.017Z"
   },
   {
    "duration": 4,
    "start_time": "2022-06-28T18:35:55.237Z"
   },
   {
    "duration": 6,
    "start_time": "2022-06-28T18:35:57.766Z"
   },
   {
    "duration": 5,
    "start_time": "2022-06-28T18:35:59.427Z"
   },
   {
    "duration": 34,
    "start_time": "2022-06-28T18:36:01.438Z"
   },
   {
    "duration": 10,
    "start_time": "2022-06-28T18:36:03.568Z"
   },
   {
    "duration": 3,
    "start_time": "2022-06-28T18:36:05.828Z"
   },
   {
    "duration": 23,
    "start_time": "2022-06-28T18:36:07.861Z"
   },
   {
    "duration": 21,
    "start_time": "2022-06-28T18:36:10.010Z"
   },
   {
    "duration": 18,
    "start_time": "2022-06-28T18:36:12.979Z"
   },
   {
    "duration": 10,
    "start_time": "2022-06-28T18:36:15.474Z"
   },
   {
    "duration": 3,
    "start_time": "2022-06-28T18:36:18.408Z"
   },
   {
    "duration": 9,
    "start_time": "2022-06-28T18:36:20.497Z"
   },
   {
    "duration": 6,
    "start_time": "2022-06-28T18:36:22.227Z"
   },
   {
    "duration": 3,
    "start_time": "2022-06-28T18:36:25.288Z"
   },
   {
    "duration": 21,
    "start_time": "2022-06-28T18:36:27.897Z"
   },
   {
    "duration": 22,
    "start_time": "2022-06-28T18:36:31.627Z"
   },
   {
    "duration": 20,
    "start_time": "2022-06-28T18:37:22.736Z"
   },
   {
    "duration": 29,
    "start_time": "2022-06-28T18:37:41.622Z"
   },
   {
    "duration": 21,
    "start_time": "2022-06-28T18:37:52.032Z"
   },
   {
    "duration": 17,
    "start_time": "2022-06-28T18:49:23.423Z"
   },
   {
    "duration": 18,
    "start_time": "2022-06-28T18:49:29.915Z"
   },
   {
    "duration": 4,
    "start_time": "2022-06-28T18:49:48.002Z"
   },
   {
    "duration": 8,
    "start_time": "2022-06-28T18:49:50.384Z"
   },
   {
    "duration": 35,
    "start_time": "2022-06-28T18:49:58.104Z"
   },
   {
    "duration": 20,
    "start_time": "2022-06-28T18:50:01.104Z"
   },
   {
    "duration": 24,
    "start_time": "2022-06-28T18:50:03.993Z"
   },
   {
    "duration": 27,
    "start_time": "2022-06-28T18:55:37.243Z"
   },
   {
    "duration": 48,
    "start_time": "2022-06-28T18:55:49.540Z"
   },
   {
    "duration": 26,
    "start_time": "2022-06-28T18:56:15.130Z"
   },
   {
    "duration": 14,
    "start_time": "2022-06-28T18:57:30.237Z"
   },
   {
    "duration": 16,
    "start_time": "2022-06-28T18:57:51.999Z"
   },
   {
    "duration": 4,
    "start_time": "2022-06-28T18:57:57.992Z"
   },
   {
    "duration": 14,
    "start_time": "2022-06-28T18:58:04.894Z"
   },
   {
    "duration": 10,
    "start_time": "2022-06-28T18:58:34.032Z"
   },
   {
    "duration": 8,
    "start_time": "2022-06-28T18:58:41.783Z"
   },
   {
    "duration": 10,
    "start_time": "2022-06-28T18:58:48.503Z"
   },
   {
    "duration": 9,
    "start_time": "2022-06-28T18:58:54.464Z"
   },
   {
    "duration": 11,
    "start_time": "2022-06-28T18:59:01.395Z"
   },
   {
    "duration": 10,
    "start_time": "2022-06-28T18:59:08.907Z"
   },
   {
    "duration": 9,
    "start_time": "2022-06-28T18:59:18.255Z"
   },
   {
    "duration": 10,
    "start_time": "2022-06-28T18:59:25.492Z"
   },
   {
    "duration": 9,
    "start_time": "2022-06-28T18:59:35.394Z"
   },
   {
    "duration": 9,
    "start_time": "2022-06-28T18:59:41.867Z"
   },
   {
    "duration": 10,
    "start_time": "2022-06-28T18:59:49.007Z"
   },
   {
    "duration": 10,
    "start_time": "2022-06-28T18:59:56.594Z"
   },
   {
    "duration": 513,
    "start_time": "2022-06-29T16:32:31.187Z"
   },
   {
    "duration": 22,
    "start_time": "2022-06-29T16:32:31.702Z"
   },
   {
    "duration": 22,
    "start_time": "2022-06-29T16:32:31.726Z"
   },
   {
    "duration": 12,
    "start_time": "2022-06-29T16:32:31.750Z"
   },
   {
    "duration": 47,
    "start_time": "2022-06-29T16:32:31.763Z"
   },
   {
    "duration": 22,
    "start_time": "2022-06-29T16:32:31.812Z"
   },
   {
    "duration": 18,
    "start_time": "2022-06-29T16:32:31.837Z"
   },
   {
    "duration": 13,
    "start_time": "2022-06-29T16:32:31.856Z"
   },
   {
    "duration": 13,
    "start_time": "2022-06-29T16:32:31.871Z"
   },
   {
    "duration": 9,
    "start_time": "2022-06-29T16:32:31.888Z"
   },
   {
    "duration": 50,
    "start_time": "2022-06-29T16:32:31.899Z"
   },
   {
    "duration": 11,
    "start_time": "2022-06-29T16:32:31.951Z"
   },
   {
    "duration": 15,
    "start_time": "2022-06-29T16:32:31.964Z"
   },
   {
    "duration": 23,
    "start_time": "2022-06-29T16:32:31.981Z"
   },
   {
    "duration": 33,
    "start_time": "2022-06-29T16:32:32.005Z"
   },
   {
    "duration": 11,
    "start_time": "2022-06-29T16:32:32.039Z"
   },
   {
    "duration": 6,
    "start_time": "2022-06-29T16:32:32.052Z"
   },
   {
    "duration": 17,
    "start_time": "2022-06-29T16:32:32.059Z"
   },
   {
    "duration": 5,
    "start_time": "2022-06-29T16:32:32.077Z"
   },
   {
    "duration": 4,
    "start_time": "2022-06-29T16:32:32.084Z"
   },
   {
    "duration": 13,
    "start_time": "2022-06-29T16:32:32.090Z"
   },
   {
    "duration": 42,
    "start_time": "2022-06-29T16:32:32.105Z"
   },
   {
    "duration": 20,
    "start_time": "2022-06-29T16:32:32.149Z"
   },
   {
    "duration": 18,
    "start_time": "2022-06-29T16:32:32.171Z"
   },
   {
    "duration": 50,
    "start_time": "2022-06-29T16:32:32.191Z"
   },
   {
    "duration": 51,
    "start_time": "2022-06-30T05:27:11.389Z"
   },
   {
    "duration": 436,
    "start_time": "2022-06-30T08:06:58.513Z"
   },
   {
    "duration": 25,
    "start_time": "2022-06-30T08:06:58.951Z"
   },
   {
    "duration": 20,
    "start_time": "2022-06-30T08:06:58.977Z"
   },
   {
    "duration": 28,
    "start_time": "2022-06-30T08:06:58.998Z"
   },
   {
    "duration": 39,
    "start_time": "2022-06-30T08:06:59.029Z"
   },
   {
    "duration": 4,
    "start_time": "2022-06-30T08:06:59.070Z"
   },
   {
    "duration": 25,
    "start_time": "2022-06-30T08:06:59.075Z"
   },
   {
    "duration": 26,
    "start_time": "2022-06-30T08:06:59.101Z"
   },
   {
    "duration": 25,
    "start_time": "2022-06-30T08:06:59.129Z"
   },
   {
    "duration": 19,
    "start_time": "2022-06-30T08:06:59.156Z"
   },
   {
    "duration": 43,
    "start_time": "2022-06-30T08:06:59.176Z"
   },
   {
    "duration": 8,
    "start_time": "2022-06-30T08:06:59.221Z"
   },
   {
    "duration": 8,
    "start_time": "2022-06-30T08:06:59.231Z"
   },
   {
    "duration": 50,
    "start_time": "2022-06-30T08:06:59.241Z"
   },
   {
    "duration": 25,
    "start_time": "2022-06-30T08:06:59.293Z"
   },
   {
    "duration": 19,
    "start_time": "2022-06-30T08:06:59.319Z"
   },
   {
    "duration": 18,
    "start_time": "2022-06-30T08:06:59.340Z"
   },
   {
    "duration": 42,
    "start_time": "2022-06-30T08:06:59.360Z"
   },
   {
    "duration": 30,
    "start_time": "2022-06-30T08:06:59.404Z"
   },
   {
    "duration": 30,
    "start_time": "2022-06-30T08:06:59.435Z"
   },
   {
    "duration": 26,
    "start_time": "2022-06-30T08:06:59.466Z"
   },
   {
    "duration": 52,
    "start_time": "2022-06-30T08:06:59.493Z"
   },
   {
    "duration": 30,
    "start_time": "2022-06-30T08:06:59.546Z"
   },
   {
    "duration": 24,
    "start_time": "2022-06-30T08:06:59.578Z"
   },
   {
    "duration": 27,
    "start_time": "2022-06-30T08:06:59.604Z"
   }
  ],
  "colab": {
   "name": "dpp_template_part2.ipynb",
   "provenance": []
  },
  "kernelspec": {
   "display_name": "Python 3 (ipykernel)",
   "language": "python",
   "name": "python3"
  },
  "language_info": {
   "codemirror_mode": {
    "name": "ipython",
    "version": 3
   },
   "file_extension": ".py",
   "mimetype": "text/x-python",
   "name": "python",
   "nbconvert_exporter": "python",
   "pygments_lexer": "ipython3",
   "version": "3.9.5"
  },
  "toc": {
   "base_numbering": 1,
   "nav_menu": {},
   "number_sections": true,
   "sideBar": true,
   "skip_h1_title": true,
   "title_cell": "Table of Contents",
   "title_sidebar": "Contents",
   "toc_cell": false,
   "toc_position": {},
   "toc_section_display": true,
   "toc_window_display": false
  }
 },
 "nbformat": 4,
 "nbformat_minor": 5
}
